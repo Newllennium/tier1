{
 "cells": [
  {
   "cell_type": "markdown",
   "id": "5e804ce2-b8b3-4bc9-8e5c-131c64b22efb",
   "metadata": {
    "tags": []
   },
   "source": [
    "# Приоритизируем гипотезы, запустим A/B-тест и проанализируем результаты."
   ]
  },
  {
   "cell_type": "markdown",
   "id": "9d8bba69-cf5d-4e57-939e-a64d77c1e32b",
   "metadata": {},
   "source": [
    "## Описание проекта и данных: "
   ]
  },
  {
   "cell_type": "markdown",
   "id": "d5de3277-6b46-4705-9d72-52ff8ffb2d44",
   "metadata": {},
   "source": [
    "**Вы — аналитик крупного интернет-магазина. Вместе с отделом маркетинга вы подготовили список гипотез для увеличения выручки.**"
   ]
  },
  {
   "cell_type": "markdown",
   "id": "5386845b-35a7-4fb6-aa95-f082eaea8d23",
   "metadata": {},
   "source": [
    "**Файл hypothesis.csv**\n",
    "- Hypothesis — краткое описание гипотезы;\n",
    "- Reach — охват пользователей по 10-балльной шкале;\n",
    "- Impact — влияние на пользователей по 10-балльной шкале;\n",
    "- Confidence — уверенность в гипотезе по 10-балльной шкале;\n",
    "- Efforts — затраты ресурсов на проверку гипотезы по 10-балльной шкале. Чем больше значение Efforts, тем дороже  проверка гипотезы.\n",
    "\n",
    "\n",
    "**Файл orders.csv**\n",
    "- transactionId — идентификатор заказа;\n",
    "- visitorId — идентификатор пользователя, совершившего заказ;\n",
    "- date — дата, когда был совершён заказ;\n",
    "- revenue — выручка заказа;\n",
    "- group — группа A/B-теста, в которую попал заказ.\n",
    "\n",
    "**Файл visitors.csv**\n",
    "- date — дата;\n",
    "- group — группа A/B-теста;\n",
    "- visitors — количество пользователей в указанную дату в указанной группе A/B-теста"
   ]
  },
  {
   "cell_type": "markdown",
   "id": "a458db82-f3c8-449d-8902-58b6faa0e34b",
   "metadata": {},
   "source": [
    "### Импорт библиотек и чтение файлов:"
   ]
  },
  {
   "cell_type": "code",
   "execution_count": 1,
   "id": "da019002-560b-40a1-ac4b-b044183ec8e0",
   "metadata": {
    "ExecuteTime": {
     "end_time": "2022-07-07T13:27:59.042021Z",
     "start_time": "2022-07-07T13:27:58.274962Z"
    }
   },
   "outputs": [],
   "source": [
    "# Импорт библиотек\n",
    "import matplotlib.pyplot as plt\n",
    "\n",
    "import seaborn as sns\n",
    "\n",
    "import pandas as pd\n",
    "from pandas.plotting import register_matplotlib_converters\n",
    "\n",
    "import numpy as np\n",
    "\n",
    "import math as mt\n",
    "from math import ceil\n",
    "from math import factorial\n",
    "\n",
    "import datetime as dt\n",
    "from datetime import datetime, timedelta\n",
    "\n",
    "from scipy import stats as st"
   ]
  },
  {
   "cell_type": "code",
   "execution_count": 2,
   "id": "fdc70480-7c87-44c5-b712-268059c53100",
   "metadata": {
    "ExecuteTime": {
     "end_time": "2022-07-07T13:27:59.048693Z",
     "start_time": "2022-07-07T13:27:59.042787Z"
    }
   },
   "outputs": [],
   "source": [
    "# Чтение файлов:\n",
    "try:\n",
    "    hypothesis = pd.read_csv(\n",
    "        '/home/saxofon/Документы/jupdata/hypothesis.csv')\n",
    "    orders = pd.read_csv(\n",
    "        '/home/saxofon/Документы/jupdata/orders.csv')\n",
    "    visitors = pd.read_csv(\n",
    "        '/home/saxofon/Документы/jupdata/visitors.csv')\n",
    "except:\n",
    "    hypothesis = pd.read_csv(\n",
    "        '/datasets/hypothesis.csv')\n",
    "    orders = pd.read_csv(\n",
    "        '/datasets/orders.csv')\n",
    "    visitors = pd.read_csv(\n",
    "        '/datasets/visitors.csv')"
   ]
  },
  {
   "cell_type": "markdown",
   "id": "790ddec9-72b8-4b10-844f-175d41f6e266",
   "metadata": {
    "tags": []
   },
   "source": [
    "## Приоритизация гипотез:"
   ]
  },
  {
   "cell_type": "markdown",
   "id": "c3879fa3-4540-4d42-acaa-0bc4fdc02248",
   "metadata": {},
   "source": [
    "- Применим фреймворк ICE для приоритизации гипотез. Отсортируем их по убыванию приоритета.\n",
    "- Применим фреймворк RICE для приоритизации гипотез. Отсортируем их по убыванию приоритета.\n",
    "- Укажем, как изменилась приоритизация гипотез при применении RICE вместо ICE. Объясним, почему так произошло."
   ]
  },
  {
   "cell_type": "markdown",
   "id": "e2305530-87a9-4796-847b-34f1e77ce19f",
   "metadata": {},
   "source": [
    "### Применим фреймворк ICE и RICE:"
   ]
  },
  {
   "cell_type": "markdown",
   "id": "ebf45788-b0b7-4ef5-a9c5-f9ce68342426",
   "metadata": {},
   "source": [
    "Изучим гипотезы, прежде чем применять фреймворк:"
   ]
  },
  {
   "cell_type": "code",
   "execution_count": 3,
   "id": "6e5b37a7-a91e-40fc-9d02-d6b1d9452a7d",
   "metadata": {
    "ExecuteTime": {
     "end_time": "2022-07-07T13:27:59.056266Z",
     "start_time": "2022-07-07T13:27:59.049848Z"
    }
   },
   "outputs": [
    {
     "data": {
      "text/html": [
       "<div>\n",
       "<style scoped>\n",
       "    .dataframe tbody tr th:only-of-type {\n",
       "        vertical-align: middle;\n",
       "    }\n",
       "\n",
       "    .dataframe tbody tr th {\n",
       "        vertical-align: top;\n",
       "    }\n",
       "\n",
       "    .dataframe thead th {\n",
       "        text-align: right;\n",
       "    }\n",
       "</style>\n",
       "<table border=\"1\" class=\"dataframe\">\n",
       "  <thead>\n",
       "    <tr style=\"text-align: right;\">\n",
       "      <th></th>\n",
       "      <th>Hypothesis</th>\n",
       "      <th>Reach</th>\n",
       "      <th>Impact</th>\n",
       "      <th>Confidence</th>\n",
       "      <th>Efforts</th>\n",
       "    </tr>\n",
       "  </thead>\n",
       "  <tbody>\n",
       "    <tr>\n",
       "      <th>0</th>\n",
       "      <td>Добавить два новых канала привлечения трафика, что позволит привлекать на 30% больше пользователей</td>\n",
       "      <td>3</td>\n",
       "      <td>10</td>\n",
       "      <td>8</td>\n",
       "      <td>6</td>\n",
       "    </tr>\n",
       "    <tr>\n",
       "      <th>1</th>\n",
       "      <td>Запустить собственную службу доставки, что сократит срок доставки заказов</td>\n",
       "      <td>2</td>\n",
       "      <td>5</td>\n",
       "      <td>4</td>\n",
       "      <td>10</td>\n",
       "    </tr>\n",
       "    <tr>\n",
       "      <th>2</th>\n",
       "      <td>Добавить блоки рекомендаций товаров на сайт интернет магазина, чтобы повысить конверсию и средний чек заказа</td>\n",
       "      <td>8</td>\n",
       "      <td>3</td>\n",
       "      <td>7</td>\n",
       "      <td>3</td>\n",
       "    </tr>\n",
       "    <tr>\n",
       "      <th>3</th>\n",
       "      <td>Изменить структура категорий, что увеличит конверсию, т.к. пользователи быстрее найдут нужный товар</td>\n",
       "      <td>8</td>\n",
       "      <td>3</td>\n",
       "      <td>3</td>\n",
       "      <td>8</td>\n",
       "    </tr>\n",
       "    <tr>\n",
       "      <th>4</th>\n",
       "      <td>Изменить цвет фона главной страницы, чтобы увеличить вовлеченность пользователей</td>\n",
       "      <td>3</td>\n",
       "      <td>1</td>\n",
       "      <td>1</td>\n",
       "      <td>1</td>\n",
       "    </tr>\n",
       "    <tr>\n",
       "      <th>5</th>\n",
       "      <td>Добавить страницу отзывов клиентов о магазине, что позволит увеличить количество заказов</td>\n",
       "      <td>3</td>\n",
       "      <td>2</td>\n",
       "      <td>2</td>\n",
       "      <td>3</td>\n",
       "    </tr>\n",
       "    <tr>\n",
       "      <th>6</th>\n",
       "      <td>Показать на главной странице баннеры с актуальными акциями и распродажами, чтобы увеличить конверсию</td>\n",
       "      <td>5</td>\n",
       "      <td>3</td>\n",
       "      <td>8</td>\n",
       "      <td>3</td>\n",
       "    </tr>\n",
       "    <tr>\n",
       "      <th>7</th>\n",
       "      <td>Добавить форму подписки на все основные страницы, чтобы собрать базу клиентов для email-рассылок</td>\n",
       "      <td>10</td>\n",
       "      <td>7</td>\n",
       "      <td>8</td>\n",
       "      <td>5</td>\n",
       "    </tr>\n",
       "    <tr>\n",
       "      <th>8</th>\n",
       "      <td>Запустить акцию, дающую скидку на товар в день рождения</td>\n",
       "      <td>1</td>\n",
       "      <td>9</td>\n",
       "      <td>9</td>\n",
       "      <td>5</td>\n",
       "    </tr>\n",
       "  </tbody>\n",
       "</table>\n",
       "</div>"
      ],
      "text/plain": [
       "                                                                                                     Hypothesis  \\\n",
       "0            Добавить два новых канала привлечения трафика, что позволит привлекать на 30% больше пользователей   \n",
       "1                                     Запустить собственную службу доставки, что сократит срок доставки заказов   \n",
       "2  Добавить блоки рекомендаций товаров на сайт интернет магазина, чтобы повысить конверсию и средний чек заказа   \n",
       "3           Изменить структура категорий, что увеличит конверсию, т.к. пользователи быстрее найдут нужный товар   \n",
       "4                              Изменить цвет фона главной страницы, чтобы увеличить вовлеченность пользователей   \n",
       "5                      Добавить страницу отзывов клиентов о магазине, что позволит увеличить количество заказов   \n",
       "6          Показать на главной странице баннеры с актуальными акциями и распродажами, чтобы увеличить конверсию   \n",
       "7              Добавить форму подписки на все основные страницы, чтобы собрать базу клиентов для email-рассылок   \n",
       "8                                                       Запустить акцию, дающую скидку на товар в день рождения   \n",
       "\n",
       "   Reach  Impact  Confidence  Efforts  \n",
       "0      3      10           8        6  \n",
       "1      2       5           4       10  \n",
       "2      8       3           7        3  \n",
       "3      8       3           3        8  \n",
       "4      3       1           1        1  \n",
       "5      3       2           2        3  \n",
       "6      5       3           8        3  \n",
       "7     10       7           8        5  \n",
       "8      1       9           9        5  "
      ]
     },
     "execution_count": 3,
     "metadata": {},
     "output_type": "execute_result"
    }
   ],
   "source": [
    "# Зададим опцию для того чтобы поместилась вся информация\n",
    "pd.options.display.max_colwidth = 210\n",
    "\n",
    "hypothesis"
   ]
  },
  {
   "cell_type": "code",
   "execution_count": 4,
   "id": "0cdd3d26-3569-4840-a38c-7f3b3728d198",
   "metadata": {
    "ExecuteTime": {
     "end_time": "2022-07-07T13:27:59.061550Z",
     "start_time": "2022-07-07T13:27:59.056928Z"
    }
   },
   "outputs": [
    {
     "name": "stdout",
     "output_type": "stream",
     "text": [
      "<class 'pandas.core.frame.DataFrame'>\n",
      "RangeIndex: 9 entries, 0 to 8\n",
      "Data columns (total 5 columns):\n",
      " #   Column      Non-Null Count  Dtype \n",
      "---  ------      --------------  ----- \n",
      " 0   Hypothesis  9 non-null      object\n",
      " 1   Reach       9 non-null      int64 \n",
      " 2   Impact      9 non-null      int64 \n",
      " 3   Confidence  9 non-null      int64 \n",
      " 4   Efforts     9 non-null      int64 \n",
      "dtypes: int64(4), object(1)\n",
      "memory usage: 488.0+ bytes\n"
     ]
    }
   ],
   "source": [
    "hypothesis.info()"
   ]
  },
  {
   "cell_type": "markdown",
   "id": "a88f8a9d-7bec-4625-b6f7-294a5c04461e",
   "metadata": {},
   "source": [
    "В таблице всего 8 гипотез, что достаточно немного для анализа нашего проекта. Данные нужных типов, таблица готова к анализу:"
   ]
  },
  {
   "cell_type": "code",
   "execution_count": 5,
   "id": "6ddbc45c-d229-4369-9923-9ef29314497f",
   "metadata": {
    "ExecuteTime": {
     "end_time": "2022-07-07T13:27:59.068929Z",
     "start_time": "2022-07-07T13:27:59.062275Z"
    }
   },
   "outputs": [
    {
     "data": {
      "text/html": [
       "<div>\n",
       "<style scoped>\n",
       "    .dataframe tbody tr th:only-of-type {\n",
       "        vertical-align: middle;\n",
       "    }\n",
       "\n",
       "    .dataframe tbody tr th {\n",
       "        vertical-align: top;\n",
       "    }\n",
       "\n",
       "    .dataframe thead th {\n",
       "        text-align: right;\n",
       "    }\n",
       "</style>\n",
       "<table border=\"1\" class=\"dataframe\">\n",
       "  <thead>\n",
       "    <tr style=\"text-align: right;\">\n",
       "      <th></th>\n",
       "      <th>Hypothesis</th>\n",
       "      <th>ICE</th>\n",
       "    </tr>\n",
       "  </thead>\n",
       "  <tbody>\n",
       "    <tr>\n",
       "      <th>8</th>\n",
       "      <td>Запустить акцию, дающую скидку на товар в день рождения</td>\n",
       "      <td>16.200000</td>\n",
       "    </tr>\n",
       "    <tr>\n",
       "      <th>0</th>\n",
       "      <td>Добавить два новых канала привлечения трафика, что позволит привлекать на 30% больше пользователей</td>\n",
       "      <td>13.333333</td>\n",
       "    </tr>\n",
       "    <tr>\n",
       "      <th>7</th>\n",
       "      <td>Добавить форму подписки на все основные страницы, чтобы собрать базу клиентов для email-рассылок</td>\n",
       "      <td>11.200000</td>\n",
       "    </tr>\n",
       "    <tr>\n",
       "      <th>6</th>\n",
       "      <td>Показать на главной странице баннеры с актуальными акциями и распродажами, чтобы увеличить конверсию</td>\n",
       "      <td>8.000000</td>\n",
       "    </tr>\n",
       "    <tr>\n",
       "      <th>2</th>\n",
       "      <td>Добавить блоки рекомендаций товаров на сайт интернет магазина, чтобы повысить конверсию и средний чек заказа</td>\n",
       "      <td>7.000000</td>\n",
       "    </tr>\n",
       "    <tr>\n",
       "      <th>1</th>\n",
       "      <td>Запустить собственную службу доставки, что сократит срок доставки заказов</td>\n",
       "      <td>2.000000</td>\n",
       "    </tr>\n",
       "    <tr>\n",
       "      <th>5</th>\n",
       "      <td>Добавить страницу отзывов клиентов о магазине, что позволит увеличить количество заказов</td>\n",
       "      <td>1.333333</td>\n",
       "    </tr>\n",
       "    <tr>\n",
       "      <th>3</th>\n",
       "      <td>Изменить структура категорий, что увеличит конверсию, т.к. пользователи быстрее найдут нужный товар</td>\n",
       "      <td>1.125000</td>\n",
       "    </tr>\n",
       "    <tr>\n",
       "      <th>4</th>\n",
       "      <td>Изменить цвет фона главной страницы, чтобы увеличить вовлеченность пользователей</td>\n",
       "      <td>1.000000</td>\n",
       "    </tr>\n",
       "  </tbody>\n",
       "</table>\n",
       "</div>"
      ],
      "text/plain": [
       "                                                                                                     Hypothesis  \\\n",
       "8                                                       Запустить акцию, дающую скидку на товар в день рождения   \n",
       "0            Добавить два новых канала привлечения трафика, что позволит привлекать на 30% больше пользователей   \n",
       "7              Добавить форму подписки на все основные страницы, чтобы собрать базу клиентов для email-рассылок   \n",
       "6          Показать на главной странице баннеры с актуальными акциями и распродажами, чтобы увеличить конверсию   \n",
       "2  Добавить блоки рекомендаций товаров на сайт интернет магазина, чтобы повысить конверсию и средний чек заказа   \n",
       "1                                     Запустить собственную службу доставки, что сократит срок доставки заказов   \n",
       "5                      Добавить страницу отзывов клиентов о магазине, что позволит увеличить количество заказов   \n",
       "3           Изменить структура категорий, что увеличит конверсию, т.к. пользователи быстрее найдут нужный товар   \n",
       "4                              Изменить цвет фона главной страницы, чтобы увеличить вовлеченность пользователей   \n",
       "\n",
       "         ICE  \n",
       "8  16.200000  \n",
       "0  13.333333  \n",
       "7  11.200000  \n",
       "6   8.000000  \n",
       "2   7.000000  \n",
       "1   2.000000  \n",
       "5   1.333333  \n",
       "3   1.125000  \n",
       "4   1.000000  "
      ]
     },
     "metadata": {},
     "output_type": "display_data"
    }
   ],
   "source": [
    "# Считаем ICE:\n",
    "hypothesis['ICE'] = (hypothesis['Impact'] *\n",
    "                     hypothesis['Confidence']) / hypothesis['Efforts']\n",
    "ice = hypothesis[['Hypothesis', 'ICE']]\n",
    "\n",
    "display(ice.sort_values(by='ICE', ascending=False))"
   ]
  },
  {
   "cell_type": "code",
   "execution_count": 6,
   "id": "dc9f12ec-ba82-4da7-a384-d145ee6a53c6",
   "metadata": {},
   "outputs": [
    {
     "data": {
      "image/png": "[encoded data removed]",
      "text/plain": [
       "<Figure size 720x1080 with 1 Axes>"
      ]
     },
     "metadata": {
      "needs_background": "light"
     },
     "output_type": "display_data"
    }
   ],
   "source": [
    "plt.figure(figsize=(10, 15))\n",
    "plt.grid()\n",
    "sns.scatterplot(data=ice, x='ICE', y='Hypothesis', color='green')\n",
    "plt.title('Точечный график ICE', fontsize=20)"
   ]
  },
  {
   "cell_type": "code",
   "execution_count": 7,
   "id": "2711b7c6-0c73-4b2c-87f6-bd33c1122318",
   "metadata": {
    "ExecuteTime": {
     "end_time": "2022-07-07T13:27:59.075996Z",
     "start_time": "2022-07-07T13:27:59.069635Z"
    }
   },
   "outputs": [
    {
     "data": {
      "text/html": [
       "<div>\n",
       "<style scoped>\n",
       "    .dataframe tbody tr th:only-of-type {\n",
       "        vertical-align: middle;\n",
       "    }\n",
       "\n",
       "    .dataframe tbody tr th {\n",
       "        vertical-align: top;\n",
       "    }\n",
       "\n",
       "    .dataframe thead th {\n",
       "        text-align: right;\n",
       "    }\n",
       "</style>\n",
       "<table border=\"1\" class=\"dataframe\">\n",
       "  <thead>\n",
       "    <tr style=\"text-align: right;\">\n",
       "      <th></th>\n",
       "      <th>Hypothesis</th>\n",
       "      <th>RICE</th>\n",
       "    </tr>\n",
       "  </thead>\n",
       "  <tbody>\n",
       "    <tr>\n",
       "      <th>7</th>\n",
       "      <td>Добавить форму подписки на все основные страницы, чтобы собрать базу клиентов для email-рассылок</td>\n",
       "      <td>112.0</td>\n",
       "    </tr>\n",
       "    <tr>\n",
       "      <th>2</th>\n",
       "      <td>Добавить блоки рекомендаций товаров на сайт интернет магазина, чтобы повысить конверсию и средний чек заказа</td>\n",
       "      <td>56.0</td>\n",
       "    </tr>\n",
       "    <tr>\n",
       "      <th>0</th>\n",
       "      <td>Добавить два новых канала привлечения трафика, что позволит привлекать на 30% больше пользователей</td>\n",
       "      <td>40.0</td>\n",
       "    </tr>\n",
       "    <tr>\n",
       "      <th>6</th>\n",
       "      <td>Показать на главной странице баннеры с актуальными акциями и распродажами, чтобы увеличить конверсию</td>\n",
       "      <td>40.0</td>\n",
       "    </tr>\n",
       "    <tr>\n",
       "      <th>8</th>\n",
       "      <td>Запустить акцию, дающую скидку на товар в день рождения</td>\n",
       "      <td>16.2</td>\n",
       "    </tr>\n",
       "    <tr>\n",
       "      <th>3</th>\n",
       "      <td>Изменить структура категорий, что увеличит конверсию, т.к. пользователи быстрее найдут нужный товар</td>\n",
       "      <td>9.0</td>\n",
       "    </tr>\n",
       "    <tr>\n",
       "      <th>1</th>\n",
       "      <td>Запустить собственную службу доставки, что сократит срок доставки заказов</td>\n",
       "      <td>4.0</td>\n",
       "    </tr>\n",
       "    <tr>\n",
       "      <th>5</th>\n",
       "      <td>Добавить страницу отзывов клиентов о магазине, что позволит увеличить количество заказов</td>\n",
       "      <td>4.0</td>\n",
       "    </tr>\n",
       "    <tr>\n",
       "      <th>4</th>\n",
       "      <td>Изменить цвет фона главной страницы, чтобы увеличить вовлеченность пользователей</td>\n",
       "      <td>3.0</td>\n",
       "    </tr>\n",
       "  </tbody>\n",
       "</table>\n",
       "</div>"
      ],
      "text/plain": [
       "                                                                                                     Hypothesis  \\\n",
       "7              Добавить форму подписки на все основные страницы, чтобы собрать базу клиентов для email-рассылок   \n",
       "2  Добавить блоки рекомендаций товаров на сайт интернет магазина, чтобы повысить конверсию и средний чек заказа   \n",
       "0            Добавить два новых канала привлечения трафика, что позволит привлекать на 30% больше пользователей   \n",
       "6          Показать на главной странице баннеры с актуальными акциями и распродажами, чтобы увеличить конверсию   \n",
       "8                                                       Запустить акцию, дающую скидку на товар в день рождения   \n",
       "3           Изменить структура категорий, что увеличит конверсию, т.к. пользователи быстрее найдут нужный товар   \n",
       "1                                     Запустить собственную службу доставки, что сократит срок доставки заказов   \n",
       "5                      Добавить страницу отзывов клиентов о магазине, что позволит увеличить количество заказов   \n",
       "4                              Изменить цвет фона главной страницы, чтобы увеличить вовлеченность пользователей   \n",
       "\n",
       "    RICE  \n",
       "7  112.0  \n",
       "2   56.0  \n",
       "0   40.0  \n",
       "6   40.0  \n",
       "8   16.2  \n",
       "3    9.0  \n",
       "1    4.0  \n",
       "5    4.0  \n",
       "4    3.0  "
      ]
     },
     "metadata": {},
     "output_type": "display_data"
    }
   ],
   "source": [
    "# Cчитаем RICE:\n",
    "hypothesis['RICE'] = (hypothesis['Reach'] * hypothesis['Impact'] *\n",
    "                      hypothesis['Confidence']) / hypothesis['Efforts']\n",
    "rice = hypothesis[['Hypothesis', 'RICE']]\n",
    "\n",
    "display(rice.sort_values(by='RICE', ascending=False))"
   ]
  },
  {
   "cell_type": "code",
   "execution_count": 8,
   "id": "a3fbb12e-004a-4c59-af45-9ba46b87c83f",
   "metadata": {},
   "outputs": [
    {
     "data": {
      "image/png": "[encoded data removed]",
      "text/plain": [
       "<Figure size 720x1080 with 1 Axes>"
      ]
     },
     "metadata": {
      "needs_background": "light"
     },
     "output_type": "display_data"
    }
   ],
   "source": [
    "plt.figure(figsize=(10, 15))\n",
    "plt.grid()\n",
    "sns.scatterplot(data=rice, x='RICE', y='Hypothesis', color='green')\n",
    "plt.title('Точечный график RICE', fontsize=20)"
   ]
  },
  {
   "cell_type": "code",
   "execution_count": 9,
   "id": "6f29d0fd-956f-457c-8bd4-1e209dd5fa83",
   "metadata": {},
   "outputs": [
    {
     "data": {
      "text/html": [
       "<div>\n",
       "<style scoped>\n",
       "    .dataframe tbody tr th:only-of-type {\n",
       "        vertical-align: middle;\n",
       "    }\n",
       "\n",
       "    .dataframe tbody tr th {\n",
       "        vertical-align: top;\n",
       "    }\n",
       "\n",
       "    .dataframe thead th {\n",
       "        text-align: right;\n",
       "    }\n",
       "</style>\n",
       "<table border=\"1\" class=\"dataframe\">\n",
       "  <thead>\n",
       "    <tr style=\"text-align: right;\">\n",
       "      <th></th>\n",
       "      <th>Hypothesis</th>\n",
       "      <th>ICE</th>\n",
       "      <th>RICE</th>\n",
       "    </tr>\n",
       "  </thead>\n",
       "  <tbody>\n",
       "    <tr>\n",
       "      <th>7</th>\n",
       "      <td>Добавить форму подписки на все основные страницы, чтобы собрать базу клиентов для email-рассылок</td>\n",
       "      <td>11.200000</td>\n",
       "      <td>112.0</td>\n",
       "    </tr>\n",
       "    <tr>\n",
       "      <th>2</th>\n",
       "      <td>Добавить блоки рекомендаций товаров на сайт интернет магазина, чтобы повысить конверсию и средний чек заказа</td>\n",
       "      <td>7.000000</td>\n",
       "      <td>56.0</td>\n",
       "    </tr>\n",
       "    <tr>\n",
       "      <th>0</th>\n",
       "      <td>Добавить два новых канала привлечения трафика, что позволит привлекать на 30% больше пользователей</td>\n",
       "      <td>13.333333</td>\n",
       "      <td>40.0</td>\n",
       "    </tr>\n",
       "    <tr>\n",
       "      <th>6</th>\n",
       "      <td>Показать на главной странице баннеры с актуальными акциями и распродажами, чтобы увеличить конверсию</td>\n",
       "      <td>8.000000</td>\n",
       "      <td>40.0</td>\n",
       "    </tr>\n",
       "    <tr>\n",
       "      <th>8</th>\n",
       "      <td>Запустить акцию, дающую скидку на товар в день рождения</td>\n",
       "      <td>16.200000</td>\n",
       "      <td>16.2</td>\n",
       "    </tr>\n",
       "    <tr>\n",
       "      <th>3</th>\n",
       "      <td>Изменить структура категорий, что увеличит конверсию, т.к. пользователи быстрее найдут нужный товар</td>\n",
       "      <td>1.125000</td>\n",
       "      <td>9.0</td>\n",
       "    </tr>\n",
       "    <tr>\n",
       "      <th>1</th>\n",
       "      <td>Запустить собственную службу доставки, что сократит срок доставки заказов</td>\n",
       "      <td>2.000000</td>\n",
       "      <td>4.0</td>\n",
       "    </tr>\n",
       "    <tr>\n",
       "      <th>5</th>\n",
       "      <td>Добавить страницу отзывов клиентов о магазине, что позволит увеличить количество заказов</td>\n",
       "      <td>1.333333</td>\n",
       "      <td>4.0</td>\n",
       "    </tr>\n",
       "    <tr>\n",
       "      <th>4</th>\n",
       "      <td>Изменить цвет фона главной страницы, чтобы увеличить вовлеченность пользователей</td>\n",
       "      <td>1.000000</td>\n",
       "      <td>3.0</td>\n",
       "    </tr>\n",
       "  </tbody>\n",
       "</table>\n",
       "</div>"
      ],
      "text/plain": [
       "                                                                                                     Hypothesis  \\\n",
       "7              Добавить форму подписки на все основные страницы, чтобы собрать базу клиентов для email-рассылок   \n",
       "2  Добавить блоки рекомендаций товаров на сайт интернет магазина, чтобы повысить конверсию и средний чек заказа   \n",
       "0            Добавить два новых канала привлечения трафика, что позволит привлекать на 30% больше пользователей   \n",
       "6          Показать на главной странице баннеры с актуальными акциями и распродажами, чтобы увеличить конверсию   \n",
       "8                                                       Запустить акцию, дающую скидку на товар в день рождения   \n",
       "3           Изменить структура категорий, что увеличит конверсию, т.к. пользователи быстрее найдут нужный товар   \n",
       "1                                     Запустить собственную службу доставки, что сократит срок доставки заказов   \n",
       "5                      Добавить страницу отзывов клиентов о магазине, что позволит увеличить количество заказов   \n",
       "4                              Изменить цвет фона главной страницы, чтобы увеличить вовлеченность пользователей   \n",
       "\n",
       "         ICE   RICE  \n",
       "7  11.200000  112.0  \n",
       "2   7.000000   56.0  \n",
       "0  13.333333   40.0  \n",
       "6   8.000000   40.0  \n",
       "8  16.200000   16.2  \n",
       "3   1.125000    9.0  \n",
       "1   2.000000    4.0  \n",
       "5   1.333333    4.0  \n",
       "4   1.000000    3.0  "
      ]
     },
     "metadata": {},
     "output_type": "display_data"
    }
   ],
   "source": [
    "ice_rice = hypothesis[['Hypothesis', 'ICE', 'RICE']]\n",
    "\n",
    "display(ice_rice.sort_values(by='RICE', ascending=False))"
   ]
  },
  {
   "cell_type": "markdown",
   "id": "c53484da-0fce-4f14-a70e-5d9bd876f88b",
   "metadata": {},
   "source": [
    "При подсчете ICE можно заметить:\n",
    "- На первых 3х местах гипотезы: 8, 0 и 7\n",
    "При подсчете RICE можно заметить:\n",
    "- На первых 3х местах гипотезы: 7, 2 и 0\n",
    "- Гипотезы под номером \"8\" вовсе нет в тройке лидеров, остальные же сильно сместились в рейтинге, и появилась гипотеза \"2\"\n",
    "\n",
    "При подсчете ICE мы не учитываем параметр \"Reach\", иначе говоря: скольких пользователей затронут изменения, которые мы хотим внести, потому результаты так сильно разнятся. У гипотез 7 и 2 к примеру, этот параметр очень высок, и игнорировать его мы не можем в контексте данного исследования."
   ]
  },
  {
   "cell_type": "markdown",
   "id": "1030f1d5-9463-405a-bb53-e4bec7046266",
   "metadata": {},
   "source": [
    "## Анализ A/B-теста:"
   ]
  },
  {
   "cell_type": "markdown",
   "id": "0c0694b2-3094-4430-a211-0131939a0fc0",
   "metadata": {},
   "source": [
    "### Предобратока таблиц: orders и visitors"
   ]
  },
  {
   "cell_type": "markdown",
   "id": "f47e06d3-ce50-4907-8c33-8b6848b5a28f",
   "metadata": {},
   "source": [
    "Прежде чем проводить анализ, убедимся что все данные соответсвуют нужным типам, и в них нет пропусков:"
   ]
  },
  {
   "cell_type": "code",
   "execution_count": 10,
   "id": "9b44674c-247c-4766-b9a3-f06b5f7386c9",
   "metadata": {
    "ExecuteTime": {
     "end_time": "2022-07-07T13:27:59.092060Z",
     "start_time": "2022-07-07T13:27:59.076660Z"
    }
   },
   "outputs": [
    {
     "data": {
      "text/html": [
       "<div>\n",
       "<style scoped>\n",
       "    .dataframe tbody tr th:only-of-type {\n",
       "        vertical-align: middle;\n",
       "    }\n",
       "\n",
       "    .dataframe tbody tr th {\n",
       "        vertical-align: top;\n",
       "    }\n",
       "\n",
       "    .dataframe thead th {\n",
       "        text-align: right;\n",
       "    }\n",
       "</style>\n",
       "<table border=\"1\" class=\"dataframe\">\n",
       "  <thead>\n",
       "    <tr style=\"text-align: right;\">\n",
       "      <th></th>\n",
       "      <th>transactionId</th>\n",
       "      <th>visitorId</th>\n",
       "      <th>date</th>\n",
       "      <th>revenue</th>\n",
       "      <th>group</th>\n",
       "    </tr>\n",
       "  </thead>\n",
       "  <tbody>\n",
       "    <tr>\n",
       "      <th>0</th>\n",
       "      <td>3667963787</td>\n",
       "      <td>3312258926</td>\n",
       "      <td>2019-08-15</td>\n",
       "      <td>1650</td>\n",
       "      <td>B</td>\n",
       "    </tr>\n",
       "    <tr>\n",
       "      <th>1</th>\n",
       "      <td>2804400009</td>\n",
       "      <td>3642806036</td>\n",
       "      <td>2019-08-15</td>\n",
       "      <td>730</td>\n",
       "      <td>B</td>\n",
       "    </tr>\n",
       "    <tr>\n",
       "      <th>2</th>\n",
       "      <td>2961555356</td>\n",
       "      <td>4069496402</td>\n",
       "      <td>2019-08-15</td>\n",
       "      <td>400</td>\n",
       "      <td>A</td>\n",
       "    </tr>\n",
       "    <tr>\n",
       "      <th>3</th>\n",
       "      <td>3797467345</td>\n",
       "      <td>1196621759</td>\n",
       "      <td>2019-08-15</td>\n",
       "      <td>9759</td>\n",
       "      <td>B</td>\n",
       "    </tr>\n",
       "    <tr>\n",
       "      <th>4</th>\n",
       "      <td>2282983706</td>\n",
       "      <td>2322279887</td>\n",
       "      <td>2019-08-15</td>\n",
       "      <td>2308</td>\n",
       "      <td>B</td>\n",
       "    </tr>\n",
       "  </tbody>\n",
       "</table>\n",
       "</div>"
      ],
      "text/plain": [
       "   transactionId   visitorId        date  revenue group\n",
       "0     3667963787  3312258926  2019-08-15     1650     B\n",
       "1     2804400009  3642806036  2019-08-15      730     B\n",
       "2     2961555356  4069496402  2019-08-15      400     A\n",
       "3     3797467345  1196621759  2019-08-15     9759     B\n",
       "4     2282983706  2322279887  2019-08-15     2308     B"
      ]
     },
     "metadata": {},
     "output_type": "display_data"
    },
    {
     "name": "stdout",
     "output_type": "stream",
     "text": [
      "\n"
     ]
    },
    {
     "data": {
      "text/html": [
       "<div>\n",
       "<style scoped>\n",
       "    .dataframe tbody tr th:only-of-type {\n",
       "        vertical-align: middle;\n",
       "    }\n",
       "\n",
       "    .dataframe tbody tr th {\n",
       "        vertical-align: top;\n",
       "    }\n",
       "\n",
       "    .dataframe thead th {\n",
       "        text-align: right;\n",
       "    }\n",
       "</style>\n",
       "<table border=\"1\" class=\"dataframe\">\n",
       "  <thead>\n",
       "    <tr style=\"text-align: right;\">\n",
       "      <th></th>\n",
       "      <th>date</th>\n",
       "      <th>group</th>\n",
       "      <th>visitors</th>\n",
       "    </tr>\n",
       "  </thead>\n",
       "  <tbody>\n",
       "    <tr>\n",
       "      <th>0</th>\n",
       "      <td>2019-08-01</td>\n",
       "      <td>A</td>\n",
       "      <td>719</td>\n",
       "    </tr>\n",
       "    <tr>\n",
       "      <th>1</th>\n",
       "      <td>2019-08-02</td>\n",
       "      <td>A</td>\n",
       "      <td>619</td>\n",
       "    </tr>\n",
       "    <tr>\n",
       "      <th>2</th>\n",
       "      <td>2019-08-03</td>\n",
       "      <td>A</td>\n",
       "      <td>507</td>\n",
       "    </tr>\n",
       "    <tr>\n",
       "      <th>3</th>\n",
       "      <td>2019-08-04</td>\n",
       "      <td>A</td>\n",
       "      <td>717</td>\n",
       "    </tr>\n",
       "    <tr>\n",
       "      <th>4</th>\n",
       "      <td>2019-08-05</td>\n",
       "      <td>A</td>\n",
       "      <td>756</td>\n",
       "    </tr>\n",
       "  </tbody>\n",
       "</table>\n",
       "</div>"
      ],
      "text/plain": [
       "         date group  visitors\n",
       "0  2019-08-01     A       719\n",
       "1  2019-08-02     A       619\n",
       "2  2019-08-03     A       507\n",
       "3  2019-08-04     A       717\n",
       "4  2019-08-05     A       756"
      ]
     },
     "metadata": {},
     "output_type": "display_data"
    },
    {
     "name": "stdout",
     "output_type": "stream",
     "text": [
      "\n",
      "<class 'pandas.core.frame.DataFrame'>\n",
      "RangeIndex: 1197 entries, 0 to 1196\n",
      "Data columns (total 5 columns):\n",
      " #   Column         Non-Null Count  Dtype \n",
      "---  ------         --------------  ----- \n",
      " 0   transactionId  1197 non-null   int64 \n",
      " 1   visitorId      1197 non-null   int64 \n",
      " 2   date           1197 non-null   object\n",
      " 3   revenue        1197 non-null   int64 \n",
      " 4   group          1197 non-null   object\n",
      "dtypes: int64(3), object(2)\n",
      "memory usage: 46.9+ KB\n"
     ]
    },
    {
     "data": {
      "text/plain": [
       "None"
      ]
     },
     "metadata": {},
     "output_type": "display_data"
    },
    {
     "name": "stdout",
     "output_type": "stream",
     "text": [
      "\n",
      "<class 'pandas.core.frame.DataFrame'>\n",
      "RangeIndex: 62 entries, 0 to 61\n",
      "Data columns (total 3 columns):\n",
      " #   Column    Non-Null Count  Dtype \n",
      "---  ------    --------------  ----- \n",
      " 0   date      62 non-null     object\n",
      " 1   group     62 non-null     object\n",
      " 2   visitors  62 non-null     int64 \n",
      "dtypes: int64(1), object(2)\n",
      "memory usage: 1.6+ KB\n"
     ]
    },
    {
     "data": {
      "text/plain": [
       "None"
      ]
     },
     "metadata": {},
     "output_type": "display_data"
    },
    {
     "name": "stdout",
     "output_type": "stream",
     "text": [
      "\n",
      "Число дубликатов visitors: 0\n",
      "Число дубликатов orders: 0\n"
     ]
    }
   ],
   "source": [
    "display(orders.head(5))\n",
    "print()\n",
    "display(visitors.head(5))\n",
    "print()\n",
    "display(orders.info())\n",
    "print()\n",
    "display(visitors.info())\n",
    "print(\"\\nЧисло дубликатов visitors:\", visitors.duplicated().sum())\n",
    "print(\"Число дубликатов orders:\", orders.duplicated().sum())"
   ]
  },
  {
   "cell_type": "markdown",
   "id": "f5e737c2-4a91-4e44-b367-f02f75121ef2",
   "metadata": {},
   "source": [
    "---"
   ]
  },
  {
   "cell_type": "markdown",
   "id": "ff69ca4a-646d-48a5-9d0d-42309c867d91",
   "metadata": {},
   "source": [
    "Сменим тип данных в столбцах \"date\""
   ]
  },
  {
   "cell_type": "code",
   "execution_count": 11,
   "id": "27422cd2-747d-4c77-9462-a9e0ba5f0f65",
   "metadata": {
    "ExecuteTime": {
     "end_time": "2022-07-07T13:27:59.108234Z",
     "start_time": "2022-07-07T13:27:59.092726Z"
    }
   },
   "outputs": [
    {
     "name": "stdout",
     "output_type": "stream",
     "text": [
      "<class 'pandas.core.frame.DataFrame'>\n",
      "RangeIndex: 1197 entries, 0 to 1196\n",
      "Data columns (total 5 columns):\n",
      " #   Column         Non-Null Count  Dtype         \n",
      "---  ------         --------------  -----         \n",
      " 0   transactionId  1197 non-null   int64         \n",
      " 1   visitorId      1197 non-null   int64         \n",
      " 2   date           1197 non-null   datetime64[ns]\n",
      " 3   revenue        1197 non-null   int64         \n",
      " 4   group          1197 non-null   object        \n",
      "dtypes: datetime64[ns](1), int64(3), object(1)\n",
      "memory usage: 46.9+ KB\n"
     ]
    },
    {
     "data": {
      "text/plain": [
       "None"
      ]
     },
     "metadata": {},
     "output_type": "display_data"
    },
    {
     "name": "stdout",
     "output_type": "stream",
     "text": [
      "\n",
      "<class 'pandas.core.frame.DataFrame'>\n",
      "RangeIndex: 62 entries, 0 to 61\n",
      "Data columns (total 3 columns):\n",
      " #   Column    Non-Null Count  Dtype         \n",
      "---  ------    --------------  -----         \n",
      " 0   date      62 non-null     datetime64[ns]\n",
      " 1   group     62 non-null     object        \n",
      " 2   visitors  62 non-null     int64         \n",
      "dtypes: datetime64[ns](1), int64(1), object(1)\n",
      "memory usage: 1.6+ KB\n"
     ]
    },
    {
     "data": {
      "text/plain": [
       "None"
      ]
     },
     "metadata": {},
     "output_type": "display_data"
    }
   ],
   "source": [
    "# Сменим тип данных:\n",
    "orders['date'] = orders['date'].map(\n",
    "    lambda x: dt.datetime.strptime(x, '%Y-%m-%d'))\n",
    "\n",
    "visitors['date'] = visitors['date'].map(\n",
    "    lambda x: dt.datetime.strptime(x, '%Y-%m-%d'))\n",
    "\n",
    "display(orders.info())\n",
    "print()\n",
    "display(visitors.info())"
   ]
  },
  {
   "cell_type": "markdown",
   "id": "be6a2693-32b4-4479-baa8-2ae8cdf6e9a5",
   "metadata": {},
   "source": [
    "---"
   ]
  },
  {
   "cell_type": "code",
   "execution_count": 12,
   "id": "bc9bdeeb-e7dc-436b-9c8f-c849faa89146",
   "metadata": {},
   "outputs": [
    {
     "name": "stdout",
     "output_type": "stream",
     "text": [
      "Кол-во посетителей в группе А:18736\n",
      "Кол-Во посетителей в группе В:18916\n",
      "Кол-во заказов в группе А:557\n",
      "Кол-Во заказов в группе В:640\n"
     ]
    }
   ],
   "source": [
    "# Проверим таблицу на количество пользователей и совершённых ими заказов:\n",
    "ordersA = orders[orders['group'] == 'A']\n",
    "ordersB = orders[orders['group'] == 'B']\n",
    "visitorsA = visitors[visitors['group'] == 'A']['visitors']\n",
    "visitorsB = visitors[visitors['group'] == 'B']['visitors']\n",
    "print(\n",
    "    f'Кол-во посетителей в группе А:{visitorsA.sum()}\\nКол-Во посетителей в группе В:{visitorsB.sum()}'\n",
    ")\n",
    "print(\n",
    "    f'Кол-во заказов в группе А:{len(ordersA)}\\nКол-Во заказов в группе В:{len(ordersB)}'\n",
    ")"
   ]
  },
  {
   "cell_type": "code",
   "execution_count": 13,
   "id": "be650031-2b88-4b18-ba60-90f880b4bd21",
   "metadata": {},
   "outputs": [
    {
     "name": "stdout",
     "output_type": "stream",
     "text": [
      "Количество пользователей совершивших покупки по группам: \n",
      "group\n",
      "A    503\n",
      "B    586\n",
      "dtype: int64\n",
      "Количество пользователей, которые попадают в обе группы: 58\n"
     ]
    }
   ],
   "source": [
    "double = orders.groupby(['visitorId', 'group']).size().unstack()\n",
    "print(\n",
    "    f'Количество пользователей совершивших покупки по группам: \\n{double.count()}'\n",
    ")\n",
    "print(\n",
    "    f'Количество пользователей, которые попадают в обе группы: {len(double.dropna())}'\n",
    ")"
   ]
  },
  {
   "cell_type": "markdown",
   "id": "fe4998b1-44a6-4aa3-bafd-53244f3e5d63",
   "metadata": {},
   "source": [
    "---"
   ]
  },
  {
   "cell_type": "markdown",
   "id": "e24ce83c-5bb2-4943-b8f1-8677d4368a23",
   "metadata": {},
   "source": [
    "Установим нулевую гипотезу:\n",
    "- Между группами \"А\" и \"В\" нет статистически значимой разницы\n",
    "\n",
    "Соответственно, альтернативная гипотеза будет звучать так:\n",
    "- Между группами \"А\" и \"В\" есть статистически значимая разница"
   ]
  },
  {
   "cell_type": "code",
   "execution_count": 14,
   "id": "dc6f578a-b9d1-4d07-92a2-4189a452099d",
   "metadata": {},
   "outputs": [
    {
     "name": "stdout",
     "output_type": "stream",
     "text": [
      "P-value: 0.7301376549390499\n",
      "Не получилось отвергнуть нулевую гипотезу, нет оснований считать группы \"А\" и \"В\" разными\n",
      "\n"
     ]
    }
   ],
   "source": [
    "# Проведём тест Манна-Уитни, посмотрим как статистически значимы различия в выборках:\n",
    "alpha = 0.05\n",
    "visitors_results = st.mannwhitneyu(visitorsA, visitorsB)\n",
    "\n",
    "print(f'P-value: {visitors_results.pvalue}')\n",
    "if visitors_results.pvalue < alpha:\n",
    "    print(\n",
    "        'Отвергаем нулевую гипотезу: между группами \"А\" и \"В\" есть статистически значимая разница\\n'\n",
    "    )\n",
    "else:\n",
    "    print(\n",
    "        'Не получилось отвергнуть нулевую гипотезу, нет оснований считать группы \"А\" и \"В\" разными\\n'\n",
    "    )"
   ]
  },
  {
   "cell_type": "markdown",
   "id": "f95163ab-e69c-4849-9556-2503e3e127e6",
   "metadata": {},
   "source": [
    "Некоторые выводы по группам:\n",
    "- Мы обнаружили попадание пользователей в выборки \"А\" и \"В\" одновременно, равное 58 шт, что составляет чуть более 4% от общих транзакций, потому оставим этих пользователей, и не будем их трогать.\n",
    "- С записью и распределением данных всё в порядке."
   ]
  },
  {
   "cell_type": "markdown",
   "id": "ed5fb4b1-2218-420f-b342-285db7947848",
   "metadata": {},
   "source": [
    "### График кумулятивной выручки по группам:"
   ]
  },
  {
   "cell_type": "markdown",
   "id": "63573a60-6e66-4123-8f02-477b5b49344d",
   "metadata": {},
   "source": [
    "Прежде чем начинать считать метрики, убедимся что крайние даты совпадают в обоих фреймах:"
   ]
  },
  {
   "cell_type": "code",
   "execution_count": 15,
   "id": "da72ed47-272f-43d7-b8e7-59b8ad5fa2d8",
   "metadata": {
    "ExecuteTime": {
     "end_time": "2022-07-07T13:27:59.111182Z",
     "start_time": "2022-07-07T13:27:59.108881Z"
    }
   },
   "outputs": [
    {
     "name": "stdout",
     "output_type": "stream",
     "text": [
      "Начальная дата visitors: 2019-08-01 00:00:00, конечная дата 2019-08-31 00:00:00\n",
      "Начальная дата orders: 2019-08-01 00:00:00, конечная дата 2019-08-31 00:00:00\n"
     ]
    }
   ],
   "source": [
    "print(\n",
    "    f'Начальная дата visitors: {visitors[\"date\"].min()}, конечная дата {visitors[\"date\"].max()}'\n",
    ")\n",
    "print(\n",
    "    f'Начальная дата orders: {orders[\"date\"].min()}, конечная дата {orders[\"date\"].max()}'\n",
    ")"
   ]
  },
  {
   "cell_type": "markdown",
   "id": "3b66eedb-6f61-4688-917f-04c55fde4d93",
   "metadata": {},
   "source": [
    "Даты сходятся, всё в порядке."
   ]
  },
  {
   "cell_type": "markdown",
   "id": "6cf25761-fa1c-4b6e-87cc-d0f1aa904995",
   "metadata": {},
   "source": [
    "---"
   ]
  },
  {
   "cell_type": "code",
   "execution_count": 16,
   "id": "519d3e7c-3422-4b18-b982-8188dffcf475",
   "metadata": {
    "ExecuteTime": {
     "end_time": "2022-07-07T13:27:59.253979Z",
     "start_time": "2022-07-07T13:27:59.111836Z"
    }
   },
   "outputs": [
    {
     "data": {
      "text/html": [
       "<div>\n",
       "<style scoped>\n",
       "    .dataframe tbody tr th:only-of-type {\n",
       "        vertical-align: middle;\n",
       "    }\n",
       "\n",
       "    .dataframe tbody tr th {\n",
       "        vertical-align: top;\n",
       "    }\n",
       "\n",
       "    .dataframe thead th {\n",
       "        text-align: right;\n",
       "    }\n",
       "</style>\n",
       "<table border=\"1\" class=\"dataframe\">\n",
       "  <thead>\n",
       "    <tr style=\"text-align: right;\">\n",
       "      <th></th>\n",
       "      <th>date</th>\n",
       "      <th>group</th>\n",
       "      <th>orders</th>\n",
       "      <th>buyers</th>\n",
       "      <th>revenue</th>\n",
       "      <th>visitors</th>\n",
       "    </tr>\n",
       "  </thead>\n",
       "  <tbody>\n",
       "    <tr>\n",
       "      <th>0</th>\n",
       "      <td>2019-08-01</td>\n",
       "      <td>A</td>\n",
       "      <td>24</td>\n",
       "      <td>20</td>\n",
       "      <td>148579</td>\n",
       "      <td>719</td>\n",
       "    </tr>\n",
       "    <tr>\n",
       "      <th>1</th>\n",
       "      <td>2019-08-01</td>\n",
       "      <td>B</td>\n",
       "      <td>21</td>\n",
       "      <td>20</td>\n",
       "      <td>101217</td>\n",
       "      <td>713</td>\n",
       "    </tr>\n",
       "    <tr>\n",
       "      <th>2</th>\n",
       "      <td>2019-08-02</td>\n",
       "      <td>A</td>\n",
       "      <td>44</td>\n",
       "      <td>38</td>\n",
       "      <td>242401</td>\n",
       "      <td>1338</td>\n",
       "    </tr>\n",
       "    <tr>\n",
       "      <th>3</th>\n",
       "      <td>2019-08-02</td>\n",
       "      <td>B</td>\n",
       "      <td>45</td>\n",
       "      <td>43</td>\n",
       "      <td>266748</td>\n",
       "      <td>1294</td>\n",
       "    </tr>\n",
       "    <tr>\n",
       "      <th>4</th>\n",
       "      <td>2019-08-03</td>\n",
       "      <td>A</td>\n",
       "      <td>68</td>\n",
       "      <td>62</td>\n",
       "      <td>354874</td>\n",
       "      <td>1845</td>\n",
       "    </tr>\n",
       "  </tbody>\n",
       "</table>\n",
       "</div>"
      ],
      "text/plain": [
       "        date group  orders  buyers  revenue  visitors\n",
       "0 2019-08-01     A      24      20   148579       719\n",
       "1 2019-08-01     B      21      20   101217       713\n",
       "2 2019-08-02     A      44      38   242401      1338\n",
       "3 2019-08-02     B      45      43   266748      1294\n",
       "4 2019-08-03     A      68      62   354874      1845"
      ]
     },
     "execution_count": 16,
     "metadata": {},
     "output_type": "execute_result"
    }
   ],
   "source": [
    "# Cоздаем массив уникальных пар значений дат и групп теста:\n",
    "datesGroups = orders[['date', 'group']].drop_duplicates()\n",
    "\n",
    "# Получаем агрегированные кумулятивные по дням данные о заказах:\n",
    "ordersAggregated = datesGroups.apply(\n",
    "    lambda x: orders[np.logical_and(orders['date'] <= x['date'], orders[\n",
    "        'group'] == x['group'])].agg({\n",
    "            'date': 'max',\n",
    "            'group': 'max',\n",
    "            'transactionId': pd.Series.nunique,\n",
    "            'visitorId': pd.Series.nunique,\n",
    "            'revenue': 'sum'\n",
    "        }),\n",
    "    axis=1).sort_values(by=['date', 'group'])\n",
    "\n",
    "# Получаем агрегированные кумулятивные по дням данные о посетителях интернет-магазина:\n",
    "visitorsAggregated = datesGroups.apply(\n",
    "    lambda x: visitors[np.logical_and(visitors['date'] <= x['date'], visitors[\n",
    "        'group'] == x['group'])].agg({\n",
    "            'date': 'max',\n",
    "            'group': 'max',\n",
    "            'visitors': 'sum'\n",
    "        }),\n",
    "    axis=1).sort_values(by=['date', 'group'])\n",
    "\n",
    "# Объединяем кумулятивные данные в одной таблице и присваиваем её столбцам понятные названия:\n",
    "cumulativeData = ordersAggregated.merge(visitorsAggregated,\n",
    "                                        left_on=['date', 'group'],\n",
    "                                        right_on=['date', 'group'])\n",
    "cumulativeData.columns = [\n",
    "    'date', 'group', 'orders', 'buyers', 'revenue', 'visitors'\n",
    "]\n",
    "\n",
    "cumulativeData.head(5)"
   ]
  },
  {
   "cell_type": "code",
   "execution_count": 17,
   "id": "00638419-ee33-4243-b96d-5d3de19ebb32",
   "metadata": {
    "ExecuteTime": {
     "end_time": "2022-07-07T13:27:59.471127Z",
     "start_time": "2022-07-07T13:27:59.255471Z"
    }
   },
   "outputs": [
    {
     "data": {
      "image/png": "[encoded data removed]",
      "text/plain": [
       "<Figure size 1008x432 with 1 Axes>"
      ]
     },
     "metadata": {
      "needs_background": "light"
     },
     "output_type": "display_data"
    }
   ],
   "source": [
    "# Присваиваем переменные группам\n",
    "cumulativeRevenueA = cumulativeData[cumulativeData['group'] == 'A'][[\n",
    "    'date', 'revenue', 'orders'\n",
    "]]\n",
    "cumulativeRevenueB = cumulativeData[cumulativeData['group'] == 'B'][[\n",
    "    'date', 'revenue', 'orders'\n",
    "]]\n",
    "\n",
    "# Строим график\n",
    "plt.figure(figsize=(14, 6))\n",
    "plt.plot(cumulativeRevenueA['date'],\n",
    "         cumulativeRevenueA['revenue'],\n",
    "         label='Кум.выручка группы A')\n",
    "plt.plot(cumulativeRevenueB['date'],\n",
    "         cumulativeRevenueB['revenue'],\n",
    "         label='Кум.выручка группы B')\n",
    "plt.grid()\n",
    "plt.legend()\n",
    "plt.title('График кумулятивной выручки', fontsize=15);"
   ]
  },
  {
   "cell_type": "markdown",
   "id": "b4ca8680-2146-4136-857e-6634d8469313",
   "metadata": {},
   "source": [
    "По графикам однозначно можно сделать выводы:\n",
    "- В первой половине месяца обе группы были практически идентичны.\n",
    "- Ближе к 19 августа группа \"В\" сильно выросла, относительно группы \"А\".\n",
    "- К концу месяца, лидером осталась группа \"B\"."
   ]
  },
  {
   "cell_type": "markdown",
   "id": "b1a95e65-63f0-4a9b-9b53-159ce20a1406",
   "metadata": {},
   "source": [
    "### График кумулятивного среднего чека по группам:"
   ]
  },
  {
   "cell_type": "code",
   "execution_count": 18,
   "id": "83a162f1-2e0f-43e6-a75d-b0417a0d974e",
   "metadata": {
    "ExecuteTime": {
     "end_time": "2022-07-07T13:27:59.591761Z",
     "start_time": "2022-07-07T13:27:59.471857Z"
    }
   },
   "outputs": [
    {
     "data": {
      "image/png": "[encoded data removed]",
      "text/plain": [
       "<Figure size 1008x432 with 1 Axes>"
      ]
     },
     "metadata": {
      "needs_background": "light"
     },
     "output_type": "display_data"
    }
   ],
   "source": [
    "plt.figure(figsize=(14, 6))\n",
    "plt.grid()\n",
    "plt.plot(cumulativeRevenueA['date'],\n",
    "         cumulativeRevenueA['revenue'] / cumulativeRevenueA['orders'],\n",
    "         label='средний кумулятивный чек группы A')\n",
    "plt.plot(cumulativeRevenueB['date'],\n",
    "         cumulativeRevenueB['revenue'] / cumulativeRevenueB['orders'],\n",
    "         label='средний кумулятивный чек группы B')\n",
    "plt.legend()\n",
    "plt.title('График кумулятивного среднего чека', fontsize=15)"
   ]
  },
  {
   "cell_type": "markdown",
   "id": "ed1d2f28-2fca-4781-a723-f54b23b6b643",
   "metadata": {},
   "source": [
    "Некоторые выводы:\n",
    "- В первой половине месяца стабильно лидирует группа \"В\"\n",
    "- Ближе к 13 августа, группа \"А\" выбилась немного вперёд.\n",
    "- 18 - 19 августа группа \"В\" прочно выбилась вперед, нужно изучить что произошло в этот промежуток времени."
   ]
  },
  {
   "cell_type": "code",
   "execution_count": 19,
   "id": "fb2db140-3f73-44bf-b8c1-a83402dd7124",
   "metadata": {
    "ExecuteTime": {
     "end_time": "2022-07-07T13:27:59.668878Z",
     "start_time": "2022-07-07T13:27:59.592465Z"
    }
   },
   "outputs": [
    {
     "name": "stdout",
     "output_type": "stream",
     "text": [
      "boxplot для 19 числа:\n"
     ]
    },
    {
     "data": {
      "image/png": "[encoded data removed]",
      "text/plain": [
       "<Figure size 432x864 with 1 Axes>"
      ]
     },
     "metadata": {
      "needs_background": "light"
     },
     "output_type": "display_data"
    }
   ],
   "source": [
    "date_19 = orders.query('date == \"2019-08-19\"')\n",
    "date_18 = orders.query('date == \"2019-08-18\"')\n",
    "\n",
    "print('boxplot для 19 числа:')\n",
    "plt.figure(figsize=(6, 12))\n",
    "sns.boxplot(x='date', y=\"revenue\", data=date_19, hue=\"group\")"
   ]
  },
  {
   "cell_type": "code",
   "execution_count": 20,
   "id": "499eb760-3220-4417-9bf0-53a2f4531f67",
   "metadata": {
    "ExecuteTime": {
     "end_time": "2022-07-07T13:27:59.745546Z",
     "start_time": "2022-07-07T13:27:59.669590Z"
    }
   },
   "outputs": [
    {
     "name": "stdout",
     "output_type": "stream",
     "text": [
      "boxplot для 19 числа, с ylim:\n"
     ]
    },
    {
     "data": {
      "image/png": "[encoded data removed]",
      "text/plain": [
       "<Figure size 432x864 with 1 Axes>"
      ]
     },
     "metadata": {
      "needs_background": "light"
     },
     "output_type": "display_data"
    }
   ],
   "source": [
    "print('boxplot для 19 числа, с ylim:')\n",
    "plt.figure(figsize=(6, 12))\n",
    "plt.ylim(0, 40000)\n",
    "sns.boxplot(x='date', y=\"revenue\", data=date_19, hue=\"group\")"
   ]
  },
  {
   "cell_type": "code",
   "execution_count": 21,
   "id": "c8dd9345-05e3-4f23-a6f9-e8d5081c8deb",
   "metadata": {
    "ExecuteTime": {
     "end_time": "2022-07-07T13:27:59.815456Z",
     "start_time": "2022-07-07T13:27:59.746249Z"
    }
   },
   "outputs": [
    {
     "name": "stdout",
     "output_type": "stream",
     "text": [
      "boxplot для 18 числа:\n"
     ]
    },
    {
     "data": {
      "image/png": "[encoded data removed]",
      "text/plain": [
       "<Figure size 432x864 with 1 Axes>"
      ]
     },
     "metadata": {
      "needs_background": "light"
     },
     "output_type": "display_data"
    }
   ],
   "source": [
    "print('boxplot для 18 числа:')\n",
    "plt.figure(figsize=(6, 12))\n",
    "sns.boxplot(x='date', y=\"revenue\", data=date_18, hue=\"group\");"
   ]
  },
  {
   "cell_type": "code",
   "execution_count": 22,
   "id": "9ab15ecd-b3de-461d-a2b3-a4d6f2158569",
   "metadata": {
    "ExecuteTime": {
     "end_time": "2022-07-07T13:27:59.849180Z",
     "start_time": "2022-07-07T13:27:59.816163Z"
    }
   },
   "outputs": [
    {
     "name": "stdout",
     "output_type": "stream",
     "text": [
      "\n",
      "Таблица для 18 числа:\n"
     ]
    },
    {
     "data": {
      "text/html": [
       "<style type=\"text/css\">\n",
       "#T_40b8d_row0_col0 {\n",
       "  background-color: #023858;\n",
       "  color: #f1f1f1;\n",
       "}\n",
       "#T_40b8d_row1_col0 {\n",
       "  background-color: #0568a3;\n",
       "  color: #f1f1f1;\n",
       "}\n",
       "#T_40b8d_row2_col0 {\n",
       "  background-color: #3b92c1;\n",
       "  color: #f1f1f1;\n",
       "}\n",
       "#T_40b8d_row3_col0 {\n",
       "  background-color: #5ea0ca;\n",
       "  color: #f1f1f1;\n",
       "}\n",
       "#T_40b8d_row4_col0 {\n",
       "  background-color: #a5bddb;\n",
       "  color: #000000;\n",
       "}\n",
       "#T_40b8d_row5_col0 {\n",
       "  background-color: #adc1dd;\n",
       "  color: #000000;\n",
       "}\n",
       "#T_40b8d_row6_col0 {\n",
       "  background-color: #d9d8ea;\n",
       "  color: #000000;\n",
       "}\n",
       "#T_40b8d_row7_col0 {\n",
       "  background-color: #e6e2ef;\n",
       "  color: #000000;\n",
       "}\n",
       "#T_40b8d_row8_col0 {\n",
       "  background-color: #fef6fa;\n",
       "  color: #000000;\n",
       "}\n",
       "#T_40b8d_row9_col0 {\n",
       "  background-color: #fff7fb;\n",
       "  color: #000000;\n",
       "}\n",
       "</style>\n",
       "<table id=\"T_40b8d\">\n",
       "  <thead>\n",
       "    <tr>\n",
       "      <th class=\"blank level0\" >&nbsp;</th>\n",
       "      <th id=\"T_40b8d_level0_col0\" class=\"col_heading level0 col0\" >revenue</th>\n",
       "      <th id=\"T_40b8d_level0_col1\" class=\"col_heading level0 col1\" >group</th>\n",
       "    </tr>\n",
       "  </thead>\n",
       "  <tbody>\n",
       "    <tr>\n",
       "      <th id=\"T_40b8d_level0_row0\" class=\"row_heading level0 row0\" >294</th>\n",
       "      <td id=\"T_40b8d_row0_col0\" class=\"data row0 col0\" >23750</td>\n",
       "      <td id=\"T_40b8d_row0_col1\" class=\"data row0 col1\" >A</td>\n",
       "    </tr>\n",
       "    <tr>\n",
       "      <th id=\"T_40b8d_level0_row1\" class=\"row_heading level0 row1\" >267</th>\n",
       "      <td id=\"T_40b8d_row1_col0\" class=\"data row1 col0\" >19538</td>\n",
       "      <td id=\"T_40b8d_row1_col1\" class=\"data row1 col1\" >B</td>\n",
       "    </tr>\n",
       "    <tr>\n",
       "      <th id=\"T_40b8d_level0_row2\" class=\"row_heading level0 row2\" >229</th>\n",
       "      <td id=\"T_40b8d_row2_col0\" class=\"data row2 col0\" >15850</td>\n",
       "      <td id=\"T_40b8d_row2_col1\" class=\"data row2 col1\" >A</td>\n",
       "    </tr>\n",
       "    <tr>\n",
       "      <th id=\"T_40b8d_level0_row3\" class=\"row_heading level0 row3\" >266</th>\n",
       "      <td id=\"T_40b8d_row3_col0\" class=\"data row3 col0\" >14400</td>\n",
       "      <td id=\"T_40b8d_row3_col1\" class=\"data row3 col1\" >B</td>\n",
       "    </tr>\n",
       "    <tr>\n",
       "      <th id=\"T_40b8d_level0_row4\" class=\"row_heading level0 row4\" >263</th>\n",
       "      <td id=\"T_40b8d_row4_col0\" class=\"data row4 col0\" >10970</td>\n",
       "      <td id=\"T_40b8d_row4_col1\" class=\"data row4 col1\" >B</td>\n",
       "    </tr>\n",
       "    <tr>\n",
       "      <th id=\"T_40b8d_level0_row5\" class=\"row_heading level0 row5\" >268</th>\n",
       "      <td id=\"T_40b8d_row5_col0\" class=\"data row5 col0\" >10450</td>\n",
       "      <td id=\"T_40b8d_row5_col1\" class=\"data row5 col1\" >B</td>\n",
       "    </tr>\n",
       "    <tr>\n",
       "      <th id=\"T_40b8d_level0_row6\" class=\"row_heading level0 row6\" >249</th>\n",
       "      <td id=\"T_40b8d_row6_col0\" class=\"data row6 col0\" >7555</td>\n",
       "      <td id=\"T_40b8d_row6_col1\" class=\"data row6 col1\" >A</td>\n",
       "    </tr>\n",
       "    <tr>\n",
       "      <th id=\"T_40b8d_level0_row7\" class=\"row_heading level0 row7\" >295</th>\n",
       "      <td id=\"T_40b8d_row7_col0\" class=\"data row7 col0\" >6350</td>\n",
       "      <td id=\"T_40b8d_row7_col1\" class=\"data row7 col1\" >A</td>\n",
       "    </tr>\n",
       "    <tr>\n",
       "      <th id=\"T_40b8d_level0_row8\" class=\"row_heading level0 row8\" >280</th>\n",
       "      <td id=\"T_40b8d_row8_col0\" class=\"data row8 col0\" >3354</td>\n",
       "      <td id=\"T_40b8d_row8_col1\" class=\"data row8 col1\" >A</td>\n",
       "    </tr>\n",
       "    <tr>\n",
       "      <th id=\"T_40b8d_level0_row9\" class=\"row_heading level0 row9\" >251</th>\n",
       "      <td id=\"T_40b8d_row9_col0\" class=\"data row9 col0\" >3190</td>\n",
       "      <td id=\"T_40b8d_row9_col1\" class=\"data row9 col1\" >B</td>\n",
       "    </tr>\n",
       "  </tbody>\n",
       "</table>\n"
      ],
      "text/plain": [
       "<pandas.io.formats.style.Styler at 0x7eff52535790>"
      ]
     },
     "metadata": {},
     "output_type": "display_data"
    },
    {
     "name": "stdout",
     "output_type": "stream",
     "text": [
      "Медиана для групп А и В 18 числа: 2411.0\n",
      "\n",
      "Таблица для 19 числа:\n"
     ]
    },
    {
     "data": {
      "text/html": [
       "<style type=\"text/css\">\n",
       "#T_528e2_row0_col0 {\n",
       "  background-color: #023858;\n",
       "  color: #f1f1f1;\n",
       "}\n",
       "#T_528e2_row1_col0 {\n",
       "  background-color: #fbf4f9;\n",
       "  color: #000000;\n",
       "}\n",
       "#T_528e2_row2_col0, #T_528e2_row3_col0 {\n",
       "  background-color: #fdf5fa;\n",
       "  color: #000000;\n",
       "}\n",
       "#T_528e2_row4_col0 {\n",
       "  background-color: #fef6fa;\n",
       "  color: #000000;\n",
       "}\n",
       "#T_528e2_row5_col0, #T_528e2_row6_col0 {\n",
       "  background-color: #fef6fb;\n",
       "  color: #000000;\n",
       "}\n",
       "#T_528e2_row7_col0, #T_528e2_row8_col0, #T_528e2_row9_col0 {\n",
       "  background-color: #fff7fb;\n",
       "  color: #000000;\n",
       "}\n",
       "</style>\n",
       "<table id=\"T_528e2\">\n",
       "  <thead>\n",
       "    <tr>\n",
       "      <th class=\"blank level0\" >&nbsp;</th>\n",
       "      <th id=\"T_528e2_level0_col0\" class=\"col_heading level0 col0\" >revenue</th>\n",
       "      <th id=\"T_528e2_level0_col1\" class=\"col_heading level0 col1\" >group</th>\n",
       "    </tr>\n",
       "  </thead>\n",
       "  <tbody>\n",
       "    <tr>\n",
       "      <th id=\"T_528e2_level0_row0\" class=\"row_heading level0 row0\" >425</th>\n",
       "      <td id=\"T_528e2_row0_col0\" class=\"data row0 col0\" >1294500</td>\n",
       "      <td id=\"T_528e2_row0_col1\" class=\"data row0 col1\" >B</td>\n",
       "    </tr>\n",
       "    <tr>\n",
       "      <th id=\"T_528e2_level0_row1\" class=\"row_heading level0 row1\" >530</th>\n",
       "      <td id=\"T_528e2_row1_col0\" class=\"data row1 col0\" >43990</td>\n",
       "      <td id=\"T_528e2_row1_col1\" class=\"data row1 col1\" >A</td>\n",
       "    </tr>\n",
       "    <tr>\n",
       "      <th id=\"T_528e2_level0_row2\" class=\"row_heading level0 row2\" >527</th>\n",
       "      <td id=\"T_528e2_row2_col0\" class=\"data row2 col0\" >33405</td>\n",
       "      <td id=\"T_528e2_row2_col1\" class=\"data row2 col1\" >B</td>\n",
       "    </tr>\n",
       "    <tr>\n",
       "      <th id=\"T_528e2_level0_row3\" class=\"row_heading level0 row3\" >421</th>\n",
       "      <td id=\"T_528e2_row3_col0\" class=\"data row3 col0\" >31680</td>\n",
       "      <td id=\"T_528e2_row3_col1\" class=\"data row3 col1\" >A</td>\n",
       "    </tr>\n",
       "    <tr>\n",
       "      <th id=\"T_528e2_level0_row4\" class=\"row_heading level0 row4\" >461</th>\n",
       "      <td id=\"T_528e2_row4_col0\" class=\"data row4 col0\" >26550</td>\n",
       "      <td id=\"T_528e2_row4_col1\" class=\"data row4 col1\" >B</td>\n",
       "    </tr>\n",
       "    <tr>\n",
       "      <th id=\"T_528e2_level0_row5\" class=\"row_heading level0 row5\" >525</th>\n",
       "      <td id=\"T_528e2_row5_col0\" class=\"data row5 col0\" >21550</td>\n",
       "      <td id=\"T_528e2_row5_col1\" class=\"data row5 col1\" >A</td>\n",
       "    </tr>\n",
       "    <tr>\n",
       "      <th id=\"T_528e2_level0_row6\" class=\"row_heading level0 row6\" >368</th>\n",
       "      <td id=\"T_528e2_row6_col0\" class=\"data row6 col0\" >20026</td>\n",
       "      <td id=\"T_528e2_row6_col1\" class=\"data row6 col1\" >B</td>\n",
       "    </tr>\n",
       "    <tr>\n",
       "      <th id=\"T_528e2_level0_row7\" class=\"row_heading level0 row7\" >366</th>\n",
       "      <td id=\"T_528e2_row7_col0\" class=\"data row7 col0\" >16770</td>\n",
       "      <td id=\"T_528e2_row7_col1\" class=\"data row7 col1\" >A</td>\n",
       "    </tr>\n",
       "    <tr>\n",
       "      <th id=\"T_528e2_level0_row8\" class=\"row_heading level0 row8\" >463</th>\n",
       "      <td id=\"T_528e2_row8_col0\" class=\"data row8 col0\" >16480</td>\n",
       "      <td id=\"T_528e2_row8_col1\" class=\"data row8 col1\" >B</td>\n",
       "    </tr>\n",
       "    <tr>\n",
       "      <th id=\"T_528e2_level0_row9\" class=\"row_heading level0 row9\" >531</th>\n",
       "      <td id=\"T_528e2_row9_col0\" class=\"data row9 col0\" >13390</td>\n",
       "      <td id=\"T_528e2_row9_col1\" class=\"data row9 col1\" >A</td>\n",
       "    </tr>\n",
       "  </tbody>\n",
       "</table>\n"
      ],
      "text/plain": [
       "<pandas.io.formats.style.Styler at 0x7eff50be9a00>"
      ]
     },
     "metadata": {},
     "output_type": "display_data"
    },
    {
     "name": "stdout",
     "output_type": "stream",
     "text": [
      "Медиана для групп А и В 19 числа: 2630.0\n"
     ]
    }
   ],
   "source": [
    "print('\\nТаблица для 18 числа:')\n",
    "display(date_18[['revenue', 'group']].sort_values(\n",
    "    by='revenue',\n",
    "    ascending=False).head(10).style.background_gradient(axis=None))\n",
    "print('Медиана для групп А и В 18 числа:', date_18['revenue'].median())\n",
    "\n",
    "print('\\nТаблица для 19 числа:')\n",
    "display(date_19[['revenue', 'group']].sort_values(\n",
    "    by='revenue',\n",
    "    ascending=False).head(10).style.background_gradient(axis=None))\n",
    "print('Медиана для групп А и В 19 числа:', date_19['revenue'].median())"
   ]
  },
  {
   "cell_type": "markdown",
   "id": "878c3ab6-162e-4b33-aeb4-d6ba90cfa689",
   "metadata": {},
   "source": [
    "Промежуточные выводы:\n",
    "- 19 августа был один аномально большой заказ №425 суммой в 1.29 млн, который скорее всего и повлиял на итоговые результаты теста.\n",
    "- В среднем же большие заказы можно считать заказы от 30.000.\n",
    "- Медианой суммы заказа можно считать 2500."
   ]
  },
  {
   "cell_type": "markdown",
   "id": "728ca199-357a-4cec-9378-cf3c8fbc9303",
   "metadata": {},
   "source": [
    "### График относительного изменения кумулятивного среднего чека группы B к группе A:"
   ]
  },
  {
   "cell_type": "code",
   "execution_count": 23,
   "id": "5f295ba2-894c-4933-9ad4-025377326630",
   "metadata": {
    "ExecuteTime": {
     "end_time": "2022-07-07T13:27:59.966869Z",
     "start_time": "2022-07-07T13:27:59.849867Z"
    },
    "code_folding": []
   },
   "outputs": [
    {
     "data": {
      "image/png": "[encoded data removed]",
      "text/plain": [
       "<Figure size 1008x432 with 1 Axes>"
      ]
     },
     "metadata": {
      "needs_background": "light"
     },
     "output_type": "display_data"
    }
   ],
   "source": [
    "mergedCumulativeRevenue = cumulativeRevenueA.merge(cumulativeRevenueB,\n",
    "                                                   left_on='date',\n",
    "                                                   right_on='date',\n",
    "                                                   how='left',\n",
    "                                                   suffixes=['A', 'B'])\n",
    "plt.figure(figsize=(14, 6))\n",
    "plt.plot(\n",
    "    mergedCumulativeRevenue['date'], (mergedCumulativeRevenue['revenueB'] /\n",
    "                                      mergedCumulativeRevenue['ordersB']) /\n",
    "    (mergedCumulativeRevenue['revenueA'] / mergedCumulativeRevenue['ordersA'])\n",
    "    - 1,\n",
    "    label=\"Относительный прирост среднего конверсии группы B относительно группы A\")\n",
    "\n",
    "plt.grid()\n",
    "plt.legend()\n",
    "\n",
    "plt.axhline(y=0, color='black', linestyle='--')\n",
    "plt.title('График относительного изменения', fontsize=15)"
   ]
  },
  {
   "cell_type": "markdown",
   "id": "e6ebbc7d-4ebf-41f0-8a6b-1aa8731fd85b",
   "metadata": {},
   "source": [
    "Для наглядности построили график, видно, что только 4 дня группа \"А\" обгоняла по средней конверсии группу \"В\"."
   ]
  },
  {
   "cell_type": "markdown",
   "id": "6490b105-413d-4d6c-9c4b-c24671aa98b4",
   "metadata": {},
   "source": [
    "### График кумулятивной конверсии по группам:"
   ]
  },
  {
   "cell_type": "code",
   "execution_count": 24,
   "id": "117bc769-bab7-4249-babd-154e0a952a5a",
   "metadata": {
    "ExecuteTime": {
     "end_time": "2022-07-07T13:28:00.093549Z",
     "start_time": "2022-07-07T13:27:59.967738Z"
    }
   },
   "outputs": [
    {
     "data": {
      "image/png": "[encoded data removed]",
      "text/plain": [
       "<Figure size 1008x432 with 1 Axes>"
      ]
     },
     "metadata": {
      "needs_background": "light"
     },
     "output_type": "display_data"
    }
   ],
   "source": [
    "cumulativeData[\n",
    "    'conversion'] = cumulativeData['orders'] / cumulativeData['visitors']\n",
    "\n",
    "cumulativeDataA = cumulativeData[cumulativeData['group'] == 'A']\n",
    "cumulativeDataB = cumulativeData[cumulativeData['group'] == 'B']\n",
    "\n",
    "plt.figure(figsize=(14, 6))\n",
    "plt.grid()\n",
    "plt.plot(cumulativeDataA['date'],\n",
    "         cumulativeDataA['conversion'],\n",
    "         label='Группа A')\n",
    "plt.plot(cumulativeDataB['date'],\n",
    "         cumulativeDataB['conversion'],\n",
    "         label='Группа B')\n",
    "plt.legend()\n",
    "plt.title('Кумулятивная конверсия', fontsize=15)"
   ]
  },
  {
   "cell_type": "markdown",
   "id": "ab66d7d4-6ec3-404b-a664-b3a41dad04d1",
   "metadata": {},
   "source": [
    "Некоторые выводы:\n",
    "- Кумулятивная конверсия группы \"В\" также выше, чем группы \"А\".\n",
    "- В начале теста бы момент, когда группа \"А\" вырвалась вперёд, но больше 80% времени теста лучше группа \"В\"."
   ]
  },
  {
   "cell_type": "markdown",
   "id": "ada22ada-ed24-4d25-a5bc-39f95725f299",
   "metadata": {},
   "source": [
    "### График относительного изменения кумулятивной конверсии группы B к группе A:"
   ]
  },
  {
   "cell_type": "code",
   "execution_count": 25,
   "id": "b8fdbe36-1e5d-4797-a3aa-170ebf2a76e3",
   "metadata": {
    "ExecuteTime": {
     "end_time": "2022-07-07T13:28:00.249274Z",
     "start_time": "2022-07-07T13:28:00.094399Z"
    }
   },
   "outputs": [
    {
     "data": {
      "image/png": "[encoded data removed]",
      "text/plain": [
       "<Figure size 1008x432 with 1 Axes>"
      ]
     },
     "metadata": {
      "needs_background": "light"
     },
     "output_type": "display_data"
    }
   ],
   "source": [
    "mergedCumulativeConversions = cumulativeDataA[['date', 'conversion']].merge(\n",
    "    cumulativeDataB[['date', 'conversion']],\n",
    "    left_on='date',\n",
    "    right_on='date',\n",
    "    how='left',\n",
    "    suffixes=['A', 'B'])\n",
    "\n",
    "plt.figure(figsize=(14, 6))\n",
    "plt.plot(\n",
    "    mergedCumulativeConversions['date'],\n",
    "    mergedCumulativeConversions['conversionB'] /\n",
    "    mergedCumulativeConversions['conversionA'] - 1,\n",
    "    label=\"Относительный прирост конверсии группы B относительно группы A\")\n",
    "\n",
    "plt.legend()\n",
    "plt.grid()\n",
    "plt.axhline(y=0, color='black', linestyle='--')\n",
    "plt.axhline(y=0.15, color='gray', linestyle='-.')\n",
    "plt.title('График относительного изменения', fontsize=15)"
   ]
  },
  {
   "cell_type": "markdown",
   "id": "e3c7fa5c-dbfa-4cde-9ae6-2f9bcaa584ac",
   "metadata": {},
   "source": [
    "Некоторые выводы:\n",
    "- Кумулятивная конверсия, в отличии от средней более постоянна, и явно выбивается вперёд, относительно группы \"А\".\n",
    "- На графике наглядно видно, что только 3 дня группа \"В\" отставала от конверсии группы \"А\".\n",
    "- После 21.08 можно заметить небольшую стабилизацию результатов теста."
   ]
  },
  {
   "cell_type": "markdown",
   "id": "cc1aecfe-4637-4d6f-b7ae-19911f76a056",
   "metadata": {},
   "source": [
    "### Точечный график количества заказов по пользователям:"
   ]
  },
  {
   "cell_type": "code",
   "execution_count": 26,
   "id": "c4791c54-dd92-42ea-b259-1074e1f41e57",
   "metadata": {
    "ExecuteTime": {
     "end_time": "2022-07-07T13:28:00.254536Z",
     "start_time": "2022-07-07T13:28:00.250071Z"
    }
   },
   "outputs": [
    {
     "data": {
      "text/html": [
       "<div>\n",
       "<style scoped>\n",
       "    .dataframe tbody tr th:only-of-type {\n",
       "        vertical-align: middle;\n",
       "    }\n",
       "\n",
       "    .dataframe tbody tr th {\n",
       "        vertical-align: top;\n",
       "    }\n",
       "\n",
       "    .dataframe thead th {\n",
       "        text-align: right;\n",
       "    }\n",
       "</style>\n",
       "<table border=\"1\" class=\"dataframe\">\n",
       "  <thead>\n",
       "    <tr style=\"text-align: right;\">\n",
       "      <th></th>\n",
       "      <th>transactionId</th>\n",
       "      <th>visitorId</th>\n",
       "      <th>date</th>\n",
       "      <th>revenue</th>\n",
       "      <th>group</th>\n",
       "    </tr>\n",
       "  </thead>\n",
       "  <tbody>\n",
       "    <tr>\n",
       "      <th>0</th>\n",
       "      <td>3667963787</td>\n",
       "      <td>3312258926</td>\n",
       "      <td>2019-08-15</td>\n",
       "      <td>1650</td>\n",
       "      <td>B</td>\n",
       "    </tr>\n",
       "    <tr>\n",
       "      <th>1</th>\n",
       "      <td>2804400009</td>\n",
       "      <td>3642806036</td>\n",
       "      <td>2019-08-15</td>\n",
       "      <td>730</td>\n",
       "      <td>B</td>\n",
       "    </tr>\n",
       "    <tr>\n",
       "      <th>2</th>\n",
       "      <td>2961555356</td>\n",
       "      <td>4069496402</td>\n",
       "      <td>2019-08-15</td>\n",
       "      <td>400</td>\n",
       "      <td>A</td>\n",
       "    </tr>\n",
       "    <tr>\n",
       "      <th>3</th>\n",
       "      <td>3797467345</td>\n",
       "      <td>1196621759</td>\n",
       "      <td>2019-08-15</td>\n",
       "      <td>9759</td>\n",
       "      <td>B</td>\n",
       "    </tr>\n",
       "    <tr>\n",
       "      <th>4</th>\n",
       "      <td>2282983706</td>\n",
       "      <td>2322279887</td>\n",
       "      <td>2019-08-15</td>\n",
       "      <td>2308</td>\n",
       "      <td>B</td>\n",
       "    </tr>\n",
       "  </tbody>\n",
       "</table>\n",
       "</div>"
      ],
      "text/plain": [
       "   transactionId   visitorId       date  revenue group\n",
       "0     3667963787  3312258926 2019-08-15     1650     B\n",
       "1     2804400009  3642806036 2019-08-15      730     B\n",
       "2     2961555356  4069496402 2019-08-15      400     A\n",
       "3     3797467345  1196621759 2019-08-15     9759     B\n",
       "4     2282983706  2322279887 2019-08-15     2308     B"
      ]
     },
     "execution_count": 26,
     "metadata": {},
     "output_type": "execute_result"
    }
   ],
   "source": [
    "# Освежим в памяти, как выглядит таблица:\n",
    "orders.head(5)"
   ]
  },
  {
   "cell_type": "code",
   "execution_count": 27,
   "id": "a846d08e-b020-4ea0-82eb-4a429bbd04df",
   "metadata": {
    "ExecuteTime": {
     "end_time": "2022-07-07T13:28:00.303545Z",
     "start_time": "2022-07-07T13:28:00.255280Z"
    }
   },
   "outputs": [
    {
     "name": "stdout",
     "output_type": "stream",
     "text": [
      "<class 'pandas.core.frame.DataFrame'>\n",
      "RangeIndex: 1031 entries, 0 to 1030\n",
      "Data columns (total 2 columns):\n",
      " #   Column  Non-Null Count  Dtype\n",
      "---  ------  --------------  -----\n",
      " 0   userID  1031 non-null   int64\n",
      " 1   orders  1031 non-null   int64\n",
      "dtypes: int64(2)\n",
      "memory usage: 16.2 KB\n"
     ]
    }
   ],
   "source": [
    "orderUsr = orders.groupby('visitorId', as_index=False).agg(\n",
    "    {'transactionId': pd.Series.nunique})\n",
    "orderUsr.columns = ['userID', 'orders']\n",
    "orderUsr.info()"
   ]
  },
  {
   "cell_type": "code",
   "execution_count": 28,
   "id": "b623e86e-8a0a-4640-a185-742074591d67",
   "metadata": {
    "ExecuteTime": {
     "end_time": "2022-07-07T13:28:00.307499Z",
     "start_time": "2022-07-07T13:28:00.304248Z"
    }
   },
   "outputs": [
    {
     "name": "stdout",
     "output_type": "stream",
     "text": [
      "Процент пользователей, которые сделали больше 2 покупок: 9.117361784675072\n"
     ]
    }
   ],
   "source": [
    "print('Процент пользователей, которые сделали больше 2 покупок:',\n",
    "      (len(orderUsr.query('orders >= 2'))) / (len(orderUsr)) * 100)"
   ]
  },
  {
   "cell_type": "code",
   "execution_count": 29,
   "id": "a69b0bc5-df1e-4399-a89f-d6278691c8d6",
   "metadata": {
    "ExecuteTime": {
     "end_time": "2022-07-07T13:28:00.312805Z",
     "start_time": "2022-07-07T13:28:00.308220Z"
    }
   },
   "outputs": [
    {
     "name": "stdout",
     "output_type": "stream",
     "text": [
      "Процент пользователей, которые сделали 1 покупку: 90.88263821532493\n"
     ]
    }
   ],
   "source": [
    "print('Процент пользователей, которые сделали 1 покупку:',\n",
    "      (len(orderUsr.query('orders == 1'))) / (len(orderUsr)) * 100)"
   ]
  },
  {
   "cell_type": "code",
   "execution_count": 30,
   "id": "6ae35bb2-9179-4f13-b0f6-cd12c999f383",
   "metadata": {
    "ExecuteTime": {
     "end_time": "2022-07-07T13:28:00.388461Z",
     "start_time": "2022-07-07T13:28:00.313500Z"
    }
   },
   "outputs": [
    {
     "data": {
      "image/png": "[encoded data removed]",
      "text/plain": [
       "<Figure size 1008x432 with 1 Axes>"
      ]
     },
     "metadata": {
      "needs_background": "light"
     },
     "output_type": "display_data"
    }
   ],
   "source": [
    "scoope_orders = pd.Series(range(0, len(orderUsr)))\n",
    "\n",
    "plt.figure(figsize=(14, 6))\n",
    "plt.grid()\n",
    "sns.scatterplot(data=orderUsr,\n",
    "                x=scoope_orders,\n",
    "                y='orders',\n",
    "                color='green',\n",
    "                alpha=0.3)\n",
    "plt.title('Точечный график количества заказов', fontsize=14)"
   ]
  },
  {
   "cell_type": "markdown",
   "id": "d43281b0-c24e-4bf8-a2fd-cca362d77584",
   "metadata": {},
   "source": [
    "Благодаря графику можно сделать некоторые выводы:\n",
    "- Большинство пользователей делает всего 1 заказ.\n",
    "- От 2 заказов и более делает очень малое количество людей.\n",
    "- Возможно, это связано с малой вовлеченностью покупателей для повторных покупок, и по всей видимости, услуги распространяются в форме подписки, потому процент повторных подписок такой маленький, ведь мало кто из нас в месяц повторно захочет купить вторую подписку при действующей первой."
   ]
  },
  {
   "cell_type": "markdown",
   "id": "c75619bb-7dfb-470b-8137-63573d984e89",
   "metadata": {},
   "source": [
    "### Посчитаем 95-й и 99-й перцентили количества заказов на пользователя. Выберем границу для определения аномальных пользователей:"
   ]
  },
  {
   "cell_type": "code",
   "execution_count": 31,
   "id": "c464cd0d-99ae-476f-8e11-5e2228029569",
   "metadata": {
    "ExecuteTime": {
     "end_time": "2022-07-07T13:28:00.391558Z",
     "start_time": "2022-07-07T13:28:00.389259Z"
    }
   },
   "outputs": [
    {
     "name": "stdout",
     "output_type": "stream",
     "text": [
      "95 перцинтиль пользователей: 2    \n",
      "99 перцентиль пользоватлей: 4\n"
     ]
    }
   ],
   "source": [
    "print(\n",
    "    f'95 перцинтиль пользователей: {int(np.percentile(orderUsr[\"orders\"], [95]))}\\\n",
    "    \\n99 перцентиль пользоватлей: {int(np.percentile(orderUsr[\"orders\"], [99]))}'\n",
    ")"
   ]
  },
  {
   "cell_type": "markdown",
   "id": "7f985dd7-4a2f-4572-84cd-99f18895e375",
   "metadata": {},
   "source": [
    "Иначе говоря, всего 5% пользователей делает 2 и более заказов, а 1% делают больше 4 заказов."
   ]
  },
  {
   "cell_type": "code",
   "execution_count": 32,
   "id": "3e8c3104-6e81-44e4-a158-7c5c8c59ca3b",
   "metadata": {
    "ExecuteTime": {
     "end_time": "2022-07-07T13:28:00.397671Z",
     "start_time": "2022-07-07T13:28:00.392356Z"
    }
   },
   "outputs": [
    {
     "name": "stdout",
     "output_type": "stream",
     "text": [
      "Процент пользователей, которые сделали больше 2 покупок: 9.117361784675072\n",
      "Процент пользователей, которые сделали 1 покупку: 90.88263821532493\n"
     ]
    }
   ],
   "source": [
    "print('Процент пользователей, которые сделали больше 2 покупок:',\n",
    "      (len(orderUsr.query('orders >= 2'))) / (len(orderUsr)) * 100)\n",
    "print('Процент пользователей, которые сделали 1 покупку:',\n",
    "      (len(orderUsr.query('orders == 1'))) / (len(orderUsr)) * 100)"
   ]
  },
  {
   "cell_type": "markdown",
   "id": "394a6aa4-da52-4f46-9eb3-2e55ba2a59c9",
   "metadata": {},
   "source": [
    "Из наших расчётов, можно заключить, что: **средний пользователей делает от 1 до 2 покупок, всё что выше, можно считать за аномалию.**"
   ]
  },
  {
   "cell_type": "markdown",
   "id": "a38f2e3e-86ea-4342-b63d-f2e4a113cb3e",
   "metadata": {},
   "source": [
    "### Точечный график стоимостей заказов:"
   ]
  },
  {
   "cell_type": "code",
   "execution_count": 33,
   "id": "b90a07e4-68b1-4cdf-9f12-924974d9d75d",
   "metadata": {
    "ExecuteTime": {
     "end_time": "2022-07-07T13:28:00.480141Z",
     "start_time": "2022-07-07T13:28:00.398400Z"
    }
   },
   "outputs": [
    {
     "data": {
      "image/png": "[encoded data removed]",
      "text/plain": [
       "<Figure size 1008x432 with 1 Axes>"
      ]
     },
     "metadata": {
      "needs_background": "light"
     },
     "output_type": "display_data"
    }
   ],
   "source": [
    "scoope_revenue = pd.Series(range(0, len(orders['revenue'])))\n",
    "\n",
    "plt.figure(figsize=(14, 6))\n",
    "plt.grid()\n",
    "sns.scatterplot(data=orders,\n",
    "                x=scoope_revenue,\n",
    "                y='revenue',\n",
    "                color='green',\n",
    "                alpha=0.3)\n",
    "plt.title('Точечный график цены заказов', fontsize=14)"
   ]
  },
  {
   "cell_type": "code",
   "execution_count": 34,
   "id": "abf88da8-7342-4ac6-b623-52437613c57d",
   "metadata": {
    "ExecuteTime": {
     "end_time": "2022-07-07T13:28:00.579911Z",
     "start_time": "2022-07-07T13:28:00.480923Z"
    }
   },
   "outputs": [
    {
     "data": {
      "image/png": "[encoded data removed]",
      "text/plain": [
       "<Figure size 1008x432 with 1 Axes>"
      ]
     },
     "metadata": {
      "needs_background": "light"
     },
     "output_type": "display_data"
    }
   ],
   "source": [
    "# Посторим график до 100.тыс\n",
    "plt.figure(figsize=(14, 6))\n",
    "plt.grid()\n",
    "sns.scatterplot(data=orders,\n",
    "                x=scoope_revenue,\n",
    "                y='revenue',\n",
    "                color='green',\n",
    "                alpha=0.3)\n",
    "plt.ylim(0, 100000)\n",
    "plt.title('Точечный график цены заказов (до 100 тыс.)', fontsize=14)"
   ]
  },
  {
   "cell_type": "markdown",
   "id": "39f00b8c-c271-4a7c-ae4e-892ca78a5eac",
   "metadata": {},
   "source": [
    "Выводы по графику:\n",
    "- Большинство пользователей совершают покупки ценой до 20.000.\n",
    "- От 20 и до 60 тыс. совершают покупки в разы меньше пользователей.\n",
    "- На самом первом графике видно заказ суммой в 1.2 млн, и ещё один выбивающийся заказ суммой в 200 тыс."
   ]
  },
  {
   "cell_type": "markdown",
   "id": "2e28a096-5a5b-4d93-952a-9a2f0a3fe593",
   "metadata": {},
   "source": [
    "### Посчитаем 95-й и 99-й перцентили стоимости заказов. Выберем границу для определения аномальных заказов:"
   ]
  },
  {
   "cell_type": "code",
   "execution_count": 35,
   "id": "6804989b-0c10-4230-8db0-3e484001aa1c",
   "metadata": {
    "ExecuteTime": {
     "end_time": "2022-07-07T13:28:00.582848Z",
     "start_time": "2022-07-07T13:28:00.580712Z"
    }
   },
   "outputs": [
    {
     "name": "stdout",
     "output_type": "stream",
     "text": [
      "95 перцинтиль пользователей: 28000    \n",
      "99 перцентиль пользоватлей: 58233\n"
     ]
    }
   ],
   "source": [
    "print(\n",
    "    f'95 перцинтиль пользователей: {int(np.percentile(orders[\"revenue\"], [95]))}\\\n",
    "    \\n99 перцентиль пользоватлей: {int(np.percentile(orders[\"revenue\"], [99]))}'\n",
    ")"
   ]
  },
  {
   "cell_type": "code",
   "execution_count": 36,
   "id": "e3467914-5aed-4897-85bd-c288f5323318",
   "metadata": {
    "ExecuteTime": {
     "end_time": "2022-07-07T13:28:00.588365Z",
     "start_time": "2022-07-07T13:28:00.583478Z"
    }
   },
   "outputs": [
    {
     "name": "stdout",
     "output_type": "stream",
     "text": [
      "Заказов меньше 10: 0\n"
     ]
    }
   ],
   "source": [
    "print('Заказов меньше 10:', len(orders.query('revenue < 10')))"
   ]
  },
  {
   "cell_type": "markdown",
   "id": "03aa4e49-da35-46f4-bde2-7d21e25d0b90",
   "metadata": {},
   "source": [
    "Исходя из исследования, можно установить сумму в 58000 границей для аномальных заказов"
   ]
  },
  {
   "cell_type": "markdown",
   "id": "b7741db9-9422-4be9-b359-582ff78b1355",
   "metadata": {},
   "source": [
    "### Посчитаем статистическую значимость различий в конверсии между группами по «сырым» данным:"
   ]
  },
  {
   "cell_type": "code",
   "execution_count": 37,
   "id": "9845759e-8357-48a6-9637-50b17ee4d34e",
   "metadata": {
    "ExecuteTime": {
     "end_time": "2022-07-07T13:28:00.688002Z",
     "start_time": "2022-07-07T13:28:00.588990Z"
    }
   },
   "outputs": [],
   "source": [
    "# Зададим нужные переменные и добавим для рассчёта столбцы:\n",
    "visitorsADaily = visitors[visitors['group'] == 'A'][['date', 'visitors']]\n",
    "visitorsADaily.columns = ['date', 'visitorsPerDateA']\n",
    "\n",
    "visitorsACummulative = visitorsADaily.apply(\n",
    "    lambda x: visitorsADaily[visitorsADaily['date'] <= x['date']].agg(\n",
    "        {\n",
    "            'date': 'max',\n",
    "            'visitorsPerDateA': 'sum'\n",
    "        }),\n",
    "    axis=1,\n",
    ")\n",
    "visitorsACummulative.columns = ['date', 'visitorsCummulativeA']\n",
    "\n",
    "visitorsBDaily = visitors[visitors['group'] == 'B'][['date', 'visitors']]\n",
    "visitorsBDaily.columns = ['date', 'visitorsPerDateB']\n",
    "\n",
    "visitorsBCummulative = visitorsBDaily.apply(\n",
    "    lambda x: visitorsBDaily[visitorsBDaily['date'] <= x['date']].agg(\n",
    "        {\n",
    "            'date': 'max',\n",
    "            'visitorsPerDateB': 'sum'\n",
    "        }),\n",
    "    axis=1,\n",
    ")\n",
    "visitorsBCummulative.columns = ['date', 'visitorsCummulativeB']\n",
    "\n",
    "ordersADaily = (orders[orders['group'] == 'A'][[\n",
    "    'date', 'transactionId', 'visitorId', 'revenue'\n",
    "]].groupby('date', as_index=False).agg({\n",
    "    'transactionId': pd.Series.nunique,\n",
    "    'revenue': 'sum'\n",
    "}))\n",
    "ordersADaily.columns = ['date', 'ordersPerDateA', 'revenuePerDateA']\n",
    "\n",
    "ordersACummulative = ordersADaily.apply(\n",
    "    lambda x: ordersADaily[ordersADaily['date'] <= x['date']].agg(\n",
    "        {\n",
    "            'date': 'max',\n",
    "            'ordersPerDateA': 'sum',\n",
    "            'revenuePerDateA': 'sum'\n",
    "        }),\n",
    "    axis=1,\n",
    ").sort_values(by=['date'])\n",
    "ordersACummulative.columns = [\n",
    "    'date',\n",
    "    'ordersCummulativeA',\n",
    "    'revenueCummulativeA',\n",
    "]\n",
    "\n",
    "ordersBDaily = (orders[orders['group'] == 'B'][[\n",
    "    'date', 'transactionId', 'visitorId', 'revenue'\n",
    "]].groupby('date', as_index=False).agg({\n",
    "    'transactionId': pd.Series.nunique,\n",
    "    'revenue': 'sum'\n",
    "}))\n",
    "ordersBDaily.columns = ['date', 'ordersPerDateB', 'revenuePerDateB']\n",
    "\n",
    "ordersBCummulative = ordersBDaily.apply(\n",
    "    lambda x: ordersBDaily[ordersBDaily['date'] <= x['date']].agg(\n",
    "        {\n",
    "            'date': 'max',\n",
    "            'ordersPerDateB': 'sum',\n",
    "            'revenuePerDateB': 'sum'\n",
    "        }),\n",
    "    axis=1,\n",
    ").sort_values(by=['date'])\n",
    "ordersBCummulative.columns = [\n",
    "    'date',\n",
    "    'ordersCummulativeB',\n",
    "    'revenueCummulativeB',\n",
    "]"
   ]
  },
  {
   "cell_type": "code",
   "execution_count": 38,
   "id": "3406e514-1b5d-44ab-8c94-783576637b80",
   "metadata": {
    "ExecuteTime": {
     "end_time": "2022-07-07T13:28:00.702173Z",
     "start_time": "2022-07-07T13:28:00.688755Z"
    }
   },
   "outputs": [
    {
     "data": {
      "text/html": [
       "<div>\n",
       "<style scoped>\n",
       "    .dataframe tbody tr th:only-of-type {\n",
       "        vertical-align: middle;\n",
       "    }\n",
       "\n",
       "    .dataframe tbody tr th {\n",
       "        vertical-align: top;\n",
       "    }\n",
       "\n",
       "    .dataframe thead th {\n",
       "        text-align: right;\n",
       "    }\n",
       "</style>\n",
       "<table border=\"1\" class=\"dataframe\">\n",
       "  <thead>\n",
       "    <tr style=\"text-align: right;\">\n",
       "      <th></th>\n",
       "      <th>date</th>\n",
       "      <th>ordersPerDateA</th>\n",
       "      <th>revenuePerDateA</th>\n",
       "      <th>ordersPerDateB</th>\n",
       "      <th>revenuePerDateB</th>\n",
       "      <th>ordersCummulativeA</th>\n",
       "      <th>revenueCummulativeA</th>\n",
       "      <th>ordersCummulativeB</th>\n",
       "      <th>revenueCummulativeB</th>\n",
       "      <th>visitorsPerDateA</th>\n",
       "      <th>visitorsPerDateB</th>\n",
       "      <th>visitorsCummulativeA</th>\n",
       "      <th>visitorsCummulativeB</th>\n",
       "    </tr>\n",
       "  </thead>\n",
       "  <tbody>\n",
       "    <tr>\n",
       "      <th>0</th>\n",
       "      <td>2019-08-01</td>\n",
       "      <td>24</td>\n",
       "      <td>148579</td>\n",
       "      <td>21</td>\n",
       "      <td>101217</td>\n",
       "      <td>24</td>\n",
       "      <td>148579</td>\n",
       "      <td>21</td>\n",
       "      <td>101217</td>\n",
       "      <td>719</td>\n",
       "      <td>713</td>\n",
       "      <td>719</td>\n",
       "      <td>713</td>\n",
       "    </tr>\n",
       "    <tr>\n",
       "      <th>1</th>\n",
       "      <td>2019-08-02</td>\n",
       "      <td>20</td>\n",
       "      <td>93822</td>\n",
       "      <td>24</td>\n",
       "      <td>165531</td>\n",
       "      <td>44</td>\n",
       "      <td>242401</td>\n",
       "      <td>45</td>\n",
       "      <td>266748</td>\n",
       "      <td>619</td>\n",
       "      <td>581</td>\n",
       "      <td>1338</td>\n",
       "      <td>1294</td>\n",
       "    </tr>\n",
       "    <tr>\n",
       "      <th>2</th>\n",
       "      <td>2019-08-03</td>\n",
       "      <td>24</td>\n",
       "      <td>112473</td>\n",
       "      <td>16</td>\n",
       "      <td>114248</td>\n",
       "      <td>68</td>\n",
       "      <td>354874</td>\n",
       "      <td>61</td>\n",
       "      <td>380996</td>\n",
       "      <td>507</td>\n",
       "      <td>509</td>\n",
       "      <td>1845</td>\n",
       "      <td>1803</td>\n",
       "    </tr>\n",
       "    <tr>\n",
       "      <th>3</th>\n",
       "      <td>2019-08-04</td>\n",
       "      <td>16</td>\n",
       "      <td>70825</td>\n",
       "      <td>17</td>\n",
       "      <td>108571</td>\n",
       "      <td>84</td>\n",
       "      <td>425699</td>\n",
       "      <td>78</td>\n",
       "      <td>489567</td>\n",
       "      <td>717</td>\n",
       "      <td>770</td>\n",
       "      <td>2562</td>\n",
       "      <td>2573</td>\n",
       "    </tr>\n",
       "    <tr>\n",
       "      <th>4</th>\n",
       "      <td>2019-08-05</td>\n",
       "      <td>25</td>\n",
       "      <td>124218</td>\n",
       "      <td>23</td>\n",
       "      <td>92428</td>\n",
       "      <td>109</td>\n",
       "      <td>549917</td>\n",
       "      <td>101</td>\n",
       "      <td>581995</td>\n",
       "      <td>756</td>\n",
       "      <td>707</td>\n",
       "      <td>3318</td>\n",
       "      <td>3280</td>\n",
       "    </tr>\n",
       "  </tbody>\n",
       "</table>\n",
       "</div>"
      ],
      "text/plain": [
       "        date  ordersPerDateA  revenuePerDateA  ordersPerDateB  \\\n",
       "0 2019-08-01              24           148579              21   \n",
       "1 2019-08-02              20            93822              24   \n",
       "2 2019-08-03              24           112473              16   \n",
       "3 2019-08-04              16            70825              17   \n",
       "4 2019-08-05              25           124218              23   \n",
       "\n",
       "   revenuePerDateB  ordersCummulativeA  revenueCummulativeA  \\\n",
       "0           101217                  24               148579   \n",
       "1           165531                  44               242401   \n",
       "2           114248                  68               354874   \n",
       "3           108571                  84               425699   \n",
       "4            92428                 109               549917   \n",
       "\n",
       "   ordersCummulativeB  revenueCummulativeB  visitorsPerDateA  \\\n",
       "0                  21               101217               719   \n",
       "1                  45               266748               619   \n",
       "2                  61               380996               507   \n",
       "3                  78               489567               717   \n",
       "4                 101               581995               756   \n",
       "\n",
       "   visitorsPerDateB  visitorsCummulativeA  visitorsCummulativeB  \n",
       "0               713                   719                   713  \n",
       "1               581                  1338                  1294  \n",
       "2               509                  1845                  1803  \n",
       "3               770                  2562                  2573  \n",
       "4               707                  3318                  3280  "
      ]
     },
     "execution_count": 38,
     "metadata": {},
     "output_type": "execute_result"
    }
   ],
   "source": [
    "# выполним слияние таблиц:\n",
    "df = (ordersADaily.merge(\n",
    "    ordersBDaily, left_on='date', right_on='date',\n",
    "    how='left').merge(ordersACummulative,\n",
    "                      left_on='date',\n",
    "                      right_on='date',\n",
    "                      how='left').merge(ordersBCummulative,\n",
    "                                        left_on='date',\n",
    "                                        right_on='date',\n",
    "                                        how='left').merge(\n",
    "                                            visitorsADaily,\n",
    "                                            left_on='date',\n",
    "                                            right_on='date',\n",
    "                                            how='left').merge(\n",
    "                                                visitorsBDaily,\n",
    "                                                left_on='date',\n",
    "                                                right_on='date',\n",
    "                                                how='left').merge(\n",
    "                                                    visitorsACummulative,\n",
    "                                                    left_on='date',\n",
    "                                                    right_on='date',\n",
    "                                                    how='left').merge(\n",
    "                                                        visitorsBCummulative,\n",
    "                                                        left_on='date',\n",
    "                                                        right_on='date',\n",
    "                                                        how='left'))\n",
    "\n",
    "df.head(5)"
   ]
  },
  {
   "cell_type": "code",
   "execution_count": 39,
   "id": "7f96dcb9-ba8c-4409-91da-eaf5fbb0cc19",
   "metadata": {
    "ExecuteTime": {
     "end_time": "2022-07-07T13:28:00.750456Z",
     "start_time": "2022-07-07T13:28:00.702784Z"
    }
   },
   "outputs": [],
   "source": [
    "# Создадим переменные, в них для пользователей которые совершили хоть раз заказ, укажем количество заказов.\n",
    "ordersByUsersA = (orders[orders['group'] == 'A'].groupby(\n",
    "    'visitorId', as_index=False).agg({'transactionId': pd.Series.nunique}))\n",
    "ordersByUsersA.columns = ['userId', 'orders']\n",
    "\n",
    "ordersByUsersB = (orders[orders['group'] == 'B'].groupby(\n",
    "    'visitorId', as_index=False).agg({'transactionId': pd.Series.nunique}))\n",
    "ordersByUsersB.columns = ['userId', 'orders']"
   ]
  },
  {
   "cell_type": "code",
   "execution_count": 40,
   "id": "3dd45f06-b9fc-4dbd-aa60-d7d6db5603d9",
   "metadata": {
    "ExecuteTime": {
     "end_time": "2022-07-07T13:28:00.754399Z",
     "start_time": "2022-07-07T13:28:00.751081Z"
    }
   },
   "outputs": [],
   "source": [
    "# Объявим переменные, в них будут пользователи из разных групп, которым будет соответствовать количество совершенных\n",
    "# заказов, это нужно чтобы подготовить выборки к анализу критерием Манна-Уитни\n",
    "\n",
    "sampleA = pd.concat(\n",
    "    [\n",
    "        ordersByUsersA['orders'],\n",
    "        pd.Series(\n",
    "            0,\n",
    "            index=np.arange(df['visitorsPerDateA'].sum() -\n",
    "                            len(ordersByUsersA['orders'])),\n",
    "            name='orders',\n",
    "        ),\n",
    "    ],\n",
    "    axis=0,\n",
    ")\n",
    "\n",
    "sampleB = pd.concat(\n",
    "    [\n",
    "        ordersByUsersB['orders'],\n",
    "        pd.Series(\n",
    "            0,\n",
    "            index=np.arange(df['visitorsPerDateB'].sum() -\n",
    "                            len(ordersByUsersB['orders'])),\n",
    "            name='orders',\n",
    "        ),\n",
    "    ],\n",
    "    axis=0,\n",
    ")"
   ]
  },
  {
   "cell_type": "markdown",
   "id": "227de1b1-b600-4d89-9030-f1d8793c52d8",
   "metadata": {},
   "source": [
    "---"
   ]
  },
  {
   "cell_type": "markdown",
   "id": "ae7e5bce-3f1f-4d70-9e6a-a801b9c282ef",
   "metadata": {},
   "source": [
    "Пороговое значение (alpha) возьмём в 5%, установим нулевую гипотезу:\n",
    "- Cтатистически значимых различий в конверсии между группами нет.\n",
    "\n",
    "Альтернативная гипотеза:\n",
    "- Статистически значимые различия в конверсии между группами есть."
   ]
  },
  {
   "cell_type": "code",
   "execution_count": 41,
   "id": "9ad67046-560b-4349-9aaa-c4e3c11a3afe",
   "metadata": {
    "ExecuteTime": {
     "end_time": "2022-07-07T13:28:00.780073Z",
     "start_time": "2022-07-07T13:28:00.757429Z"
    }
   },
   "outputs": [
    {
     "name": "stdout",
     "output_type": "stream",
     "text": [
      "p-value: 0.017\n",
      "Отвергаем нулевую гипотезу: между группами \"А\" и \"В\" есть статистически значимая разница.\n",
      "Относительный показатель группы \"В\", к группе \"А\": 0.138\n"
     ]
    }
   ],
   "source": [
    "alpha = .05\n",
    "results = st.mannwhitneyu(sampleA, sampleB)\n",
    "\n",
    "print('p-value:', \"{0:.3f}\".format(st.mannwhitneyu(sampleA, sampleB)[1]))\n",
    "\n",
    "if results.pvalue < alpha:\n",
    "    print(\n",
    "        'Отвергаем нулевую гипотезу: между группами \"А\" и \"В\" есть статистически значимая разница.'\n",
    "    )\n",
    "else:\n",
    "    print(\n",
    "        'Не получилось отвергнуть нулевую гипотезу, нет оснований считать группы \"А\" и \"В\" разными.'\n",
    "    )\n",
    "\n",
    "print('Относительный показатель группы \"В\", к группе \"А\":', \"{0:.3f}\".format(\n",
    "    (sampleB.mean() / sampleA.mean() - 1)))"
   ]
  },
  {
   "cell_type": "markdown",
   "id": "fd1faec0-fddc-4f8a-a8d0-cc4b14d62b68",
   "metadata": {},
   "source": [
    "**Вывод:**\n",
    "- Статистически значимые различия в конверсии между группами есть, таким образом, мы *отвергаем* нулевую гипотезу.\n",
    "- Группа \"В\" превосходит группу \"А\" на 13.8%"
   ]
  },
  {
   "cell_type": "markdown",
   "id": "02e24932-40d8-4204-9a51-c1cebab53fd8",
   "metadata": {},
   "source": [
    "### Посчитаем статистическую значимость различий в среднем чеке заказа между группами по «сырым» данным:"
   ]
  },
  {
   "cell_type": "markdown",
   "id": "d5179289-765c-4979-b197-178110db0ffc",
   "metadata": {},
   "source": [
    "Пороговое значение (alpha) возьмём в 5%, установим нулевую гипотезу:\n",
    "- Статистически значимых различий в среднем чеке между группами нет.\n",
    "\n",
    "Альтернативная гипотеза:\n",
    "- Статистически значимые различия в среднем чеке между группами есть."
   ]
  },
  {
   "cell_type": "code",
   "execution_count": 42,
   "id": "4826778d-b7d5-4ea2-b80a-bf88678d47d1",
   "metadata": {
    "ExecuteTime": {
     "end_time": "2022-07-07T13:28:00.787323Z",
     "start_time": "2022-07-07T13:28:00.780702Z"
    }
   },
   "outputs": [
    {
     "name": "stdout",
     "output_type": "stream",
     "text": [
      "p-value: 0.729\n",
      "Не получилось отвергнуть нулевую гипотезу, нет оснований считать группы \"А\" и \"В\" разными.\n",
      "Относительный показатель среднего чека группы \"В\", к группе \"А\": 0.259\n"
     ]
    }
   ],
   "source": [
    "mean_results = st.mannwhitneyu(orders[orders['group'] == 'A']['revenue'],\n",
    "                               orders[orders['group'] == 'B']['revenue'])\n",
    "\n",
    "print(\n",
    "    'p-value:', '{0:.3f}'.format(\n",
    "        st.mannwhitneyu(orders[orders['group'] == 'A']['revenue'],\n",
    "                        orders[orders['group'] == 'B']['revenue'])[1]))\n",
    "\n",
    "if mean_results.pvalue < alpha:\n",
    "    print(\n",
    "        'Отвергаем нулевую гипотезу: между группами \"А\" и \"В\" есть статистически значимая разница.'\n",
    "    )\n",
    "else:\n",
    "    print(\n",
    "        'Не получилось отвергнуть нулевую гипотезу, нет оснований считать группы \"А\" и \"В\" разными.'\n",
    "    )\n",
    "\n",
    "print(\n",
    "    'Относительный показатель среднего чека группы \"В\", к группе \"А\":',\n",
    "    '{0:.3f}'.format(orders[orders['group'] == 'B']['revenue'].mean() /\n",
    "                     orders[orders['group'] == 'A']['revenue'].mean() - 1))"
   ]
  },
  {
   "cell_type": "markdown",
   "id": "330ade3e-2c71-4c28-9cdf-96bba051e6f5",
   "metadata": {},
   "source": [
    "**Вывод:**\n",
    "- Статистически значимых различий в среднем чеке между группами нет, таким образом мы *подтверждаем* нулевую гипотезу.\n",
    "- Несмотря на то, что различий в среднем чеке между группами нет, средний чек группы \"В\" выше группы \"А\" на 25.9%."
   ]
  },
  {
   "cell_type": "markdown",
   "id": "b8f9d60d-88d5-420a-8da0-56217f472e57",
   "metadata": {},
   "source": [
    "### Посчитаем статистическую значимость различий в конверсии между группами по «очищенным» данным:"
   ]
  },
  {
   "cell_type": "markdown",
   "id": "860a9f74-88ae-4667-8853-454d7d1144a5",
   "metadata": {},
   "source": [
    "Исходя из прошлого анализа, пользователи которые сделали больше 2х заказов, и на сумму дороже 58000, не должны попасть в подборку, сделаем срез на основе этих данных."
   ]
  },
  {
   "cell_type": "code",
   "execution_count": 48,
   "id": "51befc36-5116-4986-b9e6-adbd84176ade",
   "metadata": {
    "ExecuteTime": {
     "end_time": "2022-07-07T13:28:00.791910Z",
     "start_time": "2022-07-07T13:28:00.787950Z"
    }
   },
   "outputs": [
    {
     "name": "stdout",
     "output_type": "stream",
     "text": [
      "\"Ненормальных\" пользователей: 31 \n",
      "В процентах: 3%\n"
     ]
    }
   ],
   "source": [
    "borders_revenue = 58000\n",
    "borders_orders = 2\n",
    "\n",
    "usersWithManyOrders = pd.concat(\n",
    "    [\n",
    "        ordersByUsersA[ordersByUsersA['orders'] > borders_orders]['userId'],\n",
    "        ordersByUsersB[ordersByUsersB['orders'] > borders_orders]['userId'],\n",
    "    ],\n",
    "    axis=0,\n",
    ")\n",
    "usersWithExpensiveOrders = orders[\n",
    "    orders['revenue'] > borders_revenue]['visitorId']\n",
    "abnormalUsers = (pd.concat([usersWithManyOrders, usersWithExpensiveOrders],\n",
    "                           axis=0).drop_duplicates().sort_values())\n",
    "\n",
    "print(\n",
    "    '\"Ненормальных\" пользователей:', abnormalUsers.shape[0],\n",
    "    f'\\nВ процентах: {round(abnormalUsers.shape[0] / len(orderUsr[\"orders\"]) * 100)}%'\n",
    ")"
   ]
  },
  {
   "cell_type": "code",
   "execution_count": 49,
   "id": "860d29c0-dba0-41d4-be11-9465c99f33f6",
   "metadata": {
    "ExecuteTime": {
     "end_time": "2022-07-07T13:28:00.797470Z",
     "start_time": "2022-07-07T13:28:00.792524Z"
    }
   },
   "outputs": [],
   "source": [
    "# \"Отфильтруем\" подборку\n",
    "sampleAFiltered = pd.concat(\n",
    "    [\n",
    "        ordersByUsersA[np.logical_not(\n",
    "            ordersByUsersA['userId'].isin(abnormalUsers))]['orders'],\n",
    "        pd.Series(\n",
    "            0,\n",
    "            index=np.arange(df['visitorsPerDateA'].sum() -\n",
    "                            len(ordersByUsersA['orders'])),\n",
    "            name='orders',\n",
    "        ),\n",
    "    ],\n",
    "    axis=0,\n",
    ")\n",
    "\n",
    "sampleBFiltered = pd.concat(\n",
    "    [\n",
    "        ordersByUsersB[np.logical_not(\n",
    "            ordersByUsersB['userId'].isin(abnormalUsers))]['orders'],\n",
    "        pd.Series(\n",
    "            0,\n",
    "            index=np.arange(df['visitorsPerDateB'].sum() -\n",
    "                            len(ordersByUsersB['orders'])),\n",
    "            name='orders',\n",
    "        ),\n",
    "    ],\n",
    "    axis=0,\n",
    ")"
   ]
  },
  {
   "cell_type": "markdown",
   "id": "2f79e7c0-e285-4c3f-94d2-ba03c8d4c3cb",
   "metadata": {},
   "source": [
    "---"
   ]
  },
  {
   "cell_type": "markdown",
   "id": "5ba3c00f-751f-4d77-9fdc-11c47d958721",
   "metadata": {},
   "source": [
    "Пороговое значение (alpha) возьмём в 5%, установим нулевую гипотезу:\n",
    "- Статистически значимых различий в конверсии между очищенных групп нет.\n",
    "\n",
    "Альтернативная гипотеза:\n",
    "- Статистически значимые различия в конверсии между очищенными группами есть."
   ]
  },
  {
   "cell_type": "code",
   "execution_count": 50,
   "id": "f1c128cd-ec28-4dbf-8a27-baba5089bf7a",
   "metadata": {
    "ExecuteTime": {
     "end_time": "2022-07-07T13:28:00.821148Z",
     "start_time": "2022-07-07T13:28:00.798080Z"
    }
   },
   "outputs": [
    {
     "name": "stdout",
     "output_type": "stream",
     "text": [
      "p-value: 0.010\n",
      "Отвергаем нулевую гипотезу: между группами \"А\" и \"В\" есть статистически значимая разница\n",
      "\n",
      "Относительный показатель группы \"В\", к группе \"А\": 0.174\n"
     ]
    }
   ],
   "source": [
    "filtred_results = st.mannwhitneyu(sampleAFiltered, sampleBFiltered)\n",
    "\n",
    "print('p-value:',\n",
    "      \"{0:.3f}\".format(st.mannwhitneyu(sampleAFiltered, sampleBFiltered)[1]))\n",
    "\n",
    "if filtred_results.pvalue < alpha:\n",
    "    print(\n",
    "        'Отвергаем нулевую гипотезу: между группами \"А\" и \"В\" есть статистически значимая разница\\n'\n",
    "    )\n",
    "else:\n",
    "    print(\n",
    "        'Не получилось отвергнуть нулевую гипотезу, нет оснований считать группы \"А\" и \"В\" разными\\n'\n",
    "    )\n",
    "\n",
    "print('Относительный показатель группы \"В\", к группе \"А\":', \"{0:.3f}\".format(\n",
    "    (sampleBFiltered.mean() / sampleAFiltered.mean() - 1)))"
   ]
  },
  {
   "cell_type": "markdown",
   "id": "6d84e994-a67d-4fa1-a509-3a285ff771cb",
   "metadata": {},
   "source": [
    "**Выводы по очищенным данным:**\n",
    "- Статистически значимые различия в конверсии между очищенными группами есть. Таким образом, мы *отвергаем* нулевую гипотезу.\n",
    "- Относительный показатель конверсии группы \"В\", к группе \"А\": 17.4% (В \"сырых\" данных этот показатель был равен 13.8%)\n",
    "- Выводы по гипотезе не изменились."
   ]
  },
  {
   "cell_type": "markdown",
   "id": "ac406dda-e9bb-489e-a50a-28ca6b708a78",
   "metadata": {},
   "source": [
    "### Посчитаем статистическую значимость различий в среднем чеке заказа между группами по «очищенным» данным:"
   ]
  },
  {
   "cell_type": "markdown",
   "id": "0decaa95-14bb-4b70-9bb3-7f26b9f39471",
   "metadata": {},
   "source": [
    "Пороговое значение (alpha) возьмём в 5%, установим нулевую гипотезу:\n",
    "- Статистически значимых различий в среднем чеке между очищенными группами нет.\n",
    "\n",
    "Альтернативная гипотеза:\n",
    "- Статистически значимые различия в среднем чеке между очищенными группами есть."
   ]
  },
  {
   "cell_type": "code",
   "execution_count": 51,
   "id": "255611bb-88c0-457e-b9b2-dfd7acc6b6b2",
   "metadata": {
    "ExecuteTime": {
     "end_time": "2022-07-07T13:28:00.830888Z",
     "start_time": "2022-07-07T13:28:00.821788Z"
    }
   },
   "outputs": [
    {
     "name": "stdout",
     "output_type": "stream",
     "text": [
      "p-value: 0.798\n",
      "Не получилось отвергнуть нулевую гипотезу, нет оснований считать группы \"А\" и \"В\" разными\n",
      "\n",
      "Относительный показатель группы \"В\", к группе \"А\": -0.020\n"
     ]
    }
   ],
   "source": [
    "mean_filtred_results = st.mannwhitneyu(\n",
    "    orders[np.logical_and(\n",
    "        orders['group'] == 'A',\n",
    "        np.logical_not(orders['visitorId'].isin(abnormalUsers)),\n",
    "    )]['revenue'], orders[np.logical_and(\n",
    "        orders['group'] == 'B',\n",
    "        np.logical_not(orders['visitorId'].isin(abnormalUsers)))]['revenue'])\n",
    "\n",
    "print(\n",
    "    'p-value:', '{0:.3f}'.format(\n",
    "        st.mannwhitneyu(\n",
    "            orders[np.logical_and(\n",
    "                orders['group'] == 'A',\n",
    "                np.logical_not(orders['visitorId'].isin(abnormalUsers)),\n",
    "            )]['revenue'],\n",
    "            orders[np.logical_and(\n",
    "                orders['group'] == 'B',\n",
    "                np.logical_not(orders['visitorId'].isin(abnormalUsers)),\n",
    "            )]['revenue'],\n",
    "        )[1]))\n",
    "\n",
    "if mean_filtred_results.pvalue < alpha:\n",
    "    print(\n",
    "        'Отвергаем нулевую гипотезу: между группами \"А\" и \"В\" есть статистически значимая разница\\n'\n",
    "    )\n",
    "else:\n",
    "    print(\n",
    "        'Не получилось отвергнуть нулевую гипотезу, нет оснований считать группы \"А\" и \"В\" разными\\n'\n",
    "    )\n",
    "\n",
    "print('Относительный показатель группы \"В\", к группе \"А\": '\n",
    "      \"{0:.3f}\".format(orders[np.logical_and(\n",
    "          orders['group'] == 'B',\n",
    "          np.logical_not(orders['visitorId'].isin(abnormalUsers)),\n",
    "      )]['revenue'].mean() / orders[np.logical_and(\n",
    "          orders['group'] == 'A',\n",
    "          np.logical_not(orders['visitorId'].isin(abnormalUsers)),\n",
    "      )]['revenue'].mean() - 1))"
   ]
  },
  {
   "cell_type": "markdown",
   "id": "fae0803a-9880-4f24-a923-7f7eb5abb283",
   "metadata": {},
   "source": [
    "**Выводы по очищенным данным:**\n",
    "- Статистически значимых различий в среднем чеке между очищенными группами нет. Таким образом, мы *подтверждаем* нулевую гипотезу.\n",
    "- Относительный показатель группы \"В\", к группе \"А\" изменился не в лучшую сторону, теперь он убывает на 2%, а был выше группы \"А\" по сырым данным на 25.9%, по всей видимости, на результаты повлиял большой заказ на 1.29 млн в группе \"В\".\n",
    "- Выводы по гипотезе не изменились."
   ]
  },
  {
   "cell_type": "markdown",
   "id": "b92efeed-5b97-4e1b-b104-689981020310",
   "metadata": {},
   "source": [
    "### Решение по результатам теста:"
   ]
  },
  {
   "cell_type": "markdown",
   "id": "5a2df77f-8068-4f06-bee2-2405f4bf113a",
   "metadata": {
    "tags": []
   },
   "source": [
    "**Вывод:**\n",
    "\n",
    "*Исходя из анализа полученных данных групп тестирования \"А\" и \"В\":*\n",
    "- Относительный показатель конверсии группы \"В\" к группе \"А\": 17.4% (по очищенным данным)\n",
    "    - Статистически значимые различия в конверсии между группами есть.\n",
    "- Статистическая значимость различий в среднем чеке заказа группы \"В\" к группе \"А\": -2% (по очищенным данным)\n",
    "    - Статистически значимых различий в среднем чеке между группами нет.\n",
    "\n",
    "Однозначно можно сказать, что группа \"В\" показала хороший результат относительно группы \"А\", особенно в показателе конверсии, таким образом: **тестирование можно считать завершённым**"
   ]
  }
 ],
 "metadata": {
  "ExecuteTimeLog": [
   {
    "duration": 1269,
    "start_time": "2022-07-08T09:50:44.205Z"
   },
   {
    "duration": 78,
    "start_time": "2022-07-08T09:50:45.476Z"
   },
   {
    "duration": 13,
    "start_time": "2022-07-08T09:50:45.555Z"
   },
   {
    "duration": 20,
    "start_time": "2022-07-08T09:50:45.571Z"
   },
   {
    "duration": 21,
    "start_time": "2022-07-08T09:50:45.595Z"
   },
   {
    "duration": 16,
    "start_time": "2022-07-08T09:50:45.618Z"
   },
   {
    "duration": 70,
    "start_time": "2022-07-08T09:50:45.637Z"
   },
   {
    "duration": 36,
    "start_time": "2022-07-08T09:50:45.709Z"
   },
   {
    "duration": 6,
    "start_time": "2022-07-08T09:50:45.747Z"
   },
   {
    "duration": 376,
    "start_time": "2022-07-08T09:50:45.755Z"
   },
   {
    "duration": 359,
    "start_time": "2022-07-08T09:50:46.134Z"
   },
   {
    "duration": 252,
    "start_time": "2022-07-08T09:50:46.495Z"
   },
   {
    "duration": 205,
    "start_time": "2022-07-08T09:50:46.749Z"
   },
   {
    "duration": 217,
    "start_time": "2022-07-08T09:50:46.957Z"
   },
   {
    "duration": 201,
    "start_time": "2022-07-08T09:50:47.175Z"
   },
   {
    "duration": 83,
    "start_time": "2022-07-08T09:50:47.378Z"
   },
   {
    "duration": 429,
    "start_time": "2022-07-08T09:50:47.462Z"
   },
   {
    "duration": 347,
    "start_time": "2022-07-08T09:50:47.894Z"
   },
   {
    "duration": 405,
    "start_time": "2022-07-08T09:50:48.243Z"
   },
   {
    "duration": 11,
    "start_time": "2022-07-08T09:50:48.650Z"
   },
   {
    "duration": 203,
    "start_time": "2022-07-08T09:50:48.664Z"
   },
   {
    "duration": 9,
    "start_time": "2022-07-08T09:50:48.870Z"
   },
   {
    "duration": 31,
    "start_time": "2022-07-08T09:50:48.882Z"
   },
   {
    "duration": 238,
    "start_time": "2022-07-08T09:50:48.916Z"
   },
   {
    "duration": 6,
    "start_time": "2022-07-08T09:50:49.157Z"
   },
   {
    "duration": 17,
    "start_time": "2022-07-08T09:50:49.165Z"
   },
   {
    "duration": 283,
    "start_time": "2022-07-08T09:50:49.199Z"
   },
   {
    "duration": 259,
    "start_time": "2022-07-08T09:50:49.485Z"
   },
   {
    "duration": 6,
    "start_time": "2022-07-08T09:50:49.747Z"
   },
   {
    "duration": 12,
    "start_time": "2022-07-08T09:50:49.755Z"
   },
   {
    "duration": 304,
    "start_time": "2022-07-08T09:50:49.770Z"
   },
   {
    "duration": 60,
    "start_time": "2022-07-08T09:50:50.077Z"
   },
   {
    "duration": 276,
    "start_time": "2022-07-08T09:50:50.139Z"
   },
   {
    "duration": 13,
    "start_time": "2022-07-08T09:50:50.418Z"
   },
   {
    "duration": 55,
    "start_time": "2022-07-08T09:50:50.433Z"
   },
   {
    "duration": 19,
    "start_time": "2022-07-08T09:50:50.502Z"
   },
   {
    "duration": 16,
    "start_time": "2022-07-08T09:50:50.522Z"
   },
   {
    "duration": 19,
    "start_time": "2022-07-08T09:50:50.541Z"
   },
   {
    "duration": 67,
    "start_time": "2022-07-08T09:50:50.562Z"
   },
   {
    "duration": 30,
    "start_time": "2022-07-08T09:50:50.631Z"
   },
   {
    "duration": 1252,
    "start_time": "2022-07-08T09:52:06.850Z"
   },
   {
    "duration": 85,
    "start_time": "2022-07-08T09:52:08.105Z"
   },
   {
    "duration": 13,
    "start_time": "2022-07-08T09:52:08.192Z"
   },
   {
    "duration": 15,
    "start_time": "2022-07-08T09:52:08.207Z"
   },
   {
    "duration": 17,
    "start_time": "2022-07-08T09:52:08.224Z"
   },
   {
    "duration": 15,
    "start_time": "2022-07-08T09:52:08.243Z"
   },
   {
    "duration": 59,
    "start_time": "2022-07-08T09:52:08.262Z"
   },
   {
    "duration": 75,
    "start_time": "2022-07-08T09:52:08.323Z"
   },
   {
    "duration": 6,
    "start_time": "2022-07-08T09:52:08.401Z"
   },
   {
    "duration": 419,
    "start_time": "2022-07-08T09:52:08.410Z"
   },
   {
    "duration": 380,
    "start_time": "2022-07-08T09:52:08.832Z"
   },
   {
    "duration": 272,
    "start_time": "2022-07-08T09:52:09.214Z"
   },
   {
    "duration": 234,
    "start_time": "2022-07-08T09:52:09.488Z"
   },
   {
    "duration": 209,
    "start_time": "2022-07-08T09:52:09.723Z"
   },
   {
    "duration": 186,
    "start_time": "2022-07-08T09:52:09.933Z"
   },
   {
    "duration": 77,
    "start_time": "2022-07-08T09:52:10.121Z"
   },
   {
    "duration": 381,
    "start_time": "2022-07-08T09:52:10.200Z"
   },
   {
    "duration": 330,
    "start_time": "2022-07-08T09:52:10.582Z"
   },
   {
    "duration": 378,
    "start_time": "2022-07-08T09:52:10.914Z"
   },
   {
    "duration": 15,
    "start_time": "2022-07-08T09:52:11.300Z"
   },
   {
    "duration": 155,
    "start_time": "2022-07-08T09:52:11.317Z"
   },
   {
    "duration": 7,
    "start_time": "2022-07-08T09:52:11.475Z"
   },
   {
    "duration": 33,
    "start_time": "2022-07-08T09:52:11.484Z"
   },
   {
    "duration": 182,
    "start_time": "2022-07-08T09:52:11.519Z"
   },
   {
    "duration": 8,
    "start_time": "2022-07-08T09:52:11.703Z"
   },
   {
    "duration": 13,
    "start_time": "2022-07-08T09:52:11.715Z"
   },
   {
    "duration": 218,
    "start_time": "2022-07-08T09:52:11.730Z"
   },
   {
    "duration": 217,
    "start_time": "2022-07-08T09:52:11.952Z"
   },
   {
    "duration": 4,
    "start_time": "2022-07-08T09:52:12.171Z"
   },
   {
    "duration": 23,
    "start_time": "2022-07-08T09:52:12.177Z"
   },
   {
    "duration": 248,
    "start_time": "2022-07-08T09:52:12.202Z"
   },
   {
    "duration": 47,
    "start_time": "2022-07-08T09:52:12.452Z"
   },
   {
    "duration": 169,
    "start_time": "2022-07-08T09:52:12.501Z"
   },
   {
    "duration": 8,
    "start_time": "2022-07-08T09:52:12.672Z"
   },
   {
    "duration": 60,
    "start_time": "2022-07-08T09:52:12.682Z"
   },
   {
    "duration": 16,
    "start_time": "2022-07-08T09:52:12.744Z"
   },
   {
    "duration": 10,
    "start_time": "2022-07-08T09:52:12.761Z"
   },
   {
    "duration": 27,
    "start_time": "2022-07-08T09:52:12.773Z"
   },
   {
    "duration": 51,
    "start_time": "2022-07-08T09:52:12.803Z"
   },
   {
    "duration": 23,
    "start_time": "2022-07-08T09:52:12.856Z"
   }
  ],
  "kernelspec": {
   "display_name": "Python 3 (ipykernel)",
   "language": "python",
   "name": "python3"
  },
  "language_info": {
   "codemirror_mode": {
    "name": "ipython",
    "version": 3
   },
   "file_extension": ".py",
   "mimetype": "text/x-python",
   "name": "python",
   "nbconvert_exporter": "python",
   "pygments_lexer": "ipython3",
   "version": "3.9.12"
  },
  "toc": {
   "base_numbering": 1,
   "nav_menu": {},
   "number_sections": true,
   "sideBar": true,
   "skip_h1_title": true,
   "title_cell": "Table of Contents",
   "title_sidebar": "Contents",
   "toc_cell": false,
   "toc_position": {},
   "toc_section_display": true,
   "toc_window_display": false
  },
  "varInspector": {
   "cols": {
    "lenName": 16,
    "lenType": 16,
    "lenVar": 40
   },
   "kernels_config": {
    "python": {
     "delete_cmd_postfix": "",
     "delete_cmd_prefix": "del ",
     "library": "var_list.py",
     "varRefreshCmd": "print(var_dic_list())"
    },
    "r": {
     "delete_cmd_postfix": ") ",
     "delete_cmd_prefix": "rm(",
     "library": "var_list.r",
     "varRefreshCmd": "cat(var_dic_list()) "
    }
   },
   "types_to_exclude": [
    "module",
    "function",
    "builtin_function_or_method",
    "instance",
    "_Feature"
   ],
   "window_display": false
  }
 },
 "nbformat": 4,
 "nbformat_minor": 5
}

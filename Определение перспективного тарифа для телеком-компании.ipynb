{
 "cells": [
  {
   "cell_type": "markdown",
   "id": "89580f3c",
   "metadata": {
    "tags": []
   },
   "source": [
    "# Определение перспективного тарифа для телеком-компании"
   ]
  },
  {
   "cell_type": "markdown",
   "id": "412f0c33-31ec-4bf4-976a-05ebcd5893b7",
   "metadata": {},
   "source": [
    "## Описание проекта:"
   ]
  },
  {
   "cell_type": "markdown",
   "id": "ed1f693e-e326-4ae6-be93-f44cf048b6c8",
   "metadata": {},
   "source": [
    "Компания «Мегалайн» — федеральный оператор сотовой связи. Клиентам предлагают два тарифных плана: «Смарт» и «Ультра». Чтобы скорректировать рекламный бюджет, коммерческий департамент хочет понять, какой тариф приносит больше денег.\n",
    "Нам предстоит сделать предварительный анализ тарифов на небольшой выборке клиентов. В нашем распоряжении данные 500 пользователей «Мегалайна»: кто они, откуда, каким тарифом пользуются, сколько звонков и сообщений каждый отправил за 2018 год. Нужно проанализировать поведение клиентов и сделать вывод — какой тариф лучше."
   ]
  },
  {
   "cell_type": "markdown",
   "id": "ce16f585-2d1c-40e6-9458-4168a2d5f396",
   "metadata": {
    "tags": []
   },
   "source": [
    "### Описание тарифов:"
   ]
  },
  {
   "cell_type": "markdown",
   "id": "27b6eb3c-0df2-41a5-90fc-8e7e4e8dc33a",
   "metadata": {},
   "source": [
    "**Тариф «Смарт»:**\n",
    "\n",
    "1. Ежемесячная плата: 550 рублей\n",
    "2. Включено 500 минут разговора, 50 сообщений и 15 Гб интернет-трафика\n",
    "3. Стоимость услуг сверх тарифного пакета:\n",
    "   - минута разговора: 3 рубля\n",
    "   - сообщение: 3 рубля\n",
    "   - 1 Гб интернет-трафика: 200 рублей\n",
    "   \n",
    "\n",
    "**Тариф «Ультра»:**\n",
    "\n",
    "1. Ежемесячная плата: 1950 рублей\n",
    "2. Включено 3000 минут разговора, 1000 сообщений и 30 Гб интернет-трафика\n",
    "3. Стоимость услуг сверх тарифного пакета:\n",
    "    - минута разговора: 1 рубль\n",
    "    - сообщение: 1 рубль\n",
    "    - 1 Гб интернет-трафика: 150 рублей"
   ]
  },
  {
   "cell_type": "markdown",
   "id": "2e065d5c-9ea2-4a4a-8ce6-1b514ca11624",
   "metadata": {},
   "source": [
    "### Описание данных:"
   ]
  },
  {
   "cell_type": "markdown",
   "id": "fe436844-c8d4-499c-8fd1-9538ca9ab756",
   "metadata": {},
   "source": [
    "**Таблица users (информация о пользователях):**\n",
    "- *user_id* — уникальный идентификатор пользователя\n",
    "- *first_name* — имя пользователя\n",
    "- *last_name* — фамилия пользователя\n",
    "- *age* — возраст пользователя (годы)\n",
    "- *reg_date* — дата подключения тарифа (день, месяц, год)\n",
    "- *churn_date* — дата прекращения пользования тарифом (если значение пропущено, то тариф ещё действовал на момент выгрузки данных)\n",
    "- *city* — город проживания пользователя\n",
    "- *tarif* — название тарифного плана"
   ]
  },
  {
   "cell_type": "markdown",
   "id": "9a2b5a6b-3c9d-40be-a29a-7ba32a61c567",
   "metadata": {},
   "source": [
    "**Таблица calls (информация о звонках):**\n",
    "\n",
    "- *id* — уникальный номер звонка\n",
    "- *call_date* — дата звонка\n",
    "- *duration* — длительность звонка в минутах\n",
    "- *user_id* — идентификатор пользователя, сделавшего звонок"
   ]
  },
  {
   "cell_type": "markdown",
   "id": "cb48cc79-e33e-41c9-ae7a-3d8687443df8",
   "metadata": {},
   "source": [
    "**Таблица messages (информация о сообщениях):**\n",
    "\n",
    "- *id* — уникальный номер сообщения\n",
    "- *message_date* — дата сообщения\n",
    "- *user_id* — идентификатор пользователя, отправившего сообщение"
   ]
  },
  {
   "cell_type": "markdown",
   "id": "e7fc5863-698b-4345-8219-a81cf45fd7f1",
   "metadata": {},
   "source": [
    "**Таблица internet (информация об интернет-сессиях):**\n",
    "\n",
    "- *id* — уникальный номер сессии\n",
    "- *mb_used* — объём потраченного за сессию интернет-трафика (в мегабайтах)\n",
    "- *session_date* — дата интернет-сессии\n",
    "- *user_id* — идентификатор пользователя"
   ]
  },
  {
   "cell_type": "markdown",
   "id": "955ba196-aaba-4197-b43d-29c35c7b3071",
   "metadata": {},
   "source": [
    "**Таблица tariffs (информация о тарифах):**\n",
    "\n",
    "- *tariff_name* — название тарифа\n",
    "- *rub_monthly_fee* — ежемесячная абонентская плата в рублях\n",
    "- *minutes_included* — количество минут разговора в месяц, включённых в абонентскую плату\n",
    "- *messages_included* — количество сообщений в месяц, включённых в абонентскую плату\n",
    "- *mb_per_month_included* — объём интернет-трафика, включённого в абонентскую плату (в мегабайтах)\n",
    "- *rub_per_minute* — стоимость минуты разговора сверх тарифного пакета (например, если в тарифе 100 минут разговора в месяц, то со 101 минуты будет взиматься плата)\n",
    "- *rub_per_message* — стоимость отправки сообщения сверх тарифного пакета\n",
    "- *rub_per_gb* — стоимость дополнительного гигабайта интернет-трафика сверх тарифного пакета (1 гигабайт = 1024 мегабайта)"
   ]
  },
  {
   "cell_type": "markdown",
   "id": "eafcd0f1-342b-4466-804c-5a190e2e9a23",
   "metadata": {},
   "source": [
    "#### Примечание:"
   ]
  },
  {
   "cell_type": "markdown",
   "id": "cc58505e-f1dc-4336-b385-dbd7a226641f",
   "metadata": {},
   "source": [
    "*«Мегалайн» всегда округляет секунды до минут, а мегабайты — до гигабайт. Каждый звонок округляется отдельно: даже если он длился всего 1 секунду, будет засчитан как 1 минута.*\n",
    "\n",
    "\n",
    "*Для веб-трафика отдельные сессии не считаются. Вместо этого общая сумма за месяц округляется в бо́льшую сторону. Если абонент использует 1025 мегабайт в этом месяце, с него возьмут плату за 2 гигабайта.*"
   ]
  },
  {
   "cell_type": "markdown",
   "id": "efd834e2",
   "metadata": {},
   "source": [
    "<div class=\"alert alert-block alert-success\">\n",
    "<b>Комментарий ревьюера✅:</b> Хорошая практика начинать проект с контекста, описания задачи, возможного хода\\плана исследования, а также описания имеющихся данных. Очень надеюсь, что ты будешь уделять этому внимание и в последующих проектах</div>\n",
    "\n",
    "\n"
   ]
  },
  {
   "cell_type": "markdown",
   "id": "0251dc65-624e-4000-b71b-208cf60ceaeb",
   "metadata": {
    "tags": []
   },
   "source": [
    "## Изучение данных из файла:"
   ]
  },
  {
   "cell_type": "markdown",
   "id": "f3e32bc4-6b25-4028-95d1-fc8a8bae7c33",
   "metadata": {},
   "source": [
    "### Импорт библиотек и чтение фалов:"
   ]
  },
  {
   "cell_type": "code",
   "execution_count": 1,
   "id": "ed7fbc44-86d8-4bd1-a35f-191cc875c02b",
   "metadata": {},
   "outputs": [],
   "source": [
    "# Импорт библиотек:\n",
    "import matplotlib.pyplot as plt\n",
    "import pandas as pd\n",
    "import numpy as np\n",
    "import math as mt\n",
    "import seaborn as sns\n",
    "from math import ceil\n",
    "\n",
    "from math import factorial\n",
    "from matplotlib import pyplot as plt\n",
    "from scipy import stats as st"
   ]
  },
  {
   "cell_type": "code",
   "execution_count": 2,
   "id": "173b4775-a77c-4b2f-a25d-2b97cebfeae3",
   "metadata": {},
   "outputs": [],
   "source": [
    "# Чтение файлов:\n",
    "\n",
    "try:\n",
    "    data_calls = pd.read_csv(\n",
    "        '/home/saxofon/Документы/jupdata/calls.csv')\n",
    "    data_internet = pd.read_csv(\n",
    "        '/home/saxofon/Документы/jupdata/internet.csv')\n",
    "    data_messages = pd.read_csv(\n",
    "        '/home/saxofon/Документы/jupdata/messages.csv')\n",
    "    data_tariffs = pd.read_csv(\n",
    "        '/home/saxofon/Документы/jupdata/tariffs.csv')\n",
    "    data_users = pd.read_csv(\n",
    "        '/home/saxofon/Документы/jupdata/users.csv')\n",
    "except:\n",
    "    data_calls = pd.read_csv(\n",
    "        '/datasets/calls.csv')\n",
    "    data_internet = pd.read_csv(\n",
    "        '/datasets/internet.csv')\n",
    "    data_messages = pd.read_csv(\n",
    "        '/datasets/messages.csv')\n",
    "    data_tariffs = pd.read_csv(\n",
    "        '/datasets/tariffs.csv')\n",
    "    data_users = pd.read_csv(\n",
    "        '/datasets/users.csv')"
   ]
  },
  {
   "cell_type": "markdown",
   "id": "7478cb83",
   "metadata": {},
   "source": [
    "<div class=\"alert alert-block alert-success\">\n",
    "<b>Комментарий ревьюера✅:</b> 🔥🔥🔥</div>\n",
    "\n",
    "\n"
   ]
  },
  {
   "cell_type": "markdown",
   "id": "9678053d-965f-4ff4-be2d-eb7d44b07436",
   "metadata": {
    "tags": []
   },
   "source": [
    "### Обзор \"users\" (информация о пользователях):"
   ]
  },
  {
   "cell_type": "code",
   "execution_count": 3,
   "id": "3deeb29e-7546-4576-b0fe-b9641995b586",
   "metadata": {},
   "outputs": [
    {
     "data": {
      "text/html": [
       "<div>\n",
       "<style scoped>\n",
       "    .dataframe tbody tr th:only-of-type {\n",
       "        vertical-align: middle;\n",
       "    }\n",
       "\n",
       "    .dataframe tbody tr th {\n",
       "        vertical-align: top;\n",
       "    }\n",
       "\n",
       "    .dataframe thead th {\n",
       "        text-align: right;\n",
       "    }\n",
       "</style>\n",
       "<table border=\"1\" class=\"dataframe\">\n",
       "  <thead>\n",
       "    <tr style=\"text-align: right;\">\n",
       "      <th></th>\n",
       "      <th>user_id</th>\n",
       "      <th>age</th>\n",
       "      <th>churn_date</th>\n",
       "      <th>city</th>\n",
       "      <th>first_name</th>\n",
       "      <th>last_name</th>\n",
       "      <th>reg_date</th>\n",
       "      <th>tariff</th>\n",
       "    </tr>\n",
       "  </thead>\n",
       "  <tbody>\n",
       "    <tr>\n",
       "      <th>0</th>\n",
       "      <td>1000</td>\n",
       "      <td>52</td>\n",
       "      <td>NaN</td>\n",
       "      <td>Краснодар</td>\n",
       "      <td>Рафаил</td>\n",
       "      <td>Верещагин</td>\n",
       "      <td>2018-05-25</td>\n",
       "      <td>ultra</td>\n",
       "    </tr>\n",
       "    <tr>\n",
       "      <th>1</th>\n",
       "      <td>1001</td>\n",
       "      <td>41</td>\n",
       "      <td>NaN</td>\n",
       "      <td>Москва</td>\n",
       "      <td>Иван</td>\n",
       "      <td>Ежов</td>\n",
       "      <td>2018-11-01</td>\n",
       "      <td>smart</td>\n",
       "    </tr>\n",
       "    <tr>\n",
       "      <th>2</th>\n",
       "      <td>1002</td>\n",
       "      <td>59</td>\n",
       "      <td>NaN</td>\n",
       "      <td>Стерлитамак</td>\n",
       "      <td>Евгений</td>\n",
       "      <td>Абрамович</td>\n",
       "      <td>2018-06-17</td>\n",
       "      <td>smart</td>\n",
       "    </tr>\n",
       "    <tr>\n",
       "      <th>3</th>\n",
       "      <td>1003</td>\n",
       "      <td>23</td>\n",
       "      <td>NaN</td>\n",
       "      <td>Москва</td>\n",
       "      <td>Белла</td>\n",
       "      <td>Белякова</td>\n",
       "      <td>2018-08-17</td>\n",
       "      <td>ultra</td>\n",
       "    </tr>\n",
       "    <tr>\n",
       "      <th>4</th>\n",
       "      <td>1004</td>\n",
       "      <td>68</td>\n",
       "      <td>NaN</td>\n",
       "      <td>Новокузнецк</td>\n",
       "      <td>Татьяна</td>\n",
       "      <td>Авдеенко</td>\n",
       "      <td>2018-05-14</td>\n",
       "      <td>ultra</td>\n",
       "    </tr>\n",
       "    <tr>\n",
       "      <th>5</th>\n",
       "      <td>1005</td>\n",
       "      <td>67</td>\n",
       "      <td>NaN</td>\n",
       "      <td>Набережные Челны</td>\n",
       "      <td>Афанасий</td>\n",
       "      <td>Горлов</td>\n",
       "      <td>2018-01-25</td>\n",
       "      <td>smart</td>\n",
       "    </tr>\n",
       "    <tr>\n",
       "      <th>6</th>\n",
       "      <td>1006</td>\n",
       "      <td>21</td>\n",
       "      <td>NaN</td>\n",
       "      <td>Ульяновск</td>\n",
       "      <td>Леонид</td>\n",
       "      <td>Ермолаев</td>\n",
       "      <td>2018-02-26</td>\n",
       "      <td>smart</td>\n",
       "    </tr>\n",
       "    <tr>\n",
       "      <th>7</th>\n",
       "      <td>1007</td>\n",
       "      <td>65</td>\n",
       "      <td>NaN</td>\n",
       "      <td>Москва</td>\n",
       "      <td>Юна</td>\n",
       "      <td>Березина</td>\n",
       "      <td>2018-04-19</td>\n",
       "      <td>smart</td>\n",
       "    </tr>\n",
       "    <tr>\n",
       "      <th>8</th>\n",
       "      <td>1008</td>\n",
       "      <td>63</td>\n",
       "      <td>NaN</td>\n",
       "      <td>Челябинск</td>\n",
       "      <td>Рустэм</td>\n",
       "      <td>Пономарёв</td>\n",
       "      <td>2018-12-19</td>\n",
       "      <td>smart</td>\n",
       "    </tr>\n",
       "    <tr>\n",
       "      <th>9</th>\n",
       "      <td>1009</td>\n",
       "      <td>24</td>\n",
       "      <td>NaN</td>\n",
       "      <td>Пермь</td>\n",
       "      <td>Василиса</td>\n",
       "      <td>Блинова</td>\n",
       "      <td>2018-03-22</td>\n",
       "      <td>smart</td>\n",
       "    </tr>\n",
       "  </tbody>\n",
       "</table>\n",
       "</div>"
      ],
      "text/plain": [
       "   user_id  age churn_date              city first_name  last_name  \\\n",
       "0     1000   52        NaN         Краснодар     Рафаил  Верещагин   \n",
       "1     1001   41        NaN            Москва       Иван       Ежов   \n",
       "2     1002   59        NaN       Стерлитамак    Евгений  Абрамович   \n",
       "3     1003   23        NaN            Москва      Белла   Белякова   \n",
       "4     1004   68        NaN       Новокузнецк    Татьяна   Авдеенко   \n",
       "5     1005   67        NaN  Набережные Челны   Афанасий     Горлов   \n",
       "6     1006   21        NaN         Ульяновск     Леонид   Ермолаев   \n",
       "7     1007   65        NaN            Москва        Юна   Березина   \n",
       "8     1008   63        NaN         Челябинск     Рустэм  Пономарёв   \n",
       "9     1009   24        NaN             Пермь   Василиса    Блинова   \n",
       "\n",
       "     reg_date tariff  \n",
       "0  2018-05-25  ultra  \n",
       "1  2018-11-01  smart  \n",
       "2  2018-06-17  smart  \n",
       "3  2018-08-17  ultra  \n",
       "4  2018-05-14  ultra  \n",
       "5  2018-01-25  smart  \n",
       "6  2018-02-26  smart  \n",
       "7  2018-04-19  smart  \n",
       "8  2018-12-19  smart  \n",
       "9  2018-03-22  smart  "
      ]
     },
     "execution_count": 3,
     "metadata": {},
     "output_type": "execute_result"
    }
   ],
   "source": [
    "data_users.head(10)"
   ]
  },
  {
   "cell_type": "code",
   "execution_count": 4,
   "id": "512258e5-2a2a-4667-9213-e9dfa3565918",
   "metadata": {},
   "outputs": [
    {
     "name": "stdout",
     "output_type": "stream",
     "text": [
      "<class 'pandas.core.frame.DataFrame'>\n",
      "RangeIndex: 500 entries, 0 to 499\n",
      "Data columns (total 8 columns):\n",
      " #   Column      Non-Null Count  Dtype \n",
      "---  ------      --------------  ----- \n",
      " 0   user_id     500 non-null    int64 \n",
      " 1   age         500 non-null    int64 \n",
      " 2   churn_date  38 non-null     object\n",
      " 3   city        500 non-null    object\n",
      " 4   first_name  500 non-null    object\n",
      " 5   last_name   500 non-null    object\n",
      " 6   reg_date    500 non-null    object\n",
      " 7   tariff      500 non-null    object\n",
      "dtypes: int64(2), object(6)\n",
      "memory usage: 31.4+ KB\n"
     ]
    }
   ],
   "source": [
    "data_users.info()"
   ]
  },
  {
   "cell_type": "code",
   "execution_count": 5,
   "id": "67ce133e-6ac2-4498-bc6d-678c54498b84",
   "metadata": {},
   "outputs": [
    {
     "data": {
      "text/html": [
       "<div>\n",
       "<style scoped>\n",
       "    .dataframe tbody tr th:only-of-type {\n",
       "        vertical-align: middle;\n",
       "    }\n",
       "\n",
       "    .dataframe tbody tr th {\n",
       "        vertical-align: top;\n",
       "    }\n",
       "\n",
       "    .dataframe thead th {\n",
       "        text-align: right;\n",
       "    }\n",
       "</style>\n",
       "<table border=\"1\" class=\"dataframe\">\n",
       "  <thead>\n",
       "    <tr style=\"text-align: right;\">\n",
       "      <th></th>\n",
       "      <th>user_id</th>\n",
       "      <th>age</th>\n",
       "    </tr>\n",
       "  </thead>\n",
       "  <tbody>\n",
       "    <tr>\n",
       "      <th>count</th>\n",
       "      <td>500.000000</td>\n",
       "      <td>500.00000</td>\n",
       "    </tr>\n",
       "    <tr>\n",
       "      <th>mean</th>\n",
       "      <td>1249.500000</td>\n",
       "      <td>46.58800</td>\n",
       "    </tr>\n",
       "    <tr>\n",
       "      <th>std</th>\n",
       "      <td>144.481833</td>\n",
       "      <td>16.66763</td>\n",
       "    </tr>\n",
       "    <tr>\n",
       "      <th>min</th>\n",
       "      <td>1000.000000</td>\n",
       "      <td>18.00000</td>\n",
       "    </tr>\n",
       "    <tr>\n",
       "      <th>25%</th>\n",
       "      <td>1124.750000</td>\n",
       "      <td>32.00000</td>\n",
       "    </tr>\n",
       "    <tr>\n",
       "      <th>50%</th>\n",
       "      <td>1249.500000</td>\n",
       "      <td>46.00000</td>\n",
       "    </tr>\n",
       "    <tr>\n",
       "      <th>75%</th>\n",
       "      <td>1374.250000</td>\n",
       "      <td>62.00000</td>\n",
       "    </tr>\n",
       "    <tr>\n",
       "      <th>max</th>\n",
       "      <td>1499.000000</td>\n",
       "      <td>75.00000</td>\n",
       "    </tr>\n",
       "  </tbody>\n",
       "</table>\n",
       "</div>"
      ],
      "text/plain": [
       "           user_id        age\n",
       "count   500.000000  500.00000\n",
       "mean   1249.500000   46.58800\n",
       "std     144.481833   16.66763\n",
       "min    1000.000000   18.00000\n",
       "25%    1124.750000   32.00000\n",
       "50%    1249.500000   46.00000\n",
       "75%    1374.250000   62.00000\n",
       "max    1499.000000   75.00000"
      ]
     },
     "execution_count": 5,
     "metadata": {},
     "output_type": "execute_result"
    }
   ],
   "source": [
    "data_users.describe()"
   ]
  },
  {
   "cell_type": "code",
   "execution_count": 6,
   "id": "eb725abd-bbff-4d43-b7b3-01a1d93c5eb9",
   "metadata": {},
   "outputs": [
    {
     "name": "stdout",
     "output_type": "stream",
     "text": [
      "{'Архангельск': 1, 'Астрахань': 4, 'Балашиха': 5, 'Барнаул': 3, 'Белгород': 2, 'Брянск': 3, 'Владивосток': 5, 'Владикавказ': 2, 'Владимир': 3, 'Волгоград': 8, 'Волжский': 2, 'Вологда': 7, 'Воронеж': 6, 'Грозный': 2, 'Екатеринбург': 11, 'Иваново': 1, 'Ижевск': 2, 'Иркутск': 6, 'Казань': 14, 'Калининград': 2, 'Калуга': 4, 'Кемерово': 2, 'Киров': 6, 'Кострома': 4, 'Краснодар': 11, 'Красноярск': 7, 'Курган': 3, 'Курск': 2, 'Липецк': 2, 'Магнитогорск': 5, 'Махачкала': 5, 'Москва': 99, 'Мурманск': 4, 'Набережные Челны': 11, 'Нижневартовск': 1, 'Нижний Новгород': 8, 'Нижний Тагил': 3, 'Новокузнецк': 7, 'Новороссийск': 4, 'Новосибирск': 16, 'Омск': 14, 'Оренбург': 2, 'Орёл': 3, 'Пенза': 6, 'Пермь': 8, 'Петрозаводск': 4, 'Подольск': 1, 'Ростов-на-Дону': 6, 'Рязань': 4, 'Самара': 9, 'Санкт-Петербург': 39, 'Саранск': 4, 'Саратов': 3, 'Севастополь': 3, 'Смоленск': 2, 'Сочи': 6, 'Ставрополь': 5, 'Стерлитамак': 3, 'Сургут': 2, 'Тамбов': 2, 'Тверь': 3, 'Тольятти': 4, 'Томск': 6, 'Тула': 2, 'Тюмень': 6, 'Улан-Удэ': 7, 'Ульяновск': 11, 'Уфа': 12, 'Хабаровск': 4, 'Химки': 1, 'Чебоксары': 3, 'Челябинск': 9, 'Череповец': 3, 'Чита': 4, 'Якутск': 3, 'Ярославль': 3}\n",
      "Всего городов: 76\n",
      "Число дубликатов: 0\n"
     ]
    }
   ],
   "source": [
    "print(data_users.groupby('city').size().to_dict())\n",
    "\n",
    "print('Всего городов:', len(data_users['city'].unique()))\n",
    "print(\"Число дубликатов:\", data_users.duplicated().sum())"
   ]
  },
  {
   "cell_type": "markdown",
   "id": "394a0251-f64d-4756-93f3-25095c923aaf",
   "metadata": {},
   "source": [
    "#### Промежуточный вывод:"
   ]
  },
  {
   "cell_type": "markdown",
   "id": "998734d6-f310-463f-8ee0-a3f2f8155143",
   "metadata": {},
   "source": [
    "- Больше всего пользователей из СПБ и МСК, что ожидаемо.\n",
    "- Повторов и явных дубликатов не обнаружено.\n",
    "- Пропуски есть только в \"churn_date\", судя по описанию, это те пользователи, тариф которых ещё действует, потому оставим данные как есть.\n",
    "- reg_date нужно далее привести в datatime\n",
    "- Данные выглядят нормально."
   ]
  },
  {
   "cell_type": "markdown",
   "id": "715a0b6b",
   "metadata": {},
   "source": [
    "<div class=\"alert alert-block alert-success\">\n",
    "<b>Комментарий ревьюера✅:</b> Хорошее начало, информация о данных изучена👍</div>"
   ]
  },
  {
   "cell_type": "markdown",
   "id": "93671e8d-1697-4d2e-8767-18a834e3abc6",
   "metadata": {
    "tags": []
   },
   "source": [
    "### Обзор \"calls\" (информация о звонках):"
   ]
  },
  {
   "cell_type": "code",
   "execution_count": 7,
   "id": "67c75f73-4cc5-4761-b665-c58a6fecf941",
   "metadata": {},
   "outputs": [
    {
     "data": {
      "text/html": [
       "<div>\n",
       "<style scoped>\n",
       "    .dataframe tbody tr th:only-of-type {\n",
       "        vertical-align: middle;\n",
       "    }\n",
       "\n",
       "    .dataframe tbody tr th {\n",
       "        vertical-align: top;\n",
       "    }\n",
       "\n",
       "    .dataframe thead th {\n",
       "        text-align: right;\n",
       "    }\n",
       "</style>\n",
       "<table border=\"1\" class=\"dataframe\">\n",
       "  <thead>\n",
       "    <tr style=\"text-align: right;\">\n",
       "      <th></th>\n",
       "      <th>id</th>\n",
       "      <th>call_date</th>\n",
       "      <th>duration</th>\n",
       "      <th>user_id</th>\n",
       "    </tr>\n",
       "  </thead>\n",
       "  <tbody>\n",
       "    <tr>\n",
       "      <th>0</th>\n",
       "      <td>1000_0</td>\n",
       "      <td>2018-07-25</td>\n",
       "      <td>0.00</td>\n",
       "      <td>1000</td>\n",
       "    </tr>\n",
       "    <tr>\n",
       "      <th>1</th>\n",
       "      <td>1000_1</td>\n",
       "      <td>2018-08-17</td>\n",
       "      <td>0.00</td>\n",
       "      <td>1000</td>\n",
       "    </tr>\n",
       "    <tr>\n",
       "      <th>2</th>\n",
       "      <td>1000_2</td>\n",
       "      <td>2018-06-11</td>\n",
       "      <td>2.85</td>\n",
       "      <td>1000</td>\n",
       "    </tr>\n",
       "    <tr>\n",
       "      <th>3</th>\n",
       "      <td>1000_3</td>\n",
       "      <td>2018-09-21</td>\n",
       "      <td>13.80</td>\n",
       "      <td>1000</td>\n",
       "    </tr>\n",
       "    <tr>\n",
       "      <th>4</th>\n",
       "      <td>1000_4</td>\n",
       "      <td>2018-12-15</td>\n",
       "      <td>5.18</td>\n",
       "      <td>1000</td>\n",
       "    </tr>\n",
       "  </tbody>\n",
       "</table>\n",
       "</div>"
      ],
      "text/plain": [
       "       id   call_date  duration  user_id\n",
       "0  1000_0  2018-07-25      0.00     1000\n",
       "1  1000_1  2018-08-17      0.00     1000\n",
       "2  1000_2  2018-06-11      2.85     1000\n",
       "3  1000_3  2018-09-21     13.80     1000\n",
       "4  1000_4  2018-12-15      5.18     1000"
      ]
     },
     "execution_count": 7,
     "metadata": {},
     "output_type": "execute_result"
    }
   ],
   "source": [
    "data_calls.head(5)"
   ]
  },
  {
   "cell_type": "code",
   "execution_count": 8,
   "id": "3c9ce761-689d-4d4d-81cb-ecc6fe87b64c",
   "metadata": {},
   "outputs": [
    {
     "name": "stdout",
     "output_type": "stream",
     "text": [
      "<class 'pandas.core.frame.DataFrame'>\n",
      "RangeIndex: 202607 entries, 0 to 202606\n",
      "Data columns (total 4 columns):\n",
      " #   Column     Non-Null Count   Dtype  \n",
      "---  ------     --------------   -----  \n",
      " 0   id         202607 non-null  object \n",
      " 1   call_date  202607 non-null  object \n",
      " 2   duration   202607 non-null  float64\n",
      " 3   user_id    202607 non-null  int64  \n",
      "dtypes: float64(1), int64(1), object(2)\n",
      "memory usage: 6.2+ MB\n"
     ]
    }
   ],
   "source": [
    "data_calls.info()"
   ]
  },
  {
   "cell_type": "code",
   "execution_count": 9,
   "id": "79f43b6b-d1b1-4eb2-aa7e-bb06275d4929",
   "metadata": {},
   "outputs": [
    {
     "data": {
      "text/html": [
       "<div>\n",
       "<style scoped>\n",
       "    .dataframe tbody tr th:only-of-type {\n",
       "        vertical-align: middle;\n",
       "    }\n",
       "\n",
       "    .dataframe tbody tr th {\n",
       "        vertical-align: top;\n",
       "    }\n",
       "\n",
       "    .dataframe thead th {\n",
       "        text-align: right;\n",
       "    }\n",
       "</style>\n",
       "<table border=\"1\" class=\"dataframe\">\n",
       "  <thead>\n",
       "    <tr style=\"text-align: right;\">\n",
       "      <th></th>\n",
       "      <th>duration</th>\n",
       "      <th>user_id</th>\n",
       "    </tr>\n",
       "  </thead>\n",
       "  <tbody>\n",
       "    <tr>\n",
       "      <th>count</th>\n",
       "      <td>202607.000000</td>\n",
       "      <td>202607.000000</td>\n",
       "    </tr>\n",
       "    <tr>\n",
       "      <th>mean</th>\n",
       "      <td>6.755887</td>\n",
       "      <td>1253.940619</td>\n",
       "    </tr>\n",
       "    <tr>\n",
       "      <th>std</th>\n",
       "      <td>5.843365</td>\n",
       "      <td>144.722751</td>\n",
       "    </tr>\n",
       "    <tr>\n",
       "      <th>min</th>\n",
       "      <td>0.000000</td>\n",
       "      <td>1000.000000</td>\n",
       "    </tr>\n",
       "    <tr>\n",
       "      <th>25%</th>\n",
       "      <td>1.300000</td>\n",
       "      <td>1126.000000</td>\n",
       "    </tr>\n",
       "    <tr>\n",
       "      <th>50%</th>\n",
       "      <td>6.000000</td>\n",
       "      <td>1260.000000</td>\n",
       "    </tr>\n",
       "    <tr>\n",
       "      <th>75%</th>\n",
       "      <td>10.700000</td>\n",
       "      <td>1379.000000</td>\n",
       "    </tr>\n",
       "    <tr>\n",
       "      <th>max</th>\n",
       "      <td>38.000000</td>\n",
       "      <td>1499.000000</td>\n",
       "    </tr>\n",
       "  </tbody>\n",
       "</table>\n",
       "</div>"
      ],
      "text/plain": [
       "            duration        user_id\n",
       "count  202607.000000  202607.000000\n",
       "mean        6.755887    1253.940619\n",
       "std         5.843365     144.722751\n",
       "min         0.000000    1000.000000\n",
       "25%         1.300000    1126.000000\n",
       "50%         6.000000    1260.000000\n",
       "75%        10.700000    1379.000000\n",
       "max        38.000000    1499.000000"
      ]
     },
     "execution_count": 9,
     "metadata": {},
     "output_type": "execute_result"
    }
   ],
   "source": [
    "data_calls.describe()"
   ]
  },
  {
   "cell_type": "markdown",
   "id": "07ce254a-bcdd-4a37-9da4-8884cba9e602",
   "metadata": {},
   "source": [
    "Есть нулевые звонки, определим далее как их много:"
   ]
  },
  {
   "cell_type": "code",
   "execution_count": 10,
   "id": "1e770c85-46e0-472f-a6cc-5407ce424694",
   "metadata": {},
   "outputs": [
    {
     "data": {
      "text/plain": [
       "<AxesSubplot:ylabel='Frequency'>"
      ]
     },
     "execution_count": 10,
     "metadata": {},
     "output_type": "execute_result"
    },
    {
     "data": {
      "image/png": "[encoded data removed]",
      "text/plain": [
       "<Figure size 432x288 with 1 Axes>"
      ]
     },
     "metadata": {
      "needs_background": "light"
     },
     "output_type": "display_data"
    }
   ],
   "source": [
    "plt.style.use('seaborn-pastel')\n",
    "data_calls['duration'].plot(kind='hist', ec='black', bins=50)"
   ]
  },
  {
   "cell_type": "code",
   "execution_count": 11,
   "id": "c8e6d9f3-bf9a-4f58-ab41-1f88b30f8f3b",
   "metadata": {},
   "outputs": [
    {
     "data": {
      "text/plain": [
       "7542"
      ]
     },
     "execution_count": 11,
     "metadata": {},
     "output_type": "execute_result"
    }
   ],
   "source": [
    "len(data_calls.query('0 < duration <= 0.9'))"
   ]
  },
  {
   "cell_type": "markdown",
   "id": "30db88a5-a079-4e6c-8910-1fff9b458f35",
   "metadata": {},
   "source": [
    "Из описания задания: *«Мегалайн» всегда округляет секунды до минут*. Если бы пользователи поговорили 1 секунду, им бы засчиталась 1 минута, значит можно далее округлить значения, что мы и сделаем. Скорее всего пропуски связаны с обрывами связи, или сбросами звонка."
   ]
  },
  {
   "cell_type": "markdown",
   "id": "d28c67c6-1f6a-4a27-b8ef-55f55234a2ed",
   "metadata": {
    "tags": []
   },
   "source": [
    "#### Промежуточный вывод:"
   ]
  },
  {
   "cell_type": "markdown",
   "id": "fd895976-5237-40bd-bdd0-504256289b7e",
   "metadata": {},
   "source": [
    "- Множество околонулевых значений, далее разберёмся с ними в предобработке данных.\n",
    "- call_date в datatime"
   ]
  },
  {
   "cell_type": "markdown",
   "id": "a19fad13",
   "metadata": {},
   "source": [
    "<div class=\"alert alert-block alert-success\">\n",
    "<b>Комментарий ревьюера✅:</b> Все верно👍</div>"
   ]
  },
  {
   "cell_type": "markdown",
   "id": "519df1ba-c89a-433a-a7a1-d455a52a5a9f",
   "metadata": {
    "tags": []
   },
   "source": [
    "### Обзор \"messages\" (информация о сообщениях):"
   ]
  },
  {
   "cell_type": "code",
   "execution_count": 12,
   "id": "b1fa0d1c-c323-43bf-9611-b718dbdb5273",
   "metadata": {},
   "outputs": [
    {
     "data": {
      "text/html": [
       "<div>\n",
       "<style scoped>\n",
       "    .dataframe tbody tr th:only-of-type {\n",
       "        vertical-align: middle;\n",
       "    }\n",
       "\n",
       "    .dataframe tbody tr th {\n",
       "        vertical-align: top;\n",
       "    }\n",
       "\n",
       "    .dataframe thead th {\n",
       "        text-align: right;\n",
       "    }\n",
       "</style>\n",
       "<table border=\"1\" class=\"dataframe\">\n",
       "  <thead>\n",
       "    <tr style=\"text-align: right;\">\n",
       "      <th></th>\n",
       "      <th>id</th>\n",
       "      <th>message_date</th>\n",
       "      <th>user_id</th>\n",
       "    </tr>\n",
       "  </thead>\n",
       "  <tbody>\n",
       "    <tr>\n",
       "      <th>0</th>\n",
       "      <td>1000_0</td>\n",
       "      <td>2018-06-27</td>\n",
       "      <td>1000</td>\n",
       "    </tr>\n",
       "    <tr>\n",
       "      <th>1</th>\n",
       "      <td>1000_1</td>\n",
       "      <td>2018-10-08</td>\n",
       "      <td>1000</td>\n",
       "    </tr>\n",
       "    <tr>\n",
       "      <th>2</th>\n",
       "      <td>1000_2</td>\n",
       "      <td>2018-08-04</td>\n",
       "      <td>1000</td>\n",
       "    </tr>\n",
       "    <tr>\n",
       "      <th>3</th>\n",
       "      <td>1000_3</td>\n",
       "      <td>2018-06-16</td>\n",
       "      <td>1000</td>\n",
       "    </tr>\n",
       "    <tr>\n",
       "      <th>4</th>\n",
       "      <td>1000_4</td>\n",
       "      <td>2018-12-05</td>\n",
       "      <td>1000</td>\n",
       "    </tr>\n",
       "  </tbody>\n",
       "</table>\n",
       "</div>"
      ],
      "text/plain": [
       "       id message_date  user_id\n",
       "0  1000_0   2018-06-27     1000\n",
       "1  1000_1   2018-10-08     1000\n",
       "2  1000_2   2018-08-04     1000\n",
       "3  1000_3   2018-06-16     1000\n",
       "4  1000_4   2018-12-05     1000"
      ]
     },
     "execution_count": 12,
     "metadata": {},
     "output_type": "execute_result"
    }
   ],
   "source": [
    "data_messages.head(5)"
   ]
  },
  {
   "cell_type": "code",
   "execution_count": 13,
   "id": "d515c4e0-29db-459c-a68f-d560e361ce3f",
   "metadata": {},
   "outputs": [
    {
     "name": "stdout",
     "output_type": "stream",
     "text": [
      "<class 'pandas.core.frame.DataFrame'>\n",
      "RangeIndex: 123036 entries, 0 to 123035\n",
      "Data columns (total 3 columns):\n",
      " #   Column        Non-Null Count   Dtype \n",
      "---  ------        --------------   ----- \n",
      " 0   id            123036 non-null  object\n",
      " 1   message_date  123036 non-null  object\n",
      " 2   user_id       123036 non-null  int64 \n",
      "dtypes: int64(1), object(2)\n",
      "memory usage: 2.8+ MB\n"
     ]
    }
   ],
   "source": [
    "data_messages.info()"
   ]
  },
  {
   "cell_type": "markdown",
   "id": "20bb2978-22e8-4d7b-aabd-6baf6311a179",
   "metadata": {},
   "source": [
    "#### Промежуточный вывод:"
   ]
  },
  {
   "cell_type": "markdown",
   "id": "739d5714-8ec0-453d-8002-3f9d8ddc348d",
   "metadata": {},
   "source": [
    "- С данными всё в порядке.\n",
    "- message_date заменим на datatime"
   ]
  },
  {
   "cell_type": "markdown",
   "id": "11c7559b-933c-4216-b68c-6c42b296a146",
   "metadata": {
    "tags": []
   },
   "source": [
    "### Обзор \"internet\" (информация об интернет-сессиях):"
   ]
  },
  {
   "cell_type": "code",
   "execution_count": 14,
   "id": "fc563a50-e6ea-44da-879f-eefe52fc70b8",
   "metadata": {},
   "outputs": [
    {
     "data": {
      "text/html": [
       "<div>\n",
       "<style scoped>\n",
       "    .dataframe tbody tr th:only-of-type {\n",
       "        vertical-align: middle;\n",
       "    }\n",
       "\n",
       "    .dataframe tbody tr th {\n",
       "        vertical-align: top;\n",
       "    }\n",
       "\n",
       "    .dataframe thead th {\n",
       "        text-align: right;\n",
       "    }\n",
       "</style>\n",
       "<table border=\"1\" class=\"dataframe\">\n",
       "  <thead>\n",
       "    <tr style=\"text-align: right;\">\n",
       "      <th></th>\n",
       "      <th>Unnamed: 0</th>\n",
       "      <th>id</th>\n",
       "      <th>mb_used</th>\n",
       "      <th>session_date</th>\n",
       "      <th>user_id</th>\n",
       "    </tr>\n",
       "  </thead>\n",
       "  <tbody>\n",
       "    <tr>\n",
       "      <th>0</th>\n",
       "      <td>0</td>\n",
       "      <td>1000_0</td>\n",
       "      <td>112.95</td>\n",
       "      <td>2018-11-25</td>\n",
       "      <td>1000</td>\n",
       "    </tr>\n",
       "    <tr>\n",
       "      <th>1</th>\n",
       "      <td>1</td>\n",
       "      <td>1000_1</td>\n",
       "      <td>1052.81</td>\n",
       "      <td>2018-09-07</td>\n",
       "      <td>1000</td>\n",
       "    </tr>\n",
       "    <tr>\n",
       "      <th>2</th>\n",
       "      <td>2</td>\n",
       "      <td>1000_2</td>\n",
       "      <td>1197.26</td>\n",
       "      <td>2018-06-25</td>\n",
       "      <td>1000</td>\n",
       "    </tr>\n",
       "    <tr>\n",
       "      <th>3</th>\n",
       "      <td>3</td>\n",
       "      <td>1000_3</td>\n",
       "      <td>550.27</td>\n",
       "      <td>2018-08-22</td>\n",
       "      <td>1000</td>\n",
       "    </tr>\n",
       "    <tr>\n",
       "      <th>4</th>\n",
       "      <td>4</td>\n",
       "      <td>1000_4</td>\n",
       "      <td>302.56</td>\n",
       "      <td>2018-09-24</td>\n",
       "      <td>1000</td>\n",
       "    </tr>\n",
       "  </tbody>\n",
       "</table>\n",
       "</div>"
      ],
      "text/plain": [
       "   Unnamed: 0      id  mb_used session_date  user_id\n",
       "0           0  1000_0   112.95   2018-11-25     1000\n",
       "1           1  1000_1  1052.81   2018-09-07     1000\n",
       "2           2  1000_2  1197.26   2018-06-25     1000\n",
       "3           3  1000_3   550.27   2018-08-22     1000\n",
       "4           4  1000_4   302.56   2018-09-24     1000"
      ]
     },
     "execution_count": 14,
     "metadata": {},
     "output_type": "execute_result"
    }
   ],
   "source": [
    "data_internet.head(5)"
   ]
  },
  {
   "cell_type": "code",
   "execution_count": 15,
   "id": "7110e6e8-d08a-46cc-8d26-f4acfeb00830",
   "metadata": {},
   "outputs": [
    {
     "name": "stdout",
     "output_type": "stream",
     "text": [
      "<class 'pandas.core.frame.DataFrame'>\n",
      "RangeIndex: 149396 entries, 0 to 149395\n",
      "Data columns (total 5 columns):\n",
      " #   Column        Non-Null Count   Dtype  \n",
      "---  ------        --------------   -----  \n",
      " 0   Unnamed: 0    149396 non-null  int64  \n",
      " 1   id            149396 non-null  object \n",
      " 2   mb_used       149396 non-null  float64\n",
      " 3   session_date  149396 non-null  object \n",
      " 4   user_id       149396 non-null  int64  \n",
      "dtypes: float64(1), int64(2), object(2)\n",
      "memory usage: 5.7+ MB\n"
     ]
    }
   ],
   "source": [
    "data_internet.info()"
   ]
  },
  {
   "cell_type": "code",
   "execution_count": 16,
   "id": "7a355693-509a-43ab-9541-ae77858876b3",
   "metadata": {},
   "outputs": [
    {
     "data": {
      "text/html": [
       "<div>\n",
       "<style scoped>\n",
       "    .dataframe tbody tr th:only-of-type {\n",
       "        vertical-align: middle;\n",
       "    }\n",
       "\n",
       "    .dataframe tbody tr th {\n",
       "        vertical-align: top;\n",
       "    }\n",
       "\n",
       "    .dataframe thead th {\n",
       "        text-align: right;\n",
       "    }\n",
       "</style>\n",
       "<table border=\"1\" class=\"dataframe\">\n",
       "  <thead>\n",
       "    <tr style=\"text-align: right;\">\n",
       "      <th></th>\n",
       "      <th>Unnamed: 0</th>\n",
       "      <th>mb_used</th>\n",
       "      <th>user_id</th>\n",
       "    </tr>\n",
       "  </thead>\n",
       "  <tbody>\n",
       "    <tr>\n",
       "      <th>count</th>\n",
       "      <td>149396.000000</td>\n",
       "      <td>149396.000000</td>\n",
       "      <td>149396.000000</td>\n",
       "    </tr>\n",
       "    <tr>\n",
       "      <th>mean</th>\n",
       "      <td>74697.500000</td>\n",
       "      <td>370.192426</td>\n",
       "      <td>1252.099842</td>\n",
       "    </tr>\n",
       "    <tr>\n",
       "      <th>std</th>\n",
       "      <td>43127.054745</td>\n",
       "      <td>278.300951</td>\n",
       "      <td>144.050823</td>\n",
       "    </tr>\n",
       "    <tr>\n",
       "      <th>min</th>\n",
       "      <td>0.000000</td>\n",
       "      <td>0.000000</td>\n",
       "      <td>1000.000000</td>\n",
       "    </tr>\n",
       "    <tr>\n",
       "      <th>25%</th>\n",
       "      <td>37348.750000</td>\n",
       "      <td>138.187500</td>\n",
       "      <td>1130.000000</td>\n",
       "    </tr>\n",
       "    <tr>\n",
       "      <th>50%</th>\n",
       "      <td>74697.500000</td>\n",
       "      <td>348.015000</td>\n",
       "      <td>1251.000000</td>\n",
       "    </tr>\n",
       "    <tr>\n",
       "      <th>75%</th>\n",
       "      <td>112046.250000</td>\n",
       "      <td>559.552500</td>\n",
       "      <td>1380.000000</td>\n",
       "    </tr>\n",
       "    <tr>\n",
       "      <th>max</th>\n",
       "      <td>149395.000000</td>\n",
       "      <td>1724.830000</td>\n",
       "      <td>1499.000000</td>\n",
       "    </tr>\n",
       "  </tbody>\n",
       "</table>\n",
       "</div>"
      ],
      "text/plain": [
       "          Unnamed: 0        mb_used        user_id\n",
       "count  149396.000000  149396.000000  149396.000000\n",
       "mean    74697.500000     370.192426    1252.099842\n",
       "std     43127.054745     278.300951     144.050823\n",
       "min         0.000000       0.000000    1000.000000\n",
       "25%     37348.750000     138.187500    1130.000000\n",
       "50%     74697.500000     348.015000    1251.000000\n",
       "75%    112046.250000     559.552500    1380.000000\n",
       "max    149395.000000    1724.830000    1499.000000"
      ]
     },
     "execution_count": 16,
     "metadata": {},
     "output_type": "execute_result"
    }
   ],
   "source": [
    "data_internet.describe()"
   ]
  },
  {
   "cell_type": "markdown",
   "id": "a82a8843-15f3-4f91-92d1-9b34fcb17c45",
   "metadata": {},
   "source": [
    "Также множество околонулевых значений, проверим сколько их всего:"
   ]
  },
  {
   "cell_type": "code",
   "execution_count": 17,
   "id": "78b20f4e-e59d-459d-95f1-ed464da4a5f0",
   "metadata": {},
   "outputs": [
    {
     "data": {
      "text/plain": [
       "<AxesSubplot:ylabel='Frequency'>"
      ]
     },
     "execution_count": 17,
     "metadata": {},
     "output_type": "execute_result"
    },
    {
     "data": {
      "image/png": "[encoded data removed]",
      "text/plain": [
       "<Figure size 576x360 with 1 Axes>"
      ]
     },
     "metadata": {
      "needs_background": "light"
     },
     "output_type": "display_data"
    }
   ],
   "source": [
    "data_internet['mb_used'].plot(kind='hist', ec='black', bins=40, figsize=(8, 5))"
   ]
  },
  {
   "cell_type": "code",
   "execution_count": 18,
   "id": "fad1a035-ffdf-457d-bdf0-c74ea865c36d",
   "metadata": {},
   "outputs": [
    {
     "name": "stdout",
     "output_type": "stream",
     "text": [
      "Всего 0 значений: 19598\n"
     ]
    }
   ],
   "source": [
    "print('Всего 0 значений:', len(data_internet.query('mb_used == 0')))"
   ]
  },
  {
   "cell_type": "markdown",
   "id": "42be6420-286d-4751-bf9d-0d367c564cd8",
   "metadata": {},
   "source": [
    "#### Промежуточный вывод:"
   ]
  },
  {
   "cell_type": "markdown",
   "id": "d466fbc7-cf20-47c9-9b2a-53f995dc2ff9",
   "metadata": {},
   "source": [
    "- Избавимся далее от 0 значений, по всей видимости, это также сессии которые не были подключены, возможно из-за обрыва связи.\n",
    "- session_date приведём в формат datatime\n",
    "- Также имеется лишний столбец 'Unnamed: 0', по всей видимости, который является дубликатом столбца index. Мог появиться из-за наличия индексов в самом файле, столбец стоит удалить"
   ]
  },
  {
   "cell_type": "markdown",
   "id": "f52bda2b-0a28-464c-8352-f98498d8e198",
   "metadata": {
    "tags": []
   },
   "source": [
    "### Обзор tariffs (информация о тарифах):"
   ]
  },
  {
   "cell_type": "code",
   "execution_count": 19,
   "id": "21f24a30-2b6f-46bf-9420-a9c13cf29025",
   "metadata": {},
   "outputs": [
    {
     "data": {
      "text/html": [
       "<div>\n",
       "<style scoped>\n",
       "    .dataframe tbody tr th:only-of-type {\n",
       "        vertical-align: middle;\n",
       "    }\n",
       "\n",
       "    .dataframe tbody tr th {\n",
       "        vertical-align: top;\n",
       "    }\n",
       "\n",
       "    .dataframe thead th {\n",
       "        text-align: right;\n",
       "    }\n",
       "</style>\n",
       "<table border=\"1\" class=\"dataframe\">\n",
       "  <thead>\n",
       "    <tr style=\"text-align: right;\">\n",
       "      <th></th>\n",
       "      <th>messages_included</th>\n",
       "      <th>mb_per_month_included</th>\n",
       "      <th>minutes_included</th>\n",
       "      <th>rub_monthly_fee</th>\n",
       "      <th>rub_per_gb</th>\n",
       "      <th>rub_per_message</th>\n",
       "      <th>rub_per_minute</th>\n",
       "      <th>tariff_name</th>\n",
       "    </tr>\n",
       "  </thead>\n",
       "  <tbody>\n",
       "    <tr>\n",
       "      <th>0</th>\n",
       "      <td>50</td>\n",
       "      <td>15360</td>\n",
       "      <td>500</td>\n",
       "      <td>550</td>\n",
       "      <td>200</td>\n",
       "      <td>3</td>\n",
       "      <td>3</td>\n",
       "      <td>smart</td>\n",
       "    </tr>\n",
       "    <tr>\n",
       "      <th>1</th>\n",
       "      <td>1000</td>\n",
       "      <td>30720</td>\n",
       "      <td>3000</td>\n",
       "      <td>1950</td>\n",
       "      <td>150</td>\n",
       "      <td>1</td>\n",
       "      <td>1</td>\n",
       "      <td>ultra</td>\n",
       "    </tr>\n",
       "  </tbody>\n",
       "</table>\n",
       "</div>"
      ],
      "text/plain": [
       "   messages_included  mb_per_month_included  minutes_included  \\\n",
       "0                 50                  15360               500   \n",
       "1               1000                  30720              3000   \n",
       "\n",
       "   rub_monthly_fee  rub_per_gb  rub_per_message  rub_per_minute tariff_name  \n",
       "0              550         200                3               3       smart  \n",
       "1             1950         150                1               1       ultra  "
      ]
     },
     "execution_count": 19,
     "metadata": {},
     "output_type": "execute_result"
    }
   ],
   "source": [
    "data_tariffs.head(5)"
   ]
  },
  {
   "cell_type": "code",
   "execution_count": 20,
   "id": "1373aeef-4bd5-4e3a-b325-c45ab67ad465",
   "metadata": {},
   "outputs": [
    {
     "name": "stdout",
     "output_type": "stream",
     "text": [
      "<class 'pandas.core.frame.DataFrame'>\n",
      "RangeIndex: 2 entries, 0 to 1\n",
      "Data columns (total 8 columns):\n",
      " #   Column                 Non-Null Count  Dtype \n",
      "---  ------                 --------------  ----- \n",
      " 0   messages_included      2 non-null      int64 \n",
      " 1   mb_per_month_included  2 non-null      int64 \n",
      " 2   minutes_included       2 non-null      int64 \n",
      " 3   rub_monthly_fee        2 non-null      int64 \n",
      " 4   rub_per_gb             2 non-null      int64 \n",
      " 5   rub_per_message        2 non-null      int64 \n",
      " 6   rub_per_minute         2 non-null      int64 \n",
      " 7   tariff_name            2 non-null      object\n",
      "dtypes: int64(7), object(1)\n",
      "memory usage: 256.0+ bytes\n"
     ]
    }
   ],
   "source": [
    "data_tariffs.info()"
   ]
  },
  {
   "cell_type": "markdown",
   "id": "42e2011d-2fae-4255-94b6-a33c0b9850f9",
   "metadata": {},
   "source": [
    "#### Промежуточный вывод:"
   ]
  },
  {
   "cell_type": "markdown",
   "id": "fe51447d-6c31-4db1-a237-265391d688da",
   "metadata": {},
   "source": [
    "- Все данные стандартны, и соответствуют информации полученной в описании данных"
   ]
  },
  {
   "cell_type": "markdown",
   "id": "9e7b5b96-ea98-41a0-96e1-f3b23ed8e45b",
   "metadata": {},
   "source": [
    "### Общий вывод:"
   ]
  },
  {
   "cell_type": "markdown",
   "id": "6d728187-5446-4052-b272-4aa6de0e2b05",
   "metadata": {},
   "source": [
    "**Таблица users:**\n",
    "    \n",
    "    - reg_date в datatime.\n",
    "\n",
    "**Таблица calls:**\n",
    "\n",
    "    - Удалим нулевые значения.\n",
    "    - call_date в datatime.\n",
    "\n",
    "**Таблица message:**\n",
    "\n",
    "    - message_date в datatime\n",
    "\n",
    "**Таблица internet:**\n",
    "    \n",
    "    - Удалим нулевые значения.\n",
    "    - session_date в datatime\n",
    "    - Удалим столбец \"Unnamed: 0\"\n",
    "    \n",
    "**Все таблицы:**\n",
    "\n",
    "    - Сменим тип данных на 32 bit, для облегчения таблицы."
   ]
  },
  {
   "cell_type": "markdown",
   "id": "171030a5",
   "metadata": {},
   "source": [
    "<div class=\"alert alert-block alert-success\">\n",
    "<b>Комментарий ревьюера✅:</b> Отлично, мы подробно посмотрели на данные. Теперь понятно, с чем будем работать😉</div>\n",
    "\n"
   ]
  },
  {
   "cell_type": "markdown",
   "id": "5bf22219-27a1-4016-a99f-ff8796f2335e",
   "metadata": {},
   "source": [
    "## Предобработка данных:"
   ]
  },
  {
   "cell_type": "markdown",
   "id": "f7b65c6d-6409-4f14-ae06-3f2623a0dc6b",
   "metadata": {
    "tags": []
   },
   "source": [
    "### Удалим нулевые значения:"
   ]
  },
  {
   "cell_type": "markdown",
   "id": "1da67927-0081-42da-a105-6cadc472bf83",
   "metadata": {},
   "source": [
    "#### Таблица calls:"
   ]
  },
  {
   "cell_type": "code",
   "execution_count": 21,
   "id": "5772925c-f981-46b9-acc4-03a1e687c84a",
   "metadata": {},
   "outputs": [
    {
     "data": {
      "text/html": [
       "<div>\n",
       "<style scoped>\n",
       "    .dataframe tbody tr th:only-of-type {\n",
       "        vertical-align: middle;\n",
       "    }\n",
       "\n",
       "    .dataframe tbody tr th {\n",
       "        vertical-align: top;\n",
       "    }\n",
       "\n",
       "    .dataframe thead th {\n",
       "        text-align: right;\n",
       "    }\n",
       "</style>\n",
       "<table border=\"1\" class=\"dataframe\">\n",
       "  <thead>\n",
       "    <tr style=\"text-align: right;\">\n",
       "      <th></th>\n",
       "      <th>id</th>\n",
       "      <th>call_date</th>\n",
       "      <th>duration</th>\n",
       "      <th>user_id</th>\n",
       "    </tr>\n",
       "  </thead>\n",
       "  <tbody>\n",
       "    <tr>\n",
       "      <th>0</th>\n",
       "      <td>1000_0</td>\n",
       "      <td>2018-07-25</td>\n",
       "      <td>0.0</td>\n",
       "      <td>1000</td>\n",
       "    </tr>\n",
       "    <tr>\n",
       "      <th>1</th>\n",
       "      <td>1000_1</td>\n",
       "      <td>2018-08-17</td>\n",
       "      <td>0.0</td>\n",
       "      <td>1000</td>\n",
       "    </tr>\n",
       "    <tr>\n",
       "      <th>2</th>\n",
       "      <td>1000_2</td>\n",
       "      <td>2018-06-11</td>\n",
       "      <td>3.0</td>\n",
       "      <td>1000</td>\n",
       "    </tr>\n",
       "    <tr>\n",
       "      <th>3</th>\n",
       "      <td>1000_3</td>\n",
       "      <td>2018-09-21</td>\n",
       "      <td>14.0</td>\n",
       "      <td>1000</td>\n",
       "    </tr>\n",
       "    <tr>\n",
       "      <th>4</th>\n",
       "      <td>1000_4</td>\n",
       "      <td>2018-12-15</td>\n",
       "      <td>6.0</td>\n",
       "      <td>1000</td>\n",
       "    </tr>\n",
       "  </tbody>\n",
       "</table>\n",
       "</div>"
      ],
      "text/plain": [
       "       id   call_date  duration  user_id\n",
       "0  1000_0  2018-07-25       0.0     1000\n",
       "1  1000_1  2018-08-17       0.0     1000\n",
       "2  1000_2  2018-06-11       3.0     1000\n",
       "3  1000_3  2018-09-21      14.0     1000\n",
       "4  1000_4  2018-12-15       6.0     1000"
      ]
     },
     "metadata": {},
     "output_type": "display_data"
    },
    {
     "name": "stdout",
     "output_type": "stream",
     "text": [
      "Нулевых значений: 39613\n"
     ]
    }
   ],
   "source": [
    "# Округлим значения:\n",
    "data_calls['duration'] = data_calls['duration'].apply(np.ceil)\n",
    "display(data_calls.head())\n",
    "print('Нулевых значений:', len(data_calls.query('duration == 0.0')))"
   ]
  },
  {
   "cell_type": "markdown",
   "id": "fddf19df",
   "metadata": {},
   "source": [
    "<div class=\"alert alert-block alert-success\">\n",
    "<b>Комментарий ревьюера✅:</b> Все верно👍 Функцию np.ceil() можно применять без apply😉</div>\n",
    "\n",
    "\n",
    "\n"
   ]
  },
  {
   "cell_type": "markdown",
   "id": "a15a4d80-a304-4e8e-bd99-78c103e653d3",
   "metadata": {},
   "source": [
    "<div class=\"alert alert-block alert-info\">\n",
    "<b>Комментарий студента:</b> \n",
    "Не особо разобрался, как это делать. Если есть ссылка где можно почитать, буду благодарен :)\n",
    "</div>"
   ]
  },
  {
   "cell_type": "markdown",
   "id": "4b8ca082",
   "metadata": {},
   "source": [
    "<div class=\"alert alert-block alert-success\">\n",
    "<b>Комментарий ревьюера_v2✅:</b> \n",
    "    \n",
    "[Вот ссылка на документацию](https://numpy.org/doc/stable/reference/generated/numpy.ceil.html)\n",
    "    \n",
    "А сделать это можно так:"
   ]
  },
  {
   "cell_type": "code",
   "execution_count": 22,
   "id": "674c17f7",
   "metadata": {},
   "outputs": [],
   "source": [
    "# Код ревьюера\n",
    "#df['column'] = np.ceil(df['columns'])"
   ]
  },
  {
   "cell_type": "markdown",
   "id": "a72cb599-2b7f-4dca-a5a7-4d8adc3845af",
   "metadata": {},
   "source": [
    "Так как эти 0 не расходуют минуты и не нужны для нашего задания, удалим ненужные строки:"
   ]
  },
  {
   "cell_type": "code",
   "execution_count": 23,
   "id": "1438a46b-99f5-4ad5-b220-a1f273fcdf7d",
   "metadata": {},
   "outputs": [
    {
     "name": "stdout",
     "output_type": "stream",
     "text": [
      "Нулевых значений: 0\n",
      "<class 'pandas.core.frame.DataFrame'>\n",
      "Int64Index: 162994 entries, 2 to 202606\n",
      "Data columns (total 4 columns):\n",
      " #   Column     Non-Null Count   Dtype  \n",
      "---  ------     --------------   -----  \n",
      " 0   id         162994 non-null  object \n",
      " 1   call_date  162994 non-null  object \n",
      " 2   duration   162994 non-null  float64\n",
      " 3   user_id    162994 non-null  int64  \n",
      "dtypes: float64(1), int64(1), object(2)\n",
      "memory usage: 6.2+ MB\n"
     ]
    }
   ],
   "source": [
    "# Удаляем значения:\n",
    "data_calls['duration'] = data_calls['duration'].replace(0, np.NaN)\n",
    "data_calls = data_calls.dropna()\n",
    "\n",
    "print('Нулевых значений:', len(data_calls.query('duration == 0.0')))\n",
    "data_calls.info()"
   ]
  },
  {
   "cell_type": "markdown",
   "id": "043ccaf8-3ebe-41b5-8285-968c33716109",
   "metadata": {},
   "source": [
    "Успешно, посмотрим визуально:"
   ]
  },
  {
   "cell_type": "code",
   "execution_count": 24,
   "id": "9e308dde-4654-4d86-bf76-5ebf1e70f1b1",
   "metadata": {},
   "outputs": [
    {
     "data": {
      "text/plain": [
       "<function matplotlib.pyplot.show(close=None, block=None)>"
      ]
     },
     "execution_count": 24,
     "metadata": {},
     "output_type": "execute_result"
    },
    {
     "data": {
      "image/png": "[encoded data removed]",
      "text/plain": [
       "<Figure size 576x360 with 1 Axes>"
      ]
     },
     "metadata": {
      "needs_background": "light"
     },
     "output_type": "display_data"
    }
   ],
   "source": [
    "data_calls['duration'].plot(kind='hist', ec='black', bins=40, figsize=(8, 5))\n",
    "plt.show"
   ]
  },
  {
   "cell_type": "markdown",
   "id": "43b8fbaf",
   "metadata": {},
   "source": [
    "<div class=\"alert alert-block alert-success\">\n",
    "<b>Комментарий ревьюера✅:</b> 👍</div>\n",
    "\n",
    "\n",
    "\n"
   ]
  },
  {
   "cell_type": "markdown",
   "id": "ddefd19e-489b-42f4-8917-0cf606346a29",
   "metadata": {},
   "source": [
    "#### Таблица internet:"
   ]
  },
  {
   "cell_type": "markdown",
   "id": "253c6eb2",
   "metadata": {},
   "source": [
    "<div class=\"alert alert-block alert-danger\">\n",
    "<b>Комментарий ревьюера❌:</b> По поводу мегабайтов в задании сказано - Для веб-трафика отдельные сессии не считаются. Вместо этого общая сумма за месяц округляется в бо́льшую сторону. Если абонент использует 1025 мегабайт в этом месяце, с него возьмут плату за 2 гигабайта.\n",
    "\n",
    "Значит на этом этапе никаких округлений делать не нужно. Нужно будет округлить до целого вверх на этапе подсчета потраченных пользователем гигабайтов за месяц</div>\n",
    "\n",
    "\n",
    "\n"
   ]
  },
  {
   "cell_type": "markdown",
   "id": "9c4a68a9-63f2-4f89-b4f1-f39a931c6c7b",
   "metadata": {},
   "source": [
    "<div class=\"alert alert-block alert-info\">\n",
    "<b>Комментарий студента:</b> \n",
    "Убрал округление :)\n",
    "</div>"
   ]
  },
  {
   "cell_type": "markdown",
   "id": "84c78d18",
   "metadata": {},
   "source": [
    "<div class=\"alert alert-block alert-success\">\n",
    "<b>Комментарий ревьюера_v2✅:</b> Теперь согласен👍"
   ]
  },
  {
   "cell_type": "markdown",
   "id": "9a0c98bf-4582-41c9-9823-9ddf8a789980",
   "metadata": {},
   "source": [
    "Удалим строки:"
   ]
  },
  {
   "cell_type": "code",
   "execution_count": 25,
   "id": "cd3ec8ae-256b-4f75-bedd-f46b47c947d0",
   "metadata": {},
   "outputs": [
    {
     "name": "stdout",
     "output_type": "stream",
     "text": [
      "Нулевых значений: 0\n",
      "<class 'pandas.core.frame.DataFrame'>\n",
      "Int64Index: 129798 entries, 0 to 149395\n",
      "Data columns (total 4 columns):\n",
      " #   Column        Non-Null Count   Dtype  \n",
      "---  ------        --------------   -----  \n",
      " 0   id            129798 non-null  object \n",
      " 1   mb_used       129798 non-null  float64\n",
      " 2   session_date  129798 non-null  object \n",
      " 3   user_id       129798 non-null  int64  \n",
      "dtypes: float64(1), int64(1), object(2)\n",
      "memory usage: 5.0+ MB\n"
     ]
    }
   ],
   "source": [
    "# Удаляем значения:\n",
    "data_internet['mb_used'] = data_internet['mb_used'].replace(0, np.NaN)\n",
    "data_internet = data_internet.dropna()\n",
    "del data_internet['Unnamed: 0']\n",
    "\n",
    "print('Нулевых значений:', len(data_internet.query('mb_used == 0.0')))\n",
    "data_internet.info()"
   ]
  },
  {
   "cell_type": "markdown",
   "id": "7480fc45",
   "metadata": {},
   "source": [
    "<div class=\"alert alert-block alert-success\">\n",
    "<b>Комментарий ревьюера✅:</b> Unnamed: 0 возникает, когда данные сохраняют с указанием индекса pd.DataFrame().to_csv(..., index=column). Если при чтении указать этот столбец pd.read_csv(..., index_col=0) - данные сразу прочитаются корректно.</div>\n",
    "\n",
    "\n"
   ]
  },
  {
   "cell_type": "markdown",
   "id": "c84c7e73-dbdf-4879-8e0f-fb2c68bb07c0",
   "metadata": {},
   "source": [
    "Визуализируем:"
   ]
  },
  {
   "cell_type": "code",
   "execution_count": 26,
   "id": "fe5bd776-7ca4-45ab-8c8b-24d17c43af45",
   "metadata": {},
   "outputs": [
    {
     "data": {
      "text/plain": [
       "<AxesSubplot:ylabel='Frequency'>"
      ]
     },
     "execution_count": 26,
     "metadata": {},
     "output_type": "execute_result"
    },
    {
     "data": {
      "image/png": "[encoded data removed]",
      "text/plain": [
       "<Figure size 576x360 with 1 Axes>"
      ]
     },
     "metadata": {
      "needs_background": "light"
     },
     "output_type": "display_data"
    }
   ],
   "source": [
    "data_internet['mb_used'].plot(kind='hist', ec='black', bins=60, figsize=(8, 5))"
   ]
  },
  {
   "cell_type": "markdown",
   "id": "a5e877c3-d9c2-4a97-8817-da209eeea62e",
   "metadata": {},
   "source": [
    "Успешно удалили значения."
   ]
  },
  {
   "cell_type": "markdown",
   "id": "9c99f964-fa31-4ad3-a771-ea8b9e04a17f",
   "metadata": {
    "tags": []
   },
   "source": [
    "### datatime:"
   ]
  },
  {
   "cell_type": "code",
   "execution_count": 27,
   "id": "cfc2744d-773f-474e-9e33-0f5cfeca6448",
   "metadata": {},
   "outputs": [],
   "source": [
    "# Функция, добавляющая месяц и сменяющая формат:\n",
    "def date_to_month(data):\n",
    "    for df in data:\n",
    "        for column in df.columns:\n",
    "            if 'date' in column and column != 'churn_date':\n",
    "                df[column] = pd.to_datetime(df[column], format='%Y-%m-%d')\n",
    "                df['month'] = df[column].apply(lambda x: x.month)"
   ]
  },
  {
   "cell_type": "code",
   "execution_count": 28,
   "id": "5fada27f-336c-404f-92b3-057ba389695e",
   "metadata": {
    "tags": []
   },
   "outputs": [
    {
     "name": "stdout",
     "output_type": "stream",
     "text": [
      "<class 'pandas.core.frame.DataFrame'>\n",
      "RangeIndex: 500 entries, 0 to 499\n",
      "Data columns (total 9 columns):\n",
      " #   Column      Non-Null Count  Dtype         \n",
      "---  ------      --------------  -----         \n",
      " 0   user_id     500 non-null    int64         \n",
      " 1   age         500 non-null    int64         \n",
      " 2   churn_date  38 non-null     object        \n",
      " 3   city        500 non-null    object        \n",
      " 4   first_name  500 non-null    object        \n",
      " 5   last_name   500 non-null    object        \n",
      " 6   reg_date    500 non-null    datetime64[ns]\n",
      " 7   tariff      500 non-null    object        \n",
      " 8   month       500 non-null    int64         \n",
      "dtypes: datetime64[ns](1), int64(3), object(5)\n",
      "memory usage: 35.3+ KB\n"
     ]
    },
    {
     "data": {
      "text/plain": [
       "None"
      ]
     },
     "metadata": {},
     "output_type": "display_data"
    },
    {
     "name": "stdout",
     "output_type": "stream",
     "text": [
      "\n",
      "<class 'pandas.core.frame.DataFrame'>\n",
      "Int64Index: 162994 entries, 2 to 202606\n",
      "Data columns (total 5 columns):\n",
      " #   Column     Non-Null Count   Dtype         \n",
      "---  ------     --------------   -----         \n",
      " 0   id         162994 non-null  object        \n",
      " 1   call_date  162994 non-null  datetime64[ns]\n",
      " 2   duration   162994 non-null  float64       \n",
      " 3   user_id    162994 non-null  int64         \n",
      " 4   month      162994 non-null  int64         \n",
      "dtypes: datetime64[ns](1), float64(1), int64(2), object(1)\n",
      "memory usage: 7.5+ MB\n"
     ]
    },
    {
     "data": {
      "text/plain": [
       "None"
      ]
     },
     "metadata": {},
     "output_type": "display_data"
    },
    {
     "name": "stdout",
     "output_type": "stream",
     "text": [
      "\n",
      "<class 'pandas.core.frame.DataFrame'>\n",
      "RangeIndex: 123036 entries, 0 to 123035\n",
      "Data columns (total 4 columns):\n",
      " #   Column        Non-Null Count   Dtype         \n",
      "---  ------        --------------   -----         \n",
      " 0   id            123036 non-null  object        \n",
      " 1   message_date  123036 non-null  datetime64[ns]\n",
      " 2   user_id       123036 non-null  int64         \n",
      " 3   month         123036 non-null  int64         \n",
      "dtypes: datetime64[ns](1), int64(2), object(1)\n",
      "memory usage: 3.8+ MB\n"
     ]
    },
    {
     "data": {
      "text/plain": [
       "None"
      ]
     },
     "metadata": {},
     "output_type": "display_data"
    },
    {
     "name": "stdout",
     "output_type": "stream",
     "text": [
      "\n",
      "<class 'pandas.core.frame.DataFrame'>\n",
      "Int64Index: 129798 entries, 0 to 149395\n",
      "Data columns (total 5 columns):\n",
      " #   Column        Non-Null Count   Dtype         \n",
      "---  ------        --------------   -----         \n",
      " 0   id            129798 non-null  object        \n",
      " 1   mb_used       129798 non-null  float64       \n",
      " 2   session_date  129798 non-null  datetime64[ns]\n",
      " 3   user_id       129798 non-null  int64         \n",
      " 4   month         129798 non-null  int64         \n",
      "dtypes: datetime64[ns](1), float64(1), int64(2), object(1)\n",
      "memory usage: 5.9+ MB\n"
     ]
    },
    {
     "data": {
      "text/plain": [
       "None"
      ]
     },
     "metadata": {},
     "output_type": "display_data"
    }
   ],
   "source": [
    "# Применим функцию:\n",
    "date_to_month([data_users, data_calls, data_messages, data_internet])\n",
    "\n",
    "display(data_users.info())\n",
    "print()\n",
    "display(data_calls.info())\n",
    "print()\n",
    "display(data_messages.info())\n",
    "print()\n",
    "display(data_internet.info())"
   ]
  },
  {
   "cell_type": "markdown",
   "id": "50bfe0c5",
   "metadata": {},
   "source": [
    "<div class=\"alert alert-block alert-success\">\n",
    "<b>Комментарий ревьюера✅:</b> Все верно👍</div>"
   ]
  },
  {
   "cell_type": "markdown",
   "id": "df10b74c-5b57-4bc2-8d46-6681749877f8",
   "metadata": {},
   "source": [
    "### Сменим тип данных:"
   ]
  },
  {
   "cell_type": "code",
   "execution_count": 29,
   "id": "ff4f2f16-a1bf-4a4a-bb68-be3da8581c7c",
   "metadata": {},
   "outputs": [
    {
     "name": "stdout",
     "output_type": "stream",
     "text": [
      "<class 'pandas.core.frame.DataFrame'>\n",
      "RangeIndex: 500 entries, 0 to 499\n",
      "Data columns (total 9 columns):\n",
      " #   Column      Non-Null Count  Dtype         \n",
      "---  ------      --------------  -----         \n",
      " 0   user_id     500 non-null    int32         \n",
      " 1   age         500 non-null    int32         \n",
      " 2   churn_date  38 non-null     object        \n",
      " 3   city        500 non-null    object        \n",
      " 4   first_name  500 non-null    object        \n",
      " 5   last_name   500 non-null    object        \n",
      " 6   reg_date    500 non-null    datetime64[ns]\n",
      " 7   tariff      500 non-null    object        \n",
      " 8   month       500 non-null    int32         \n",
      "dtypes: datetime64[ns](1), int32(3), object(5)\n",
      "memory usage: 29.4+ KB\n"
     ]
    },
    {
     "data": {
      "text/plain": [
       "None"
      ]
     },
     "metadata": {},
     "output_type": "display_data"
    },
    {
     "name": "stdout",
     "output_type": "stream",
     "text": [
      "\n",
      "<class 'pandas.core.frame.DataFrame'>\n",
      "Int64Index: 162994 entries, 2 to 202606\n",
      "Data columns (total 5 columns):\n",
      " #   Column     Non-Null Count   Dtype         \n",
      "---  ------     --------------   -----         \n",
      " 0   id         162994 non-null  object        \n",
      " 1   call_date  162994 non-null  datetime64[ns]\n",
      " 2   duration   162994 non-null  float32       \n",
      " 3   user_id    162994 non-null  int32         \n",
      " 4   month      162994 non-null  int32         \n",
      "dtypes: datetime64[ns](1), float32(1), int32(2), object(1)\n",
      "memory usage: 5.6+ MB\n"
     ]
    },
    {
     "data": {
      "text/plain": [
       "None"
      ]
     },
     "metadata": {},
     "output_type": "display_data"
    },
    {
     "name": "stdout",
     "output_type": "stream",
     "text": [
      "\n",
      "<class 'pandas.core.frame.DataFrame'>\n",
      "RangeIndex: 123036 entries, 0 to 123035\n",
      "Data columns (total 4 columns):\n",
      " #   Column        Non-Null Count   Dtype         \n",
      "---  ------        --------------   -----         \n",
      " 0   id            123036 non-null  object        \n",
      " 1   message_date  123036 non-null  datetime64[ns]\n",
      " 2   user_id       123036 non-null  int32         \n",
      " 3   month         123036 non-null  int32         \n",
      "dtypes: datetime64[ns](1), int32(2), object(1)\n",
      "memory usage: 2.8+ MB\n"
     ]
    },
    {
     "data": {
      "text/plain": [
       "None"
      ]
     },
     "metadata": {},
     "output_type": "display_data"
    },
    {
     "name": "stdout",
     "output_type": "stream",
     "text": [
      "\n",
      "<class 'pandas.core.frame.DataFrame'>\n",
      "Int64Index: 129798 entries, 0 to 149395\n",
      "Data columns (total 5 columns):\n",
      " #   Column        Non-Null Count   Dtype         \n",
      "---  ------        --------------   -----         \n",
      " 0   id            129798 non-null  object        \n",
      " 1   mb_used       129798 non-null  float32       \n",
      " 2   session_date  129798 non-null  datetime64[ns]\n",
      " 3   user_id       129798 non-null  int32         \n",
      " 4   month         129798 non-null  int32         \n",
      "dtypes: datetime64[ns](1), float32(1), int32(2), object(1)\n",
      "memory usage: 4.5+ MB\n"
     ]
    },
    {
     "data": {
      "text/plain": [
       "None"
      ]
     },
     "metadata": {},
     "output_type": "display_data"
    }
   ],
   "source": [
    "# Таблица data_users\n",
    "data_users['user_id'] = data_users['user_id'].astype('int32')\n",
    "data_users['age'] = data_users['age'].astype('int32')\n",
    "data_users['month'] = data_users['month'].astype('int32')\n",
    "\n",
    "# Таблица data_calls\n",
    "data_calls['duration'] = data_calls['duration'].astype('float32')\n",
    "data_calls['user_id'] = data_calls['user_id'].astype('int32')\n",
    "data_calls['month'] = data_calls['month'].astype('int32')\n",
    "\n",
    "# Таблица data_messages:\n",
    "data_messages['user_id'] = data_messages['user_id'].astype('int32')\n",
    "data_messages['month'] = data_messages['month'].astype('int32')\n",
    "\n",
    "# Таблица data_internet:\n",
    "data_internet['mb_used'] = data_internet['mb_used'].astype('float32')\n",
    "data_internet['user_id'] = data_internet['user_id'].astype('int32')\n",
    "data_internet['month'] = data_internet['month'].astype('int32')\n",
    "\n",
    "# Проверка результатов:\n",
    "display(data_users.info())\n",
    "print()\n",
    "display(data_calls.info())\n",
    "print()\n",
    "display(data_messages.info())\n",
    "print()\n",
    "display(data_internet.info())"
   ]
  },
  {
   "cell_type": "markdown",
   "id": "75b7ea0c",
   "metadata": {},
   "source": [
    "<div class=\"alert alert-block alert-success\">\n",
    "<b>Комментарий ревьюера✅:</b> Согласен👍</div>"
   ]
  },
  {
   "cell_type": "markdown",
   "id": "6ff6da96-e3f2-43d3-a378-56142028f179",
   "metadata": {},
   "source": [
    "### Посчитаем для каждого пользователя:\n",
    "- Количество сделанных звонков и израсходованных минут разговора по месяцам.\n",
    "- Количество отправленных сообщений по месяцам.\n",
    "- Объем израсходованного интернет-трафика по месяцам.\n",
    "- Ежемесячную выручку с каждого пользователя."
   ]
  },
  {
   "cell_type": "markdown",
   "id": "00c39ec6-f8be-438c-a88a-a4a9b2862852",
   "metadata": {},
   "source": [
    "#### Количество сделанных звонков и израсходованных минут разговора по месяцам:"
   ]
  },
  {
   "cell_type": "code",
   "execution_count": 30,
   "id": "411ed265-3f73-40d0-b729-970b5a3efde5",
   "metadata": {},
   "outputs": [
    {
     "data": {
      "text/html": [
       "<div>\n",
       "<style scoped>\n",
       "    .dataframe tbody tr th:only-of-type {\n",
       "        vertical-align: middle;\n",
       "    }\n",
       "\n",
       "    .dataframe tbody tr th {\n",
       "        vertical-align: top;\n",
       "    }\n",
       "\n",
       "    .dataframe thead th {\n",
       "        text-align: right;\n",
       "    }\n",
       "</style>\n",
       "<table border=\"1\" class=\"dataframe\">\n",
       "  <thead>\n",
       "    <tr style=\"text-align: right;\">\n",
       "      <th></th>\n",
       "      <th></th>\n",
       "      <th>calls count</th>\n",
       "      <th>calls duration</th>\n",
       "    </tr>\n",
       "    <tr>\n",
       "      <th>user_id</th>\n",
       "      <th>month</th>\n",
       "      <th></th>\n",
       "      <th></th>\n",
       "    </tr>\n",
       "  </thead>\n",
       "  <tbody>\n",
       "    <tr>\n",
       "      <th rowspan=\"5\" valign=\"top\">1000</th>\n",
       "      <th>5</th>\n",
       "      <td>17</td>\n",
       "      <td>159.0</td>\n",
       "    </tr>\n",
       "    <tr>\n",
       "      <th>6</th>\n",
       "      <td>28</td>\n",
       "      <td>172.0</td>\n",
       "    </tr>\n",
       "    <tr>\n",
       "      <th>7</th>\n",
       "      <td>41</td>\n",
       "      <td>340.0</td>\n",
       "    </tr>\n",
       "    <tr>\n",
       "      <th>8</th>\n",
       "      <td>42</td>\n",
       "      <td>408.0</td>\n",
       "    </tr>\n",
       "    <tr>\n",
       "      <th>9</th>\n",
       "      <td>46</td>\n",
       "      <td>466.0</td>\n",
       "    </tr>\n",
       "    <tr>\n",
       "      <th>...</th>\n",
       "      <th>...</th>\n",
       "      <td>...</td>\n",
       "      <td>...</td>\n",
       "    </tr>\n",
       "    <tr>\n",
       "      <th>1498</th>\n",
       "      <th>10</th>\n",
       "      <td>30</td>\n",
       "      <td>247.0</td>\n",
       "    </tr>\n",
       "    <tr>\n",
       "      <th rowspan=\"4\" valign=\"top\">1499</th>\n",
       "      <th>9</th>\n",
       "      <td>8</td>\n",
       "      <td>70.0</td>\n",
       "    </tr>\n",
       "    <tr>\n",
       "      <th>10</th>\n",
       "      <td>44</td>\n",
       "      <td>449.0</td>\n",
       "    </tr>\n",
       "    <tr>\n",
       "      <th>11</th>\n",
       "      <td>62</td>\n",
       "      <td>612.0</td>\n",
       "    </tr>\n",
       "    <tr>\n",
       "      <th>12</th>\n",
       "      <td>56</td>\n",
       "      <td>492.0</td>\n",
       "    </tr>\n",
       "  </tbody>\n",
       "</table>\n",
       "<p>3168 rows × 2 columns</p>\n",
       "</div>"
      ],
      "text/plain": [
       "               calls count  calls duration\n",
       "user_id month                             \n",
       "1000    5               17           159.0\n",
       "        6               28           172.0\n",
       "        7               41           340.0\n",
       "        8               42           408.0\n",
       "        9               46           466.0\n",
       "...                    ...             ...\n",
       "1498    10              30           247.0\n",
       "1499    9                8            70.0\n",
       "        10              44           449.0\n",
       "        11              62           612.0\n",
       "        12              56           492.0\n",
       "\n",
       "[3168 rows x 2 columns]"
      ]
     },
     "execution_count": 30,
     "metadata": {},
     "output_type": "execute_result"
    }
   ],
   "source": [
    "# Создадим сводную таблицу\n",
    "pivot_calls = data_calls.pivot_table(index=['user_id', 'month'], values='duration', aggfunc=['count', 'sum'])\n",
    "# Переименуем столбцы\n",
    "pivot_calls.columns=['calls count', 'calls duration']\n",
    "pivot_calls"
   ]
  },
  {
   "cell_type": "markdown",
   "id": "610af7db-b3d7-4041-a4ee-7f5622cd815b",
   "metadata": {},
   "source": [
    "#### Количество отправленных сообщений по месяцам:"
   ]
  },
  {
   "cell_type": "code",
   "execution_count": 31,
   "id": "a8b79c95-8d04-4e49-a171-b336b6e00d6b",
   "metadata": {},
   "outputs": [
    {
     "data": {
      "text/html": [
       "<div>\n",
       "<style scoped>\n",
       "    .dataframe tbody tr th:only-of-type {\n",
       "        vertical-align: middle;\n",
       "    }\n",
       "\n",
       "    .dataframe tbody tr th {\n",
       "        vertical-align: top;\n",
       "    }\n",
       "\n",
       "    .dataframe thead th {\n",
       "        text-align: right;\n",
       "    }\n",
       "</style>\n",
       "<table border=\"1\" class=\"dataframe\">\n",
       "  <thead>\n",
       "    <tr style=\"text-align: right;\">\n",
       "      <th></th>\n",
       "      <th></th>\n",
       "      <th>messages count</th>\n",
       "    </tr>\n",
       "    <tr>\n",
       "      <th>user_id</th>\n",
       "      <th>month</th>\n",
       "      <th></th>\n",
       "    </tr>\n",
       "  </thead>\n",
       "  <tbody>\n",
       "    <tr>\n",
       "      <th rowspan=\"5\" valign=\"top\">1000</th>\n",
       "      <th>5</th>\n",
       "      <td>22</td>\n",
       "    </tr>\n",
       "    <tr>\n",
       "      <th>6</th>\n",
       "      <td>60</td>\n",
       "    </tr>\n",
       "    <tr>\n",
       "      <th>7</th>\n",
       "      <td>75</td>\n",
       "    </tr>\n",
       "    <tr>\n",
       "      <th>8</th>\n",
       "      <td>81</td>\n",
       "    </tr>\n",
       "    <tr>\n",
       "      <th>9</th>\n",
       "      <td>57</td>\n",
       "    </tr>\n",
       "    <tr>\n",
       "      <th>...</th>\n",
       "      <th>...</th>\n",
       "      <td>...</td>\n",
       "    </tr>\n",
       "    <tr>\n",
       "      <th>1498</th>\n",
       "      <th>10</th>\n",
       "      <td>42</td>\n",
       "    </tr>\n",
       "    <tr>\n",
       "      <th rowspan=\"4\" valign=\"top\">1499</th>\n",
       "      <th>9</th>\n",
       "      <td>11</td>\n",
       "    </tr>\n",
       "    <tr>\n",
       "      <th>10</th>\n",
       "      <td>48</td>\n",
       "    </tr>\n",
       "    <tr>\n",
       "      <th>11</th>\n",
       "      <td>59</td>\n",
       "    </tr>\n",
       "    <tr>\n",
       "      <th>12</th>\n",
       "      <td>66</td>\n",
       "    </tr>\n",
       "  </tbody>\n",
       "</table>\n",
       "<p>2717 rows × 1 columns</p>\n",
       "</div>"
      ],
      "text/plain": [
       "               messages count\n",
       "user_id month                \n",
       "1000    5                  22\n",
       "        6                  60\n",
       "        7                  75\n",
       "        8                  81\n",
       "        9                  57\n",
       "...                       ...\n",
       "1498    10                 42\n",
       "1499    9                  11\n",
       "        10                 48\n",
       "        11                 59\n",
       "        12                 66\n",
       "\n",
       "[2717 rows x 1 columns]"
      ]
     },
     "execution_count": 31,
     "metadata": {},
     "output_type": "execute_result"
    }
   ],
   "source": [
    "pivot_messages = data_messages.pivot_table(index=['user_id', 'month'], values='message_date', aggfunc='count')\n",
    "pivot_messages.columns=['messages count']\n",
    "pivot_messages"
   ]
  },
  {
   "cell_type": "markdown",
   "id": "70595f2a-5457-4c01-ae74-c5dd3e4baa7e",
   "metadata": {},
   "source": [
    "#### Объем израсходованного интернет-трафика по месяцам:"
   ]
  },
  {
   "cell_type": "code",
   "execution_count": 32,
   "id": "236a7227-f734-4f6f-87b7-de15f4be79aa",
   "metadata": {},
   "outputs": [
    {
     "data": {
      "text/html": [
       "<div>\n",
       "<style scoped>\n",
       "    .dataframe tbody tr th:only-of-type {\n",
       "        vertical-align: middle;\n",
       "    }\n",
       "\n",
       "    .dataframe tbody tr th {\n",
       "        vertical-align: top;\n",
       "    }\n",
       "\n",
       "    .dataframe thead th {\n",
       "        text-align: right;\n",
       "    }\n",
       "</style>\n",
       "<table border=\"1\" class=\"dataframe\">\n",
       "  <thead>\n",
       "    <tr style=\"text-align: right;\">\n",
       "      <th></th>\n",
       "      <th></th>\n",
       "      <th>mb sum</th>\n",
       "    </tr>\n",
       "    <tr>\n",
       "      <th>user_id</th>\n",
       "      <th>month</th>\n",
       "      <th></th>\n",
       "    </tr>\n",
       "  </thead>\n",
       "  <tbody>\n",
       "    <tr>\n",
       "      <th rowspan=\"5\" valign=\"top\">1000</th>\n",
       "      <th>5</th>\n",
       "      <td>2253.489990</td>\n",
       "    </tr>\n",
       "    <tr>\n",
       "      <th>6</th>\n",
       "      <td>23233.769531</td>\n",
       "    </tr>\n",
       "    <tr>\n",
       "      <th>7</th>\n",
       "      <td>14003.639648</td>\n",
       "    </tr>\n",
       "    <tr>\n",
       "      <th>8</th>\n",
       "      <td>14055.929688</td>\n",
       "    </tr>\n",
       "    <tr>\n",
       "      <th>9</th>\n",
       "      <td>14568.910156</td>\n",
       "    </tr>\n",
       "    <tr>\n",
       "      <th>...</th>\n",
       "      <th>...</th>\n",
       "      <td>...</td>\n",
       "    </tr>\n",
       "    <tr>\n",
       "      <th>1498</th>\n",
       "      <th>10</th>\n",
       "      <td>20579.359375</td>\n",
       "    </tr>\n",
       "    <tr>\n",
       "      <th rowspan=\"4\" valign=\"top\">1499</th>\n",
       "      <th>9</th>\n",
       "      <td>1845.750000</td>\n",
       "    </tr>\n",
       "    <tr>\n",
       "      <th>10</th>\n",
       "      <td>17788.509766</td>\n",
       "    </tr>\n",
       "    <tr>\n",
       "      <th>11</th>\n",
       "      <td>17963.310547</td>\n",
       "    </tr>\n",
       "    <tr>\n",
       "      <th>12</th>\n",
       "      <td>13055.580078</td>\n",
       "    </tr>\n",
       "  </tbody>\n",
       "</table>\n",
       "<p>3201 rows × 1 columns</p>\n",
       "</div>"
      ],
      "text/plain": [
       "                     mb sum\n",
       "user_id month              \n",
       "1000    5       2253.489990\n",
       "        6      23233.769531\n",
       "        7      14003.639648\n",
       "        8      14055.929688\n",
       "        9      14568.910156\n",
       "...                     ...\n",
       "1498    10     20579.359375\n",
       "1499    9       1845.750000\n",
       "        10     17788.509766\n",
       "        11     17963.310547\n",
       "        12     13055.580078\n",
       "\n",
       "[3201 rows x 1 columns]"
      ]
     },
     "execution_count": 32,
     "metadata": {},
     "output_type": "execute_result"
    }
   ],
   "source": [
    "pivot_internet = data_internet.pivot_table(index=['user_id', 'month'], values='mb_used', aggfunc='sum')\n",
    "pivot_internet.columns=['mb sum']\n",
    "pivot_internet"
   ]
  },
  {
   "cell_type": "markdown",
   "id": "728301e6",
   "metadata": {},
   "source": [
    "<div class=\"alert alert-block alert-success\">\n",
    "<b>Комментарий ревьюера✅:</b> Все верно👍 </div>\n",
    "\n",
    "\n",
    "\n"
   ]
  },
  {
   "cell_type": "markdown",
   "id": "a1b83fc8-dcdc-4a31-b9d7-a1c8b9437eea",
   "metadata": {},
   "source": [
    "#### Объединение таблиц:"
   ]
  },
  {
   "cell_type": "code",
   "execution_count": 33,
   "id": "1c15c8b3-125e-414b-b150-a8100e0e7bc0",
   "metadata": {},
   "outputs": [
    {
     "data": {
      "text/html": [
       "<div>\n",
       "<style scoped>\n",
       "    .dataframe tbody tr th:only-of-type {\n",
       "        vertical-align: middle;\n",
       "    }\n",
       "\n",
       "    .dataframe tbody tr th {\n",
       "        vertical-align: top;\n",
       "    }\n",
       "\n",
       "    .dataframe thead th {\n",
       "        text-align: right;\n",
       "    }\n",
       "</style>\n",
       "<table border=\"1\" class=\"dataframe\">\n",
       "  <thead>\n",
       "    <tr style=\"text-align: right;\">\n",
       "      <th></th>\n",
       "      <th></th>\n",
       "      <th>calls count</th>\n",
       "      <th>calls duration</th>\n",
       "      <th>mb sum</th>\n",
       "      <th>messages count</th>\n",
       "    </tr>\n",
       "    <tr>\n",
       "      <th>user_id</th>\n",
       "      <th>month</th>\n",
       "      <th></th>\n",
       "      <th></th>\n",
       "      <th></th>\n",
       "      <th></th>\n",
       "    </tr>\n",
       "  </thead>\n",
       "  <tbody>\n",
       "    <tr>\n",
       "      <th rowspan=\"8\" valign=\"top\">1000</th>\n",
       "      <th>5</th>\n",
       "      <td>17.0</td>\n",
       "      <td>159.0</td>\n",
       "      <td>2253.489990</td>\n",
       "      <td>22.0</td>\n",
       "    </tr>\n",
       "    <tr>\n",
       "      <th>6</th>\n",
       "      <td>28.0</td>\n",
       "      <td>172.0</td>\n",
       "      <td>23233.769531</td>\n",
       "      <td>60.0</td>\n",
       "    </tr>\n",
       "    <tr>\n",
       "      <th>7</th>\n",
       "      <td>41.0</td>\n",
       "      <td>340.0</td>\n",
       "      <td>14003.639648</td>\n",
       "      <td>75.0</td>\n",
       "    </tr>\n",
       "    <tr>\n",
       "      <th>8</th>\n",
       "      <td>42.0</td>\n",
       "      <td>408.0</td>\n",
       "      <td>14055.929688</td>\n",
       "      <td>81.0</td>\n",
       "    </tr>\n",
       "    <tr>\n",
       "      <th>9</th>\n",
       "      <td>46.0</td>\n",
       "      <td>466.0</td>\n",
       "      <td>14568.910156</td>\n",
       "      <td>57.0</td>\n",
       "    </tr>\n",
       "    <tr>\n",
       "      <th>10</th>\n",
       "      <td>44.0</td>\n",
       "      <td>350.0</td>\n",
       "      <td>14702.490234</td>\n",
       "      <td>73.0</td>\n",
       "    </tr>\n",
       "    <tr>\n",
       "      <th>11</th>\n",
       "      <td>37.0</td>\n",
       "      <td>338.0</td>\n",
       "      <td>14756.469727</td>\n",
       "      <td>58.0</td>\n",
       "    </tr>\n",
       "    <tr>\n",
       "      <th>12</th>\n",
       "      <td>38.0</td>\n",
       "      <td>333.0</td>\n",
       "      <td>9817.610352</td>\n",
       "      <td>70.0</td>\n",
       "    </tr>\n",
       "    <tr>\n",
       "      <th rowspan=\"2\" valign=\"top\">1001</th>\n",
       "      <th>11</th>\n",
       "      <td>45.0</td>\n",
       "      <td>430.0</td>\n",
       "      <td>18429.339844</td>\n",
       "      <td>NaN</td>\n",
       "    </tr>\n",
       "    <tr>\n",
       "      <th>12</th>\n",
       "      <td>47.0</td>\n",
       "      <td>414.0</td>\n",
       "      <td>14036.660156</td>\n",
       "      <td>NaN</td>\n",
       "    </tr>\n",
       "  </tbody>\n",
       "</table>\n",
       "</div>"
      ],
      "text/plain": [
       "               calls count  calls duration        mb sum  messages count\n",
       "user_id month                                                           \n",
       "1000    5             17.0           159.0   2253.489990            22.0\n",
       "        6             28.0           172.0  23233.769531            60.0\n",
       "        7             41.0           340.0  14003.639648            75.0\n",
       "        8             42.0           408.0  14055.929688            81.0\n",
       "        9             46.0           466.0  14568.910156            57.0\n",
       "        10            44.0           350.0  14702.490234            73.0\n",
       "        11            37.0           338.0  14756.469727            58.0\n",
       "        12            38.0           333.0   9817.610352            70.0\n",
       "1001    11            45.0           430.0  18429.339844             NaN\n",
       "        12            47.0           414.0  14036.660156             NaN"
      ]
     },
     "execution_count": 33,
     "metadata": {},
     "output_type": "execute_result"
    }
   ],
   "source": [
    "# Создадим одну сводную таблицу, соединив прошлые:\n",
    "data_pivot = pivot_calls.join([pivot_internet, pivot_messages], how='outer')\n",
    "data_pivot.head(10)"
   ]
  },
  {
   "cell_type": "code",
   "execution_count": 34,
   "id": "da1faecc-15a7-4c21-a892-11b4428a4fcb",
   "metadata": {},
   "outputs": [
    {
     "data": {
      "text/html": [
       "<div>\n",
       "<style scoped>\n",
       "    .dataframe tbody tr th:only-of-type {\n",
       "        vertical-align: middle;\n",
       "    }\n",
       "\n",
       "    .dataframe tbody tr th {\n",
       "        vertical-align: top;\n",
       "    }\n",
       "\n",
       "    .dataframe thead th {\n",
       "        text-align: right;\n",
       "    }\n",
       "</style>\n",
       "<table border=\"1\" class=\"dataframe\">\n",
       "  <thead>\n",
       "    <tr style=\"text-align: right;\">\n",
       "      <th></th>\n",
       "      <th></th>\n",
       "      <th>calls count</th>\n",
       "      <th>calls duration</th>\n",
       "      <th>mb sum</th>\n",
       "      <th>messages count</th>\n",
       "      <th>tariff</th>\n",
       "      <th>city</th>\n",
       "    </tr>\n",
       "    <tr>\n",
       "      <th>user_id</th>\n",
       "      <th>month</th>\n",
       "      <th></th>\n",
       "      <th></th>\n",
       "      <th></th>\n",
       "      <th></th>\n",
       "      <th></th>\n",
       "      <th></th>\n",
       "    </tr>\n",
       "  </thead>\n",
       "  <tbody>\n",
       "    <tr>\n",
       "      <th rowspan=\"8\" valign=\"top\">1000</th>\n",
       "      <th>5</th>\n",
       "      <td>17.0</td>\n",
       "      <td>159.0</td>\n",
       "      <td>2253.489990</td>\n",
       "      <td>22.0</td>\n",
       "      <td>ultra</td>\n",
       "      <td>Краснодар</td>\n",
       "    </tr>\n",
       "    <tr>\n",
       "      <th>6</th>\n",
       "      <td>28.0</td>\n",
       "      <td>172.0</td>\n",
       "      <td>23233.769531</td>\n",
       "      <td>60.0</td>\n",
       "      <td>ultra</td>\n",
       "      <td>Краснодар</td>\n",
       "    </tr>\n",
       "    <tr>\n",
       "      <th>7</th>\n",
       "      <td>41.0</td>\n",
       "      <td>340.0</td>\n",
       "      <td>14003.639648</td>\n",
       "      <td>75.0</td>\n",
       "      <td>ultra</td>\n",
       "      <td>Краснодар</td>\n",
       "    </tr>\n",
       "    <tr>\n",
       "      <th>8</th>\n",
       "      <td>42.0</td>\n",
       "      <td>408.0</td>\n",
       "      <td>14055.929688</td>\n",
       "      <td>81.0</td>\n",
       "      <td>ultra</td>\n",
       "      <td>Краснодар</td>\n",
       "    </tr>\n",
       "    <tr>\n",
       "      <th>9</th>\n",
       "      <td>46.0</td>\n",
       "      <td>466.0</td>\n",
       "      <td>14568.910156</td>\n",
       "      <td>57.0</td>\n",
       "      <td>ultra</td>\n",
       "      <td>Краснодар</td>\n",
       "    </tr>\n",
       "    <tr>\n",
       "      <th>10</th>\n",
       "      <td>44.0</td>\n",
       "      <td>350.0</td>\n",
       "      <td>14702.490234</td>\n",
       "      <td>73.0</td>\n",
       "      <td>ultra</td>\n",
       "      <td>Краснодар</td>\n",
       "    </tr>\n",
       "    <tr>\n",
       "      <th>11</th>\n",
       "      <td>37.0</td>\n",
       "      <td>338.0</td>\n",
       "      <td>14756.469727</td>\n",
       "      <td>58.0</td>\n",
       "      <td>ultra</td>\n",
       "      <td>Краснодар</td>\n",
       "    </tr>\n",
       "    <tr>\n",
       "      <th>12</th>\n",
       "      <td>38.0</td>\n",
       "      <td>333.0</td>\n",
       "      <td>9817.610352</td>\n",
       "      <td>70.0</td>\n",
       "      <td>ultra</td>\n",
       "      <td>Краснодар</td>\n",
       "    </tr>\n",
       "    <tr>\n",
       "      <th rowspan=\"2\" valign=\"top\">1001</th>\n",
       "      <th>11</th>\n",
       "      <td>45.0</td>\n",
       "      <td>430.0</td>\n",
       "      <td>18429.339844</td>\n",
       "      <td>NaN</td>\n",
       "      <td>smart</td>\n",
       "      <td>Москва</td>\n",
       "    </tr>\n",
       "    <tr>\n",
       "      <th>12</th>\n",
       "      <td>47.0</td>\n",
       "      <td>414.0</td>\n",
       "      <td>14036.660156</td>\n",
       "      <td>NaN</td>\n",
       "      <td>smart</td>\n",
       "      <td>Москва</td>\n",
       "    </tr>\n",
       "  </tbody>\n",
       "</table>\n",
       "</div>"
      ],
      "text/plain": [
       "               calls count  calls duration        mb sum  messages count  \\\n",
       "user_id month                                                              \n",
       "1000    5             17.0           159.0   2253.489990            22.0   \n",
       "        6             28.0           172.0  23233.769531            60.0   \n",
       "        7             41.0           340.0  14003.639648            75.0   \n",
       "        8             42.0           408.0  14055.929688            81.0   \n",
       "        9             46.0           466.0  14568.910156            57.0   \n",
       "        10            44.0           350.0  14702.490234            73.0   \n",
       "        11            37.0           338.0  14756.469727            58.0   \n",
       "        12            38.0           333.0   9817.610352            70.0   \n",
       "1001    11            45.0           430.0  18429.339844             NaN   \n",
       "        12            47.0           414.0  14036.660156             NaN   \n",
       "\n",
       "              tariff       city  \n",
       "user_id month                    \n",
       "1000    5      ultra  Краснодар  \n",
       "        6      ultra  Краснодар  \n",
       "        7      ultra  Краснодар  \n",
       "        8      ultra  Краснодар  \n",
       "        9      ultra  Краснодар  \n",
       "        10     ultra  Краснодар  \n",
       "        11     ultra  Краснодар  \n",
       "        12     ultra  Краснодар  \n",
       "1001    11     smart     Москва  \n",
       "        12     smart     Москва  "
      ]
     },
     "execution_count": 34,
     "metadata": {},
     "output_type": "execute_result"
    }
   ],
   "source": [
    "# Добавим тарифы и информацию о городе:\n",
    "data_pivot = data_pivot.join(data_users.loc[:,['user_id', 'tariff']].set_index('user_id'), how='outer')\n",
    "data_pivot = data_pivot.join(data_users.loc[:,['user_id', 'city']].set_index('user_id'), how='outer')\n",
    "data_pivot.head(10)"
   ]
  },
  {
   "cell_type": "markdown",
   "id": "6df5f7c0",
   "metadata": {},
   "source": [
    "<div class=\"alert alert-block alert-success\">\n",
    "<b>Комментарий ревьюера✅:</b> Отлично, объединение таблиц проведено верно🔥</div>"
   ]
  },
  {
   "cell_type": "markdown",
   "id": "e6f855a2-8487-4862-849a-a78c579c4e23",
   "metadata": {},
   "source": [
    "Успешное объединение таблиц, есть NaN, по всей видимости это связано с тем, что не все люди пользуются смс/звонками/интернетом в том или ином месяце, заполним их нулями, так как на дальнейшие расчёты это не повлияет."
   ]
  },
  {
   "cell_type": "code",
   "execution_count": 35,
   "id": "c0bf438b-e5b7-45a8-81ef-7b0dd80bd5e7",
   "metadata": {},
   "outputs": [
    {
     "name": "stdout",
     "output_type": "stream",
     "text": [
      "calls count       0\n",
      "calls duration    0\n",
      "mb sum            0\n",
      "messages count    0\n",
      "tariff            0\n",
      "city              0\n",
      "dtype: int64\n",
      "\n"
     ]
    },
    {
     "data": {
      "text/html": [
       "<div>\n",
       "<style scoped>\n",
       "    .dataframe tbody tr th:only-of-type {\n",
       "        vertical-align: middle;\n",
       "    }\n",
       "\n",
       "    .dataframe tbody tr th {\n",
       "        vertical-align: top;\n",
       "    }\n",
       "\n",
       "    .dataframe thead th {\n",
       "        text-align: right;\n",
       "    }\n",
       "</style>\n",
       "<table border=\"1\" class=\"dataframe\">\n",
       "  <thead>\n",
       "    <tr style=\"text-align: right;\">\n",
       "      <th></th>\n",
       "      <th>calls count</th>\n",
       "      <th>calls duration</th>\n",
       "      <th>mb sum</th>\n",
       "      <th>messages count</th>\n",
       "    </tr>\n",
       "  </thead>\n",
       "  <tbody>\n",
       "    <tr>\n",
       "      <th>count</th>\n",
       "      <td>3214.000000</td>\n",
       "      <td>3214.000000</td>\n",
       "      <td>3214.000000</td>\n",
       "      <td>3214.000000</td>\n",
       "    </tr>\n",
       "    <tr>\n",
       "      <th>mean</th>\n",
       "      <td>50.713752</td>\n",
       "      <td>451.244873</td>\n",
       "      <td>17207.613281</td>\n",
       "      <td>38.281269</td>\n",
       "    </tr>\n",
       "    <tr>\n",
       "      <th>std</th>\n",
       "      <td>26.951413</td>\n",
       "      <td>241.909973</td>\n",
       "      <td>7570.958496</td>\n",
       "      <td>36.148326</td>\n",
       "    </tr>\n",
       "    <tr>\n",
       "      <th>min</th>\n",
       "      <td>0.000000</td>\n",
       "      <td>0.000000</td>\n",
       "      <td>0.000000</td>\n",
       "      <td>0.000000</td>\n",
       "    </tr>\n",
       "    <tr>\n",
       "      <th>25%</th>\n",
       "      <td>32.000000</td>\n",
       "      <td>282.000000</td>\n",
       "      <td>12491.890137</td>\n",
       "      <td>9.000000</td>\n",
       "    </tr>\n",
       "    <tr>\n",
       "      <th>50%</th>\n",
       "      <td>50.000000</td>\n",
       "      <td>443.000000</td>\n",
       "      <td>16943.175781</td>\n",
       "      <td>30.000000</td>\n",
       "    </tr>\n",
       "    <tr>\n",
       "      <th>75%</th>\n",
       "      <td>66.000000</td>\n",
       "      <td>589.000000</td>\n",
       "      <td>21424.625000</td>\n",
       "      <td>57.000000</td>\n",
       "    </tr>\n",
       "    <tr>\n",
       "      <th>max</th>\n",
       "      <td>190.000000</td>\n",
       "      <td>1673.000000</td>\n",
       "      <td>49745.691406</td>\n",
       "      <td>224.000000</td>\n",
       "    </tr>\n",
       "  </tbody>\n",
       "</table>\n",
       "</div>"
      ],
      "text/plain": [
       "       calls count  calls duration        mb sum  messages count\n",
       "count  3214.000000     3214.000000   3214.000000     3214.000000\n",
       "mean     50.713752      451.244873  17207.613281       38.281269\n",
       "std      26.951413      241.909973   7570.958496       36.148326\n",
       "min       0.000000        0.000000      0.000000        0.000000\n",
       "25%      32.000000      282.000000  12491.890137        9.000000\n",
       "50%      50.000000      443.000000  16943.175781       30.000000\n",
       "75%      66.000000      589.000000  21424.625000       57.000000\n",
       "max     190.000000     1673.000000  49745.691406      224.000000"
      ]
     },
     "metadata": {},
     "output_type": "display_data"
    },
    {
     "name": "stdout",
     "output_type": "stream",
     "text": [
      "\n",
      "<class 'pandas.core.frame.DataFrame'>\n",
      "MultiIndex: 3214 entries, (1000, 5) to (1499, 12)\n",
      "Data columns (total 6 columns):\n",
      " #   Column          Non-Null Count  Dtype  \n",
      "---  ------          --------------  -----  \n",
      " 0   calls count     3214 non-null   float64\n",
      " 1   calls duration  3214 non-null   float32\n",
      " 2   mb sum          3214 non-null   float32\n",
      " 3   messages count  3214 non-null   float64\n",
      " 4   tariff          3214 non-null   object \n",
      " 5   city            3214 non-null   object \n",
      "dtypes: float32(2), float64(2), object(2)\n",
      "memory usage: 155.5+ KB\n"
     ]
    }
   ],
   "source": [
    "data_pivot.fillna(0, inplace=True)\n",
    "print(data_pivot.isnull().sum())\n",
    "print()\n",
    "display(data_pivot.describe())\n",
    "print()\n",
    "data_pivot.info()"
   ]
  },
  {
   "cell_type": "code",
   "execution_count": 36,
   "id": "84cbe812-720c-4505-b41c-c575bbafbb1e",
   "metadata": {},
   "outputs": [
    {
     "name": "stdout",
     "output_type": "stream",
     "text": [
      "<class 'pandas.core.frame.DataFrame'>\n",
      "MultiIndex: 3214 entries, (1000, 5) to (1499, 12)\n",
      "Data columns (total 6 columns):\n",
      " #   Column          Non-Null Count  Dtype  \n",
      "---  ------          --------------  -----  \n",
      " 0   calls count     3214 non-null   float32\n",
      " 1   calls duration  3214 non-null   float32\n",
      " 2   mb sum          3214 non-null   float32\n",
      " 3   messages count  3214 non-null   float32\n",
      " 4   tariff          3214 non-null   object \n",
      " 5   city            3214 non-null   object \n",
      "dtypes: float32(4), object(2)\n",
      "memory usage: 130.4+ KB\n"
     ]
    }
   ],
   "source": [
    "# Сменим тип данных:\n",
    "data_pivot['calls count'] = data_pivot['calls count'].astype('float32')\n",
    "data_pivot['messages count'] = data_pivot['messages count'].astype('float32')\n",
    "\n",
    "data_pivot.info()"
   ]
  },
  {
   "cell_type": "markdown",
   "id": "6f530b89",
   "metadata": {},
   "source": [
    "<div class=\"alert alert-block alert-success\">\n",
    "<b>Комментарий ревьюера✅:</b> Согласен👍"
   ]
  },
  {
   "cell_type": "markdown",
   "id": "eca415f8-6000-40b6-9f65-a097d405dd26",
   "metadata": {},
   "source": [
    "#### Помесячная выручка с каждого пользователя:"
   ]
  },
  {
   "cell_type": "markdown",
   "id": "55fa0b34-73aa-4806-b387-5dbd79f3128c",
   "metadata": {},
   "source": [
    "Напишем функцию, которая нам поможет рассчитать это. Для расчета нужно будет: вычесть бесплатный лимит из суммарного количества звонков, сообщений и интернет-трафика; остаток умножить на значение из тарифного плана; прибавить абонентскую плату, соответствующую тарифному плану."
   ]
  },
  {
   "cell_type": "code",
   "execution_count": 37,
   "id": "321b0646-e654-452a-9dfb-22a5a6fbc093",
   "metadata": {},
   "outputs": [],
   "source": [
    "def total_revenue(row):\n",
    "# Присвоим значения конкретных строк:\n",
    "    calls_count = row['calls count']\n",
    "    calls_duration = row['calls duration']\n",
    "    mb_sum = row['mb sum']\n",
    "    messages_count = row['messages count']\n",
    "    tariff = row['tariff']\n",
    "# Стоимость и лимиты для тарифов:\n",
    "    mgb_all = int(data_tariffs.loc[data_tariffs.loc[:,'tariff_name'] == tariff]['mb_per_month_included'])\n",
    "    msg_all = int(data_tariffs.loc[data_tariffs.loc[:,'tariff_name'] == tariff]['messages_included'])\n",
    "    min_all = int(data_tariffs.loc[data_tariffs.loc[:,'tariff_name'] == tariff]['minutes_included'])\n",
    "    payment_per_month = int(data_tariffs.loc[data_tariffs.loc[:,'tariff_name'] == tariff]['rub_monthly_fee'])\n",
    "    gb_price = int(data_tariffs.loc[data_tariffs.loc[:,'tariff_name'] == tariff]['rub_per_gb'])\n",
    "    message_price = int(data_tariffs.loc[data_tariffs.loc[:,'tariff_name'] == tariff]['rub_per_message'])\n",
    "    minute_price = int(data_tariffs.loc[data_tariffs.loc[:,'tariff_name'] == tariff]['rub_per_minute'])\n",
    "# Переменные для перерасхода траф. звонков и сообщений\n",
    "    over_mb = 0\n",
    "    over_calls = 0\n",
    "    over_msg = 0\n",
    "# Посчитаем, сколько рублей заплатим за доп. трафик округлив в большую сторону, по ТЗ нам это позволяется:\n",
    "    if mb_sum > mgb_all:\n",
    "        over_mb = ceil((mb_sum - mgb_all) / 1024) * gb_price\n",
    "# За доп. собщения:\n",
    "    if messages_count > msg_all:\n",
    "        over_msg = (messages_count - msg_all) * message_price\n",
    "# За доп. звонки:\n",
    "    if calls_duration > min_all:\n",
    "        over_calls = (calls_duration - min_all) * minute_price\n",
    "# Считаем выручку, добавив месячную плату.\n",
    "    return over_mb + over_msg + over_calls + payment_per_month"
   ]
  },
  {
   "cell_type": "markdown",
   "id": "e3a7313b",
   "metadata": {},
   "source": [
    "<div class=\"alert alert-block alert-warning\">\n",
    "<b>Комментарий ревьюера⚠️:</b> Функция написана верно, но если быть точным: в гигабайте содержится 1024 мегабайта\n",
    "    \n",
    "</div>\n",
    "\n",
    "\n",
    "\n",
    "\n",
    "\n"
   ]
  },
  {
   "cell_type": "markdown",
   "id": "f0b825d9-260f-481d-86e5-900ef18abca9",
   "metadata": {},
   "source": [
    "<div class=\"alert alert-block alert-info\">\n",
    "<b>Комментарий студента:</b> \n",
    "Поправил функцию :)\n",
    "</div>"
   ]
  },
  {
   "cell_type": "markdown",
   "id": "5de021d9",
   "metadata": {},
   "source": [
    "<div class=\"alert alert-block alert-success\">\n",
    "<b>Комментарий ревьюера_v2✅:</b> 👍"
   ]
  },
  {
   "cell_type": "code",
   "execution_count": 38,
   "id": "e0483e2c-aa18-43cf-96e9-f5597cee61c9",
   "metadata": {},
   "outputs": [
    {
     "data": {
      "text/html": [
       "<div>\n",
       "<style scoped>\n",
       "    .dataframe tbody tr th:only-of-type {\n",
       "        vertical-align: middle;\n",
       "    }\n",
       "\n",
       "    .dataframe tbody tr th {\n",
       "        vertical-align: top;\n",
       "    }\n",
       "\n",
       "    .dataframe thead th {\n",
       "        text-align: right;\n",
       "    }\n",
       "</style>\n",
       "<table border=\"1\" class=\"dataframe\">\n",
       "  <thead>\n",
       "    <tr style=\"text-align: right;\">\n",
       "      <th></th>\n",
       "      <th></th>\n",
       "      <th>calls count</th>\n",
       "      <th>calls duration</th>\n",
       "      <th>mb sum</th>\n",
       "      <th>messages count</th>\n",
       "      <th>tariff</th>\n",
       "      <th>city</th>\n",
       "      <th>total revenue</th>\n",
       "    </tr>\n",
       "    <tr>\n",
       "      <th>user_id</th>\n",
       "      <th>month</th>\n",
       "      <th></th>\n",
       "      <th></th>\n",
       "      <th></th>\n",
       "      <th></th>\n",
       "      <th></th>\n",
       "      <th></th>\n",
       "      <th></th>\n",
       "    </tr>\n",
       "  </thead>\n",
       "  <tbody>\n",
       "    <tr>\n",
       "      <th rowspan=\"8\" valign=\"top\">1000</th>\n",
       "      <th>5</th>\n",
       "      <td>17.0</td>\n",
       "      <td>159.0</td>\n",
       "      <td>2253.489990</td>\n",
       "      <td>22.0</td>\n",
       "      <td>ultra</td>\n",
       "      <td>Краснодар</td>\n",
       "      <td>1950.0</td>\n",
       "    </tr>\n",
       "    <tr>\n",
       "      <th>6</th>\n",
       "      <td>28.0</td>\n",
       "      <td>172.0</td>\n",
       "      <td>23233.769531</td>\n",
       "      <td>60.0</td>\n",
       "      <td>ultra</td>\n",
       "      <td>Краснодар</td>\n",
       "      <td>1950.0</td>\n",
       "    </tr>\n",
       "    <tr>\n",
       "      <th>7</th>\n",
       "      <td>41.0</td>\n",
       "      <td>340.0</td>\n",
       "      <td>14003.639648</td>\n",
       "      <td>75.0</td>\n",
       "      <td>ultra</td>\n",
       "      <td>Краснодар</td>\n",
       "      <td>1950.0</td>\n",
       "    </tr>\n",
       "    <tr>\n",
       "      <th>8</th>\n",
       "      <td>42.0</td>\n",
       "      <td>408.0</td>\n",
       "      <td>14055.929688</td>\n",
       "      <td>81.0</td>\n",
       "      <td>ultra</td>\n",
       "      <td>Краснодар</td>\n",
       "      <td>1950.0</td>\n",
       "    </tr>\n",
       "    <tr>\n",
       "      <th>9</th>\n",
       "      <td>46.0</td>\n",
       "      <td>466.0</td>\n",
       "      <td>14568.910156</td>\n",
       "      <td>57.0</td>\n",
       "      <td>ultra</td>\n",
       "      <td>Краснодар</td>\n",
       "      <td>1950.0</td>\n",
       "    </tr>\n",
       "    <tr>\n",
       "      <th>10</th>\n",
       "      <td>44.0</td>\n",
       "      <td>350.0</td>\n",
       "      <td>14702.490234</td>\n",
       "      <td>73.0</td>\n",
       "      <td>ultra</td>\n",
       "      <td>Краснодар</td>\n",
       "      <td>1950.0</td>\n",
       "    </tr>\n",
       "    <tr>\n",
       "      <th>11</th>\n",
       "      <td>37.0</td>\n",
       "      <td>338.0</td>\n",
       "      <td>14756.469727</td>\n",
       "      <td>58.0</td>\n",
       "      <td>ultra</td>\n",
       "      <td>Краснодар</td>\n",
       "      <td>1950.0</td>\n",
       "    </tr>\n",
       "    <tr>\n",
       "      <th>12</th>\n",
       "      <td>38.0</td>\n",
       "      <td>333.0</td>\n",
       "      <td>9817.610352</td>\n",
       "      <td>70.0</td>\n",
       "      <td>ultra</td>\n",
       "      <td>Краснодар</td>\n",
       "      <td>1950.0</td>\n",
       "    </tr>\n",
       "    <tr>\n",
       "      <th rowspan=\"2\" valign=\"top\">1001</th>\n",
       "      <th>11</th>\n",
       "      <td>45.0</td>\n",
       "      <td>430.0</td>\n",
       "      <td>18429.339844</td>\n",
       "      <td>0.0</td>\n",
       "      <td>smart</td>\n",
       "      <td>Москва</td>\n",
       "      <td>1150.0</td>\n",
       "    </tr>\n",
       "    <tr>\n",
       "      <th>12</th>\n",
       "      <td>47.0</td>\n",
       "      <td>414.0</td>\n",
       "      <td>14036.660156</td>\n",
       "      <td>0.0</td>\n",
       "      <td>smart</td>\n",
       "      <td>Москва</td>\n",
       "      <td>550.0</td>\n",
       "    </tr>\n",
       "  </tbody>\n",
       "</table>\n",
       "</div>"
      ],
      "text/plain": [
       "               calls count  calls duration        mb sum  messages count  \\\n",
       "user_id month                                                              \n",
       "1000    5             17.0           159.0   2253.489990            22.0   \n",
       "        6             28.0           172.0  23233.769531            60.0   \n",
       "        7             41.0           340.0  14003.639648            75.0   \n",
       "        8             42.0           408.0  14055.929688            81.0   \n",
       "        9             46.0           466.0  14568.910156            57.0   \n",
       "        10            44.0           350.0  14702.490234            73.0   \n",
       "        11            37.0           338.0  14756.469727            58.0   \n",
       "        12            38.0           333.0   9817.610352            70.0   \n",
       "1001    11            45.0           430.0  18429.339844             0.0   \n",
       "        12            47.0           414.0  14036.660156             0.0   \n",
       "\n",
       "              tariff       city  total revenue  \n",
       "user_id month                                   \n",
       "1000    5      ultra  Краснодар         1950.0  \n",
       "        6      ultra  Краснодар         1950.0  \n",
       "        7      ultra  Краснодар         1950.0  \n",
       "        8      ultra  Краснодар         1950.0  \n",
       "        9      ultra  Краснодар         1950.0  \n",
       "        10     ultra  Краснодар         1950.0  \n",
       "        11     ultra  Краснодар         1950.0  \n",
       "        12     ultra  Краснодар         1950.0  \n",
       "1001    11     smart     Москва         1150.0  \n",
       "        12     smart     Москва          550.0  "
      ]
     },
     "execution_count": 38,
     "metadata": {},
     "output_type": "execute_result"
    }
   ],
   "source": [
    "# Применим функцию:\n",
    "data_pivot['total revenue'] = data_pivot.apply(total_revenue, axis = 1)\n",
    "\n",
    "data_pivot.head(10)"
   ]
  },
  {
   "cell_type": "code",
   "execution_count": 39,
   "id": "640b7995-5e88-4895-9bd4-14ded3f1e116",
   "metadata": {},
   "outputs": [
    {
     "data": {
      "text/plain": [
       "calls count       0\n",
       "calls duration    0\n",
       "mb sum            0\n",
       "messages count    0\n",
       "tariff            0\n",
       "city              0\n",
       "total revenue     0\n",
       "dtype: int64"
      ]
     },
     "metadata": {},
     "output_type": "display_data"
    },
    {
     "name": "stdout",
     "output_type": "stream",
     "text": [
      "\n"
     ]
    },
    {
     "data": {
      "text/html": [
       "<div>\n",
       "<style scoped>\n",
       "    .dataframe tbody tr th:only-of-type {\n",
       "        vertical-align: middle;\n",
       "    }\n",
       "\n",
       "    .dataframe tbody tr th {\n",
       "        vertical-align: top;\n",
       "    }\n",
       "\n",
       "    .dataframe thead th {\n",
       "        text-align: right;\n",
       "    }\n",
       "</style>\n",
       "<table border=\"1\" class=\"dataframe\">\n",
       "  <thead>\n",
       "    <tr style=\"text-align: right;\">\n",
       "      <th></th>\n",
       "      <th>calls count</th>\n",
       "      <th>calls duration</th>\n",
       "      <th>mb sum</th>\n",
       "      <th>messages count</th>\n",
       "      <th>total revenue</th>\n",
       "    </tr>\n",
       "  </thead>\n",
       "  <tbody>\n",
       "    <tr>\n",
       "      <th>count</th>\n",
       "      <td>3214.000000</td>\n",
       "      <td>3214.000000</td>\n",
       "      <td>3214.000000</td>\n",
       "      <td>3214.000000</td>\n",
       "      <td>3214.000000</td>\n",
       "    </tr>\n",
       "    <tr>\n",
       "      <th>mean</th>\n",
       "      <td>50.713753</td>\n",
       "      <td>451.244873</td>\n",
       "      <td>17207.613281</td>\n",
       "      <td>38.281269</td>\n",
       "      <td>1529.076229</td>\n",
       "    </tr>\n",
       "    <tr>\n",
       "      <th>std</th>\n",
       "      <td>26.951412</td>\n",
       "      <td>241.909973</td>\n",
       "      <td>7570.958496</td>\n",
       "      <td>36.148327</td>\n",
       "      <td>798.251091</td>\n",
       "    </tr>\n",
       "    <tr>\n",
       "      <th>min</th>\n",
       "      <td>0.000000</td>\n",
       "      <td>0.000000</td>\n",
       "      <td>0.000000</td>\n",
       "      <td>0.000000</td>\n",
       "      <td>550.000000</td>\n",
       "    </tr>\n",
       "    <tr>\n",
       "      <th>25%</th>\n",
       "      <td>32.000000</td>\n",
       "      <td>282.000000</td>\n",
       "      <td>12491.890137</td>\n",
       "      <td>9.000000</td>\n",
       "      <td>750.000000</td>\n",
       "    </tr>\n",
       "    <tr>\n",
       "      <th>50%</th>\n",
       "      <td>50.000000</td>\n",
       "      <td>443.000000</td>\n",
       "      <td>16943.175781</td>\n",
       "      <td>30.000000</td>\n",
       "      <td>1653.500000</td>\n",
       "    </tr>\n",
       "    <tr>\n",
       "      <th>75%</th>\n",
       "      <td>66.000000</td>\n",
       "      <td>589.000000</td>\n",
       "      <td>21424.625000</td>\n",
       "      <td>57.000000</td>\n",
       "      <td>1950.000000</td>\n",
       "    </tr>\n",
       "    <tr>\n",
       "      <th>max</th>\n",
       "      <td>190.000000</td>\n",
       "      <td>1673.000000</td>\n",
       "      <td>49745.691406</td>\n",
       "      <td>224.000000</td>\n",
       "      <td>6770.000000</td>\n",
       "    </tr>\n",
       "  </tbody>\n",
       "</table>\n",
       "</div>"
      ],
      "text/plain": [
       "       calls count  calls duration        mb sum  messages count  \\\n",
       "count  3214.000000     3214.000000   3214.000000     3214.000000   \n",
       "mean     50.713753      451.244873  17207.613281       38.281269   \n",
       "std      26.951412      241.909973   7570.958496       36.148327   \n",
       "min       0.000000        0.000000      0.000000        0.000000   \n",
       "25%      32.000000      282.000000  12491.890137        9.000000   \n",
       "50%      50.000000      443.000000  16943.175781       30.000000   \n",
       "75%      66.000000      589.000000  21424.625000       57.000000   \n",
       "max     190.000000     1673.000000  49745.691406      224.000000   \n",
       "\n",
       "       total revenue  \n",
       "count    3214.000000  \n",
       "mean     1529.076229  \n",
       "std       798.251091  \n",
       "min       550.000000  \n",
       "25%       750.000000  \n",
       "50%      1653.500000  \n",
       "75%      1950.000000  \n",
       "max      6770.000000  "
      ]
     },
     "execution_count": 39,
     "metadata": {},
     "output_type": "execute_result"
    }
   ],
   "source": [
    "display(data_pivot.isnull().sum())\n",
    "print()\n",
    "data_pivot.describe()"
   ]
  },
  {
   "cell_type": "markdown",
   "id": "506a102b-f731-40eb-8443-8a0fd92313a1",
   "metadata": {},
   "source": [
    "Успешно посчитали и применили функцию, нет 0 значений, таблица выглядит правдоподобно, можно приступать к анализу."
   ]
  },
  {
   "cell_type": "markdown",
   "id": "982f8d86-64b8-473e-bb7e-ef9a7bc3931e",
   "metadata": {},
   "source": [
    "## Анализ данных:"
   ]
  },
  {
   "cell_type": "markdown",
   "id": "b4212e4a-4f1a-4863-ae01-b1dd79207946",
   "metadata": {},
   "source": [
    "Опишем поведение клиентов оператора, исходя из выборки:\n",
    "- Сколько минут разговора, сколько сообщений и какой объём интернет-трафика требуется пользователям каждого тарифа в месяц? \n",
    "- Посчитаем среднее количество, дисперсию и стандартное отклонение. Построим гистограммы. Опишем распределения."
   ]
  },
  {
   "cell_type": "markdown",
   "id": "7bae2bf1-26a3-48f0-a583-8767b8326e1a",
   "metadata": {},
   "source": [
    "### Минуты, сообщения и объём трафика в месяц:"
   ]
  },
  {
   "cell_type": "code",
   "execution_count": 40,
   "id": "73479c25-0ca7-4950-8844-deed528c5a5a",
   "metadata": {},
   "outputs": [
    {
     "data": {
      "text/html": [
       "<div>\n",
       "<style scoped>\n",
       "    .dataframe tbody tr th:only-of-type {\n",
       "        vertical-align: middle;\n",
       "    }\n",
       "\n",
       "    .dataframe tbody tr th {\n",
       "        vertical-align: top;\n",
       "    }\n",
       "\n",
       "    .dataframe thead th {\n",
       "        text-align: right;\n",
       "    }\n",
       "</style>\n",
       "<table border=\"1\" class=\"dataframe\">\n",
       "  <thead>\n",
       "    <tr style=\"text-align: right;\">\n",
       "      <th></th>\n",
       "      <th>calls duration</th>\n",
       "      <th>mb sum</th>\n",
       "      <th>messages count</th>\n",
       "      <th>tariff</th>\n",
       "    </tr>\n",
       "    <tr>\n",
       "      <th>user_id</th>\n",
       "      <th></th>\n",
       "      <th></th>\n",
       "      <th></th>\n",
       "      <th></th>\n",
       "    </tr>\n",
       "  </thead>\n",
       "  <tbody>\n",
       "    <tr>\n",
       "      <th>1000</th>\n",
       "      <td>339.0</td>\n",
       "      <td>14312.419922</td>\n",
       "      <td>65.0</td>\n",
       "      <td>ultra</td>\n",
       "    </tr>\n",
       "    <tr>\n",
       "      <th>1001</th>\n",
       "      <td>422.0</td>\n",
       "      <td>16233.000000</td>\n",
       "      <td>0.0</td>\n",
       "      <td>smart</td>\n",
       "    </tr>\n",
       "    <tr>\n",
       "      <th>1002</th>\n",
       "      <td>214.0</td>\n",
       "      <td>17580.099609</td>\n",
       "      <td>11.0</td>\n",
       "      <td>smart</td>\n",
       "    </tr>\n",
       "    <tr>\n",
       "      <th>1003</th>\n",
       "      <td>824.0</td>\n",
       "      <td>11356.889648</td>\n",
       "      <td>83.0</td>\n",
       "      <td>ultra</td>\n",
       "    </tr>\n",
       "    <tr>\n",
       "      <th>1004</th>\n",
       "      <td>132.5</td>\n",
       "      <td>17810.529297</td>\n",
       "      <td>154.5</td>\n",
       "      <td>ultra</td>\n",
       "    </tr>\n",
       "    <tr>\n",
       "      <th>1005</th>\n",
       "      <td>593.5</td>\n",
       "      <td>7833.229980</td>\n",
       "      <td>49.0</td>\n",
       "      <td>smart</td>\n",
       "    </tr>\n",
       "    <tr>\n",
       "      <th>1006</th>\n",
       "      <td>356.0</td>\n",
       "      <td>15521.530273</td>\n",
       "      <td>0.0</td>\n",
       "      <td>smart</td>\n",
       "    </tr>\n",
       "    <tr>\n",
       "      <th>1007</th>\n",
       "      <td>480.0</td>\n",
       "      <td>14427.330078</td>\n",
       "      <td>26.0</td>\n",
       "      <td>smart</td>\n",
       "    </tr>\n",
       "    <tr>\n",
       "      <th>1008</th>\n",
       "      <td>339.0</td>\n",
       "      <td>13217.139648</td>\n",
       "      <td>56.0</td>\n",
       "      <td>smart</td>\n",
       "    </tr>\n",
       "    <tr>\n",
       "      <th>1009</th>\n",
       "      <td>221.0</td>\n",
       "      <td>17731.933594</td>\n",
       "      <td>12.0</td>\n",
       "      <td>smart</td>\n",
       "    </tr>\n",
       "  </tbody>\n",
       "</table>\n",
       "</div>"
      ],
      "text/plain": [
       "         calls duration        mb sum  messages count tariff\n",
       "user_id                                                     \n",
       "1000              339.0  14312.419922            65.0  ultra\n",
       "1001              422.0  16233.000000             0.0  smart\n",
       "1002              214.0  17580.099609            11.0  smart\n",
       "1003              824.0  11356.889648            83.0  ultra\n",
       "1004              132.5  17810.529297           154.5  ultra\n",
       "1005              593.5   7833.229980            49.0  smart\n",
       "1006              356.0  15521.530273             0.0  smart\n",
       "1007              480.0  14427.330078            26.0  smart\n",
       "1008              339.0  13217.139648            56.0  smart\n",
       "1009              221.0  17731.933594            12.0  smart"
      ]
     },
     "execution_count": 40,
     "metadata": {},
     "output_type": "execute_result"
    }
   ],
   "source": [
    "# Создадим сводную таблицу:\n",
    "data_medians = data_pivot.pivot_table(index='user_id', \n",
    "                        values=['calls duration', 'mb sum', 'messages count'], \n",
    "                        aggfunc='median')\n",
    "\n",
    "# Добавим в таблицу тарифы:\n",
    "data_medians = data_medians.join(data_users.loc[:,['user_id', 'tariff']].set_index('user_id'), how='outer')\n",
    "data_medians.head(10)"
   ]
  },
  {
   "cell_type": "markdown",
   "id": "2faa424e-2dbd-47e6-99d9-a8c897f1e9b5",
   "metadata": {},
   "source": [
    "Уже по этим данным можно заметить, что разные пользователи совершенно по-разному пользуются услугами оператора, и платят за это не всегда ровно столько, сколько стоит тариф."
   ]
  },
  {
   "cell_type": "markdown",
   "id": "551bff2d-12a4-4bbe-b1df-beded55ebe1b",
   "metadata": {},
   "source": [
    "### Посчитаем среднее количество, дисперсию и стандартное отклонение:"
   ]
  },
  {
   "cell_type": "code",
   "execution_count": 41,
   "id": "bb9ae505-16d5-41be-907f-c69c4537e7e9",
   "metadata": {},
   "outputs": [
    {
     "data": {
      "text/html": [
       "<div>\n",
       "<style scoped>\n",
       "    .dataframe tbody tr th:only-of-type {\n",
       "        vertical-align: middle;\n",
       "    }\n",
       "\n",
       "    .dataframe tbody tr th {\n",
       "        vertical-align: top;\n",
       "    }\n",
       "\n",
       "    .dataframe thead tr th {\n",
       "        text-align: left;\n",
       "    }\n",
       "\n",
       "    .dataframe thead tr:last-of-type th {\n",
       "        text-align: right;\n",
       "    }\n",
       "</style>\n",
       "<table border=\"1\" class=\"dataframe\">\n",
       "  <thead>\n",
       "    <tr>\n",
       "      <th></th>\n",
       "      <th colspan=\"4\" halign=\"left\">calls duration</th>\n",
       "      <th colspan=\"4\" halign=\"left\">mb sum</th>\n",
       "      <th colspan=\"4\" halign=\"left\">messages count</th>\n",
       "    </tr>\n",
       "    <tr>\n",
       "      <th></th>\n",
       "      <th>mean</th>\n",
       "      <th>median</th>\n",
       "      <th>std</th>\n",
       "      <th>var</th>\n",
       "      <th>mean</th>\n",
       "      <th>median</th>\n",
       "      <th>std</th>\n",
       "      <th>var</th>\n",
       "      <th>mean</th>\n",
       "      <th>median</th>\n",
       "      <th>std</th>\n",
       "      <th>var</th>\n",
       "    </tr>\n",
       "    <tr>\n",
       "      <th>tariff</th>\n",
       "      <th></th>\n",
       "      <th></th>\n",
       "      <th></th>\n",
       "      <th></th>\n",
       "      <th></th>\n",
       "      <th></th>\n",
       "      <th></th>\n",
       "      <th></th>\n",
       "      <th></th>\n",
       "      <th></th>\n",
       "      <th></th>\n",
       "      <th></th>\n",
       "    </tr>\n",
       "  </thead>\n",
       "  <tbody>\n",
       "    <tr>\n",
       "      <th>smart</th>\n",
       "      <td>417.9</td>\n",
       "      <td>422.0</td>\n",
       "      <td>190.3</td>\n",
       "      <td>36219.3</td>\n",
       "      <td>16208.4</td>\n",
       "      <td>16506.8</td>\n",
       "      <td>5870.5</td>\n",
       "      <td>34462496.0</td>\n",
       "      <td>33.4</td>\n",
       "      <td>28.0</td>\n",
       "      <td>28.2</td>\n",
       "      <td>796.8</td>\n",
       "    </tr>\n",
       "    <tr>\n",
       "      <th>ultra</th>\n",
       "      <td>526.6</td>\n",
       "      <td>518.0</td>\n",
       "      <td>317.6</td>\n",
       "      <td>100873.6</td>\n",
       "      <td>19468.8</td>\n",
       "      <td>19308.0</td>\n",
       "      <td>10087.2</td>\n",
       "      <td>101751016.0</td>\n",
       "      <td>49.4</td>\n",
       "      <td>38.0</td>\n",
       "      <td>47.8</td>\n",
       "      <td>2285.3</td>\n",
       "    </tr>\n",
       "  </tbody>\n",
       "</table>\n",
       "</div>"
      ],
      "text/plain": [
       "       calls duration                           mb sum                    \\\n",
       "                 mean median    std       var     mean   median      std   \n",
       "tariff                                                                     \n",
       "smart           417.9  422.0  190.3   36219.3  16208.4  16506.8   5870.5   \n",
       "ultra           526.6  518.0  317.6  100873.6  19468.8  19308.0  10087.2   \n",
       "\n",
       "                    messages count                       \n",
       "                var           mean median   std     var  \n",
       "tariff                                                   \n",
       "smart    34462496.0           33.4   28.0  28.2   796.8  \n",
       "ultra   101751016.0           49.4   38.0  47.8  2285.3  "
      ]
     },
     "execution_count": 41,
     "metadata": {},
     "output_type": "execute_result"
    }
   ],
   "source": [
    "# Сводная таблица по тарифам:\n",
    "stat = data_pivot.pivot_table(index=['tariff'], values=['calls duration', 'mb sum', 'messages count'], \n",
    "                    aggfunc={'calls duration': [np.mean, np.median, np.var, np.std], \n",
    "                             'mb sum': [np.mean, np.median, np.var, np.std], \n",
    "                             'messages count': [np.mean, np.median, np.var, np.std]})\n",
    "\n",
    "# Округлим значения до 1 знака после запятой:\n",
    "stat.applymap(\"{:.1f}\".format)"
   ]
  },
  {
   "cell_type": "markdown",
   "id": "4c26f220",
   "metadata": {},
   "source": [
    "<div class=\"alert alert-block alert-danger\">\n",
    "<b>Комментарий ревьюера❌:</b> Тут не совсем верно, сначала ты группируешь данные на юзера, находишь для каждого показателя медиану, а потом ищешь среднее, стандартное отклонение и дисперсию от этих медиан. В нашем случае будет правильнее считать показатели на данных в агрегации на пользователя и месяц (таблица data_pivot)\n",
    "\n",
    "\n",
    "    \n",
    "</div>\n",
    "\n",
    "\n",
    "\n"
   ]
  },
  {
   "cell_type": "markdown",
   "id": "bcec32a6-ad07-4e69-8bc2-b7df6b23fc90",
   "metadata": {},
   "source": [
    "<div class=\"alert alert-block alert-info\">\n",
    "<b>Комментарий студента:</b> \n",
    "Поправил сводную таблицу, обновил выводы :)\n",
    "</div>"
   ]
  },
  {
   "cell_type": "markdown",
   "id": "34ef0726",
   "metadata": {},
   "source": [
    "<div class=\"alert alert-block alert-success\">\n",
    "<b>Комментарий ревьюера_v2✅:</b> Теперь верно"
   ]
  },
  {
   "cell_type": "markdown",
   "id": "150f676c-d666-4a05-9f90-49241fad959a",
   "metadata": {},
   "source": [
    "Можно сделать некоторые промежуточные выводы:\n",
    "- Медианой звонков в тарифе смарт у пользователей: 422 минут. У ультра: 518\n",
    "- Медианой трафика в тарифе смарт у пользователей: ~16.5 GB. У ультра: 19.3 GB.\n",
    "- Медианой СМС в тарифе смарт у пользователей: 28 СМС. У ультра: 38 СМС.\n",
    "\n",
    "1. Пользователи тарифа ультра в целом более охотно пользуются услугами оператора, в отличии от абонентов смарт, также можно заметить большую дисперсию именно в тарифе ультра.\n",
    "2. Если считать по лимитам тарифов, можно обнаружить, что в тарифе ультра остаётся 2482 минуты, 962 СМС и 10.7 ГБ до лимита, за которые абоненты платят. В тарифе смарт: остаётся 78 минут, 12 СМС, и также приходится докупать в районе 1.5 ГБ трафика среднестатистическому пользователю."
   ]
  },
  {
   "cell_type": "markdown",
   "id": "9883dd2c-2e7f-4810-88e5-5d55f000c7d0",
   "metadata": {},
   "source": [
    "### Построим гистограммы. Опишем распределения:"
   ]
  },
  {
   "cell_type": "code",
   "execution_count": 42,
   "id": "3ebd9cc5-517b-44eb-89ed-e596fc3a9690",
   "metadata": {},
   "outputs": [
    {
     "data": {
      "image/png": "[encoded data removed]",
      "text/plain": [
       "<Figure size 360x360 with 1 Axes>"
      ]
     },
     "metadata": {
      "needs_background": "light"
     },
     "output_type": "display_data"
    },
    {
     "data": {
      "image/png": "[encoded data removed]",
      "text/plain": [
       "<Figure size 360x360 with 1 Axes>"
      ]
     },
     "metadata": {
      "needs_background": "light"
     },
     "output_type": "display_data"
    },
    {
     "data": {
      "image/png": "[encoded data removed]",
      "text/plain": [
       "<Figure size 360x360 with 1 Axes>"
      ]
     },
     "metadata": {
      "needs_background": "light"
     },
     "output_type": "display_data"
    }
   ],
   "source": [
    "for column in ['calls duration', 'mb sum', 'messages count']:\n",
    "    sns.catplot(x='tariff', y=column, data=data_pivot, kind='box')\n",
    "    plt.title(column, fontsize=15)"
   ]
  },
  {
   "cell_type": "code",
   "execution_count": 43,
   "id": "126ad8e8-0e2f-4eb8-9432-202537a63c30",
   "metadata": {},
   "outputs": [
    {
     "data": {
      "image/png": "[encoded data removed]",
      "text/plain": [
       "<Figure size 1008x432 with 1 Axes>"
      ]
     },
     "metadata": {
      "needs_background": "light"
     },
     "output_type": "display_data"
    }
   ],
   "source": [
    "plt.figure(figsize=(14,6))\n",
    "smart = data_pivot.query('tariff == \"smart\"')\n",
    "ultra = data_pivot.query('tariff == \"ultra\"')\n",
    "sns.histplot(smart['calls duration'], kde=True, bins=19, stat=\"density\", linewidth=0.3, color='green')\n",
    "sns.histplot(ultra['calls duration'], kde=True, bins=19, stat=\"density\", linewidth=0.3)\n",
    "\n",
    "plt.xlim(0,1500)\n",
    "plt.xlabel('Минуты разговора')\n",
    "plt.legend(['ultra', 'smart'])\n",
    "plt.show()"
   ]
  },
  {
   "cell_type": "code",
   "execution_count": 44,
   "id": "8ca1ab4e-0cc9-4e50-9a0f-76a97f3ad63d",
   "metadata": {},
   "outputs": [
    {
     "data": {
      "image/png": "[encoded data removed]",
      "text/plain": [
       "<Figure size 1008x432 with 1 Axes>"
      ]
     },
     "metadata": {
      "needs_background": "light"
     },
     "output_type": "display_data"
    }
   ],
   "source": [
    "plt.figure(figsize=(14,6))\n",
    "sns.histplot(smart['mb sum'], kde=True, bins=19, stat=\"density\", linewidth=0.3, color='green')\n",
    "sns.histplot(ultra['mb sum'], kde=True, bins=19, stat=\"density\", linewidth=0.3)\n",
    "\n",
    "plt.xlim(0, 50000)\n",
    "plt.xlabel('МБ трафика')\n",
    "plt.legend(['ultra', 'smart'])\n",
    "plt.show()"
   ]
  },
  {
   "cell_type": "code",
   "execution_count": 45,
   "id": "409c8798-b02a-45ba-908d-896d9f19ab5d",
   "metadata": {},
   "outputs": [
    {
     "data": {
      "image/png": "[encoded data removed]",
      "text/plain": [
       "<Figure size 1008x432 with 1 Axes>"
      ]
     },
     "metadata": {
      "needs_background": "light"
     },
     "output_type": "display_data"
    }
   ],
   "source": [
    "plt.figure(figsize=(14,6))\n",
    "sns.histplot(smart['messages count'], kde=True, bins=14, stat=\"density\", linewidth=0.3, color='green')\n",
    "sns.histplot(ultra['messages count'], kde=True, bins=14, stat=\"density\", linewidth=0.3)\n",
    "\n",
    "plt.xlim(0, 230)\n",
    "plt.xlabel('Сообщения')\n",
    "plt.legend(['ultra', 'smart'])\n",
    "plt.show()"
   ]
  },
  {
   "cell_type": "markdown",
   "id": "2167870e-7f90-4c34-a778-e51862c43e15",
   "metadata": {},
   "source": [
    "Какую общую выручку принесли пользователи разных тарифов:"
   ]
  },
  {
   "cell_type": "code",
   "execution_count": 46,
   "id": "7ef45123-fca8-4b74-bd6c-6d5bffda172a",
   "metadata": {},
   "outputs": [
    {
     "data": {
      "text/html": [
       "<div>\n",
       "<style scoped>\n",
       "    .dataframe tbody tr th:only-of-type {\n",
       "        vertical-align: middle;\n",
       "    }\n",
       "\n",
       "    .dataframe tbody tr th {\n",
       "        vertical-align: top;\n",
       "    }\n",
       "\n",
       "    .dataframe thead th {\n",
       "        text-align: right;\n",
       "    }\n",
       "</style>\n",
       "<table border=\"1\" class=\"dataframe\">\n",
       "  <thead>\n",
       "    <tr style=\"text-align: right;\">\n",
       "      <th></th>\n",
       "      <th>total revenue</th>\n",
       "    </tr>\n",
       "    <tr>\n",
       "      <th>tariff</th>\n",
       "      <th></th>\n",
       "    </tr>\n",
       "  </thead>\n",
       "  <tbody>\n",
       "    <tr>\n",
       "      <th>smart</th>\n",
       "      <td>2875351.0</td>\n",
       "    </tr>\n",
       "    <tr>\n",
       "      <th>ultra</th>\n",
       "      <td>2039100.0</td>\n",
       "    </tr>\n",
       "  </tbody>\n",
       "</table>\n",
       "</div>"
      ],
      "text/plain": [
       "        total revenue\n",
       "tariff               \n",
       "smart       2875351.0\n",
       "ultra       2039100.0"
      ]
     },
     "execution_count": 46,
     "metadata": {},
     "output_type": "execute_result"
    }
   ],
   "source": [
    "data_pivot.pivot_table(index='tariff', values='total revenue', aggfunc='sum')"
   ]
  },
  {
   "cell_type": "code",
   "execution_count": 47,
   "id": "e4154074-f27e-45ac-9727-4d1a8e90e125",
   "metadata": {},
   "outputs": [
    {
     "name": "stdout",
     "output_type": "stream",
     "text": [
      "Пользователей смарт: 351\n",
      "Пользователей ультра: 149\n"
     ]
    }
   ],
   "source": [
    "print('Пользователей смарт:', len(data_medians.query('tariff == \"smart\"')))\n",
    "print('Пользователей ультра:', len(data_medians.query('tariff == \"ultra\"')))"
   ]
  },
  {
   "cell_type": "markdown",
   "id": "d7a44301-8685-45ac-8ebb-fa5384581889",
   "metadata": {},
   "source": [
    "#### Промежуточные выводы:"
   ]
  },
  {
   "cell_type": "markdown",
   "id": "1f296c2d-61c6-4a69-8a65-77d5c4dbab52",
   "metadata": {},
   "source": [
    "- По боксплотам можно более точно увидеть распределение, и заметить что размахи и дисперсия в тарифе ультра больше, чем в смарт.\n",
    "- Визуально можно также подтвердить гипотезы выдвинутые выше - Пользователи ультра в среднем активнее пользуются услугами связи, чем пользователи тарифа смарт.\n",
    "- Однако, больше выручки принесли пользователи тарифа смарт, хотя их и больше в выборке, чем пользователей ультра."
   ]
  },
  {
   "cell_type": "markdown",
   "id": "5ca3956b",
   "metadata": {},
   "source": [
    "<div class=\"alert alert-block alert-success\">\n",
    "<b>Комментарий ревьюера✅:</b> Распределения изучены верно, выводы на месте, графики отличные, молодец🔥</div>"
   ]
  },
  {
   "cell_type": "markdown",
   "id": "04c7c84c-acb2-4a3f-af04-4ed15238a83a",
   "metadata": {},
   "source": [
    "## Проверка гипотез:"
   ]
  },
  {
   "cell_type": "markdown",
   "id": "ebf08495-c9a0-4640-b4f6-789f21e56045",
   "metadata": {},
   "source": [
    "1. Средняя выручка пользователей тарифов «Ультра» и «Смарт» различаются;\n",
    "2. Средняя выручка пользователей из Москвы отличается от выручки пользователей из других регионов."
   ]
  },
  {
   "cell_type": "markdown",
   "id": "8dd4b6e9-fd72-418e-ae0e-3108047ea87c",
   "metadata": {},
   "source": [
    "### Проверка 1 гипотезы:"
   ]
  },
  {
   "cell_type": "markdown",
   "id": "47db8d0a-cd46-4910-9b4a-7507a2c7309d",
   "metadata": {},
   "source": [
    "*H₀* - Средняя выручка пользователей тарифа смарт равна средней выручке пользователей тарифа ультра.\n",
    "\n",
    "*H₁* - Средняя выручка пользователей тарифа смарт отличается от средней выручки пользователей тарифа ультра.\n",
    "\n",
    "α = 5% (Критический уровень статистической значимости)"
   ]
  },
  {
   "cell_type": "code",
   "execution_count": 48,
   "id": "ebf68ca0-20a5-4795-b846-9dd0fc6c46ea",
   "metadata": {},
   "outputs": [],
   "source": [
    "# Зададим альфу\n",
    "alpha= 0.05\n",
    "\n",
    "# Создадим удобные \"ссылки\"\n",
    "t_smart = data_pivot.query('tariff==\"smart\"')['total revenue']\n",
    "t_ultra = data_pivot.query('tariff==\"ultra\"')['total revenue']"
   ]
  },
  {
   "cell_type": "markdown",
   "id": "db64c8a8-ab7f-4745-8cdd-422068e3d82c",
   "metadata": {},
   "source": [
    "Выясним, сильно ли отличаются дисперсии генеральных выборок:"
   ]
  },
  {
   "cell_type": "code",
   "execution_count": 49,
   "id": "339c52ee-c864-432d-83f2-229b3d7ee25b",
   "metadata": {},
   "outputs": [
    {
     "name": "stdout",
     "output_type": "stream",
     "text": [
      "Дисперсия смарт: 669785.7080064242\n",
      "Дисперсия ультра: 141516.7450786183\n"
     ]
    }
   ],
   "source": [
    "print('Дисперсия смарт:', t_smart.var(ddof=1))\n",
    "print('Дисперсия ультра:', t_ultra.var(ddof=1))"
   ]
  },
  {
   "cell_type": "markdown",
   "id": "ebe31faf-8c13-4c46-a693-debb933d8978",
   "metadata": {},
   "source": [
    "Дисперсии сильно различаются, потому далее будем учитывать это при проверке гипотез:"
   ]
  },
  {
   "cell_type": "markdown",
   "id": "f6d0e9fc",
   "metadata": {},
   "source": [
    "<div class=\"alert alert-block alert-success\">\n",
    "<b>Комментарий ревьюера✅:</b> Грамотная подготовка данных к тесту, молодец👍\n",
    "</div>\n",
    "\n",
    "\n",
    "\n"
   ]
  },
  {
   "cell_type": "code",
   "execution_count": 50,
   "id": "afe5ed9e-5838-47be-98a8-9d5399b522e4",
   "metadata": {},
   "outputs": [
    {
     "name": "stdout",
     "output_type": "stream",
     "text": [
      "p-значение: 4.2606313931076085e-250\n",
      "Отвергаем нулевую гипотезу\n"
     ]
    }
   ],
   "source": [
    "results = st.ttest_ind(t_smart, t_ultra, equal_var=False) \n",
    "print('p-значение:', results.pvalue)\n",
    "\n",
    "if (results.pvalue < alpha):\n",
    "    print(\"Отвергаем нулевую гипотезу\")\n",
    "else:\n",
    "    print(\"Не получилось отвергнуть нулевую гипотезу\")"
   ]
  },
  {
   "cell_type": "markdown",
   "id": "ea737fcc-1370-4f48-8ea0-18cca088f498",
   "metadata": {},
   "source": [
    "Выведем таблицу для наглядности:"
   ]
  },
  {
   "cell_type": "code",
   "execution_count": 51,
   "id": "a0468055-a379-4073-bd73-4fc2c327c493",
   "metadata": {},
   "outputs": [
    {
     "data": {
      "text/html": [
       "<div>\n",
       "<style scoped>\n",
       "    .dataframe tbody tr th:only-of-type {\n",
       "        vertical-align: middle;\n",
       "    }\n",
       "\n",
       "    .dataframe tbody tr th {\n",
       "        vertical-align: top;\n",
       "    }\n",
       "\n",
       "    .dataframe thead th {\n",
       "        text-align: right;\n",
       "    }\n",
       "</style>\n",
       "<table border=\"1\" class=\"dataframe\">\n",
       "  <thead>\n",
       "    <tr style=\"text-align: right;\">\n",
       "      <th></th>\n",
       "      <th>total revenue</th>\n",
       "    </tr>\n",
       "    <tr>\n",
       "      <th>tariff</th>\n",
       "      <th></th>\n",
       "    </tr>\n",
       "  </thead>\n",
       "  <tbody>\n",
       "    <tr>\n",
       "      <th>smart</th>\n",
       "      <td>1289.973531</td>\n",
       "    </tr>\n",
       "    <tr>\n",
       "      <th>ultra</th>\n",
       "      <td>2070.152284</td>\n",
       "    </tr>\n",
       "  </tbody>\n",
       "</table>\n",
       "</div>"
      ],
      "text/plain": [
       "        total revenue\n",
       "tariff               \n",
       "smart     1289.973531\n",
       "ultra     2070.152284"
      ]
     },
     "execution_count": 51,
     "metadata": {},
     "output_type": "execute_result"
    }
   ],
   "source": [
    "data_pivot.pivot_table(index='tariff', values='total revenue', aggfunc='mean')"
   ]
  },
  {
   "cell_type": "markdown",
   "id": "58a2a8b6-3810-4f9e-b61d-bdef8cc21b1e",
   "metadata": {},
   "source": [
    "Вывод:\n",
    "\n",
    "- Ещё на этапе анализа мы могли заметить, что выручка пользователей разных тарифов действительно отличается, что и подтвердило наше исследование."
   ]
  },
  {
   "cell_type": "markdown",
   "id": "f0e2e4cd",
   "metadata": {},
   "source": [
    "<div class=\"alert alert-block alert-success\">\n",
    "<b>Комментарий ревьюера✅:</b> Согласен👍</div>"
   ]
  },
  {
   "cell_type": "markdown",
   "id": "d0a42045-ec90-4301-a3b6-9716ebc24100",
   "metadata": {},
   "source": [
    "### Проверка 2 гипотезы:"
   ]
  },
  {
   "cell_type": "markdown",
   "id": "f1eb9310-1d3b-4a48-8d88-42bd043347d4",
   "metadata": {},
   "source": [
    "H₀ - Средняя выручка пользователей из других городов равна средней выручки пользователей из г. Москва.\n",
    "\n",
    "H₁ - Средняя выручка пользователей из г. Москвы отличается от средней выручке пользователей из городов.\n",
    "\n",
    "α = 5% (Критический уровень статистической значимости)"
   ]
  },
  {
   "cell_type": "code",
   "execution_count": 52,
   "id": "8860847c-7f83-4aa2-a4eb-8a752a37b163",
   "metadata": {},
   "outputs": [],
   "source": [
    "# Создадим удобные \"ссылки\"\n",
    "moscow = data_pivot.query('city == \"Москва\"')['total revenue']\n",
    "city = data_pivot.query('city != \"Москва\"')['total revenue']"
   ]
  },
  {
   "cell_type": "markdown",
   "id": "b15e3054-1f07-4fb6-97ec-2da90629b383",
   "metadata": {},
   "source": [
    "Выясним, сильно ли отличаются дисперсии:"
   ]
  },
  {
   "cell_type": "code",
   "execution_count": 53,
   "id": "65c57ab7-b8ca-4a72-bf7d-49f8b8708ad8",
   "metadata": {},
   "outputs": [
    {
     "name": "stdout",
     "output_type": "stream",
     "text": [
      "Дисперсия пользователей из Москвы: 565636.467011886\n",
      "Дисперсия пользователей из остальных городов: 654137.6285218114\n"
     ]
    }
   ],
   "source": [
    "print('Дисперсия пользователей из Москвы:', moscow.var(ddof=1))\n",
    "print('Дисперсия пользователей из остальных городов:', city.var(ddof=1))"
   ]
  },
  {
   "cell_type": "markdown",
   "id": "08d06f54-f0ae-4f15-bbe3-5dee24c55e10",
   "metadata": {},
   "source": [
    "Дисперсии отличаются, потому также учтём это во время проверки гипотез:"
   ]
  },
  {
   "cell_type": "code",
   "execution_count": 54,
   "id": "5793e61a-0b0a-4929-b697-1c25d78dadb3",
   "metadata": {},
   "outputs": [
    {
     "name": "stdout",
     "output_type": "stream",
     "text": [
      "p-значение: 0.5257376663729298\n",
      "Не получилось отвергнуть нулевую гипотезу\n"
     ]
    }
   ],
   "source": [
    "results = st.ttest_ind(moscow, city, equal_var=False) \n",
    "print('p-значение:', results.pvalue)\n",
    "\n",
    "if (results.pvalue < alpha):\n",
    "    print(\"Отвергаем нулевую гипотезу\")\n",
    "else:\n",
    "    print(\"Не получилось отвергнуть нулевую гипотезу\")"
   ]
  },
  {
   "cell_type": "markdown",
   "id": "fb1fe904-c6ce-4403-89c4-005da5378209",
   "metadata": {},
   "source": [
    "Также выведем таблицу:"
   ]
  },
  {
   "cell_type": "code",
   "execution_count": 55,
   "id": "450f87ee-726e-45f7-b5e8-aab53efbb0a4",
   "metadata": {},
   "outputs": [
    {
     "data": {
      "text/html": [
       "<div>\n",
       "<style scoped>\n",
       "    .dataframe tbody tr th:only-of-type {\n",
       "        vertical-align: middle;\n",
       "    }\n",
       "\n",
       "    .dataframe tbody tr th {\n",
       "        vertical-align: top;\n",
       "    }\n",
       "\n",
       "    .dataframe thead th {\n",
       "        text-align: right;\n",
       "    }\n",
       "</style>\n",
       "<table border=\"1\" class=\"dataframe\">\n",
       "  <thead>\n",
       "    <tr style=\"text-align: right;\">\n",
       "      <th></th>\n",
       "      <th>total revenue</th>\n",
       "    </tr>\n",
       "    <tr>\n",
       "      <th>city</th>\n",
       "      <th></th>\n",
       "    </tr>\n",
       "  </thead>\n",
       "  <tbody>\n",
       "    <tr>\n",
       "      <th>Москва</th>\n",
       "      <td>1546.713584</td>\n",
       "    </tr>\n",
       "    <tr>\n",
       "      <th>Остальные города</th>\n",
       "      <td>1524.936227</td>\n",
       "    </tr>\n",
       "  </tbody>\n",
       "</table>\n",
       "</div>"
      ],
      "text/plain": [
       "                  total revenue\n",
       "city                           \n",
       "Москва              1546.713584\n",
       "Остальные города    1524.936227"
      ]
     },
     "execution_count": 55,
     "metadata": {},
     "output_type": "execute_result"
    }
   ],
   "source": [
    "cities = data_pivot.copy()\n",
    "cities.loc[cities.loc[:,'city'] != 'Москва', 'city'] = 'Остальные города'\n",
    "cities.pivot_table(index='city', values='total revenue', aggfunc='mean')"
   ]
  },
  {
   "cell_type": "markdown",
   "id": "a56fab42-16c1-4d00-aa10-ac4642b06aa0",
   "metadata": {},
   "source": [
    "Вывод:\n",
    "\n",
    "- Полученные данные означают, что с вероятностью в 44% сравнивая выручки мы бы получали схожие значения.\n",
    "- Выручка пользователей из Москвы практически не отличается от выручки пользователей из остальных городов, нулевая гипотеза подтвердилась."
   ]
  },
  {
   "cell_type": "markdown",
   "id": "5ec9411b",
   "metadata": {},
   "source": [
    "<div class=\"alert alert-block alert-success\">\n",
    "<b>Комментарий ревьюера✅:</b> С тестами все отлично:\n",
    "\n",
    "- гипотезы сформулированы\n",
    "\n",
    "- средние посчитаны\n",
    "\n",
    "- результаты теста интерпретированы\n",
    "\n",
    "Молодец👍</div>"
   ]
  },
  {
   "cell_type": "markdown",
   "id": "788a80b2-ae5e-417b-a97a-76709a91547b",
   "metadata": {},
   "source": [
    "## Общий вывод:"
   ]
  },
  {
   "cell_type": "markdown",
   "id": "57b7aff0-0872-4215-a58a-ab73a7bc5592",
   "metadata": {},
   "source": [
    "**В данном исследовании мы провели большую работу по анализу данных, в целом, данные были достаточно \"чистыми\", и нам не пришлось много работать над предобработкой этих данных. В самой предобработке мы удалили некоторые значения, которые не были нужны для проведения исследования, и добавили дополнительные расчетные таблицы. Вот основные выводы, которые мы получили во время работы над проектом:**\n",
    "\n",
    "- Медианой звонков в тарифе смарт у пользователей: 422 минут. У ультра: 518\n",
    "- Медианой трафика в тарифе смарт у пользователей: ~16.5 GB. У ультра: 19.3 GB.\n",
    "- Медианой СМС в тарифе смарт у пользователей: 28 СМС. У ультра: 38 СМС.\n",
    "- Пользователи тарифа ультра в целом более охотно пользуются услугами оператора, в отличии от абонентов смарт, также можно заметить большую дисперсию именно в тарифе ультра.\n",
    "- Если считать по лимитам тарифов, можно обнаружить, что в тарифе ультра остаётся 2482 минуты, 962 СМС и 10.7 ГБ до лимита, за которые абоненты платят. В тарифе смарт: остаётся 78 минут, 12 СМС, и также приходится докупать в районе 1.5 ГБ трафика среднестатистическому пользователю.\n",
    "- Всего из выборки выручки принесли пользователи тарифа смарт: 2 млн. 900 тыс., в то время как в ультра: ~2 млн. Хотя в среднем отношении пользователи ультра куда более перспективное направление (2073р vs 1305р у смарт)\n",
    "- Гипотеза: \"Средняя выручка пользователей тарифов «Ультра» и «Смарт» различаются\" подтвердилась.\n",
    "- Гипотеза: \"Средняя выручка пользователей из Москвы отличается от выручки пользователей из других регионов.\" оказалась ложной, и подтвердить её не удалось"
   ]
  },
  {
   "cell_type": "markdown",
   "id": "202420cf",
   "metadata": {},
   "source": [
    "<div class=\"alert alert-block alert-success\">\n",
    "<b>Комментарий ревьюера✅:</b> Отличный вывод, теперь работа логчески завершена и мы можем понять суть исследования🔥</div>"
   ]
  },
  {
   "cell_type": "markdown",
   "id": "d706f890",
   "metadata": {},
   "source": [
    "<div class=\"alert alert-block alert-success\">\n",
    "<b>Комментарий ревьюера✅:</b>Мне очень понравилась твоя работа. Все рассуждения верные, очень логичные и осмысленные. Ничего лишнего, всё по полкам. Ты подробно разбираешься в деталях, для будущего аналитика это очень важная черта😊\n",
    "\n",
    "Проект еще нужно немного доработать, а именно:\n",
    "\n",
    "- убрать округление гигабайтов на этапе предобработки\n",
    "        \n",
    "- исправить блок изучения распределений\n",
    "    \n",
    "Остальные замечания оставляю на твое усмотрение😉\n",
    "\n",
    "Жду твою работу на повторное ревью.\n",
    "    \n",
    "[Интересная статья про визуализацию](https://habr.com/ru/company/netologyru/blog/341364/)\n",
    "    \n",
    "[Тут есть полезные приемы Markdown](https://paulradzkov.com/2014/markdown_cheatsheet/)\n",
    "\n",
    "</div>"
   ]
  },
  {
   "cell_type": "markdown",
   "id": "f2bd4aca-15eb-4902-8fd9-d5d0f39f8c2d",
   "metadata": {},
   "source": [
    "<div class=\"alert alert-block alert-info\">\n",
    "<b>Комментарий студента:</b> \n",
    "Доброго времни суток :) Николай, огромное спасибо тебе за качественную проверку проекта, было очень приятно читать комментарии. Я очень извиняюсь за задержку с своей стороны, что не смог сразу отправить проект на повторное ревью из-за работы :( Надеюсь на понимание! (За ссылки отдельное спасибо!)\n",
    "</div>"
   ]
  },
  {
   "cell_type": "markdown",
   "id": "377d69fe",
   "metadata": {},
   "source": [
    "<div class=\"alert alert-block alert-success\">\n",
    "<b>Комментарий ревьюера_v2✅:</b> Отличная работа, проект принимаю. Могу с уверенностью сказать - ты хорошо владеешь пройденным материалом. Мне понравилась твоя реакция на обратную связь, комментарии даже к желтым замечаниям. Желаю удачи в дальнейшей учебе🔥 </div>"
   ]
  }
 ],
 "metadata": {
  "ExecuteTimeLog": [
   {
    "duration": 1521,
    "start_time": "2022-03-27T10:13:58.621Z"
   },
   {
    "duration": 468,
    "start_time": "2022-03-27T10:14:00.144Z"
   },
   {
    "duration": 26,
    "start_time": "2022-03-27T10:14:00.614Z"
   },
   {
    "duration": 25,
    "start_time": "2022-03-27T10:14:00.643Z"
   },
   {
    "duration": 31,
    "start_time": "2022-03-27T10:14:00.670Z"
   },
   {
    "duration": 11,
    "start_time": "2022-03-27T10:14:00.704Z"
   },
   {
    "duration": 17,
    "start_time": "2022-03-27T10:14:00.718Z"
   },
   {
    "duration": 52,
    "start_time": "2022-03-27T10:14:00.738Z"
   },
   {
    "duration": 34,
    "start_time": "2022-03-27T10:14:00.793Z"
   },
   {
    "duration": 336,
    "start_time": "2022-03-27T10:14:00.832Z"
   },
   {
    "duration": 17,
    "start_time": "2022-03-27T10:14:01.170Z"
   },
   {
    "duration": 25,
    "start_time": "2022-03-27T10:14:01.189Z"
   },
   {
    "duration": 47,
    "start_time": "2022-03-27T10:14:01.216Z"
   },
   {
    "duration": 45,
    "start_time": "2022-03-27T10:14:01.265Z"
   },
   {
    "duration": 52,
    "start_time": "2022-03-27T10:14:01.312Z"
   },
   {
    "duration": 67,
    "start_time": "2022-03-27T10:14:01.366Z"
   },
   {
    "duration": 293,
    "start_time": "2022-03-27T10:14:01.435Z"
   },
   {
    "duration": 10,
    "start_time": "2022-03-27T10:14:01.731Z"
   },
   {
    "duration": 32,
    "start_time": "2022-03-27T10:14:01.744Z"
   },
   {
    "duration": 17,
    "start_time": "2022-03-27T10:14:01.783Z"
   },
   {
    "duration": 31,
    "start_time": "2022-03-27T10:14:01.803Z"
   },
   {
    "duration": 98,
    "start_time": "2022-03-27T10:14:01.837Z"
   },
   {
    "duration": 320,
    "start_time": "2022-03-27T10:14:01.938Z"
   },
   {
    "duration": 32,
    "start_time": "2022-03-27T10:14:02.261Z"
   },
   {
    "duration": 59,
    "start_time": "2022-03-27T10:14:02.295Z"
   },
   {
    "duration": 368,
    "start_time": "2022-03-27T10:14:02.356Z"
   },
   {
    "duration": 6,
    "start_time": "2022-03-27T10:14:02.726Z"
   },
   {
    "duration": 2093,
    "start_time": "2022-03-27T10:14:02.737Z"
   },
   {
    "duration": 122,
    "start_time": "2022-03-27T10:14:04.832Z"
   },
   {
    "duration": 81,
    "start_time": "2022-03-27T10:14:04.957Z"
   },
   {
    "duration": 54,
    "start_time": "2022-03-27T10:14:05.040Z"
   },
   {
    "duration": 35,
    "start_time": "2022-03-27T10:14:05.096Z"
   },
   {
    "duration": 73,
    "start_time": "2022-03-27T10:14:05.134Z"
   },
   {
    "duration": 31,
    "start_time": "2022-03-27T10:14:05.210Z"
   },
   {
    "duration": 77,
    "start_time": "2022-03-27T10:14:05.244Z"
   },
   {
    "duration": 19,
    "start_time": "2022-03-27T10:14:05.324Z"
   },
   {
    "duration": 36,
    "start_time": "2022-03-27T10:14:05.346Z"
   },
   {
    "duration": 15723,
    "start_time": "2022-03-27T10:14:05.386Z"
   },
   {
    "duration": 38,
    "start_time": "2022-03-27T10:14:21.111Z"
   },
   {
    "duration": 52,
    "start_time": "2022-03-27T10:14:21.152Z"
   },
   {
    "duration": 75,
    "start_time": "2022-03-27T10:14:21.207Z"
   },
   {
    "duration": 1072,
    "start_time": "2022-03-27T10:14:21.284Z"
   },
   {
    "duration": 476,
    "start_time": "2022-03-27T10:14:22.359Z"
   },
   {
    "duration": 438,
    "start_time": "2022-03-27T10:14:22.839Z"
   },
   {
    "duration": 402,
    "start_time": "2022-03-27T10:14:23.284Z"
   },
   {
    "duration": 19,
    "start_time": "2022-03-27T10:14:23.688Z"
   },
   {
    "duration": 13,
    "start_time": "2022-03-27T10:14:23.710Z"
   },
   {
    "duration": 12,
    "start_time": "2022-03-27T10:14:23.726Z"
   },
   {
    "duration": 42,
    "start_time": "2022-03-27T10:14:23.740Z"
   },
   {
    "duration": 8,
    "start_time": "2022-03-27T10:14:23.784Z"
   },
   {
    "duration": 19,
    "start_time": "2022-03-27T10:14:23.794Z"
   },
   {
    "duration": 12,
    "start_time": "2022-03-27T10:14:23.815Z"
   },
   {
    "duration": 9,
    "start_time": "2022-03-27T10:14:23.829Z"
   },
   {
    "duration": 48,
    "start_time": "2022-03-27T10:14:23.840Z"
   },
   {
    "duration": 21,
    "start_time": "2022-03-27T10:14:23.891Z"
   },
   {
    "duration": 47,
    "start_time": "2022-03-27T10:47:18.763Z"
   },
   {
    "duration": 235,
    "start_time": "2022-03-27T10:47:31.616Z"
   },
   {
    "duration": 9,
    "start_time": "2022-03-27T10:47:54.421Z"
   },
   {
    "duration": 7,
    "start_time": "2022-03-27T10:47:55.630Z"
   },
   {
    "duration": 1284,
    "start_time": "2022-03-27T10:48:01.409Z"
   },
   {
    "duration": 429,
    "start_time": "2022-03-27T10:48:02.695Z"
   },
   {
    "duration": 15,
    "start_time": "2022-03-27T10:48:03.125Z"
   },
   {
    "duration": 14,
    "start_time": "2022-03-27T10:48:03.142Z"
   },
   {
    "duration": 17,
    "start_time": "2022-03-27T10:48:03.158Z"
   },
   {
    "duration": 8,
    "start_time": "2022-03-27T10:48:03.176Z"
   },
   {
    "duration": 16,
    "start_time": "2022-03-27T10:48:03.186Z"
   },
   {
    "duration": 38,
    "start_time": "2022-03-27T10:48:03.204Z"
   },
   {
    "duration": 31,
    "start_time": "2022-03-27T10:48:03.244Z"
   },
   {
    "duration": 239,
    "start_time": "2022-03-27T10:48:03.277Z"
   },
   {
    "duration": 12,
    "start_time": "2022-03-27T10:48:03.518Z"
   },
   {
    "duration": 9,
    "start_time": "2022-03-27T10:48:03.531Z"
   },
   {
    "duration": 28,
    "start_time": "2022-03-27T10:48:03.542Z"
   },
   {
    "duration": 30,
    "start_time": "2022-03-27T10:48:03.572Z"
   },
   {
    "duration": 20,
    "start_time": "2022-03-27T10:48:03.603Z"
   },
   {
    "duration": 22,
    "start_time": "2022-03-27T10:48:03.624Z"
   },
   {
    "duration": 200,
    "start_time": "2022-03-27T10:48:03.648Z"
   },
   {
    "duration": 9,
    "start_time": "2022-03-27T10:48:03.849Z"
   },
   {
    "duration": 8,
    "start_time": "2022-03-27T10:48:03.859Z"
   },
   {
    "duration": 11,
    "start_time": "2022-03-27T10:48:03.869Z"
   },
   {
    "duration": 16,
    "start_time": "2022-03-27T10:48:03.901Z"
   },
   {
    "duration": 51,
    "start_time": "2022-03-27T10:48:03.918Z"
   },
   {
    "duration": 194,
    "start_time": "2022-03-27T10:48:03.970Z"
   },
   {
    "duration": 15,
    "start_time": "2022-03-27T10:48:04.166Z"
   },
   {
    "duration": 55,
    "start_time": "2022-03-27T10:48:04.183Z"
   },
   {
    "duration": 198,
    "start_time": "2022-03-27T10:48:04.239Z"
   },
   {
    "duration": 4,
    "start_time": "2022-03-27T10:48:04.438Z"
   },
   {
    "duration": 1465,
    "start_time": "2022-03-27T10:48:04.445Z"
   },
   {
    "duration": 92,
    "start_time": "2022-03-27T10:48:05.913Z"
   },
   {
    "duration": 41,
    "start_time": "2022-03-27T10:48:06.007Z"
   },
   {
    "duration": 24,
    "start_time": "2022-03-27T10:48:06.050Z"
   },
   {
    "duration": 46,
    "start_time": "2022-03-27T10:48:06.076Z"
   },
   {
    "duration": 29,
    "start_time": "2022-03-27T10:48:06.124Z"
   },
   {
    "duration": 19,
    "start_time": "2022-03-27T10:48:06.155Z"
   },
   {
    "duration": 53,
    "start_time": "2022-03-27T10:48:06.176Z"
   },
   {
    "duration": 12,
    "start_time": "2022-03-27T10:48:06.230Z"
   },
   {
    "duration": 7,
    "start_time": "2022-03-27T10:48:06.243Z"
   },
   {
    "duration": 8898,
    "start_time": "2022-03-27T10:48:06.251Z"
   },
   {
    "duration": 25,
    "start_time": "2022-03-27T10:48:15.150Z"
   },
   {
    "duration": 35,
    "start_time": "2022-03-27T10:48:15.176Z"
   },
   {
    "duration": 32,
    "start_time": "2022-03-27T10:48:15.216Z"
   },
   {
    "duration": 831,
    "start_time": "2022-03-27T10:48:15.250Z"
   },
   {
    "duration": 275,
    "start_time": "2022-03-27T10:48:16.084Z"
   },
   {
    "duration": 245,
    "start_time": "2022-03-27T10:48:16.361Z"
   },
   {
    "duration": 224,
    "start_time": "2022-03-27T10:48:16.608Z"
   },
   {
    "duration": 12,
    "start_time": "2022-03-27T10:48:16.834Z"
   },
   {
    "duration": 9,
    "start_time": "2022-03-27T10:48:16.848Z"
   },
   {
    "duration": 15,
    "start_time": "2022-03-27T10:48:16.858Z"
   },
   {
    "duration": 26,
    "start_time": "2022-03-27T10:48:16.876Z"
   },
   {
    "duration": 6,
    "start_time": "2022-03-27T10:48:16.903Z"
   },
   {
    "duration": 13,
    "start_time": "2022-03-27T10:48:16.910Z"
   },
   {
    "duration": 8,
    "start_time": "2022-03-27T10:48:16.925Z"
   },
   {
    "duration": 5,
    "start_time": "2022-03-27T10:48:16.935Z"
   },
   {
    "duration": 5,
    "start_time": "2022-03-27T10:48:16.941Z"
   },
   {
    "duration": 53,
    "start_time": "2022-03-27T10:48:16.948Z"
   },
   {
    "duration": 9986,
    "start_time": "2022-03-27T10:48:41.520Z"
   },
   {
    "duration": 197,
    "start_time": "2022-03-27T10:48:58.069Z"
   },
   {
    "duration": 10,
    "start_time": "2022-03-27T10:49:01.782Z"
   },
   {
    "duration": 12787,
    "start_time": "2022-03-27T10:49:02.714Z"
   },
   {
    "duration": 1159,
    "start_time": "2022-03-27T10:54:33.693Z"
   },
   {
    "duration": 436,
    "start_time": "2022-03-27T10:54:34.854Z"
   },
   {
    "duration": 14,
    "start_time": "2022-03-27T10:54:35.292Z"
   },
   {
    "duration": 19,
    "start_time": "2022-03-27T10:54:35.307Z"
   },
   {
    "duration": 26,
    "start_time": "2022-03-27T10:54:35.328Z"
   },
   {
    "duration": 9,
    "start_time": "2022-03-27T10:54:35.356Z"
   },
   {
    "duration": 18,
    "start_time": "2022-03-27T10:54:35.367Z"
   },
   {
    "duration": 36,
    "start_time": "2022-03-27T10:54:35.388Z"
   },
   {
    "duration": 30,
    "start_time": "2022-03-27T10:54:35.426Z"
   },
   {
    "duration": 323,
    "start_time": "2022-03-27T10:54:35.459Z"
   },
   {
    "duration": 19,
    "start_time": "2022-03-27T10:54:35.784Z"
   },
   {
    "duration": 8,
    "start_time": "2022-03-27T10:54:35.805Z"
   },
   {
    "duration": 26,
    "start_time": "2022-03-27T10:54:35.815Z"
   },
   {
    "duration": 9,
    "start_time": "2022-03-27T10:54:35.843Z"
   },
   {
    "duration": 25,
    "start_time": "2022-03-27T10:54:35.854Z"
   },
   {
    "duration": 27,
    "start_time": "2022-03-27T10:54:35.901Z"
   },
   {
    "duration": 209,
    "start_time": "2022-03-27T10:54:35.930Z"
   },
   {
    "duration": 8,
    "start_time": "2022-03-27T10:54:36.141Z"
   },
   {
    "duration": 9,
    "start_time": "2022-03-27T10:54:36.151Z"
   },
   {
    "duration": 13,
    "start_time": "2022-03-27T10:54:36.161Z"
   },
   {
    "duration": 43,
    "start_time": "2022-03-27T10:54:36.176Z"
   },
   {
    "duration": 53,
    "start_time": "2022-03-27T10:54:36.221Z"
   },
   {
    "duration": 247,
    "start_time": "2022-03-27T10:54:36.275Z"
   },
   {
    "duration": 20,
    "start_time": "2022-03-27T10:54:36.524Z"
   },
   {
    "duration": 68,
    "start_time": "2022-03-27T10:54:36.545Z"
   },
   {
    "duration": 213,
    "start_time": "2022-03-27T10:54:36.615Z"
   },
   {
    "duration": 4,
    "start_time": "2022-03-27T10:54:36.830Z"
   },
   {
    "duration": 1505,
    "start_time": "2022-03-27T10:54:36.837Z"
   },
   {
    "duration": 88,
    "start_time": "2022-03-27T10:54:38.343Z"
   },
   {
    "duration": 69,
    "start_time": "2022-03-27T10:54:38.433Z"
   },
   {
    "duration": 34,
    "start_time": "2022-03-27T10:54:38.504Z"
   },
   {
    "duration": 34,
    "start_time": "2022-03-27T10:54:38.540Z"
   },
   {
    "duration": 54,
    "start_time": "2022-03-27T10:54:38.576Z"
   },
   {
    "duration": 20,
    "start_time": "2022-03-27T10:54:38.631Z"
   },
   {
    "duration": 56,
    "start_time": "2022-03-27T10:54:38.652Z"
   },
   {
    "duration": 12,
    "start_time": "2022-03-27T10:54:38.710Z"
   },
   {
    "duration": 7,
    "start_time": "2022-03-27T10:54:38.723Z"
   },
   {
    "duration": 8586,
    "start_time": "2022-03-27T10:54:38.732Z"
   },
   {
    "duration": 24,
    "start_time": "2022-03-27T10:54:47.320Z"
   },
   {
    "duration": 17,
    "start_time": "2022-03-27T10:54:47.346Z"
   },
   {
    "duration": 57,
    "start_time": "2022-03-27T10:54:47.364Z"
   },
   {
    "duration": 766,
    "start_time": "2022-03-27T10:54:47.423Z"
   },
   {
    "duration": 254,
    "start_time": "2022-03-27T10:54:48.191Z"
   },
   {
    "duration": 248,
    "start_time": "2022-03-27T10:54:48.447Z"
   },
   {
    "duration": 218,
    "start_time": "2022-03-27T10:54:48.696Z"
   },
   {
    "duration": 13,
    "start_time": "2022-03-27T10:54:48.916Z"
   },
   {
    "duration": 9,
    "start_time": "2022-03-27T10:54:48.931Z"
   },
   {
    "duration": 9,
    "start_time": "2022-03-27T10:54:48.941Z"
   },
   {
    "duration": 5,
    "start_time": "2022-03-27T10:54:48.951Z"
   },
   {
    "duration": 14,
    "start_time": "2022-03-27T10:54:48.957Z"
   },
   {
    "duration": 35,
    "start_time": "2022-03-27T10:54:48.973Z"
   },
   {
    "duration": 7,
    "start_time": "2022-03-27T10:54:49.010Z"
   },
   {
    "duration": 4,
    "start_time": "2022-03-27T10:54:49.018Z"
   },
   {
    "duration": 7,
    "start_time": "2022-03-27T10:54:49.024Z"
   },
   {
    "duration": 15,
    "start_time": "2022-03-27T10:54:49.032Z"
   },
   {
    "duration": 1198,
    "start_time": "2022-03-30T06:56:38.640Z"
   },
   {
    "duration": 423,
    "start_time": "2022-03-30T06:56:39.840Z"
   },
   {
    "duration": 15,
    "start_time": "2022-03-30T06:56:40.265Z"
   },
   {
    "duration": 12,
    "start_time": "2022-03-30T06:56:40.282Z"
   },
   {
    "duration": 17,
    "start_time": "2022-03-30T06:56:40.296Z"
   },
   {
    "duration": 20,
    "start_time": "2022-03-30T06:56:40.315Z"
   },
   {
    "duration": 9,
    "start_time": "2022-03-30T06:56:40.336Z"
   },
   {
    "duration": 26,
    "start_time": "2022-03-30T06:56:40.346Z"
   },
   {
    "duration": 27,
    "start_time": "2022-03-30T06:56:40.374Z"
   },
   {
    "duration": 233,
    "start_time": "2022-03-30T06:56:40.404Z"
   },
   {
    "duration": 11,
    "start_time": "2022-03-30T06:56:40.639Z"
   },
   {
    "duration": 8,
    "start_time": "2022-03-30T06:56:40.651Z"
   },
   {
    "duration": 22,
    "start_time": "2022-03-30T06:56:40.661Z"
   },
   {
    "duration": 9,
    "start_time": "2022-03-30T06:56:40.685Z"
   },
   {
    "duration": 58,
    "start_time": "2022-03-30T06:56:40.696Z"
   },
   {
    "duration": 26,
    "start_time": "2022-03-30T06:56:40.756Z"
   },
   {
    "duration": 192,
    "start_time": "2022-03-30T06:56:40.784Z"
   },
   {
    "duration": 9,
    "start_time": "2022-03-30T06:56:40.977Z"
   },
   {
    "duration": 11,
    "start_time": "2022-03-30T06:56:40.987Z"
   },
   {
    "duration": 13,
    "start_time": "2022-03-30T06:56:41.000Z"
   },
   {
    "duration": 16,
    "start_time": "2022-03-30T06:56:41.033Z"
   },
   {
    "duration": 54,
    "start_time": "2022-03-30T06:56:41.051Z"
   },
   {
    "duration": 211,
    "start_time": "2022-03-30T06:56:41.107Z"
   },
   {
    "duration": 50,
    "start_time": "2022-03-30T06:56:41.319Z"
   },
   {
    "duration": 221,
    "start_time": "2022-03-30T06:56:41.370Z"
   },
   {
    "duration": 3,
    "start_time": "2022-03-30T06:56:41.593Z"
   },
   {
    "duration": 1517,
    "start_time": "2022-03-30T06:56:41.597Z"
   },
   {
    "duration": 66,
    "start_time": "2022-03-30T06:56:43.132Z"
   },
   {
    "duration": 69,
    "start_time": "2022-03-30T06:56:43.199Z"
   },
   {
    "duration": 24,
    "start_time": "2022-03-30T06:56:43.270Z"
   },
   {
    "duration": 42,
    "start_time": "2022-03-30T06:56:43.296Z"
   },
   {
    "duration": 29,
    "start_time": "2022-03-30T06:56:43.339Z"
   },
   {
    "duration": 21,
    "start_time": "2022-03-30T06:56:43.370Z"
   },
   {
    "duration": 58,
    "start_time": "2022-03-30T06:56:43.392Z"
   },
   {
    "duration": 12,
    "start_time": "2022-03-30T06:56:43.451Z"
   },
   {
    "duration": 6,
    "start_time": "2022-03-30T06:56:43.465Z"
   },
   {
    "duration": 8640,
    "start_time": "2022-03-30T06:56:43.473Z"
   },
   {
    "duration": 34,
    "start_time": "2022-03-30T06:56:52.115Z"
   },
   {
    "duration": 18,
    "start_time": "2022-03-30T06:56:52.150Z"
   },
   {
    "duration": 33,
    "start_time": "2022-03-30T06:56:52.169Z"
   },
   {
    "duration": 830,
    "start_time": "2022-03-30T06:56:52.203Z"
   },
   {
    "duration": 267,
    "start_time": "2022-03-30T06:56:53.034Z"
   },
   {
    "duration": 260,
    "start_time": "2022-03-30T06:56:53.302Z"
   },
   {
    "duration": 230,
    "start_time": "2022-03-30T06:56:53.564Z"
   },
   {
    "duration": 11,
    "start_time": "2022-03-30T06:56:53.796Z"
   },
   {
    "duration": 8,
    "start_time": "2022-03-30T06:56:53.809Z"
   },
   {
    "duration": 9,
    "start_time": "2022-03-30T06:56:53.833Z"
   },
   {
    "duration": 11,
    "start_time": "2022-03-30T06:56:53.844Z"
   },
   {
    "duration": 11,
    "start_time": "2022-03-30T06:56:53.856Z"
   },
   {
    "duration": 15,
    "start_time": "2022-03-30T06:56:53.868Z"
   },
   {
    "duration": 9,
    "start_time": "2022-03-30T06:56:53.884Z"
   },
   {
    "duration": 11,
    "start_time": "2022-03-30T06:56:53.894Z"
   },
   {
    "duration": 26,
    "start_time": "2022-03-30T06:56:53.907Z"
   },
   {
    "duration": 14,
    "start_time": "2022-03-30T06:56:53.935Z"
   },
   {
    "duration": 1136,
    "start_time": "2022-03-30T07:02:11.021Z"
   },
   {
    "duration": 377,
    "start_time": "2022-03-30T07:02:12.159Z"
   },
   {
    "duration": 14,
    "start_time": "2022-03-30T07:02:12.538Z"
   },
   {
    "duration": 13,
    "start_time": "2022-03-30T07:02:12.554Z"
   },
   {
    "duration": 19,
    "start_time": "2022-03-30T07:02:12.570Z"
   },
   {
    "duration": 8,
    "start_time": "2022-03-30T07:02:12.591Z"
   },
   {
    "duration": 35,
    "start_time": "2022-03-30T07:02:12.601Z"
   },
   {
    "duration": 31,
    "start_time": "2022-03-30T07:02:12.638Z"
   },
   {
    "duration": 29,
    "start_time": "2022-03-30T07:02:12.671Z"
   },
   {
    "duration": 222,
    "start_time": "2022-03-30T07:02:12.702Z"
   },
   {
    "duration": 16,
    "start_time": "2022-03-30T07:02:12.926Z"
   },
   {
    "duration": 7,
    "start_time": "2022-03-30T07:02:12.944Z"
   },
   {
    "duration": 22,
    "start_time": "2022-03-30T07:02:12.953Z"
   },
   {
    "duration": 9,
    "start_time": "2022-03-30T07:02:12.978Z"
   },
   {
    "duration": 48,
    "start_time": "2022-03-30T07:02:12.989Z"
   },
   {
    "duration": 27,
    "start_time": "2022-03-30T07:02:13.038Z"
   },
   {
    "duration": 196,
    "start_time": "2022-03-30T07:02:13.066Z"
   },
   {
    "duration": 10,
    "start_time": "2022-03-30T07:02:13.264Z"
   },
   {
    "duration": 9,
    "start_time": "2022-03-30T07:02:13.275Z"
   },
   {
    "duration": 20,
    "start_time": "2022-03-30T07:02:13.286Z"
   },
   {
    "duration": 43,
    "start_time": "2022-03-30T07:02:13.308Z"
   },
   {
    "duration": 3,
    "start_time": "2022-03-30T07:02:13.353Z"
   },
   {
    "duration": 54,
    "start_time": "2022-03-30T07:02:13.358Z"
   },
   {
    "duration": 204,
    "start_time": "2022-03-30T07:02:13.414Z"
   },
   {
    "duration": 56,
    "start_time": "2022-03-30T07:02:13.620Z"
   },
   {
    "duration": 207,
    "start_time": "2022-03-30T07:02:13.677Z"
   },
   {
    "duration": 4,
    "start_time": "2022-03-30T07:02:13.885Z"
   },
   {
    "duration": 1503,
    "start_time": "2022-03-30T07:02:13.890Z"
   },
   {
    "duration": 82,
    "start_time": "2022-03-30T07:02:15.395Z"
   },
   {
    "duration": 67,
    "start_time": "2022-03-30T07:02:15.478Z"
   },
   {
    "duration": 23,
    "start_time": "2022-03-30T07:02:15.547Z"
   },
   {
    "duration": 23,
    "start_time": "2022-03-30T07:02:15.572Z"
   },
   {
    "duration": 48,
    "start_time": "2022-03-30T07:02:15.597Z"
   },
   {
    "duration": 19,
    "start_time": "2022-03-30T07:02:15.647Z"
   },
   {
    "duration": 30,
    "start_time": "2022-03-30T07:02:15.667Z"
   },
   {
    "duration": 40,
    "start_time": "2022-03-30T07:02:15.699Z"
   },
   {
    "duration": 7,
    "start_time": "2022-03-30T07:02:15.740Z"
   },
   {
    "duration": 8956,
    "start_time": "2022-03-30T07:02:15.748Z"
   },
   {
    "duration": 38,
    "start_time": "2022-03-30T07:02:24.705Z"
   },
   {
    "duration": 18,
    "start_time": "2022-03-30T07:02:24.744Z"
   },
   {
    "duration": 33,
    "start_time": "2022-03-30T07:02:24.766Z"
   },
   {
    "duration": 828,
    "start_time": "2022-03-30T07:02:24.801Z"
   },
   {
    "duration": 272,
    "start_time": "2022-03-30T07:02:25.633Z"
   },
   {
    "duration": 254,
    "start_time": "2022-03-30T07:02:25.906Z"
   },
   {
    "duration": 231,
    "start_time": "2022-03-30T07:02:26.161Z"
   },
   {
    "duration": 15,
    "start_time": "2022-03-30T07:02:26.393Z"
   },
   {
    "duration": 27,
    "start_time": "2022-03-30T07:02:26.409Z"
   },
   {
    "duration": 9,
    "start_time": "2022-03-30T07:02:26.438Z"
   },
   {
    "duration": 4,
    "start_time": "2022-03-30T07:02:26.448Z"
   },
   {
    "duration": 5,
    "start_time": "2022-03-30T07:02:26.454Z"
   },
   {
    "duration": 15,
    "start_time": "2022-03-30T07:02:26.460Z"
   },
   {
    "duration": 9,
    "start_time": "2022-03-30T07:02:26.476Z"
   },
   {
    "duration": 4,
    "start_time": "2022-03-30T07:02:26.487Z"
   },
   {
    "duration": 41,
    "start_time": "2022-03-30T07:02:26.492Z"
   },
   {
    "duration": 15,
    "start_time": "2022-03-30T07:02:26.535Z"
   }
  ],
  "kernelspec": {
   "display_name": "Python 3 (ipykernel)",
   "language": "python",
   "name": "python3"
  },
  "language_info": {
   "codemirror_mode": {
    "name": "ipython",
    "version": 3
   },
   "file_extension": ".py",
   "mimetype": "text/x-python",
   "name": "python",
   "nbconvert_exporter": "python",
   "pygments_lexer": "ipython3",
   "version": "3.9.12"
  },
  "toc": {
   "base_numbering": 1,
   "nav_menu": {},
   "number_sections": true,
   "sideBar": true,
   "skip_h1_title": true,
   "title_cell": "Table of Contents",
   "title_sidebar": "Contents",
   "toc_cell": false,
   "toc_position": {},
   "toc_section_display": true,
   "toc_window_display": false
  },
  "toc-showtags": false
 },
 "nbformat": 4,
 "nbformat_minor": 5
}

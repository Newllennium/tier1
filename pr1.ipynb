{
 "cells": [
  {
   "cell_type": "markdown",
   "id": "de9ca66e",
   "metadata": {},
   "source": [
    "Привет, Николай! \n",
    "\n",
    "Меня зовут Ольга Макаревич и я буду проверять твою работу. Предлагаю продолжить общение на «ты». Но, если это не удобно, - дай знать, и мы перейдем на \"вы\". \n",
    "\n",
    "Моя основная цель — не указать на совершенные тобою ошибки, а поделиться своим опытом и помочь тебе стать аналитиком данных. Ты уже проделала большую работу над проектом, но давай сделаем его еще лучше. \n",
    "\n",
    "Ниже ты найдешь мои комментарии - **пожалуйста, не перемещай, не изменяй и не удаляй их**. \n",
    "\n",
    "Увидев у тебя ошибку, в первый раз я лишь укажу на ее наличие и дам тебе возможность самостоятельно найти и исправить ее. На реальной работе твой начальник будет поступать так же, а я пытаюсь подготовить тебя именно к работе аналитиком. Но, если ты пока не справишься с такой задачей - при следующей проверке я дам более точную подсказку. \n",
    "\n",
    "Мои комментарии выглядят так:\n",
    "        \n",
    "<div class=\"alert alert-block alert-success\">\n",
    "<b>Комментарий от ревьюера</b>\n",
    "\n",
    "Таким цветом отмечены правильные решения.\n",
    "\n",
    "</div>\n",
    "\n",
    "<div class=\"alert alert-block alert-warning\">\n",
    "<b>Комментарий от ревьюера</b>\n",
    "\n",
    "Таким цветом отмечены дополнения как сделать работу еще лучше.\n",
    "\n",
    "</div>\n",
    "\n",
    "<div class=\"alert alert-block alert-danger\">\n",
    "<b>Комментарий от ревьюера</b>\n",
    "\n",
    "Таким цветом отмечены неудачные решения\n",
    "\n",
    "</div>\n",
    "\n",
    "\n",
    "Ты можешь оставлять свои комментарии под моими, отметь их каким-нибудь цветом или просто выдели отдельную ячейку.\n",
    "Например, так:\n",
    "\n",
    "<div class=\"alert alert-block alert-info\">\n",
    "<b>Комментарий от студента</b> <a class=\"tocSkip\"></a>\n",
    "    \n",
    "Текст комментария\n",
    "</div>"
   ]
  },
  {
   "cell_type": "markdown",
   "id": "3127a838",
   "metadata": {},
   "source": [
    "<div class=\"alert alert-block alert-success\">\n",
    "<b>Общий комментарий от ревьюера</b>\n",
    "    \n",
    "Николай, спасибо большое за присланную работу!  Извини, что вышла такая большая задержка с проверкой, я думаю, ты уже в курсе ситуации. Мы стараемся сократить время, надеюсь, скоро всё получится.\n",
    "    \n",
    "Проект получился классным! Спасибо за комментарии в течении всего проекта. Они очень хорошо помогают структурировать работу. \n",
    "    \n",
    "<span class=\"text-danger\">Есть несколько мелких ошибок, которые ты легко поправишь. Я написала комментарии, посмотри, пожалуйста.</span>\n",
    "    \n",
    "Жду обновленную версию. :) \n",
    "</div>\n",
    "\n",
    "<div class=\"alert alert-block alert-success\">\n",
    "<b>Общий комментарий от ревьюера. V.2.</b>\n",
    "    \n",
    "Привет, Николай! Спасибо за быстрые правки! Всё получилось прекрасно!\n",
    "    \n",
    "Надеюсь,следующий проект будет быстрее! Удачи! :)\n",
    "</div>\n",
    "\n",
    "<div class=\"alert alert-block alert-warning\">\n",
    "<b>Для будущих проектов</b>\n",
    "    \n",
    "- лучше давать переменным осмысленные имена (cars, credits, events). df=dataframe. Представь, что у нас будет df1,df2,df3. Сложновато будет сразу понять, где нужные данные.\n",
    "    \n",
    "- вижу красные автоматические комментарии. Мы можем их удалить, чтобы работа была красивее. Стоит добавить в импорт библиотек:\n",
    "    \n",
    "            import warnings\n",
    "\n",
    "        warnings.filterwarnings(\"ignore\")\n",
    "\n",
    "\n",
    "</div>"
   ]
  },
  {
   "cell_type": "markdown",
   "id": "bf06d251",
   "metadata": {},
   "source": [
    "# Исследование надежности заемщиков."
   ]
  },
  {
   "cell_type": "markdown",
   "id": "608fcb22",
   "metadata": {},
   "source": [
    "Заказчик — кредитный отдел банка. Нужно разобраться, влияет ли семейное положение и количество детей клиента на факт погашения кредита в срок. Входные данные от банка — статистика о платёжеспособности клиентов."
   ]
  },
  {
   "cell_type": "markdown",
   "id": "e74b8549",
   "metadata": {},
   "source": [
    "Описание данных:\n",
    "\n",
    "- children — количество детей в семье\n",
    "- days_employed — общий трудовой стаж в днях\n",
    "- dob_years — возраст клиента в годах\n",
    "- education — уровень образования клиента\n",
    "- education_id — идентификатор уровня образования\n",
    "- family_status — семейное положение\n",
    "- family_status_id — идентификатор семейного положения\n",
    "- gender — пол клиента\n",
    "- income_type — тип занятости\n",
    "- debt — имел ли задолженность по возврату кредитов\n",
    "- total_income — ежемесячный доход\n",
    "- purpose — цель получения кредита"
   ]
  },
  {
   "cell_type": "markdown",
   "id": "62a65a83",
   "metadata": {
    "heading_collapsed": true
   },
   "source": [
    "### Шаг 1. Обзор данных"
   ]
  },
  {
   "cell_type": "markdown",
   "id": "f5a27048",
   "metadata": {
    "heading_collapsed": true,
    "hidden": true
   },
   "source": [
    "#### Импорт библиотек и датасета, вызов метода .info"
   ]
  },
  {
   "cell_type": "code",
   "execution_count": 1,
   "id": "0127e40e",
   "metadata": {},
   "outputs": [],
   "source": [
    "# Импорт библиотек и доп опции.\n",
    "import pandas as pd\n",
    "pd.options.mode.chained_assignment = None  # Отключим предупреждение"
   ]
  },
  {
   "cell_type": "code",
   "execution_count": 2,
   "id": "7b0d3c1d",
   "metadata": {
    "ExecuteTime": {
     "end_time": "2022-02-09T09:26:23.571584Z",
     "start_time": "2022-02-09T09:26:23.380390Z"
    },
    "hidden": true
   },
   "outputs": [
    {
     "name": "stdout",
     "output_type": "stream",
     "text": [
      "Index(['children', 'days_employed', 'dob_years', 'education', 'education_id',\n",
      "       'family_status', 'family_status_id', 'gender', 'income_type', 'debt',\n",
      "       'total_income', 'purpose'],\n",
      "      dtype='object')\n",
      "\n",
      "<class 'pandas.core.frame.DataFrame'>\n",
      "RangeIndex: 21525 entries, 0 to 21524\n",
      "Data columns (total 12 columns):\n",
      "children            21525 non-null int64\n",
      "days_employed       19351 non-null float64\n",
      "dob_years           21525 non-null int64\n",
      "education           21525 non-null object\n",
      "education_id        21525 non-null int64\n",
      "family_status       21525 non-null object\n",
      "family_status_id    21525 non-null int64\n",
      "gender              21525 non-null object\n",
      "income_type         21525 non-null object\n",
      "debt                21525 non-null int64\n",
      "total_income        19351 non-null float64\n",
      "purpose             21525 non-null object\n",
      "dtypes: float64(2), int64(5), object(5)\n",
      "memory usage: 2.0+ MB\n"
     ]
    }
   ],
   "source": [
    "# Чтение датасета.\n",
    "df = pd.read_csv('/datasets/data.csv')\n",
    "\n",
    "print(df.columns)\n",
    "print()\n",
    "df.info()"
   ]
  },
  {
   "cell_type": "markdown",
   "id": "715a37f6",
   "metadata": {},
   "source": [
    "<div class=\"alert alert-block alert-danger\">\n",
    "<s><b>Комментарий от ревьюера</b>\n",
    "\n",
    "Пропиши, пожалуйста, верный путь к файлу. В следующий раз я не смогу его открыть.\n",
    "</div>\n",
    "\n",
    "\n",
    "<div class=\"alert alert-block alert-warning\">\n",
    "<b>Комментарий от ревьюера</b>\n",
    "\n",
    "Импорт библиотек и чтение файлов лучше проводить в разных ячейках.Если нам понадобится добавить библиотеку, то будет легче перезагрузить одну ячейку, а не весь проект. :)\n",
    "</div>"
   ]
  },
  {
   "cell_type": "markdown",
   "id": "301899f5",
   "metadata": {},
   "source": [
    "<div class=\"alert alert-block alert-success\">\n",
    "<b>Комментарий от ревьюера. V.2.</b>\n",
    "\n",
    "Спасибо!</div>    "
   ]
  },
  {
   "cell_type": "markdown",
   "id": "78400b03",
   "metadata": {
    "hidden": true
   },
   "source": [
    "В столбцах total_income и days_employed имеются пропуски, возможно, они взаимосвязаны. \n",
    "\n",
    "Названия столбцов корректны, изменять их не стоит."
   ]
  },
  {
   "cell_type": "code",
   "execution_count": 3,
   "id": "ca5b71a1",
   "metadata": {
    "ExecuteTime": {
     "end_time": "2022-02-09T09:26:23.598005Z",
     "start_time": "2022-02-09T09:26:23.572308Z"
    },
    "hidden": true
   },
   "outputs": [
    {
     "data": {
      "text/html": [
       "<div>\n",
       "<style scoped>\n",
       "    .dataframe tbody tr th:only-of-type {\n",
       "        vertical-align: middle;\n",
       "    }\n",
       "\n",
       "    .dataframe tbody tr th {\n",
       "        vertical-align: top;\n",
       "    }\n",
       "\n",
       "    .dataframe thead th {\n",
       "        text-align: right;\n",
       "    }\n",
       "</style>\n",
       "<table border=\"1\" class=\"dataframe\">\n",
       "  <thead>\n",
       "    <tr style=\"text-align: right;\">\n",
       "      <th></th>\n",
       "      <th>children</th>\n",
       "      <th>days_employed</th>\n",
       "      <th>dob_years</th>\n",
       "      <th>education_id</th>\n",
       "      <th>family_status_id</th>\n",
       "      <th>debt</th>\n",
       "      <th>total_income</th>\n",
       "    </tr>\n",
       "  </thead>\n",
       "  <tbody>\n",
       "    <tr>\n",
       "      <td>count</td>\n",
       "      <td>21525.000000</td>\n",
       "      <td>19351.000000</td>\n",
       "      <td>21525.000000</td>\n",
       "      <td>21525.000000</td>\n",
       "      <td>21525.000000</td>\n",
       "      <td>21525.000000</td>\n",
       "      <td>1.935100e+04</td>\n",
       "    </tr>\n",
       "    <tr>\n",
       "      <td>mean</td>\n",
       "      <td>0.538908</td>\n",
       "      <td>63046.497661</td>\n",
       "      <td>43.293380</td>\n",
       "      <td>0.817236</td>\n",
       "      <td>0.972544</td>\n",
       "      <td>0.080883</td>\n",
       "      <td>1.674223e+05</td>\n",
       "    </tr>\n",
       "    <tr>\n",
       "      <td>std</td>\n",
       "      <td>1.381587</td>\n",
       "      <td>140827.311974</td>\n",
       "      <td>12.574584</td>\n",
       "      <td>0.548138</td>\n",
       "      <td>1.420324</td>\n",
       "      <td>0.272661</td>\n",
       "      <td>1.029716e+05</td>\n",
       "    </tr>\n",
       "    <tr>\n",
       "      <td>min</td>\n",
       "      <td>-1.000000</td>\n",
       "      <td>-18388.949901</td>\n",
       "      <td>0.000000</td>\n",
       "      <td>0.000000</td>\n",
       "      <td>0.000000</td>\n",
       "      <td>0.000000</td>\n",
       "      <td>2.066726e+04</td>\n",
       "    </tr>\n",
       "    <tr>\n",
       "      <td>25%</td>\n",
       "      <td>0.000000</td>\n",
       "      <td>-2747.423625</td>\n",
       "      <td>33.000000</td>\n",
       "      <td>1.000000</td>\n",
       "      <td>0.000000</td>\n",
       "      <td>0.000000</td>\n",
       "      <td>1.030532e+05</td>\n",
       "    </tr>\n",
       "    <tr>\n",
       "      <td>50%</td>\n",
       "      <td>0.000000</td>\n",
       "      <td>-1203.369529</td>\n",
       "      <td>42.000000</td>\n",
       "      <td>1.000000</td>\n",
       "      <td>0.000000</td>\n",
       "      <td>0.000000</td>\n",
       "      <td>1.450179e+05</td>\n",
       "    </tr>\n",
       "    <tr>\n",
       "      <td>75%</td>\n",
       "      <td>1.000000</td>\n",
       "      <td>-291.095954</td>\n",
       "      <td>53.000000</td>\n",
       "      <td>1.000000</td>\n",
       "      <td>1.000000</td>\n",
       "      <td>0.000000</td>\n",
       "      <td>2.034351e+05</td>\n",
       "    </tr>\n",
       "    <tr>\n",
       "      <td>max</td>\n",
       "      <td>20.000000</td>\n",
       "      <td>401755.400475</td>\n",
       "      <td>75.000000</td>\n",
       "      <td>4.000000</td>\n",
       "      <td>4.000000</td>\n",
       "      <td>1.000000</td>\n",
       "      <td>2.265604e+06</td>\n",
       "    </tr>\n",
       "  </tbody>\n",
       "</table>\n",
       "</div>"
      ],
      "text/plain": [
       "           children  days_employed     dob_years  education_id  \\\n",
       "count  21525.000000   19351.000000  21525.000000  21525.000000   \n",
       "mean       0.538908   63046.497661     43.293380      0.817236   \n",
       "std        1.381587  140827.311974     12.574584      0.548138   \n",
       "min       -1.000000  -18388.949901      0.000000      0.000000   \n",
       "25%        0.000000   -2747.423625     33.000000      1.000000   \n",
       "50%        0.000000   -1203.369529     42.000000      1.000000   \n",
       "75%        1.000000    -291.095954     53.000000      1.000000   \n",
       "max       20.000000  401755.400475     75.000000      4.000000   \n",
       "\n",
       "       family_status_id          debt  total_income  \n",
       "count      21525.000000  21525.000000  1.935100e+04  \n",
       "mean           0.972544      0.080883  1.674223e+05  \n",
       "std            1.420324      0.272661  1.029716e+05  \n",
       "min            0.000000      0.000000  2.066726e+04  \n",
       "25%            0.000000      0.000000  1.030532e+05  \n",
       "50%            0.000000      0.000000  1.450179e+05  \n",
       "75%            1.000000      0.000000  2.034351e+05  \n",
       "max            4.000000      1.000000  2.265604e+06  "
      ]
     },
     "metadata": {},
     "output_type": "display_data"
    },
    {
     "data": {
      "text/html": [
       "<div>\n",
       "<style scoped>\n",
       "    .dataframe tbody tr th:only-of-type {\n",
       "        vertical-align: middle;\n",
       "    }\n",
       "\n",
       "    .dataframe tbody tr th {\n",
       "        vertical-align: top;\n",
       "    }\n",
       "\n",
       "    .dataframe thead th {\n",
       "        text-align: right;\n",
       "    }\n",
       "</style>\n",
       "<table border=\"1\" class=\"dataframe\">\n",
       "  <thead>\n",
       "    <tr style=\"text-align: right;\">\n",
       "      <th></th>\n",
       "      <th>children</th>\n",
       "      <th>days_employed</th>\n",
       "      <th>dob_years</th>\n",
       "      <th>education</th>\n",
       "      <th>education_id</th>\n",
       "      <th>family_status</th>\n",
       "      <th>family_status_id</th>\n",
       "      <th>gender</th>\n",
       "      <th>income_type</th>\n",
       "      <th>debt</th>\n",
       "      <th>total_income</th>\n",
       "      <th>purpose</th>\n",
       "    </tr>\n",
       "  </thead>\n",
       "  <tbody>\n",
       "    <tr>\n",
       "      <td>0</td>\n",
       "      <td>1</td>\n",
       "      <td>-8437.673028</td>\n",
       "      <td>42</td>\n",
       "      <td>высшее</td>\n",
       "      <td>0</td>\n",
       "      <td>женат / замужем</td>\n",
       "      <td>0</td>\n",
       "      <td>F</td>\n",
       "      <td>сотрудник</td>\n",
       "      <td>0</td>\n",
       "      <td>253875.639453</td>\n",
       "      <td>покупка жилья</td>\n",
       "    </tr>\n",
       "    <tr>\n",
       "      <td>1</td>\n",
       "      <td>1</td>\n",
       "      <td>-4024.803754</td>\n",
       "      <td>36</td>\n",
       "      <td>среднее</td>\n",
       "      <td>1</td>\n",
       "      <td>женат / замужем</td>\n",
       "      <td>0</td>\n",
       "      <td>F</td>\n",
       "      <td>сотрудник</td>\n",
       "      <td>0</td>\n",
       "      <td>112080.014102</td>\n",
       "      <td>приобретение автомобиля</td>\n",
       "    </tr>\n",
       "    <tr>\n",
       "      <td>2</td>\n",
       "      <td>0</td>\n",
       "      <td>-5623.422610</td>\n",
       "      <td>33</td>\n",
       "      <td>Среднее</td>\n",
       "      <td>1</td>\n",
       "      <td>женат / замужем</td>\n",
       "      <td>0</td>\n",
       "      <td>M</td>\n",
       "      <td>сотрудник</td>\n",
       "      <td>0</td>\n",
       "      <td>145885.952297</td>\n",
       "      <td>покупка жилья</td>\n",
       "    </tr>\n",
       "    <tr>\n",
       "      <td>3</td>\n",
       "      <td>3</td>\n",
       "      <td>-4124.747207</td>\n",
       "      <td>32</td>\n",
       "      <td>среднее</td>\n",
       "      <td>1</td>\n",
       "      <td>женат / замужем</td>\n",
       "      <td>0</td>\n",
       "      <td>M</td>\n",
       "      <td>сотрудник</td>\n",
       "      <td>0</td>\n",
       "      <td>267628.550329</td>\n",
       "      <td>дополнительное образование</td>\n",
       "    </tr>\n",
       "    <tr>\n",
       "      <td>4</td>\n",
       "      <td>0</td>\n",
       "      <td>340266.072047</td>\n",
       "      <td>53</td>\n",
       "      <td>среднее</td>\n",
       "      <td>1</td>\n",
       "      <td>гражданский брак</td>\n",
       "      <td>1</td>\n",
       "      <td>F</td>\n",
       "      <td>пенсионер</td>\n",
       "      <td>0</td>\n",
       "      <td>158616.077870</td>\n",
       "      <td>сыграть свадьбу</td>\n",
       "    </tr>\n",
       "    <tr>\n",
       "      <td>5</td>\n",
       "      <td>0</td>\n",
       "      <td>-926.185831</td>\n",
       "      <td>27</td>\n",
       "      <td>высшее</td>\n",
       "      <td>0</td>\n",
       "      <td>гражданский брак</td>\n",
       "      <td>1</td>\n",
       "      <td>M</td>\n",
       "      <td>компаньон</td>\n",
       "      <td>0</td>\n",
       "      <td>255763.565419</td>\n",
       "      <td>покупка жилья</td>\n",
       "    </tr>\n",
       "    <tr>\n",
       "      <td>6</td>\n",
       "      <td>0</td>\n",
       "      <td>-2879.202052</td>\n",
       "      <td>43</td>\n",
       "      <td>высшее</td>\n",
       "      <td>0</td>\n",
       "      <td>женат / замужем</td>\n",
       "      <td>0</td>\n",
       "      <td>F</td>\n",
       "      <td>компаньон</td>\n",
       "      <td>0</td>\n",
       "      <td>240525.971920</td>\n",
       "      <td>операции с жильем</td>\n",
       "    </tr>\n",
       "    <tr>\n",
       "      <td>7</td>\n",
       "      <td>0</td>\n",
       "      <td>-152.779569</td>\n",
       "      <td>50</td>\n",
       "      <td>СРЕДНЕЕ</td>\n",
       "      <td>1</td>\n",
       "      <td>женат / замужем</td>\n",
       "      <td>0</td>\n",
       "      <td>M</td>\n",
       "      <td>сотрудник</td>\n",
       "      <td>0</td>\n",
       "      <td>135823.934197</td>\n",
       "      <td>образование</td>\n",
       "    </tr>\n",
       "    <tr>\n",
       "      <td>8</td>\n",
       "      <td>2</td>\n",
       "      <td>-6929.865299</td>\n",
       "      <td>35</td>\n",
       "      <td>ВЫСШЕЕ</td>\n",
       "      <td>0</td>\n",
       "      <td>гражданский брак</td>\n",
       "      <td>1</td>\n",
       "      <td>F</td>\n",
       "      <td>сотрудник</td>\n",
       "      <td>0</td>\n",
       "      <td>95856.832424</td>\n",
       "      <td>на проведение свадьбы</td>\n",
       "    </tr>\n",
       "    <tr>\n",
       "      <td>9</td>\n",
       "      <td>0</td>\n",
       "      <td>-2188.756445</td>\n",
       "      <td>41</td>\n",
       "      <td>среднее</td>\n",
       "      <td>1</td>\n",
       "      <td>женат / замужем</td>\n",
       "      <td>0</td>\n",
       "      <td>M</td>\n",
       "      <td>сотрудник</td>\n",
       "      <td>0</td>\n",
       "      <td>144425.938277</td>\n",
       "      <td>покупка жилья для семьи</td>\n",
       "    </tr>\n",
       "    <tr>\n",
       "      <td>10</td>\n",
       "      <td>2</td>\n",
       "      <td>-4171.483647</td>\n",
       "      <td>36</td>\n",
       "      <td>высшее</td>\n",
       "      <td>0</td>\n",
       "      <td>женат / замужем</td>\n",
       "      <td>0</td>\n",
       "      <td>M</td>\n",
       "      <td>компаньон</td>\n",
       "      <td>0</td>\n",
       "      <td>113943.491460</td>\n",
       "      <td>покупка недвижимости</td>\n",
       "    </tr>\n",
       "    <tr>\n",
       "      <td>11</td>\n",
       "      <td>0</td>\n",
       "      <td>-792.701887</td>\n",
       "      <td>40</td>\n",
       "      <td>среднее</td>\n",
       "      <td>1</td>\n",
       "      <td>женат / замужем</td>\n",
       "      <td>0</td>\n",
       "      <td>F</td>\n",
       "      <td>сотрудник</td>\n",
       "      <td>0</td>\n",
       "      <td>77069.234271</td>\n",
       "      <td>покупка коммерческой недвижимости</td>\n",
       "    </tr>\n",
       "    <tr>\n",
       "      <td>12</td>\n",
       "      <td>0</td>\n",
       "      <td>NaN</td>\n",
       "      <td>65</td>\n",
       "      <td>среднее</td>\n",
       "      <td>1</td>\n",
       "      <td>гражданский брак</td>\n",
       "      <td>1</td>\n",
       "      <td>M</td>\n",
       "      <td>пенсионер</td>\n",
       "      <td>0</td>\n",
       "      <td>NaN</td>\n",
       "      <td>сыграть свадьбу</td>\n",
       "    </tr>\n",
       "    <tr>\n",
       "      <td>13</td>\n",
       "      <td>0</td>\n",
       "      <td>-1846.641941</td>\n",
       "      <td>54</td>\n",
       "      <td>неоконченное высшее</td>\n",
       "      <td>2</td>\n",
       "      <td>женат / замужем</td>\n",
       "      <td>0</td>\n",
       "      <td>F</td>\n",
       "      <td>сотрудник</td>\n",
       "      <td>0</td>\n",
       "      <td>130458.228857</td>\n",
       "      <td>приобретение автомобиля</td>\n",
       "    </tr>\n",
       "    <tr>\n",
       "      <td>14</td>\n",
       "      <td>0</td>\n",
       "      <td>-1844.956182</td>\n",
       "      <td>56</td>\n",
       "      <td>высшее</td>\n",
       "      <td>0</td>\n",
       "      <td>гражданский брак</td>\n",
       "      <td>1</td>\n",
       "      <td>F</td>\n",
       "      <td>компаньон</td>\n",
       "      <td>1</td>\n",
       "      <td>165127.911772</td>\n",
       "      <td>покупка жилой недвижимости</td>\n",
       "    </tr>\n",
       "  </tbody>\n",
       "</table>\n",
       "</div>"
      ],
      "text/plain": [
       "    children  days_employed  dob_years            education  education_id  \\\n",
       "0          1   -8437.673028         42               высшее             0   \n",
       "1          1   -4024.803754         36              среднее             1   \n",
       "2          0   -5623.422610         33              Среднее             1   \n",
       "3          3   -4124.747207         32              среднее             1   \n",
       "4          0  340266.072047         53              среднее             1   \n",
       "5          0    -926.185831         27               высшее             0   \n",
       "6          0   -2879.202052         43               высшее             0   \n",
       "7          0    -152.779569         50              СРЕДНЕЕ             1   \n",
       "8          2   -6929.865299         35               ВЫСШЕЕ             0   \n",
       "9          0   -2188.756445         41              среднее             1   \n",
       "10         2   -4171.483647         36               высшее             0   \n",
       "11         0    -792.701887         40              среднее             1   \n",
       "12         0            NaN         65              среднее             1   \n",
       "13         0   -1846.641941         54  неоконченное высшее             2   \n",
       "14         0   -1844.956182         56               высшее             0   \n",
       "\n",
       "       family_status  family_status_id gender income_type  debt  \\\n",
       "0    женат / замужем                 0      F   сотрудник     0   \n",
       "1    женат / замужем                 0      F   сотрудник     0   \n",
       "2    женат / замужем                 0      M   сотрудник     0   \n",
       "3    женат / замужем                 0      M   сотрудник     0   \n",
       "4   гражданский брак                 1      F   пенсионер     0   \n",
       "5   гражданский брак                 1      M   компаньон     0   \n",
       "6    женат / замужем                 0      F   компаньон     0   \n",
       "7    женат / замужем                 0      M   сотрудник     0   \n",
       "8   гражданский брак                 1      F   сотрудник     0   \n",
       "9    женат / замужем                 0      M   сотрудник     0   \n",
       "10   женат / замужем                 0      M   компаньон     0   \n",
       "11   женат / замужем                 0      F   сотрудник     0   \n",
       "12  гражданский брак                 1      M   пенсионер     0   \n",
       "13   женат / замужем                 0      F   сотрудник     0   \n",
       "14  гражданский брак                 1      F   компаньон     1   \n",
       "\n",
       "     total_income                            purpose  \n",
       "0   253875.639453                      покупка жилья  \n",
       "1   112080.014102            приобретение автомобиля  \n",
       "2   145885.952297                      покупка жилья  \n",
       "3   267628.550329         дополнительное образование  \n",
       "4   158616.077870                    сыграть свадьбу  \n",
       "5   255763.565419                      покупка жилья  \n",
       "6   240525.971920                  операции с жильем  \n",
       "7   135823.934197                        образование  \n",
       "8    95856.832424              на проведение свадьбы  \n",
       "9   144425.938277            покупка жилья для семьи  \n",
       "10  113943.491460               покупка недвижимости  \n",
       "11   77069.234271  покупка коммерческой недвижимости  \n",
       "12            NaN                    сыграть свадьбу  \n",
       "13  130458.228857            приобретение автомобиля  \n",
       "14  165127.911772         покупка жилой недвижимости  "
      ]
     },
     "execution_count": 3,
     "metadata": {},
     "output_type": "execute_result"
    }
   ],
   "source": [
    "display(df.describe())\n",
    "df.head(15)"
   ]
  },
  {
   "cell_type": "markdown",
   "id": "3eff6db1",
   "metadata": {
    "hidden": true
   },
   "source": [
    "Скорее всего, пропуски в total_income и days_employed взаимосвязаны. Возможно это категории людей которые как правило не имеют дохода, пенсионеры или дети, видимо, в этом причина пропусков, далее мы проверим эту гипотезу."
   ]
  },
  {
   "cell_type": "code",
   "execution_count": 4,
   "id": "44b1590f",
   "metadata": {
    "ExecuteTime": {
     "end_time": "2022-02-09T09:26:23.601060Z",
     "start_time": "2022-02-09T09:26:23.599002Z"
    },
    "hidden": true
   },
   "outputs": [
    {
     "name": "stdout",
     "output_type": "stream",
     "text": [
      "Процент отсутствующих значений = 10.1%\n"
     ]
    }
   ],
   "source": [
    "print(f'Процент отсутствующих значений = {(21525-19351)/21525:,.1%}')"
   ]
  },
  {
   "cell_type": "markdown",
   "id": "a58b31d9",
   "metadata": {
    "hidden": true
   },
   "source": [
    "Довольно большой процент пропусков, нельзя оставлять его без внимания."
   ]
  },
  {
   "cell_type": "markdown",
   "id": "c8a40ac3",
   "metadata": {
    "heading_collapsed": true,
    "hidden": true
   },
   "source": [
    "#### Столбец \"children\""
   ]
  },
  {
   "cell_type": "code",
   "execution_count": 5,
   "id": "52931eb9",
   "metadata": {
    "ExecuteTime": {
     "end_time": "2022-02-09T09:26:23.606330Z",
     "start_time": "2022-02-09T09:26:23.601694Z"
    },
    "hidden": true
   },
   "outputs": [
    {
     "data": {
      "text/plain": [
       " 0     14149\n",
       " 1      4818\n",
       " 2      2055\n",
       " 3       330\n",
       " 20       76\n",
       "-1        47\n",
       " 4        41\n",
       " 5         9\n",
       "Name: children, dtype: int64"
      ]
     },
     "execution_count": 5,
     "metadata": {},
     "output_type": "execute_result"
    }
   ],
   "source": [
    "df['children'].value_counts()"
   ]
  },
  {
   "cell_type": "markdown",
   "id": "f20fccff",
   "metadata": {
    "hidden": true
   },
   "source": [
    "Можно заметить, что некоторые строки имеют значение -1, и 20 детей соответственно, по всей видимости это ошибка, возможно вызванная повреждениями при записи. -1 изменим на +1, а 20 удалим из списка."
   ]
  },
  {
   "cell_type": "markdown",
   "id": "e091296e",
   "metadata": {
    "heading_collapsed": true,
    "hidden": true
   },
   "source": [
    "#### Столбец \"days_employed\""
   ]
  },
  {
   "cell_type": "code",
   "execution_count": 6,
   "id": "103f841b",
   "metadata": {
    "ExecuteTime": {
     "end_time": "2022-02-09T09:26:23.614053Z",
     "start_time": "2022-02-09T09:26:23.607000Z"
    },
    "hidden": true
   },
   "outputs": [
    {
     "data": {
      "text/plain": [
       "count     19351.000000\n",
       "mean      63046.497661\n",
       "std      140827.311974\n",
       "min      -18388.949901\n",
       "25%       -2747.423625\n",
       "50%       -1203.369529\n",
       "75%        -291.095954\n",
       "max      401755.400475\n",
       "Name: days_employed, dtype: float64"
      ]
     },
     "metadata": {},
     "output_type": "display_data"
    },
    {
     "name": "stdout",
     "output_type": "stream",
     "text": [
      "Отрицательные значения: 15906\n"
     ]
    }
   ],
   "source": [
    "display(df['days_employed'].describe())\n",
    "print('Отрицательные значения:', df[df['days_employed']<0]['days_employed'].count())"
   ]
  },
  {
   "cell_type": "markdown",
   "id": "af111d6b",
   "metadata": {
    "ExecuteTime": {
     "end_time": "2022-02-08T14:22:36.916860Z",
     "start_time": "2022-02-08T14:22:36.913284Z"
    },
    "hidden": true
   },
   "source": [
    "Большинство значений записаны неверно, а максимальные положительные значения трудового стажа ~1100 годам, на результаты исследования этот столбец не повлияет, потому мы не будем его учитывать."
   ]
  },
  {
   "cell_type": "markdown",
   "id": "00479ad4",
   "metadata": {
    "heading_collapsed": true,
    "hidden": true
   },
   "source": [
    "#### Столбец \"dob_years\""
   ]
  },
  {
   "cell_type": "code",
   "execution_count": 7,
   "id": "f2c2eba9",
   "metadata": {
    "ExecuteTime": {
     "end_time": "2022-02-09T09:26:23.618295Z",
     "start_time": "2022-02-09T09:26:23.615124Z"
    },
    "hidden": true,
    "scrolled": true
   },
   "outputs": [
    {
     "data": {
      "text/plain": [
       "35    617\n",
       "40    609\n",
       "41    607\n",
       "34    603\n",
       "38    598\n",
       "42    597\n",
       "33    581\n",
       "39    573\n",
       "31    560\n",
       "36    555\n",
       "44    547\n",
       "29    545\n",
       "30    540\n",
       "48    538\n",
       "37    537\n",
       "50    514\n",
       "43    513\n",
       "32    510\n",
       "49    508\n",
       "28    503\n",
       "45    497\n",
       "27    493\n",
       "56    487\n",
       "52    484\n",
       "47    480\n",
       "54    479\n",
       "46    475\n",
       "58    461\n",
       "57    460\n",
       "53    459\n",
       "51    448\n",
       "59    444\n",
       "55    443\n",
       "26    408\n",
       "60    377\n",
       "25    357\n",
       "61    355\n",
       "62    352\n",
       "63    269\n",
       "64    265\n",
       "24    264\n",
       "23    254\n",
       "65    194\n",
       "66    183\n",
       "22    183\n",
       "67    167\n",
       "21    111\n",
       "0     101\n",
       "68     99\n",
       "69     85\n",
       "70     65\n",
       "71     58\n",
       "20     51\n",
       "72     33\n",
       "19     14\n",
       "73      8\n",
       "74      6\n",
       "75      1\n",
       "Name: dob_years, dtype: int64"
      ]
     },
     "execution_count": 7,
     "metadata": {},
     "output_type": "execute_result"
    }
   ],
   "source": [
    "df['dob_years'].value_counts()"
   ]
  },
  {
   "cell_type": "markdown",
   "id": "eb670ffc",
   "metadata": {
    "hidden": true
   },
   "source": [
    "Можно обнаружить 101 строку с значением 0, заменим далее их медианным значением."
   ]
  },
  {
   "cell_type": "markdown",
   "id": "4b23716d",
   "metadata": {
    "heading_collapsed": true,
    "hidden": true
   },
   "source": [
    "#### Столбец \"education\" "
   ]
  },
  {
   "cell_type": "code",
   "execution_count": 8,
   "id": "f6919668",
   "metadata": {
    "ExecuteTime": {
     "end_time": "2022-02-09T09:26:23.623626Z",
     "start_time": "2022-02-09T09:26:23.618946Z"
    },
    "hidden": true
   },
   "outputs": [
    {
     "data": {
      "text/plain": [
       "среднее                13750\n",
       "высшее                  4718\n",
       "СРЕДНЕЕ                  772\n",
       "Среднее                  711\n",
       "неоконченное высшее      668\n",
       "ВЫСШЕЕ                   274\n",
       "Высшее                   268\n",
       "начальное                250\n",
       "Неоконченное высшее       47\n",
       "НЕОКОНЧЕННОЕ ВЫСШЕЕ       29\n",
       "НАЧАЛЬНОЕ                 17\n",
       "Начальное                 15\n",
       "ученая степень             4\n",
       "Ученая степень             1\n",
       "УЧЕНАЯ СТЕПЕНЬ             1\n",
       "Name: education, dtype: int64"
      ]
     },
     "execution_count": 8,
     "metadata": {},
     "output_type": "execute_result"
    }
   ],
   "source": [
    "df['education'].value_counts()"
   ]
  },
  {
   "cell_type": "markdown",
   "id": "8b8207b4",
   "metadata": {
    "hidden": true
   },
   "source": [
    "Достаточно привести столбец в общий нижний регистр."
   ]
  },
  {
   "cell_type": "markdown",
   "id": "3c6620d3",
   "metadata": {
    "heading_collapsed": true,
    "hidden": true
   },
   "source": [
    "#### Столбец \"education_id\" "
   ]
  },
  {
   "cell_type": "code",
   "execution_count": 9,
   "id": "726196e4",
   "metadata": {
    "ExecuteTime": {
     "end_time": "2022-02-09T09:26:23.628685Z",
     "start_time": "2022-02-09T09:26:23.624278Z"
    },
    "hidden": true
   },
   "outputs": [
    {
     "data": {
      "text/plain": [
       "1    15233\n",
       "0     5260\n",
       "2      744\n",
       "3      282\n",
       "4        6\n",
       "Name: education_id, dtype: int64"
      ]
     },
     "execution_count": 9,
     "metadata": {},
     "output_type": "execute_result"
    }
   ],
   "source": [
    "df['education_id'].value_counts()"
   ]
  },
  {
   "cell_type": "markdown",
   "id": "9d2997a8",
   "metadata": {
    "hidden": true
   },
   "source": [
    "По всей видимости существует 5 ступеней образования, и они совпадают и столбцом \"education\" ."
   ]
  },
  {
   "cell_type": "markdown",
   "id": "88af5810",
   "metadata": {
    "heading_collapsed": true,
    "hidden": true
   },
   "source": [
    "#### Столбец \"family_status\""
   ]
  },
  {
   "cell_type": "code",
   "execution_count": 10,
   "id": "b6b4bdce",
   "metadata": {
    "ExecuteTime": {
     "end_time": "2022-02-09T09:26:23.635598Z",
     "start_time": "2022-02-09T09:26:23.629975Z"
    },
    "hidden": true
   },
   "outputs": [
    {
     "data": {
      "text/plain": [
       "женат / замужем          12380\n",
       "гражданский брак          4177\n",
       "Не женат / не замужем     2813\n",
       "в разводе                 1195\n",
       "вдовец / вдова             960\n",
       "Name: family_status, dtype: int64"
      ]
     },
     "execution_count": 10,
     "metadata": {},
     "output_type": "execute_result"
    }
   ],
   "source": [
    "df['family_status'].value_counts()"
   ]
  },
  {
   "cell_type": "markdown",
   "id": "932ff59c",
   "metadata": {
    "ExecuteTime": {
     "end_time": "2022-02-08T15:13:40.865949Z",
     "start_time": "2022-02-08T15:13:40.862737Z"
    },
    "hidden": true
   },
   "source": [
    "С столбцом всё в порядке."
   ]
  },
  {
   "cell_type": "markdown",
   "id": "23fa4d0e",
   "metadata": {
    "heading_collapsed": true,
    "hidden": true
   },
   "source": [
    "#### Столбец \"family_status_id\""
   ]
  },
  {
   "cell_type": "code",
   "execution_count": 11,
   "id": "5f9745b7",
   "metadata": {
    "ExecuteTime": {
     "end_time": "2022-02-09T09:26:23.640547Z",
     "start_time": "2022-02-09T09:26:23.636281Z"
    },
    "hidden": true
   },
   "outputs": [
    {
     "data": {
      "text/plain": [
       "0    12380\n",
       "1     4177\n",
       "4     2813\n",
       "3     1195\n",
       "2      960\n",
       "Name: family_status_id, dtype: int64"
      ]
     },
     "execution_count": 11,
     "metadata": {},
     "output_type": "execute_result"
    }
   ],
   "source": [
    "df['family_status_id'].value_counts()"
   ]
  },
  {
   "cell_type": "markdown",
   "id": "26d2eb12",
   "metadata": {
    "hidden": true
   },
   "source": [
    "Значения также совпадают с столбцом \"family_status\"."
   ]
  },
  {
   "cell_type": "markdown",
   "id": "ef143b7a",
   "metadata": {
    "heading_collapsed": true,
    "hidden": true
   },
   "source": [
    "#### Столбец \"gender\""
   ]
  },
  {
   "cell_type": "code",
   "execution_count": 12,
   "id": "2524fd6f",
   "metadata": {
    "ExecuteTime": {
     "end_time": "2022-02-09T09:26:23.646116Z",
     "start_time": "2022-02-09T09:26:23.641206Z"
    },
    "hidden": true
   },
   "outputs": [
    {
     "data": {
      "text/plain": [
       "F      14236\n",
       "M       7288\n",
       "XNA        1\n",
       "Name: gender, dtype: int64"
      ]
     },
     "execution_count": 12,
     "metadata": {},
     "output_type": "execute_result"
    }
   ],
   "source": [
    "df['gender'].value_counts()"
   ]
  },
  {
   "cell_type": "markdown",
   "id": "1a23fbc5",
   "metadata": {
    "hidden": true
   },
   "source": [
    "Присутствует 1 значение \"XNA\", его удаление не повлияет на структуру датасета, потому можно удалить эту строчку, либо изменить на любой гендер, женщин в 2 раза больше чем мужчин, потому это скорее-всего женщина."
   ]
  },
  {
   "cell_type": "markdown",
   "id": "2fdf5785",
   "metadata": {
    "heading_collapsed": true,
    "hidden": true
   },
   "source": [
    "#### Столбец \"income_type\""
   ]
  },
  {
   "cell_type": "code",
   "execution_count": 13,
   "id": "105986d3",
   "metadata": {
    "ExecuteTime": {
     "end_time": "2022-02-09T09:26:23.651952Z",
     "start_time": "2022-02-09T09:26:23.646804Z"
    },
    "hidden": true
   },
   "outputs": [
    {
     "data": {
      "text/plain": [
       "сотрудник          11119\n",
       "компаньон           5085\n",
       "пенсионер           3856\n",
       "госслужащий         1459\n",
       "предприниматель        2\n",
       "безработный            2\n",
       "студент                1\n",
       "в декрете              1\n",
       "Name: income_type, dtype: int64"
      ]
     },
     "execution_count": 13,
     "metadata": {},
     "output_type": "execute_result"
    }
   ],
   "source": [
    "df['income_type'].value_counts()"
   ]
  },
  {
   "cell_type": "markdown",
   "id": "b5cdef0f",
   "metadata": {
    "hidden": true
   },
   "source": [
    "Данные выглядят адекватно."
   ]
  },
  {
   "cell_type": "markdown",
   "id": "3c493ad7",
   "metadata": {
    "heading_collapsed": true,
    "hidden": true
   },
   "source": [
    "#### Столбец \"debt\""
   ]
  },
  {
   "cell_type": "code",
   "execution_count": 14,
   "id": "718e8322",
   "metadata": {
    "ExecuteTime": {
     "end_time": "2022-02-09T09:26:23.656726Z",
     "start_time": "2022-02-09T09:26:23.652605Z"
    },
    "hidden": true
   },
   "outputs": [
    {
     "data": {
      "text/plain": [
       "0    19784\n",
       "1     1741\n",
       "Name: debt, dtype: int64"
      ]
     },
     "execution_count": 14,
     "metadata": {},
     "output_type": "execute_result"
    }
   ],
   "source": [
    "df['debt'].value_counts()"
   ]
  },
  {
   "cell_type": "markdown",
   "id": "bcfd8bef",
   "metadata": {
    "hidden": true
   },
   "source": [
    "Всё в порядке."
   ]
  },
  {
   "cell_type": "markdown",
   "id": "51f603ed",
   "metadata": {
    "heading_collapsed": true,
    "hidden": true
   },
   "source": [
    "#### Столбец \"total_income\""
   ]
  },
  {
   "cell_type": "code",
   "execution_count": 15,
   "id": "caf21daf",
   "metadata": {
    "ExecuteTime": {
     "end_time": "2022-02-09T09:26:23.674956Z",
     "start_time": "2022-02-09T09:26:23.657332Z"
    },
    "hidden": true
   },
   "outputs": [
    {
     "data": {
      "text/html": [
       "<div>\n",
       "<style scoped>\n",
       "    .dataframe tbody tr th:only-of-type {\n",
       "        vertical-align: middle;\n",
       "    }\n",
       "\n",
       "    .dataframe tbody tr th {\n",
       "        vertical-align: top;\n",
       "    }\n",
       "\n",
       "    .dataframe thead th {\n",
       "        text-align: right;\n",
       "    }\n",
       "</style>\n",
       "<table border=\"1\" class=\"dataframe\">\n",
       "  <thead>\n",
       "    <tr style=\"text-align: right;\">\n",
       "      <th></th>\n",
       "      <th>children</th>\n",
       "      <th>days_employed</th>\n",
       "      <th>dob_years</th>\n",
       "      <th>education</th>\n",
       "      <th>education_id</th>\n",
       "      <th>family_status</th>\n",
       "      <th>family_status_id</th>\n",
       "      <th>gender</th>\n",
       "      <th>income_type</th>\n",
       "      <th>debt</th>\n",
       "      <th>total_income</th>\n",
       "      <th>purpose</th>\n",
       "    </tr>\n",
       "  </thead>\n",
       "  <tbody>\n",
       "    <tr>\n",
       "      <td>12</td>\n",
       "      <td>0</td>\n",
       "      <td>NaN</td>\n",
       "      <td>65</td>\n",
       "      <td>среднее</td>\n",
       "      <td>1</td>\n",
       "      <td>гражданский брак</td>\n",
       "      <td>1</td>\n",
       "      <td>M</td>\n",
       "      <td>пенсионер</td>\n",
       "      <td>0</td>\n",
       "      <td>NaN</td>\n",
       "      <td>сыграть свадьбу</td>\n",
       "    </tr>\n",
       "    <tr>\n",
       "      <td>26</td>\n",
       "      <td>0</td>\n",
       "      <td>NaN</td>\n",
       "      <td>41</td>\n",
       "      <td>среднее</td>\n",
       "      <td>1</td>\n",
       "      <td>женат / замужем</td>\n",
       "      <td>0</td>\n",
       "      <td>M</td>\n",
       "      <td>госслужащий</td>\n",
       "      <td>0</td>\n",
       "      <td>NaN</td>\n",
       "      <td>образование</td>\n",
       "    </tr>\n",
       "    <tr>\n",
       "      <td>29</td>\n",
       "      <td>0</td>\n",
       "      <td>NaN</td>\n",
       "      <td>63</td>\n",
       "      <td>среднее</td>\n",
       "      <td>1</td>\n",
       "      <td>Не женат / не замужем</td>\n",
       "      <td>4</td>\n",
       "      <td>F</td>\n",
       "      <td>пенсионер</td>\n",
       "      <td>0</td>\n",
       "      <td>NaN</td>\n",
       "      <td>строительство жилой недвижимости</td>\n",
       "    </tr>\n",
       "    <tr>\n",
       "      <td>41</td>\n",
       "      <td>0</td>\n",
       "      <td>NaN</td>\n",
       "      <td>50</td>\n",
       "      <td>среднее</td>\n",
       "      <td>1</td>\n",
       "      <td>женат / замужем</td>\n",
       "      <td>0</td>\n",
       "      <td>F</td>\n",
       "      <td>госслужащий</td>\n",
       "      <td>0</td>\n",
       "      <td>NaN</td>\n",
       "      <td>сделка с подержанным автомобилем</td>\n",
       "    </tr>\n",
       "    <tr>\n",
       "      <td>55</td>\n",
       "      <td>0</td>\n",
       "      <td>NaN</td>\n",
       "      <td>54</td>\n",
       "      <td>среднее</td>\n",
       "      <td>1</td>\n",
       "      <td>гражданский брак</td>\n",
       "      <td>1</td>\n",
       "      <td>F</td>\n",
       "      <td>пенсионер</td>\n",
       "      <td>1</td>\n",
       "      <td>NaN</td>\n",
       "      <td>сыграть свадьбу</td>\n",
       "    </tr>\n",
       "    <tr>\n",
       "      <td>65</td>\n",
       "      <td>0</td>\n",
       "      <td>NaN</td>\n",
       "      <td>21</td>\n",
       "      <td>среднее</td>\n",
       "      <td>1</td>\n",
       "      <td>Не женат / не замужем</td>\n",
       "      <td>4</td>\n",
       "      <td>M</td>\n",
       "      <td>компаньон</td>\n",
       "      <td>0</td>\n",
       "      <td>NaN</td>\n",
       "      <td>операции с коммерческой недвижимостью</td>\n",
       "    </tr>\n",
       "    <tr>\n",
       "      <td>67</td>\n",
       "      <td>0</td>\n",
       "      <td>NaN</td>\n",
       "      <td>52</td>\n",
       "      <td>высшее</td>\n",
       "      <td>0</td>\n",
       "      <td>женат / замужем</td>\n",
       "      <td>0</td>\n",
       "      <td>F</td>\n",
       "      <td>пенсионер</td>\n",
       "      <td>0</td>\n",
       "      <td>NaN</td>\n",
       "      <td>покупка жилья для семьи</td>\n",
       "    </tr>\n",
       "    <tr>\n",
       "      <td>72</td>\n",
       "      <td>1</td>\n",
       "      <td>NaN</td>\n",
       "      <td>32</td>\n",
       "      <td>высшее</td>\n",
       "      <td>0</td>\n",
       "      <td>женат / замужем</td>\n",
       "      <td>0</td>\n",
       "      <td>M</td>\n",
       "      <td>госслужащий</td>\n",
       "      <td>0</td>\n",
       "      <td>NaN</td>\n",
       "      <td>операции с коммерческой недвижимостью</td>\n",
       "    </tr>\n",
       "    <tr>\n",
       "      <td>82</td>\n",
       "      <td>2</td>\n",
       "      <td>NaN</td>\n",
       "      <td>50</td>\n",
       "      <td>высшее</td>\n",
       "      <td>0</td>\n",
       "      <td>женат / замужем</td>\n",
       "      <td>0</td>\n",
       "      <td>F</td>\n",
       "      <td>сотрудник</td>\n",
       "      <td>0</td>\n",
       "      <td>NaN</td>\n",
       "      <td>жилье</td>\n",
       "    </tr>\n",
       "    <tr>\n",
       "      <td>83</td>\n",
       "      <td>0</td>\n",
       "      <td>NaN</td>\n",
       "      <td>52</td>\n",
       "      <td>среднее</td>\n",
       "      <td>1</td>\n",
       "      <td>женат / замужем</td>\n",
       "      <td>0</td>\n",
       "      <td>M</td>\n",
       "      <td>сотрудник</td>\n",
       "      <td>0</td>\n",
       "      <td>NaN</td>\n",
       "      <td>жилье</td>\n",
       "    </tr>\n",
       "  </tbody>\n",
       "</table>\n",
       "</div>"
      ],
      "text/plain": [
       "    children  days_employed  dob_years education  education_id  \\\n",
       "12         0            NaN         65   среднее             1   \n",
       "26         0            NaN         41   среднее             1   \n",
       "29         0            NaN         63   среднее             1   \n",
       "41         0            NaN         50   среднее             1   \n",
       "55         0            NaN         54   среднее             1   \n",
       "65         0            NaN         21   среднее             1   \n",
       "67         0            NaN         52    высшее             0   \n",
       "72         1            NaN         32    высшее             0   \n",
       "82         2            NaN         50    высшее             0   \n",
       "83         0            NaN         52   среднее             1   \n",
       "\n",
       "            family_status  family_status_id gender  income_type  debt  \\\n",
       "12       гражданский брак                 1      M    пенсионер     0   \n",
       "26        женат / замужем                 0      M  госслужащий     0   \n",
       "29  Не женат / не замужем                 4      F    пенсионер     0   \n",
       "41        женат / замужем                 0      F  госслужащий     0   \n",
       "55       гражданский брак                 1      F    пенсионер     1   \n",
       "65  Не женат / не замужем                 4      M    компаньон     0   \n",
       "67        женат / замужем                 0      F    пенсионер     0   \n",
       "72        женат / замужем                 0      M  госслужащий     0   \n",
       "82        женат / замужем                 0      F    сотрудник     0   \n",
       "83        женат / замужем                 0      M    сотрудник     0   \n",
       "\n",
       "    total_income                                purpose  \n",
       "12           NaN                        сыграть свадьбу  \n",
       "26           NaN                            образование  \n",
       "29           NaN       строительство жилой недвижимости  \n",
       "41           NaN       сделка с подержанным автомобилем  \n",
       "55           NaN                        сыграть свадьбу  \n",
       "65           NaN  операции с коммерческой недвижимостью  \n",
       "67           NaN                покупка жилья для семьи  \n",
       "72           NaN  операции с коммерческой недвижимостью  \n",
       "82           NaN                                  жилье  \n",
       "83           NaN                                  жилье  "
      ]
     },
     "metadata": {},
     "output_type": "display_data"
    },
    {
     "data": {
      "text/plain": [
       "count    1.935100e+04\n",
       "mean     1.674223e+05\n",
       "std      1.029716e+05\n",
       "min      2.066726e+04\n",
       "25%      1.030532e+05\n",
       "50%      1.450179e+05\n",
       "75%      2.034351e+05\n",
       "max      2.265604e+06\n",
       "Name: total_income, dtype: float64"
      ]
     },
     "execution_count": 15,
     "metadata": {},
     "output_type": "execute_result"
    }
   ],
   "source": [
    "display(df[df['total_income'].isnull()].head(10))\n",
    "df['total_income'].describe()"
   ]
  },
  {
   "cell_type": "markdown",
   "id": "481e8f73",
   "metadata": {
    "hidden": true
   },
   "source": [
    "Судя по всему нет взаимосвязи в возрасте, либо занятости, по всей видимости пропуски связаны с ошибкой записи, этот столбец важен для нашего исследования, потому далее мы попытаемся заменить значения на медианные по столбцу."
   ]
  },
  {
   "cell_type": "markdown",
   "id": "7c3dd766",
   "metadata": {
    "heading_collapsed": true,
    "hidden": true
   },
   "source": [
    "#### Столбец \"purpose\""
   ]
  },
  {
   "cell_type": "code",
   "execution_count": 16,
   "id": "2e5573cd",
   "metadata": {
    "ExecuteTime": {
     "end_time": "2022-02-09T09:26:23.679447Z",
     "start_time": "2022-02-09T09:26:23.675727Z"
    },
    "hidden": true
   },
   "outputs": [
    {
     "data": {
      "text/plain": [
       "свадьба                                   797\n",
       "на проведение свадьбы                     777\n",
       "сыграть свадьбу                           774\n",
       "операции с недвижимостью                  676\n",
       "покупка коммерческой недвижимости         664\n",
       "покупка жилья для сдачи                   653\n",
       "операции с жильем                         653\n",
       "операции с коммерческой недвижимостью     651\n",
       "жилье                                     647\n",
       "покупка жилья                             647\n",
       "покупка жилья для семьи                   641\n",
       "строительство собственной недвижимости    635\n",
       "недвижимость                              634\n",
       "операции со своей недвижимостью           630\n",
       "строительство жилой недвижимости          626\n",
       "покупка недвижимости                      624\n",
       "строительство недвижимости                620\n",
       "покупка своего жилья                      620\n",
       "ремонт жилью                              612\n",
       "покупка жилой недвижимости                607\n",
       "на покупку своего автомобиля              505\n",
       "заняться высшим образованием              496\n",
       "автомобиль                                495\n",
       "сделка с подержанным автомобилем          489\n",
       "свой автомобиль                           480\n",
       "на покупку подержанного автомобиля        479\n",
       "автомобили                                478\n",
       "на покупку автомобиля                     472\n",
       "дополнительное образование                462\n",
       "приобретение автомобиля                   462\n",
       "сделка с автомобилем                      455\n",
       "высшее образование                        453\n",
       "образование                               447\n",
       "получение дополнительного образования     447\n",
       "получение образования                     443\n",
       "профильное образование                    436\n",
       "получение высшего образования             426\n",
       "заняться образованием                     412\n",
       "Name: purpose, dtype: int64"
      ]
     },
     "execution_count": 16,
     "metadata": {},
     "output_type": "execute_result"
    }
   ],
   "source": [
    "df['purpose'].value_counts()"
   ]
  },
  {
   "cell_type": "markdown",
   "id": "06a39e48",
   "metadata": {
    "hidden": true
   },
   "source": [
    "Нужно объединить данные в общие категории (множество повторяющихся целей) сам столбец корректный."
   ]
  },
  {
   "cell_type": "markdown",
   "id": "2c63a992",
   "metadata": {
    "hidden": true
   },
   "source": [
    "#### Вывод:"
   ]
  },
  {
   "cell_type": "markdown",
   "id": "883f2ecc",
   "metadata": {
    "hidden": true
   },
   "source": [
    "- Удалить строки 20 в столбце \"children\". -1 изменим на +1.\n",
    "\n",
    "- Удалить столбец \"days employed\".\n",
    "\n",
    "- Столбец \"dob years\": заменить 0 на медианное значение.\n",
    "\n",
    "- Столбец \"education\": привести в общий регистр.\n",
    "\n",
    "- Столбец \"gender\": сменить гендер \"XNA\"\n",
    "\n",
    "- Столбец \"total income\" заменить пропуски медианным значением.\n",
    "\n",
    "- Столбец \"purpose\" объединить данные в категории"
   ]
  },
  {
   "cell_type": "markdown",
   "id": "21b55b7d",
   "metadata": {},
   "source": [
    "<div class=\"alert alert-block alert-success\">\n",
    "<b>Комментарий от ревьюера</b>\n",
    "\n",
    "Отлично, есть первый взгляд на данные! Поехали!\n",
    "</div>"
   ]
  },
  {
   "cell_type": "markdown",
   "id": "ab47a5bc",
   "metadata": {
    "heading_collapsed": true
   },
   "source": [
    "### Шаг 2. Предобработка данных"
   ]
  },
  {
   "cell_type": "markdown",
   "id": "a49c7798",
   "metadata": {
    "hidden": true
   },
   "source": [
    "#### Шаг 2.1 Заполнение пропусков"
   ]
  },
  {
   "cell_type": "markdown",
   "id": "7d738e7f",
   "metadata": {
    "hidden": true
   },
   "source": [
    "Заменим значения медианой, так как это количественные переменные, в которых присутствует большой \"разброс\" данных, стоит использовать медианное значение."
   ]
  },
  {
   "cell_type": "code",
   "execution_count": 17,
   "id": "256b83b3",
   "metadata": {},
   "outputs": [
    {
     "name": "stdout",
     "output_type": "stream",
     "text": [
      "Медиана по столбцу: 145017.93753253992\n"
     ]
    }
   ],
   "source": [
    "# медианное по ежемесячному доходу\n",
    "\n",
    "median_income = df['total_income'].median()\n",
    "print('Медиана по столбцу:', median_income)"
   ]
  },
  {
   "cell_type": "code",
   "execution_count": 18,
   "id": "52bb6f30",
   "metadata": {
    "ExecuteTime": {
     "end_time": "2022-02-09T09:26:23.693543Z",
     "start_time": "2022-02-09T09:26:23.680274Z"
    },
    "hidden": true,
    "scrolled": false
   },
   "outputs": [
    {
     "name": "stdout",
     "output_type": "stream",
     "text": [
      "<class 'pandas.core.frame.DataFrame'>\n",
      "RangeIndex: 21525 entries, 0 to 21524\n",
      "Data columns (total 12 columns):\n",
      "children            21525 non-null int64\n",
      "days_employed       19351 non-null float64\n",
      "dob_years           21525 non-null int64\n",
      "education           21525 non-null object\n",
      "education_id        21525 non-null int64\n",
      "family_status       21525 non-null object\n",
      "family_status_id    21525 non-null int64\n",
      "gender              21525 non-null object\n",
      "income_type         21525 non-null object\n",
      "debt                21525 non-null int64\n",
      "total_income        21525 non-null float64\n",
      "purpose             21525 non-null object\n",
      "dtypes: float64(2), int64(5), object(5)\n",
      "memory usage: 2.0+ MB\n"
     ]
    },
    {
     "data": {
      "text/plain": [
       "count    2.152500e+04\n",
       "mean     1.652253e+05\n",
       "std      9.804367e+04\n",
       "min      2.066726e+04\n",
       "25%      1.077982e+05\n",
       "50%      1.425944e+05\n",
       "75%      1.955499e+05\n",
       "max      2.265604e+06\n",
       "Name: total_income, dtype: float64"
      ]
     },
     "execution_count": 18,
     "metadata": {},
     "output_type": "execute_result"
    }
   ],
   "source": [
    "# медиана по ежемесячному доходу, основываясь на типе занятости\n",
    "\n",
    "grp = df.groupby(['income_type'])\n",
    "df['total_income'] = grp.total_income.apply(lambda x: x.fillna(x.median()))\n",
    "\n",
    "df.info()\n",
    "df['total_income'].describe()"
   ]
  },
  {
   "cell_type": "markdown",
   "id": "4791c694",
   "metadata": {},
   "source": [
    "<div class=\"alert alert-block alert-danger\">\n",
    "<s><b>Комментарий от ревьюера</b>\n",
    "\n",
    "Замена на обычную медиану даст нам искаженные данные. Смотри,у нас много разных профессий. Давай заменим пропущенные значения на медиану по профессии.\n",
    "    \n",
    "    \n",
    "</div>\n",
    "\n"
   ]
  },
  {
   "cell_type": "markdown",
   "id": "31f1b82e",
   "metadata": {
    "hidden": true
   },
   "source": [
    "Пропуски успешно были заполнены.\n",
    "\n",
    "<div class=\"alert alert-block alert-info\">\n",
    "<b>Комментарий от студента</b> <a class=\"tocSkip\"></a>\n",
    "    \n",
    "Далее данные были изменены, проверил выборочно группы людей, дабы не нагружать исследование не стал включать доп проверки, а решил оставить комментарий. Таким образом н-р значение у пенсионеров раньше = \"145017.9\" (что соответствует медиане по столбцу), новое \"118514.4\". Но пришлось фиксить предупреждение. Однако, считаю этот метод лаконичнее функции, и позволяет использовать встроенные методы pandas :)\n",
    "</div>"
   ]
  },
  {
   "cell_type": "markdown",
   "id": "b2688df7",
   "metadata": {},
   "source": [
    "<div class=\"alert alert-block alert-success\">\n",
    "<b>Комментарий от ревьюера. V.2.</b>\n",
    "\n",
    "Еще проверки это хорошо и на самом деле было бы правильно их включить. Чтобы точно быть во всем уверенным. :)\n",
    "\n",
    "Warning(предупреждение) можно просто скрыть,не обязательно его слушать. :)</div>    "
   ]
  },
  {
   "cell_type": "markdown",
   "id": "b6aba98d",
   "metadata": {
    "hidden": true
   },
   "source": [
    "#### Шаг 2.2 Исправление анамалий"
   ]
  },
  {
   "cell_type": "code",
   "execution_count": 19,
   "id": "b44e4289",
   "metadata": {
    "ExecuteTime": {
     "end_time": "2022-02-09T09:26:23.710222Z",
     "start_time": "2022-02-09T09:26:23.694257Z"
    },
    "hidden": true
   },
   "outputs": [
    {
     "name": "stdout",
     "output_type": "stream",
     "text": [
      "<class 'pandas.core.frame.DataFrame'>\n",
      "Int64Index: 21449 entries, 0 to 21524\n",
      "Data columns (total 12 columns):\n",
      "children            21449 non-null int64\n",
      "days_employed       19284 non-null float64\n",
      "dob_years           21449 non-null int64\n",
      "education           21449 non-null object\n",
      "education_id        21449 non-null int64\n",
      "family_status       21449 non-null object\n",
      "family_status_id    21449 non-null int64\n",
      "gender              21449 non-null object\n",
      "income_type         21449 non-null object\n",
      "debt                21449 non-null int64\n",
      "total_income        21449 non-null float64\n",
      "purpose             21449 non-null object\n",
      "dtypes: float64(2), int64(5), object(5)\n",
      "memory usage: 2.1+ MB\n"
     ]
    },
    {
     "data": {
      "text/plain": [
       "count    21449.000000\n",
       "mean         0.474334\n",
       "std          0.751417\n",
       "min          0.000000\n",
       "25%          0.000000\n",
       "50%          0.000000\n",
       "75%          1.000000\n",
       "max          5.000000\n",
       "Name: children, dtype: float64"
      ]
     },
     "metadata": {},
     "output_type": "display_data"
    },
    {
     "data": {
      "text/plain": [
       "count    21449.000000\n",
       "mean        43.499091\n",
       "std         12.222229\n",
       "min         19.000000\n",
       "25%         34.000000\n",
       "50%         43.000000\n",
       "75%         53.000000\n",
       "max         75.000000\n",
       "Name: dob_years, dtype: float64"
      ]
     },
     "metadata": {},
     "output_type": "display_data"
    }
   ],
   "source": [
    "# Удалим из df строки с аномалиями в \"Children\" и -1 заменим на 1\n",
    "df['children'] = df['children'].replace(-1, 1)\n",
    "df = df.loc[df['children'] != 20]\n",
    "\n",
    "# dob_years\": заменить 0 на медианное значение.\n",
    "\n",
    "dob_years_median = df.loc[df.loc[:, 'dob_years'] != 0]['dob_years'].median()\n",
    "df['dob_years'] = df['dob_years'].replace(0, dob_years_median)\n",
    "\n",
    "# Проверим\n",
    "\n",
    "df.info()\n",
    "display(df['children'].describe())\n",
    "display(df['dob_years'].describe())"
   ]
  },
  {
   "cell_type": "markdown",
   "id": "4b89069e",
   "metadata": {
    "hidden": true
   },
   "source": [
    "Успешно удалили и заменили значения."
   ]
  },
  {
   "cell_type": "code",
   "execution_count": 20,
   "id": "a679bb8e",
   "metadata": {
    "ExecuteTime": {
     "end_time": "2022-02-09T09:26:23.722985Z",
     "start_time": "2022-02-09T09:26:23.710931Z"
    },
    "hidden": true
   },
   "outputs": [
    {
     "name": "stdout",
     "output_type": "stream",
     "text": [
      "F    14190\n",
      "M     7259\n",
      "Name: gender, dtype: int64\n",
      "\n",
      "<class 'pandas.core.frame.DataFrame'>\n",
      "Int64Index: 21449 entries, 0 to 21524\n",
      "Data columns (total 11 columns):\n",
      "children            21449 non-null int64\n",
      "dob_years           21449 non-null int64\n",
      "education           21449 non-null object\n",
      "education_id        21449 non-null int64\n",
      "family_status       21449 non-null object\n",
      "family_status_id    21449 non-null int64\n",
      "gender              21449 non-null object\n",
      "income_type         21449 non-null object\n",
      "debt                21449 non-null int64\n",
      "total_income        21449 non-null float64\n",
      "purpose             21449 non-null object\n",
      "dtypes: float64(1), int64(5), object(5)\n",
      "memory usage: 2.0+ MB\n"
     ]
    }
   ],
   "source": [
    "# Удалим столбец \"days_employed\"\n",
    "df.drop(columns=['days_employed'], axis=1, inplace=True)\n",
    "\n",
    "# Столбец \"gender\": сменить гендр \"XNA\"\n",
    "df.loc[df['gender'] == 'XNA', 'gender'] = 'F'\n",
    "\n",
    "# Проверим\n",
    "print(df['gender'].value_counts())\n",
    "print()\n",
    "df.info()"
   ]
  },
  {
   "cell_type": "markdown",
   "id": "eb661864",
   "metadata": {
    "hidden": true
   },
   "source": [
    "Успешно обновили данные."
   ]
  },
  {
   "cell_type": "markdown",
   "id": "59a39159",
   "metadata": {},
   "source": [
    "<div class=\"alert alert-block alert-success\">\n",
    "<b>Комментарий от ревьюера</b>\n",
    "\n",
    "Всё отлично! :)\n",
    "    \n",
    "</div>"
   ]
  },
  {
   "cell_type": "markdown",
   "id": "7a7d2196",
   "metadata": {
    "hidden": true
   },
   "source": [
    "#### Шаг 2.3. Изменение типов данных."
   ]
  },
  {
   "cell_type": "code",
   "execution_count": 21,
   "id": "f7f0f805",
   "metadata": {
    "ExecuteTime": {
     "end_time": "2022-02-09T09:26:23.731995Z",
     "start_time": "2022-02-09T09:26:23.723818Z"
    },
    "hidden": true,
    "scrolled": true
   },
   "outputs": [
    {
     "name": "stdout",
     "output_type": "stream",
     "text": [
      "<class 'pandas.core.frame.DataFrame'>\n",
      "Int64Index: 21449 entries, 0 to 21524\n",
      "Data columns (total 11 columns):\n",
      "children            21449 non-null int64\n",
      "dob_years           21449 non-null int64\n",
      "education           21449 non-null object\n",
      "education_id        21449 non-null int64\n",
      "family_status       21449 non-null object\n",
      "family_status_id    21449 non-null int64\n",
      "gender              21449 non-null object\n",
      "income_type         21449 non-null object\n",
      "debt                21449 non-null int64\n",
      "total_income        21449 non-null int64\n",
      "purpose             21449 non-null object\n",
      "dtypes: int64(6), object(5)\n",
      "memory usage: 2.0+ MB\n"
     ]
    }
   ],
   "source": [
    "df['total_income'] = df['total_income'].astype(int)\n",
    "\n",
    "df.info()"
   ]
  },
  {
   "cell_type": "markdown",
   "id": "5cd53154",
   "metadata": {
    "hidden": true
   },
   "source": [
    "Сменили тип данных для удобства работы."
   ]
  },
  {
   "cell_type": "markdown",
   "id": "b7f21e0a",
   "metadata": {
    "hidden": true
   },
   "source": [
    "#### Шаг 2.4. Удаление дубликатов."
   ]
  },
  {
   "cell_type": "code",
   "execution_count": 22,
   "id": "4f4ba6ee",
   "metadata": {
    "ExecuteTime": {
     "end_time": "2022-02-09T09:26:23.749655Z",
     "start_time": "2022-02-09T09:26:23.732780Z"
    },
    "hidden": true
   },
   "outputs": [
    {
     "name": "stdout",
     "output_type": "stream",
     "text": [
      "среднее                15173\n",
      "высшее                  5246\n",
      "неоконченное высшее      742\n",
      "начальное                282\n",
      "ученая степень             6\n",
      "Name: education, dtype: int64\n",
      "\n",
      "Всего явных дубликатов 71\n"
     ]
    }
   ],
   "source": [
    "# Столбец \"education\": привести в общий регистр.\n",
    "df['education'] = df['education'].str.lower()\n",
    "\n",
    "print(df['education'].value_counts())\n",
    "print()\n",
    "print('Всего явных дубликатов', df.duplicated().sum())"
   ]
  },
  {
   "cell_type": "markdown",
   "id": "69770366",
   "metadata": {
    "hidden": true
   },
   "source": [
    "71 явный дубликат, избавимся от них."
   ]
  },
  {
   "cell_type": "code",
   "execution_count": 23,
   "id": "a2172893",
   "metadata": {
    "ExecuteTime": {
     "end_time": "2022-02-09T09:26:23.774347Z",
     "start_time": "2022-02-09T09:26:23.750455Z"
    },
    "hidden": true
   },
   "outputs": [
    {
     "name": "stdout",
     "output_type": "stream",
     "text": [
      "Всего явных дубликатов 0\n",
      "\n",
      "<class 'pandas.core.frame.DataFrame'>\n",
      "RangeIndex: 21378 entries, 0 to 21377\n",
      "Data columns (total 11 columns):\n",
      "children            21378 non-null int64\n",
      "dob_years           21378 non-null int64\n",
      "education           21378 non-null object\n",
      "education_id        21378 non-null int64\n",
      "family_status       21378 non-null object\n",
      "family_status_id    21378 non-null int64\n",
      "gender              21378 non-null object\n",
      "income_type         21378 non-null object\n",
      "debt                21378 non-null int64\n",
      "total_income        21378 non-null int64\n",
      "purpose             21378 non-null object\n",
      "dtypes: int64(6), object(5)\n",
      "memory usage: 1.8+ MB\n"
     ]
    }
   ],
   "source": [
    "df = df.drop_duplicates().reset_index(drop=True)\n",
    "\n",
    "print('Всего явных дубликатов', df.duplicated().sum())\n",
    "print()\n",
    "df.info()"
   ]
  },
  {
   "cell_type": "markdown",
   "id": "d3c77270",
   "metadata": {
    "hidden": true
   },
   "source": [
    "Данные успешно обновлены."
   ]
  },
  {
   "cell_type": "markdown",
   "id": "63796824",
   "metadata": {
    "hidden": true
   },
   "source": [
    "#### Шаг 2.5. Формирование дополнительных датафреймов словарей, декомпозиция исходного датафрейма."
   ]
  },
  {
   "cell_type": "code",
   "execution_count": 24,
   "id": "763dca40",
   "metadata": {
    "ExecuteTime": {
     "end_time": "2022-02-09T09:26:23.787640Z",
     "start_time": "2022-02-09T09:26:23.775199Z"
    },
    "hidden": true
   },
   "outputs": [
    {
     "name": "stdout",
     "output_type": "stream",
     "text": [
      "<class 'pandas.core.frame.DataFrame'>\n",
      "RangeIndex: 21378 entries, 0 to 21377\n",
      "Data columns (total 9 columns):\n",
      "children            21378 non-null int64\n",
      "dob_years           21378 non-null int64\n",
      "education_id        21378 non-null int64\n",
      "family_status_id    21378 non-null int64\n",
      "gender              21378 non-null object\n",
      "income_type         21378 non-null object\n",
      "debt                21378 non-null int64\n",
      "total_income        21378 non-null int64\n",
      "purpose             21378 non-null object\n",
      "dtypes: int64(6), object(3)\n",
      "memory usage: 1.5+ MB\n"
     ]
    },
    {
     "data": {
      "text/html": [
       "<div>\n",
       "<style scoped>\n",
       "    .dataframe tbody tr th:only-of-type {\n",
       "        vertical-align: middle;\n",
       "    }\n",
       "\n",
       "    .dataframe tbody tr th {\n",
       "        vertical-align: top;\n",
       "    }\n",
       "\n",
       "    .dataframe thead th {\n",
       "        text-align: right;\n",
       "    }\n",
       "</style>\n",
       "<table border=\"1\" class=\"dataframe\">\n",
       "  <thead>\n",
       "    <tr style=\"text-align: right;\">\n",
       "      <th></th>\n",
       "      <th>children</th>\n",
       "      <th>dob_years</th>\n",
       "      <th>education_id</th>\n",
       "      <th>family_status_id</th>\n",
       "      <th>gender</th>\n",
       "      <th>income_type</th>\n",
       "      <th>debt</th>\n",
       "      <th>total_income</th>\n",
       "      <th>purpose</th>\n",
       "    </tr>\n",
       "  </thead>\n",
       "  <tbody>\n",
       "    <tr>\n",
       "      <td>0</td>\n",
       "      <td>1</td>\n",
       "      <td>42</td>\n",
       "      <td>0</td>\n",
       "      <td>0</td>\n",
       "      <td>F</td>\n",
       "      <td>сотрудник</td>\n",
       "      <td>0</td>\n",
       "      <td>253875</td>\n",
       "      <td>покупка жилья</td>\n",
       "    </tr>\n",
       "    <tr>\n",
       "      <td>1</td>\n",
       "      <td>1</td>\n",
       "      <td>36</td>\n",
       "      <td>1</td>\n",
       "      <td>0</td>\n",
       "      <td>F</td>\n",
       "      <td>сотрудник</td>\n",
       "      <td>0</td>\n",
       "      <td>112080</td>\n",
       "      <td>приобретение автомобиля</td>\n",
       "    </tr>\n",
       "    <tr>\n",
       "      <td>2</td>\n",
       "      <td>0</td>\n",
       "      <td>33</td>\n",
       "      <td>1</td>\n",
       "      <td>0</td>\n",
       "      <td>M</td>\n",
       "      <td>сотрудник</td>\n",
       "      <td>0</td>\n",
       "      <td>145885</td>\n",
       "      <td>покупка жилья</td>\n",
       "    </tr>\n",
       "    <tr>\n",
       "      <td>3</td>\n",
       "      <td>3</td>\n",
       "      <td>32</td>\n",
       "      <td>1</td>\n",
       "      <td>0</td>\n",
       "      <td>M</td>\n",
       "      <td>сотрудник</td>\n",
       "      <td>0</td>\n",
       "      <td>267628</td>\n",
       "      <td>дополнительное образование</td>\n",
       "    </tr>\n",
       "    <tr>\n",
       "      <td>4</td>\n",
       "      <td>0</td>\n",
       "      <td>53</td>\n",
       "      <td>1</td>\n",
       "      <td>1</td>\n",
       "      <td>F</td>\n",
       "      <td>пенсионер</td>\n",
       "      <td>0</td>\n",
       "      <td>158616</td>\n",
       "      <td>сыграть свадьбу</td>\n",
       "    </tr>\n",
       "    <tr>\n",
       "      <td>5</td>\n",
       "      <td>0</td>\n",
       "      <td>27</td>\n",
       "      <td>0</td>\n",
       "      <td>1</td>\n",
       "      <td>M</td>\n",
       "      <td>компаньон</td>\n",
       "      <td>0</td>\n",
       "      <td>255763</td>\n",
       "      <td>покупка жилья</td>\n",
       "    </tr>\n",
       "    <tr>\n",
       "      <td>6</td>\n",
       "      <td>0</td>\n",
       "      <td>43</td>\n",
       "      <td>0</td>\n",
       "      <td>0</td>\n",
       "      <td>F</td>\n",
       "      <td>компаньон</td>\n",
       "      <td>0</td>\n",
       "      <td>240525</td>\n",
       "      <td>операции с жильем</td>\n",
       "    </tr>\n",
       "    <tr>\n",
       "      <td>7</td>\n",
       "      <td>0</td>\n",
       "      <td>50</td>\n",
       "      <td>1</td>\n",
       "      <td>0</td>\n",
       "      <td>M</td>\n",
       "      <td>сотрудник</td>\n",
       "      <td>0</td>\n",
       "      <td>135823</td>\n",
       "      <td>образование</td>\n",
       "    </tr>\n",
       "    <tr>\n",
       "      <td>8</td>\n",
       "      <td>2</td>\n",
       "      <td>35</td>\n",
       "      <td>0</td>\n",
       "      <td>1</td>\n",
       "      <td>F</td>\n",
       "      <td>сотрудник</td>\n",
       "      <td>0</td>\n",
       "      <td>95856</td>\n",
       "      <td>на проведение свадьбы</td>\n",
       "    </tr>\n",
       "    <tr>\n",
       "      <td>9</td>\n",
       "      <td>0</td>\n",
       "      <td>41</td>\n",
       "      <td>1</td>\n",
       "      <td>0</td>\n",
       "      <td>M</td>\n",
       "      <td>сотрудник</td>\n",
       "      <td>0</td>\n",
       "      <td>144425</td>\n",
       "      <td>покупка жилья для семьи</td>\n",
       "    </tr>\n",
       "  </tbody>\n",
       "</table>\n",
       "</div>"
      ],
      "text/plain": [
       "   children  dob_years  education_id  family_status_id gender income_type  \\\n",
       "0         1         42             0                 0      F   сотрудник   \n",
       "1         1         36             1                 0      F   сотрудник   \n",
       "2         0         33             1                 0      M   сотрудник   \n",
       "3         3         32             1                 0      M   сотрудник   \n",
       "4         0         53             1                 1      F   пенсионер   \n",
       "5         0         27             0                 1      M   компаньон   \n",
       "6         0         43             0                 0      F   компаньон   \n",
       "7         0         50             1                 0      M   сотрудник   \n",
       "8         2         35             0                 1      F   сотрудник   \n",
       "9         0         41             1                 0      M   сотрудник   \n",
       "\n",
       "   debt  total_income                     purpose  \n",
       "0     0        253875               покупка жилья  \n",
       "1     0        112080     приобретение автомобиля  \n",
       "2     0        145885               покупка жилья  \n",
       "3     0        267628  дополнительное образование  \n",
       "4     0        158616             сыграть свадьбу  \n",
       "5     0        255763               покупка жилья  \n",
       "6     0        240525           операции с жильем  \n",
       "7     0        135823                 образование  \n",
       "8     0         95856       на проведение свадьбы  \n",
       "9     0        144425     покупка жилья для семьи  "
      ]
     },
     "execution_count": 24,
     "metadata": {},
     "output_type": "execute_result"
    }
   ],
   "source": [
    "# создадим словари\n",
    "\n",
    "education_dict = df[['education_id', 'education', 'debt']]\n",
    "family_dict = df[['family_status_id', 'family_status', 'debt']]\n",
    "\n",
    "df.drop(columns=['education', 'family_status'], axis=1, inplace=True)\n",
    "df.info()\n",
    "df.head(10)"
   ]
  },
  {
   "cell_type": "markdown",
   "id": "4f00cd02",
   "metadata": {
    "hidden": true
   },
   "source": [
    "Преобразования прошли успешно."
   ]
  },
  {
   "cell_type": "markdown",
   "id": "1242c1ff",
   "metadata": {
    "hidden": true
   },
   "source": [
    "#### Шаг 2.6. Категоризация дохода."
   ]
  },
  {
   "cell_type": "code",
   "execution_count": 25,
   "id": "117ccaa5",
   "metadata": {
    "ExecuteTime": {
     "end_time": "2022-02-09T09:26:23.805529Z",
     "start_time": "2022-02-09T09:26:23.788323Z"
    },
    "hidden": true,
    "scrolled": false
   },
   "outputs": [
    {
     "name": "stdout",
     "output_type": "stream",
     "text": [
      "Количество некорректных строк 0\n",
      "Некорректные строки []\n"
     ]
    },
    {
     "data": {
      "text/html": [
       "<div>\n",
       "<style scoped>\n",
       "    .dataframe tbody tr th:only-of-type {\n",
       "        vertical-align: middle;\n",
       "    }\n",
       "\n",
       "    .dataframe tbody tr th {\n",
       "        vertical-align: top;\n",
       "    }\n",
       "\n",
       "    .dataframe thead th {\n",
       "        text-align: right;\n",
       "    }\n",
       "</style>\n",
       "<table border=\"1\" class=\"dataframe\">\n",
       "  <thead>\n",
       "    <tr style=\"text-align: right;\">\n",
       "      <th></th>\n",
       "      <th>children</th>\n",
       "      <th>dob_years</th>\n",
       "      <th>education_id</th>\n",
       "      <th>family_status_id</th>\n",
       "      <th>gender</th>\n",
       "      <th>income_type</th>\n",
       "      <th>debt</th>\n",
       "      <th>total_income</th>\n",
       "      <th>purpose</th>\n",
       "      <th>total_income_category</th>\n",
       "    </tr>\n",
       "  </thead>\n",
       "  <tbody>\n",
       "    <tr>\n",
       "      <td>0</td>\n",
       "      <td>1</td>\n",
       "      <td>42</td>\n",
       "      <td>0</td>\n",
       "      <td>0</td>\n",
       "      <td>F</td>\n",
       "      <td>сотрудник</td>\n",
       "      <td>0</td>\n",
       "      <td>253875</td>\n",
       "      <td>покупка жилья</td>\n",
       "      <td>\"B\" до 1000000</td>\n",
       "    </tr>\n",
       "    <tr>\n",
       "      <td>1</td>\n",
       "      <td>1</td>\n",
       "      <td>36</td>\n",
       "      <td>1</td>\n",
       "      <td>0</td>\n",
       "      <td>F</td>\n",
       "      <td>сотрудник</td>\n",
       "      <td>0</td>\n",
       "      <td>112080</td>\n",
       "      <td>приобретение автомобиля</td>\n",
       "      <td>\"C\" до 200000</td>\n",
       "    </tr>\n",
       "    <tr>\n",
       "      <td>2</td>\n",
       "      <td>0</td>\n",
       "      <td>33</td>\n",
       "      <td>1</td>\n",
       "      <td>0</td>\n",
       "      <td>M</td>\n",
       "      <td>сотрудник</td>\n",
       "      <td>0</td>\n",
       "      <td>145885</td>\n",
       "      <td>покупка жилья</td>\n",
       "      <td>\"C\" до 200000</td>\n",
       "    </tr>\n",
       "    <tr>\n",
       "      <td>3</td>\n",
       "      <td>3</td>\n",
       "      <td>32</td>\n",
       "      <td>1</td>\n",
       "      <td>0</td>\n",
       "      <td>M</td>\n",
       "      <td>сотрудник</td>\n",
       "      <td>0</td>\n",
       "      <td>267628</td>\n",
       "      <td>дополнительное образование</td>\n",
       "      <td>\"B\" до 1000000</td>\n",
       "    </tr>\n",
       "    <tr>\n",
       "      <td>4</td>\n",
       "      <td>0</td>\n",
       "      <td>53</td>\n",
       "      <td>1</td>\n",
       "      <td>1</td>\n",
       "      <td>F</td>\n",
       "      <td>пенсионер</td>\n",
       "      <td>0</td>\n",
       "      <td>158616</td>\n",
       "      <td>сыграть свадьбу</td>\n",
       "      <td>\"C\" до 200000</td>\n",
       "    </tr>\n",
       "    <tr>\n",
       "      <td>5</td>\n",
       "      <td>0</td>\n",
       "      <td>27</td>\n",
       "      <td>0</td>\n",
       "      <td>1</td>\n",
       "      <td>M</td>\n",
       "      <td>компаньон</td>\n",
       "      <td>0</td>\n",
       "      <td>255763</td>\n",
       "      <td>покупка жилья</td>\n",
       "      <td>\"B\" до 1000000</td>\n",
       "    </tr>\n",
       "    <tr>\n",
       "      <td>6</td>\n",
       "      <td>0</td>\n",
       "      <td>43</td>\n",
       "      <td>0</td>\n",
       "      <td>0</td>\n",
       "      <td>F</td>\n",
       "      <td>компаньон</td>\n",
       "      <td>0</td>\n",
       "      <td>240525</td>\n",
       "      <td>операции с жильем</td>\n",
       "      <td>\"B\" до 1000000</td>\n",
       "    </tr>\n",
       "    <tr>\n",
       "      <td>7</td>\n",
       "      <td>0</td>\n",
       "      <td>50</td>\n",
       "      <td>1</td>\n",
       "      <td>0</td>\n",
       "      <td>M</td>\n",
       "      <td>сотрудник</td>\n",
       "      <td>0</td>\n",
       "      <td>135823</td>\n",
       "      <td>образование</td>\n",
       "      <td>\"C\" до 200000</td>\n",
       "    </tr>\n",
       "    <tr>\n",
       "      <td>8</td>\n",
       "      <td>2</td>\n",
       "      <td>35</td>\n",
       "      <td>0</td>\n",
       "      <td>1</td>\n",
       "      <td>F</td>\n",
       "      <td>сотрудник</td>\n",
       "      <td>0</td>\n",
       "      <td>95856</td>\n",
       "      <td>на проведение свадьбы</td>\n",
       "      <td>\"C\" до 200000</td>\n",
       "    </tr>\n",
       "    <tr>\n",
       "      <td>9</td>\n",
       "      <td>0</td>\n",
       "      <td>41</td>\n",
       "      <td>1</td>\n",
       "      <td>0</td>\n",
       "      <td>M</td>\n",
       "      <td>сотрудник</td>\n",
       "      <td>0</td>\n",
       "      <td>144425</td>\n",
       "      <td>покупка жилья для семьи</td>\n",
       "      <td>\"C\" до 200000</td>\n",
       "    </tr>\n",
       "  </tbody>\n",
       "</table>\n",
       "</div>"
      ],
      "text/plain": [
       "   children  dob_years  education_id  family_status_id gender income_type  \\\n",
       "0         1         42             0                 0      F   сотрудник   \n",
       "1         1         36             1                 0      F   сотрудник   \n",
       "2         0         33             1                 0      M   сотрудник   \n",
       "3         3         32             1                 0      M   сотрудник   \n",
       "4         0         53             1                 1      F   пенсионер   \n",
       "5         0         27             0                 1      M   компаньон   \n",
       "6         0         43             0                 0      F   компаньон   \n",
       "7         0         50             1                 0      M   сотрудник   \n",
       "8         2         35             0                 1      F   сотрудник   \n",
       "9         0         41             1                 0      M   сотрудник   \n",
       "\n",
       "   debt  total_income                     purpose total_income_category  \n",
       "0     0        253875               покупка жилья        \"B\" до 1000000  \n",
       "1     0        112080     приобретение автомобиля         \"C\" до 200000  \n",
       "2     0        145885               покупка жилья         \"C\" до 200000  \n",
       "3     0        267628  дополнительное образование        \"B\" до 1000000  \n",
       "4     0        158616             сыграть свадьбу         \"C\" до 200000  \n",
       "5     0        255763               покупка жилья        \"B\" до 1000000  \n",
       "6     0        240525           операции с жильем        \"B\" до 1000000  \n",
       "7     0        135823                 образование         \"C\" до 200000  \n",
       "8     0         95856       на проведение свадьбы         \"C\" до 200000  \n",
       "9     0        144425     покупка жилья для семьи         \"C\" до 200000  "
      ]
     },
     "metadata": {},
     "output_type": "display_data"
    },
    {
     "name": "stdout",
     "output_type": "stream",
     "text": [
      "\n",
      "<class 'pandas.core.frame.DataFrame'>\n",
      "RangeIndex: 21378 entries, 0 to 21377\n",
      "Data columns (total 10 columns):\n",
      "children                 21378 non-null int64\n",
      "dob_years                21378 non-null int64\n",
      "education_id             21378 non-null int64\n",
      "family_status_id         21378 non-null int64\n",
      "gender                   21378 non-null object\n",
      "income_type              21378 non-null object\n",
      "debt                     21378 non-null int64\n",
      "total_income             21378 non-null int64\n",
      "purpose                  21378 non-null object\n",
      "total_income_category    21378 non-null object\n",
      "dtypes: int64(6), object(4)\n",
      "memory usage: 1.6+ MB\n"
     ]
    }
   ],
   "source": [
    "# Ошибки записи и некорректные строки.\n",
    "wrong_lines_content = []\n",
    "wrong_lines = 0\n",
    "\n",
    "# Напишем функцию категоризации.\n",
    "def income_category(row):\n",
    "    try:\n",
    "        if row <= 30000:\n",
    "            return '\"E\" до 30000'\n",
    "        if row <= 50000:\n",
    "            return '\"D\" до 50000'\n",
    "        if row <= 200000:\n",
    "            return '\"C\" до 200000'\n",
    "        if row <= 1000000:\n",
    "            return '\"B\" до 1000000'\n",
    "        return '\"A\" более 1000000'\n",
    "    except:\n",
    "        wrong_lines += 1\n",
    "        wrong_lines_content.append(row)\n",
    "\n",
    "\n",
    "# Добавим её в столбец.\n",
    "df['total_income_category'] = df['total_income'].apply(income_category)\n",
    "\n",
    "# Проверим некорректные строки.\n",
    "print('Количество некорректных строк', wrong_lines)\n",
    "print('Некорректные строки', wrong_lines_content)  \n",
    "\n",
    "# Проверим таблицу.\n",
    "display(df.head(10))\n",
    "print()\n",
    "df.info()"
   ]
  },
  {
   "cell_type": "markdown",
   "id": "7e3c202d",
   "metadata": {
    "hidden": true
   },
   "source": [
    "Успешно применили функцию и создали столбец, все строки записались без проблем."
   ]
  },
  {
   "cell_type": "markdown",
   "id": "66774c06",
   "metadata": {},
   "source": [
    "<div class=\"alert alert-block alert-warning\">\n",
    "<b>Комментарий от ревьюера</b>\n",
    "\n",
    "Что значит А,В,С...?  Если не будет описания, мы никогда не поймем это. Лучше добавлять конкретные цифры или сделать словарь.\n",
    "    \n",
    "</div>"
   ]
  },
  {
   "cell_type": "markdown",
   "id": "200d13c6",
   "metadata": {},
   "source": [
    "<div class=\"alert alert-block alert-success\">\n",
    "<b>Комментарий от ревьюера. V.2.</b>\n",
    "\n",
    "О,теперь понятно. Тут еще есть вариант создать словарь. :)</div>    "
   ]
  },
  {
   "cell_type": "markdown",
   "id": "a3d38627",
   "metadata": {
    "hidden": true
   },
   "source": [
    "#### Шаг 2.7. Категоризация целей кредита."
   ]
  },
  {
   "cell_type": "code",
   "execution_count": 26,
   "id": "1f652cd6",
   "metadata": {
    "ExecuteTime": {
     "end_time": "2022-02-09T09:26:23.824435Z",
     "start_time": "2022-02-09T09:26:23.806244Z"
    },
    "code_folding": [],
    "hidden": true,
    "scrolled": true
   },
   "outputs": [
    {
     "name": "stdout",
     "output_type": "stream",
     "text": [
      "Количество некорректных строк 0\n",
      "Некорректные строки []\n"
     ]
    },
    {
     "data": {
      "text/html": [
       "<div>\n",
       "<style scoped>\n",
       "    .dataframe tbody tr th:only-of-type {\n",
       "        vertical-align: middle;\n",
       "    }\n",
       "\n",
       "    .dataframe tbody tr th {\n",
       "        vertical-align: top;\n",
       "    }\n",
       "\n",
       "    .dataframe thead th {\n",
       "        text-align: right;\n",
       "    }\n",
       "</style>\n",
       "<table border=\"1\" class=\"dataframe\">\n",
       "  <thead>\n",
       "    <tr style=\"text-align: right;\">\n",
       "      <th></th>\n",
       "      <th>children</th>\n",
       "      <th>dob_years</th>\n",
       "      <th>education_id</th>\n",
       "      <th>family_status_id</th>\n",
       "      <th>gender</th>\n",
       "      <th>income_type</th>\n",
       "      <th>debt</th>\n",
       "      <th>total_income</th>\n",
       "      <th>purpose</th>\n",
       "      <th>total_income_category</th>\n",
       "      <th>purpose_category</th>\n",
       "    </tr>\n",
       "  </thead>\n",
       "  <tbody>\n",
       "    <tr>\n",
       "      <td>0</td>\n",
       "      <td>1</td>\n",
       "      <td>42</td>\n",
       "      <td>0</td>\n",
       "      <td>0</td>\n",
       "      <td>F</td>\n",
       "      <td>сотрудник</td>\n",
       "      <td>0</td>\n",
       "      <td>253875</td>\n",
       "      <td>покупка жилья</td>\n",
       "      <td>\"B\" до 1000000</td>\n",
       "      <td>операции с недвижимостью</td>\n",
       "    </tr>\n",
       "    <tr>\n",
       "      <td>1</td>\n",
       "      <td>1</td>\n",
       "      <td>36</td>\n",
       "      <td>1</td>\n",
       "      <td>0</td>\n",
       "      <td>F</td>\n",
       "      <td>сотрудник</td>\n",
       "      <td>0</td>\n",
       "      <td>112080</td>\n",
       "      <td>приобретение автомобиля</td>\n",
       "      <td>\"C\" до 200000</td>\n",
       "      <td>операции с автомобилем</td>\n",
       "    </tr>\n",
       "    <tr>\n",
       "      <td>2</td>\n",
       "      <td>0</td>\n",
       "      <td>33</td>\n",
       "      <td>1</td>\n",
       "      <td>0</td>\n",
       "      <td>M</td>\n",
       "      <td>сотрудник</td>\n",
       "      <td>0</td>\n",
       "      <td>145885</td>\n",
       "      <td>покупка жилья</td>\n",
       "      <td>\"C\" до 200000</td>\n",
       "      <td>операции с недвижимостью</td>\n",
       "    </tr>\n",
       "    <tr>\n",
       "      <td>3</td>\n",
       "      <td>3</td>\n",
       "      <td>32</td>\n",
       "      <td>1</td>\n",
       "      <td>0</td>\n",
       "      <td>M</td>\n",
       "      <td>сотрудник</td>\n",
       "      <td>0</td>\n",
       "      <td>267628</td>\n",
       "      <td>дополнительное образование</td>\n",
       "      <td>\"B\" до 1000000</td>\n",
       "      <td>получение образования</td>\n",
       "    </tr>\n",
       "    <tr>\n",
       "      <td>4</td>\n",
       "      <td>0</td>\n",
       "      <td>53</td>\n",
       "      <td>1</td>\n",
       "      <td>1</td>\n",
       "      <td>F</td>\n",
       "      <td>пенсионер</td>\n",
       "      <td>0</td>\n",
       "      <td>158616</td>\n",
       "      <td>сыграть свадьбу</td>\n",
       "      <td>\"C\" до 200000</td>\n",
       "      <td>проведение свадьбы</td>\n",
       "    </tr>\n",
       "    <tr>\n",
       "      <td>5</td>\n",
       "      <td>0</td>\n",
       "      <td>27</td>\n",
       "      <td>0</td>\n",
       "      <td>1</td>\n",
       "      <td>M</td>\n",
       "      <td>компаньон</td>\n",
       "      <td>0</td>\n",
       "      <td>255763</td>\n",
       "      <td>покупка жилья</td>\n",
       "      <td>\"B\" до 1000000</td>\n",
       "      <td>операции с недвижимостью</td>\n",
       "    </tr>\n",
       "    <tr>\n",
       "      <td>6</td>\n",
       "      <td>0</td>\n",
       "      <td>43</td>\n",
       "      <td>0</td>\n",
       "      <td>0</td>\n",
       "      <td>F</td>\n",
       "      <td>компаньон</td>\n",
       "      <td>0</td>\n",
       "      <td>240525</td>\n",
       "      <td>операции с жильем</td>\n",
       "      <td>\"B\" до 1000000</td>\n",
       "      <td>операции с недвижимостью</td>\n",
       "    </tr>\n",
       "    <tr>\n",
       "      <td>7</td>\n",
       "      <td>0</td>\n",
       "      <td>50</td>\n",
       "      <td>1</td>\n",
       "      <td>0</td>\n",
       "      <td>M</td>\n",
       "      <td>сотрудник</td>\n",
       "      <td>0</td>\n",
       "      <td>135823</td>\n",
       "      <td>образование</td>\n",
       "      <td>\"C\" до 200000</td>\n",
       "      <td>получение образования</td>\n",
       "    </tr>\n",
       "    <tr>\n",
       "      <td>8</td>\n",
       "      <td>2</td>\n",
       "      <td>35</td>\n",
       "      <td>0</td>\n",
       "      <td>1</td>\n",
       "      <td>F</td>\n",
       "      <td>сотрудник</td>\n",
       "      <td>0</td>\n",
       "      <td>95856</td>\n",
       "      <td>на проведение свадьбы</td>\n",
       "      <td>\"C\" до 200000</td>\n",
       "      <td>проведение свадьбы</td>\n",
       "    </tr>\n",
       "    <tr>\n",
       "      <td>9</td>\n",
       "      <td>0</td>\n",
       "      <td>41</td>\n",
       "      <td>1</td>\n",
       "      <td>0</td>\n",
       "      <td>M</td>\n",
       "      <td>сотрудник</td>\n",
       "      <td>0</td>\n",
       "      <td>144425</td>\n",
       "      <td>покупка жилья для семьи</td>\n",
       "      <td>\"C\" до 200000</td>\n",
       "      <td>операции с недвижимостью</td>\n",
       "    </tr>\n",
       "  </tbody>\n",
       "</table>\n",
       "</div>"
      ],
      "text/plain": [
       "   children  dob_years  education_id  family_status_id gender income_type  \\\n",
       "0         1         42             0                 0      F   сотрудник   \n",
       "1         1         36             1                 0      F   сотрудник   \n",
       "2         0         33             1                 0      M   сотрудник   \n",
       "3         3         32             1                 0      M   сотрудник   \n",
       "4         0         53             1                 1      F   пенсионер   \n",
       "5         0         27             0                 1      M   компаньон   \n",
       "6         0         43             0                 0      F   компаньон   \n",
       "7         0         50             1                 0      M   сотрудник   \n",
       "8         2         35             0                 1      F   сотрудник   \n",
       "9         0         41             1                 0      M   сотрудник   \n",
       "\n",
       "   debt  total_income                     purpose total_income_category  \\\n",
       "0     0        253875               покупка жилья        \"B\" до 1000000   \n",
       "1     0        112080     приобретение автомобиля         \"C\" до 200000   \n",
       "2     0        145885               покупка жилья         \"C\" до 200000   \n",
       "3     0        267628  дополнительное образование        \"B\" до 1000000   \n",
       "4     0        158616             сыграть свадьбу         \"C\" до 200000   \n",
       "5     0        255763               покупка жилья        \"B\" до 1000000   \n",
       "6     0        240525           операции с жильем        \"B\" до 1000000   \n",
       "7     0        135823                 образование         \"C\" до 200000   \n",
       "8     0         95856       на проведение свадьбы         \"C\" до 200000   \n",
       "9     0        144425     покупка жилья для семьи         \"C\" до 200000   \n",
       "\n",
       "           purpose_category  \n",
       "0  операции с недвижимостью  \n",
       "1    операции с автомобилем  \n",
       "2  операции с недвижимостью  \n",
       "3     получение образования  \n",
       "4        проведение свадьбы  \n",
       "5  операции с недвижимостью  \n",
       "6  операции с недвижимостью  \n",
       "7     получение образования  \n",
       "8        проведение свадьбы  \n",
       "9  операции с недвижимостью  "
      ]
     },
     "metadata": {},
     "output_type": "display_data"
    },
    {
     "name": "stdout",
     "output_type": "stream",
     "text": [
      "<class 'pandas.core.frame.DataFrame'>\n",
      "RangeIndex: 21378 entries, 0 to 21377\n",
      "Data columns (total 11 columns):\n",
      "children                 21378 non-null int64\n",
      "dob_years                21378 non-null int64\n",
      "education_id             21378 non-null int64\n",
      "family_status_id         21378 non-null int64\n",
      "gender                   21378 non-null object\n",
      "income_type              21378 non-null object\n",
      "debt                     21378 non-null int64\n",
      "total_income             21378 non-null int64\n",
      "purpose                  21378 non-null object\n",
      "total_income_category    21378 non-null object\n",
      "purpose_category         21378 non-null object\n",
      "dtypes: int64(6), object(5)\n",
      "memory usage: 1.8+ MB\n"
     ]
    }
   ],
   "source": [
    "# Ошибки записи и некорректные строки.\n",
    "wrong_lines_content = []\n",
    "wrong_lines = 0\n",
    "\n",
    "\n",
    "# Напишем функцию категоризации целей кредита.\n",
    "def purpose_f(row):\n",
    "    try:\n",
    "        if 'образовани' in row:\n",
    "            return 'получение образования'\n",
    "        if 'автомобил' in row:\n",
    "            return 'операции с автомобилем'\n",
    "        if 'свадьб' in row:\n",
    "            return 'проведение свадьбы'\n",
    "        return 'операции с недвижимостью'\n",
    "    except:\n",
    "        wrong_lines += 1\n",
    "        wrong_lines_content.append(row)\n",
    "\n",
    "\n",
    "# Добавим столбец.\n",
    "df['purpose_category'] = df['purpose'].apply(purpose_f)\n",
    "\n",
    "# Проверим некорректные строки.\n",
    "print('Количество некорректных строк', wrong_lines)\n",
    "print('Некорректные строки', wrong_lines_content)\n",
    "\n",
    "# Проверим датафрейм.\n",
    "display(df.head(10))\n",
    "df.info()"
   ]
  },
  {
   "cell_type": "markdown",
   "id": "f50d989a",
   "metadata": {},
   "source": [
    "<div class=\"alert alert-block alert-success\">\n",
    "<b>Комментарий от ревьюера</b>\n",
    "\n",
    "Всё прошло успешно! Ура! :)    \n",
    "</div>"
   ]
  },
  {
   "cell_type": "markdown",
   "id": "f5599b69",
   "metadata": {
    "heading_collapsed": true
   },
   "source": [
    "### Ответы на вопросы."
   ]
  },
  {
   "cell_type": "markdown",
   "id": "e8e132cb",
   "metadata": {
    "hidden": true
   },
   "source": [
    "##### Вопрос 1: Есть ли зависимость между количеством детей и возвратом кредита в срок?"
   ]
  },
  {
   "cell_type": "markdown",
   "id": "9ed3f7f6",
   "metadata": {
    "hidden": true
   },
   "source": [
    "Создадим таблицу, где будем обозревать данные"
   ]
  },
  {
   "cell_type": "code",
   "execution_count": 27,
   "id": "9691c438",
   "metadata": {
    "ExecuteTime": {
     "end_time": "2022-02-09T09:26:23.835610Z",
     "start_time": "2022-02-09T09:26:23.825165Z"
    },
    "hidden": true
   },
   "outputs": [
    {
     "data": {
      "text/html": [
       "<div>\n",
       "<style scoped>\n",
       "    .dataframe tbody tr th:only-of-type {\n",
       "        vertical-align: middle;\n",
       "    }\n",
       "\n",
       "    .dataframe tbody tr th {\n",
       "        vertical-align: top;\n",
       "    }\n",
       "\n",
       "    .dataframe thead th {\n",
       "        text-align: right;\n",
       "    }\n",
       "</style>\n",
       "<table border=\"1\" class=\"dataframe\">\n",
       "  <thead>\n",
       "    <tr style=\"text-align: right;\">\n",
       "      <th>children</th>\n",
       "      <th>0</th>\n",
       "      <th>1</th>\n",
       "      <th>2</th>\n",
       "      <th>3</th>\n",
       "      <th>4</th>\n",
       "      <th>5</th>\n",
       "    </tr>\n",
       "    <tr>\n",
       "      <th>gender</th>\n",
       "      <th></th>\n",
       "      <th></th>\n",
       "      <th></th>\n",
       "      <th></th>\n",
       "      <th></th>\n",
       "      <th></th>\n",
       "    </tr>\n",
       "  </thead>\n",
       "  <tbody>\n",
       "    <tr>\n",
       "      <td>F</td>\n",
       "      <td>592</td>\n",
       "      <td>246</td>\n",
       "      <td>134</td>\n",
       "      <td>17</td>\n",
       "      <td>1</td>\n",
       "      <td>0</td>\n",
       "    </tr>\n",
       "    <tr>\n",
       "      <td>M</td>\n",
       "      <td>471</td>\n",
       "      <td>199</td>\n",
       "      <td>60</td>\n",
       "      <td>10</td>\n",
       "      <td>3</td>\n",
       "      <td>0</td>\n",
       "    </tr>\n",
       "  </tbody>\n",
       "</table>\n",
       "</div>"
      ],
      "text/plain": [
       "children    0    1    2   3  4  5\n",
       "gender                           \n",
       "F         592  246  134  17  1  0\n",
       "M         471  199   60  10  3  0"
      ]
     },
     "execution_count": 27,
     "metadata": {},
     "output_type": "execute_result"
    }
   ],
   "source": [
    "df_pivot = df.pivot_table(index=['gender'], columns='children', values='debt', aggfunc='sum')\n",
    "df_pivot"
   ]
  },
  {
   "cell_type": "markdown",
   "id": "7d37097b",
   "metadata": {
    "hidden": true
   },
   "source": [
    "По таблице уже видно, что прослеживается взаимосвязь, для большей наглядности посчитаем % тех, кто не оплатил задолженность вовремя."
   ]
  },
  {
   "cell_type": "code",
   "execution_count": 28,
   "id": "e4a1ad59",
   "metadata": {
    "ExecuteTime": {
     "end_time": "2022-02-09T09:26:23.843608Z",
     "start_time": "2022-02-09T09:26:23.836319Z"
    },
    "hidden": true
   },
   "outputs": [
    {
     "data": {
      "text/html": [
       "<div>\n",
       "<style scoped>\n",
       "    .dataframe tbody tr th:only-of-type {\n",
       "        vertical-align: middle;\n",
       "    }\n",
       "\n",
       "    .dataframe tbody tr th {\n",
       "        vertical-align: top;\n",
       "    }\n",
       "\n",
       "    .dataframe thead tr th {\n",
       "        text-align: left;\n",
       "    }\n",
       "\n",
       "    .dataframe thead tr:last-of-type th {\n",
       "        text-align: right;\n",
       "    }\n",
       "</style>\n",
       "<table border=\"1\" class=\"dataframe\">\n",
       "  <thead>\n",
       "    <tr>\n",
       "      <th></th>\n",
       "      <th colspan=\"3\" halign=\"left\">debt</th>\n",
       "    </tr>\n",
       "    <tr>\n",
       "      <th></th>\n",
       "      <th>sum</th>\n",
       "      <th>count</th>\n",
       "      <th>%</th>\n",
       "    </tr>\n",
       "    <tr>\n",
       "      <th>children</th>\n",
       "      <th></th>\n",
       "      <th></th>\n",
       "      <th></th>\n",
       "    </tr>\n",
       "  </thead>\n",
       "  <tbody>\n",
       "    <tr>\n",
       "      <td>0</td>\n",
       "      <td>1063</td>\n",
       "      <td>14091</td>\n",
       "      <td>7.543822</td>\n",
       "    </tr>\n",
       "    <tr>\n",
       "      <td>1</td>\n",
       "      <td>445</td>\n",
       "      <td>4855</td>\n",
       "      <td>9.165808</td>\n",
       "    </tr>\n",
       "    <tr>\n",
       "      <td>2</td>\n",
       "      <td>194</td>\n",
       "      <td>2052</td>\n",
       "      <td>9.454191</td>\n",
       "    </tr>\n",
       "    <tr>\n",
       "      <td>3</td>\n",
       "      <td>27</td>\n",
       "      <td>330</td>\n",
       "      <td>8.181818</td>\n",
       "    </tr>\n",
       "    <tr>\n",
       "      <td>4</td>\n",
       "      <td>4</td>\n",
       "      <td>41</td>\n",
       "      <td>9.756098</td>\n",
       "    </tr>\n",
       "    <tr>\n",
       "      <td>5</td>\n",
       "      <td>0</td>\n",
       "      <td>9</td>\n",
       "      <td>0.000000</td>\n",
       "    </tr>\n",
       "  </tbody>\n",
       "</table>\n",
       "</div>"
      ],
      "text/plain": [
       "          debt                 \n",
       "           sum  count         %\n",
       "children                       \n",
       "0         1063  14091  7.543822\n",
       "1          445   4855  9.165808\n",
       "2          194   2052  9.454191\n",
       "3           27    330  8.181818\n",
       "4            4     41  9.756098\n",
       "5            0      9  0.000000"
      ]
     },
     "execution_count": 28,
     "metadata": {},
     "output_type": "execute_result"
    }
   ],
   "source": [
    "# Функция принимает список столбцов, или столбец и выводит таблицу\n",
    "def a_debt(column_list):\n",
    "    a_table = df.groupby(column_list).agg({'debt':['sum', 'count']})\n",
    "    a_table[('debt', '%')] = a_table[('debt', 'sum')] / a_table[('debt', 'count')]*100\n",
    "    return a_table\n",
    "\n",
    "a_debt(['children'])"
   ]
  },
  {
   "cell_type": "markdown",
   "id": "75885973",
   "metadata": {
    "hidden": true
   },
   "source": [
    "##### Вывод:"
   ]
  },
  {
   "cell_type": "markdown",
   "id": "740a3a6a",
   "metadata": {
    "hidden": true
   },
   "source": [
    "Есть небольшая взаимосвязь между количеством детей и выплатами, меньше всего просрочки у тех, у кого детей вовсе нет и многодетных семей с 3 детьми, больше всего просрочек у семей с 1-2 детьми и семей с 4."
   ]
  },
  {
   "cell_type": "markdown",
   "id": "e902d4af",
   "metadata": {},
   "source": [
    "<div class=\"alert alert-block alert-success\">\n",
    "<b>Комментарий от ревьюера</b>\n",
    "\n",
    "5 детей исключение точно. Ты прав, дети не способствуют выплате кредита вовремя. :) \n",
    "</div>"
   ]
  },
  {
   "cell_type": "markdown",
   "id": "802ba9ec",
   "metadata": {
    "ExecuteTime": {
     "end_time": "2022-02-09T08:10:17.532122Z",
     "start_time": "2022-02-09T08:10:17.466015Z"
    },
    "hidden": true
   },
   "source": [
    "#### Есть ли зависимость между семейным положением и возвратом кредита в срок?"
   ]
  },
  {
   "cell_type": "markdown",
   "id": "c4689755",
   "metadata": {
    "hidden": true
   },
   "source": [
    "Составим таблицу, где будет наглядно отображено:\n",
    "\n",
    "- статус семьи.\n",
    "- посчитаем должников.\n",
    "- посчитакм % соотношение должников к общей сумме."
   ]
  },
  {
   "cell_type": "code",
   "execution_count": 29,
   "id": "d57bad16",
   "metadata": {
    "ExecuteTime": {
     "end_time": "2022-02-09T09:26:23.856697Z",
     "start_time": "2022-02-09T09:26:23.846447Z"
    },
    "hidden": true,
    "scrolled": true
   },
   "outputs": [
    {
     "data": {
      "text/html": [
       "<div>\n",
       "<style scoped>\n",
       "    .dataframe tbody tr th:only-of-type {\n",
       "        vertical-align: middle;\n",
       "    }\n",
       "\n",
       "    .dataframe tbody tr th {\n",
       "        vertical-align: top;\n",
       "    }\n",
       "\n",
       "    .dataframe thead tr th {\n",
       "        text-align: left;\n",
       "    }\n",
       "\n",
       "    .dataframe thead tr:last-of-type th {\n",
       "        text-align: right;\n",
       "    }\n",
       "</style>\n",
       "<table border=\"1\" class=\"dataframe\">\n",
       "  <thead>\n",
       "    <tr>\n",
       "      <th></th>\n",
       "      <th></th>\n",
       "      <th colspan=\"3\" halign=\"left\">debt</th>\n",
       "    </tr>\n",
       "    <tr>\n",
       "      <th></th>\n",
       "      <th></th>\n",
       "      <th>sum</th>\n",
       "      <th>count</th>\n",
       "      <th>%</th>\n",
       "    </tr>\n",
       "    <tr>\n",
       "      <th>family_status_id</th>\n",
       "      <th>family_status</th>\n",
       "      <th></th>\n",
       "      <th></th>\n",
       "      <th></th>\n",
       "    </tr>\n",
       "  </thead>\n",
       "  <tbody>\n",
       "    <tr>\n",
       "      <td>0</td>\n",
       "      <td>женат / замужем</td>\n",
       "      <td>928</td>\n",
       "      <td>12290</td>\n",
       "      <td>7.550854</td>\n",
       "    </tr>\n",
       "    <tr>\n",
       "      <td>1</td>\n",
       "      <td>гражданский брак</td>\n",
       "      <td>385</td>\n",
       "      <td>4139</td>\n",
       "      <td>9.301764</td>\n",
       "    </tr>\n",
       "    <tr>\n",
       "      <td>2</td>\n",
       "      <td>вдовец / вдова</td>\n",
       "      <td>63</td>\n",
       "      <td>955</td>\n",
       "      <td>6.596859</td>\n",
       "    </tr>\n",
       "    <tr>\n",
       "      <td>3</td>\n",
       "      <td>в разводе</td>\n",
       "      <td>84</td>\n",
       "      <td>1193</td>\n",
       "      <td>7.041073</td>\n",
       "    </tr>\n",
       "    <tr>\n",
       "      <td>4</td>\n",
       "      <td>Не женат / не замужем</td>\n",
       "      <td>273</td>\n",
       "      <td>2801</td>\n",
       "      <td>9.746519</td>\n",
       "    </tr>\n",
       "  </tbody>\n",
       "</table>\n",
       "</div>"
      ],
      "text/plain": [
       "                                       debt                 \n",
       "                                        sum  count         %\n",
       "family_status_id family_status                              \n",
       "0                женат / замужем        928  12290  7.550854\n",
       "1                гражданский брак       385   4139  9.301764\n",
       "2                вдовец / вдова          63    955  6.596859\n",
       "3                в разводе               84   1193  7.041073\n",
       "4                Не женат / не замужем  273   2801  9.746519"
      ]
     },
     "execution_count": 29,
     "metadata": {},
     "output_type": "execute_result"
    }
   ],
   "source": [
    "pi_fam_stat = family_dict.groupby(['family_status_id', 'family_status']).agg({'debt':['sum', 'count']})\n",
    "pi_fam_stat[('debt','%')] = pi_fam_stat[('debt', 'sum')] / pi_fam_stat[('debt', 'count')]*100\n",
    "\n",
    "pi_fam_stat"
   ]
  },
  {
   "cell_type": "markdown",
   "id": "0f9807cd",
   "metadata": {
    "hidden": true
   },
   "source": [
    "##### Вывод:"
   ]
  },
  {
   "cell_type": "markdown",
   "id": "81a0bdc8",
   "metadata": {
    "ExecuteTime": {
     "end_time": "2022-02-09T08:25:43.687502Z",
     "start_time": "2022-02-09T08:25:43.678138Z"
    },
    "hidden": true
   },
   "source": [
    "Исходя из данных, можно сделать вывод, что люди которые живут не в браке, и люди которые живут в гражданском браке имеют низкий показатель выплаты кредитов в срок. Женатых людей можно отнести к средней категории доверенности. Вовремя кредиты как правило платят люди в разводе, и те кто овдовели."
   ]
  },
  {
   "cell_type": "markdown",
   "id": "e789efa5",
   "metadata": {},
   "source": [
    "<div class=\"alert alert-block alert-success\">\n",
    "<b>Комментарий от ревьюера</b>\n",
    "\n",
    "Да, всё так. </div>"
   ]
  },
  {
   "cell_type": "markdown",
   "id": "8aaf03a6",
   "metadata": {
    "hidden": true
   },
   "source": [
    "#### Есть ли зависимость между уровнем дохода и возвратом кредита в срок?"
   ]
  },
  {
   "cell_type": "markdown",
   "id": "5957c936",
   "metadata": {
    "hidden": true
   },
   "source": [
    "Воспользуемся функцией, которую составили выше:\n",
    "\n",
    "Также, уровни зароботка: \n",
    "- 0–30000 — 'E';\n",
    "- 30001–50000 — 'D';\n",
    "- 50001–200000 — 'C';\n",
    "- 200001–1000000 — 'B';\n",
    "- 1000001 и выше — 'A'."
   ]
  },
  {
   "cell_type": "code",
   "execution_count": 30,
   "id": "91ac9815",
   "metadata": {
    "ExecuteTime": {
     "end_time": "2022-02-09T09:26:23.864160Z",
     "start_time": "2022-02-09T09:26:23.857400Z"
    },
    "hidden": true
   },
   "outputs": [
    {
     "data": {
      "text/html": [
       "<div>\n",
       "<style scoped>\n",
       "    .dataframe tbody tr th:only-of-type {\n",
       "        vertical-align: middle;\n",
       "    }\n",
       "\n",
       "    .dataframe tbody tr th {\n",
       "        vertical-align: top;\n",
       "    }\n",
       "\n",
       "    .dataframe thead tr th {\n",
       "        text-align: left;\n",
       "    }\n",
       "\n",
       "    .dataframe thead tr:last-of-type th {\n",
       "        text-align: right;\n",
       "    }\n",
       "</style>\n",
       "<table border=\"1\" class=\"dataframe\">\n",
       "  <thead>\n",
       "    <tr>\n",
       "      <th></th>\n",
       "      <th colspan=\"3\" halign=\"left\">debt</th>\n",
       "    </tr>\n",
       "    <tr>\n",
       "      <th></th>\n",
       "      <th>sum</th>\n",
       "      <th>count</th>\n",
       "      <th>%</th>\n",
       "    </tr>\n",
       "    <tr>\n",
       "      <th>total_income_category</th>\n",
       "      <th></th>\n",
       "      <th></th>\n",
       "      <th></th>\n",
       "    </tr>\n",
       "  </thead>\n",
       "  <tbody>\n",
       "    <tr>\n",
       "      <td>\"A\" более 1000000</td>\n",
       "      <td>2</td>\n",
       "      <td>25</td>\n",
       "      <td>8.000000</td>\n",
       "    </tr>\n",
       "    <tr>\n",
       "      <td>\"B\" до 1000000</td>\n",
       "      <td>354</td>\n",
       "      <td>5022</td>\n",
       "      <td>7.048984</td>\n",
       "    </tr>\n",
       "    <tr>\n",
       "      <td>\"C\" до 200000</td>\n",
       "      <td>1354</td>\n",
       "      <td>15959</td>\n",
       "      <td>8.484241</td>\n",
       "    </tr>\n",
       "    <tr>\n",
       "      <td>\"D\" до 50000</td>\n",
       "      <td>21</td>\n",
       "      <td>350</td>\n",
       "      <td>6.000000</td>\n",
       "    </tr>\n",
       "    <tr>\n",
       "      <td>\"E\" до 30000</td>\n",
       "      <td>2</td>\n",
       "      <td>22</td>\n",
       "      <td>9.090909</td>\n",
       "    </tr>\n",
       "  </tbody>\n",
       "</table>\n",
       "</div>"
      ],
      "text/plain": [
       "                       debt                 \n",
       "                        sum  count         %\n",
       "total_income_category                       \n",
       "\"A\" более 1000000         2     25  8.000000\n",
       "\"B\" до 1000000          354   5022  7.048984\n",
       "\"C\" до 200000          1354  15959  8.484241\n",
       "\"D\" до 50000             21    350  6.000000\n",
       "\"E\" до 30000              2     22  9.090909"
      ]
     },
     "execution_count": 30,
     "metadata": {},
     "output_type": "execute_result"
    }
   ],
   "source": [
    "a_debt(['total_income_category'])"
   ]
  },
  {
   "cell_type": "markdown",
   "id": "1ee34392",
   "metadata": {
    "hidden": true
   },
   "source": [
    "##### Вывод:"
   ]
  },
  {
   "cell_type": "markdown",
   "id": "ab73ad8f",
   "metadata": {
    "hidden": true
   },
   "source": [
    "Самый низкий уровень просрочки у людей с достатком категории: 'D', и 'B', средний уровень доверенности заслуживают категория: 'А'. Как ни странно, но просрочка по кредитам чаще встречается у людей либо самого низкого достатка, категории 'E', либо среднего \"С\""
   ]
  },
  {
   "cell_type": "markdown",
   "id": "c5cf39ef",
   "metadata": {},
   "source": [
    "<div class=\"alert alert-block alert-success\">\n",
    "<b>Комментарий от ревьюера</b>\n",
    "\n",
    "\n",
    "Наши выводы здесь были ожидаемы. :) </div>"
   ]
  },
  {
   "cell_type": "markdown",
   "id": "e7f12556",
   "metadata": {},
   "source": [
    "<div class=\"alert alert-block alert-info\">\n",
    "<b>Комментарий от студента</b> <a class=\"tocSkip\"></a>\n",
    "    \n",
    "Тут повлияли на данные наши перерассчёты :)\n",
    "</div>\n",
    "\n",
    "<div class=\"alert alert-block alert-success\">\n",
    "<b>Комментарий от ревьюера. V.2.</b>\n",
    "\n",
    "Тоже вполне себе ожидаемо. Вот если бы у самых богатых были долги, а бедных наоборот, то был бы сюрприз.</div>    "
   ]
  },
  {
   "cell_type": "markdown",
   "id": "671421dc",
   "metadata": {
    "hidden": true
   },
   "source": [
    "#### Как разные цели кредита влияют на его возврат в срок?"
   ]
  },
  {
   "cell_type": "markdown",
   "id": "dac6fd74",
   "metadata": {
    "hidden": true
   },
   "source": [
    "Также как раннее, воспользуемся функцией:"
   ]
  },
  {
   "cell_type": "code",
   "execution_count": 31,
   "id": "d370759b",
   "metadata": {
    "ExecuteTime": {
     "end_time": "2022-02-09T09:26:23.872584Z",
     "start_time": "2022-02-09T09:26:23.864921Z"
    },
    "hidden": true,
    "scrolled": true
   },
   "outputs": [
    {
     "data": {
      "text/html": [
       "<div>\n",
       "<style scoped>\n",
       "    .dataframe tbody tr th:only-of-type {\n",
       "        vertical-align: middle;\n",
       "    }\n",
       "\n",
       "    .dataframe tbody tr th {\n",
       "        vertical-align: top;\n",
       "    }\n",
       "\n",
       "    .dataframe thead tr th {\n",
       "        text-align: left;\n",
       "    }\n",
       "\n",
       "    .dataframe thead tr:last-of-type th {\n",
       "        text-align: right;\n",
       "    }\n",
       "</style>\n",
       "<table border=\"1\" class=\"dataframe\">\n",
       "  <thead>\n",
       "    <tr>\n",
       "      <th></th>\n",
       "      <th colspan=\"3\" halign=\"left\">debt</th>\n",
       "    </tr>\n",
       "    <tr>\n",
       "      <th></th>\n",
       "      <th>sum</th>\n",
       "      <th>count</th>\n",
       "      <th>%</th>\n",
       "    </tr>\n",
       "    <tr>\n",
       "      <th>purpose_category</th>\n",
       "      <th></th>\n",
       "      <th></th>\n",
       "      <th></th>\n",
       "    </tr>\n",
       "  </thead>\n",
       "  <tbody>\n",
       "    <tr>\n",
       "      <td>операции с автомобилем</td>\n",
       "      <td>401</td>\n",
       "      <td>4290</td>\n",
       "      <td>9.347319</td>\n",
       "    </tr>\n",
       "    <tr>\n",
       "      <td>операции с недвижимостью</td>\n",
       "      <td>780</td>\n",
       "      <td>10775</td>\n",
       "      <td>7.238979</td>\n",
       "    </tr>\n",
       "    <tr>\n",
       "      <td>получение образования</td>\n",
       "      <td>369</td>\n",
       "      <td>3998</td>\n",
       "      <td>9.229615</td>\n",
       "    </tr>\n",
       "    <tr>\n",
       "      <td>проведение свадьбы</td>\n",
       "      <td>183</td>\n",
       "      <td>2315</td>\n",
       "      <td>7.904968</td>\n",
       "    </tr>\n",
       "  </tbody>\n",
       "</table>\n",
       "</div>"
      ],
      "text/plain": [
       "                         debt                 \n",
       "                          sum  count         %\n",
       "purpose_category                              \n",
       "операции с автомобилем    401   4290  9.347319\n",
       "операции с недвижимостью  780  10775  7.238979\n",
       "получение образования     369   3998  9.229615\n",
       "проведение свадьбы        183   2315  7.904968"
      ]
     },
     "execution_count": 31,
     "metadata": {},
     "output_type": "execute_result"
    }
   ],
   "source": [
    "a_debt(['purpose_category'])"
   ]
  },
  {
   "cell_type": "markdown",
   "id": "e355e86e",
   "metadata": {
    "hidden": true
   },
   "source": [
    "Можно заметить, что кредиты связанные с недвижимостью и проведением свадьбы чаще всего отдают в срок. Больше всего просрочек с целью кредита: авто и образование."
   ]
  },
  {
   "cell_type": "markdown",
   "id": "8a54a4cf",
   "metadata": {},
   "source": [
    "<div class=\"alert alert-block alert-success\">\n",
    "<b>Комментарий от ревьюера</b>\n",
    "\n",
    "При кредите на недвижимость столько проверок, что неудивительно, что они имею меньше должников. :)</div>"
   ]
  },
  {
   "cell_type": "markdown",
   "id": "4b603888",
   "metadata": {
    "heading_collapsed": true
   },
   "source": [
    "## Общий вывод:"
   ]
  },
  {
   "cell_type": "markdown",
   "id": "4d046baa",
   "metadata": {
    "hidden": true
   },
   "source": [
    "В ходе предобработки мы удалили столбец \"days_employed\", так как большинство данных не соответствовали реальности, и восстанавливать данные для поставленных задач смысла не имело. Отработали и удалили аномалии/дубликаты в столбцах (Аномальное кол-во детей, и 0 лет человеку), создали словари для удобства работы с таблицей и объединили цели кредитов.\n",
    "\n",
    "__Основные выводы исследования:__\n",
    "- Есть прямая зависимость, между количеством детей и выплате кредита вовремя, чем меньше детей, тем более исправно люди платят кредит\n",
    "- Те пары, которые состоят в гражданском браке, либо холосты, имеют больше всех просрочек по выплатам. Женатые, вдовцы, и в разводе: охотнее платят кредиты вовремя.\n",
    "- Люди с низким заработком (до 30 тыс.) и люди с средним достатком (до 200 тыс.) имеют больший процент просрочки. Вовремя же платят люди с высоким (от 200 тыс. до 1 млн.) и средне-низким (от 30 тыс. до 50 тыс.)\n",
    "- Цели кредита влияют на его выплату в срок: так те кто берёт недвижимость или проводят свадьбы платят кредит вовремя, а те кто покупает автомобиль, либо оформляют кредит на учёбу, в основном имеют большую просрочку."
   ]
  },
  {
   "cell_type": "markdown",
   "id": "d4e2dc8a",
   "metadata": {},
   "source": [
    "<div class=\"alert alert-block alert-danger\">\n",
    "<s><b>Комментарий от ревьюера</b>\n",
    "\n",
    "Финальный вывод - это чаще всего единственное, что читает клиент/менеджер.  Тут нужно описать всё: что у нас было, что добавили/поменяли,почему, что получилось с нашими вопросами?</div>"
   ]
  },
  {
   "cell_type": "markdown",
   "id": "b7db5e39",
   "metadata": {},
   "source": [
    "<div class=\"alert alert-block alert-info\">\n",
    "<b>Комментарий от студента</b> <a class=\"tocSkip\"></a>\n",
    "    \n",
    "Оля, спасибо за твою работу, и чудесного дня :)\n",
    "</div>"
   ]
  },
  {
   "cell_type": "markdown",
   "id": "34b6bd82",
   "metadata": {},
   "source": [
    "<div class=\"alert alert-block alert-success\">\n",
    "<b>Комментарий от ревьюера. V.2.</b>\n",
    "\n",
    "Отличный вывод получился! Спасибо за проект! :) </div>    "
   ]
  }
 ],
 "metadata": {
  "ExecuteTimeLog": [
   {
    "duration": 1825,
    "start_time": "2022-02-13T20:16:32.537Z"
   },
   {
    "duration": -74,
    "start_time": "2022-02-13T20:16:34.439Z"
   },
   {
    "duration": -77,
    "start_time": "2022-02-13T20:16:34.443Z"
   },
   {
    "duration": -80,
    "start_time": "2022-02-13T20:16:34.447Z"
   },
   {
    "duration": -80,
    "start_time": "2022-02-13T20:16:34.449Z"
   },
   {
    "duration": -81,
    "start_time": "2022-02-13T20:16:34.451Z"
   },
   {
    "duration": -81,
    "start_time": "2022-02-13T20:16:34.453Z"
   },
   {
    "duration": -83,
    "start_time": "2022-02-13T20:16:34.456Z"
   },
   {
    "duration": -84,
    "start_time": "2022-02-13T20:16:34.458Z"
   },
   {
    "duration": -84,
    "start_time": "2022-02-13T20:16:34.459Z"
   },
   {
    "duration": -86,
    "start_time": "2022-02-13T20:16:34.462Z"
   },
   {
    "duration": -86,
    "start_time": "2022-02-13T20:16:34.463Z"
   },
   {
    "duration": -87,
    "start_time": "2022-02-13T20:16:34.465Z"
   },
   {
    "duration": -87,
    "start_time": "2022-02-13T20:16:34.467Z"
   },
   {
    "duration": -87,
    "start_time": "2022-02-13T20:16:34.468Z"
   },
   {
    "duration": -88,
    "start_time": "2022-02-13T20:16:34.470Z"
   },
   {
    "duration": -89,
    "start_time": "2022-02-13T20:16:34.472Z"
   },
   {
    "duration": -89,
    "start_time": "2022-02-13T20:16:34.473Z"
   },
   {
    "duration": -90,
    "start_time": "2022-02-13T20:16:34.475Z"
   },
   {
    "duration": -91,
    "start_time": "2022-02-13T20:16:34.477Z"
   },
   {
    "duration": -92,
    "start_time": "2022-02-13T20:16:34.479Z"
   },
   {
    "duration": -92,
    "start_time": "2022-02-13T20:16:34.480Z"
   },
   {
    "duration": -93,
    "start_time": "2022-02-13T20:16:34.482Z"
   },
   {
    "duration": -94,
    "start_time": "2022-02-13T20:16:34.484Z"
   },
   {
    "duration": -95,
    "start_time": "2022-02-13T20:16:34.486Z"
   },
   {
    "duration": -94,
    "start_time": "2022-02-13T20:16:34.487Z"
   },
   {
    "duration": -95,
    "start_time": "2022-02-13T20:16:34.489Z"
   },
   {
    "duration": -95,
    "start_time": "2022-02-13T20:16:34.490Z"
   },
   {
    "duration": -127,
    "start_time": "2022-02-13T20:16:34.523Z"
   },
   {
    "duration": 1324,
    "start_time": "2022-02-13T20:17:55.938Z"
   },
   {
    "duration": 52,
    "start_time": "2022-02-13T20:18:03.915Z"
   },
   {
    "duration": 54,
    "start_time": "2022-02-13T20:18:08.969Z"
   },
   {
    "duration": 4,
    "start_time": "2022-02-13T20:18:09.712Z"
   },
   {
    "duration": 7,
    "start_time": "2022-02-13T20:18:10.772Z"
   },
   {
    "duration": 13,
    "start_time": "2022-02-13T20:18:12.194Z"
   },
   {
    "duration": 7,
    "start_time": "2022-02-13T20:18:13.322Z"
   },
   {
    "duration": 8,
    "start_time": "2022-02-13T20:18:14.059Z"
   },
   {
    "duration": 6,
    "start_time": "2022-02-13T20:18:14.772Z"
   },
   {
    "duration": 8,
    "start_time": "2022-02-13T20:18:18.706Z"
   },
   {
    "duration": 7,
    "start_time": "2022-02-13T20:18:19.847Z"
   },
   {
    "duration": 8,
    "start_time": "2022-02-13T20:18:20.943Z"
   },
   {
    "duration": 8,
    "start_time": "2022-02-13T20:18:21.625Z"
   },
   {
    "duration": 6,
    "start_time": "2022-02-13T20:18:22.334Z"
   },
   {
    "duration": 20,
    "start_time": "2022-02-13T20:18:23.126Z"
   },
   {
    "duration": 8,
    "start_time": "2022-02-13T20:18:23.956Z"
   },
   {
    "duration": 20,
    "start_time": "2022-02-13T20:18:37.354Z"
   },
   {
    "duration": 31,
    "start_time": "2022-02-13T20:19:19.922Z"
   },
   {
    "duration": 22,
    "start_time": "2022-02-13T20:19:24.967Z"
   },
   {
    "duration": 13,
    "start_time": "2022-02-13T20:19:42.073Z"
   },
   {
    "duration": 33,
    "start_time": "2022-02-13T20:19:44.076Z"
   },
   {
    "duration": 38,
    "start_time": "2022-02-13T20:19:44.895Z"
   },
   {
    "duration": 24,
    "start_time": "2022-02-13T20:20:26.767Z"
   },
   {
    "duration": 33,
    "start_time": "2022-02-13T20:20:29.256Z"
   },
   {
    "duration": 34,
    "start_time": "2022-02-13T20:22:57.170Z"
   },
   {
    "duration": 22,
    "start_time": "2022-02-13T20:23:26.598Z"
   },
   {
    "duration": 17,
    "start_time": "2022-02-13T20:23:27.982Z"
   },
   {
    "duration": 19,
    "start_time": "2022-02-13T20:24:38.685Z"
   },
   {
    "duration": 14,
    "start_time": "2022-02-13T20:24:50.063Z"
   },
   {
    "duration": 15,
    "start_time": "2022-02-13T20:24:52.649Z"
   },
   {
    "duration": 533,
    "start_time": "2022-02-14T07:01:59.380Z"
   },
   {
    "duration": 49,
    "start_time": "2022-02-14T07:01:59.915Z"
   },
   {
    "duration": 54,
    "start_time": "2022-02-14T07:01:59.966Z"
   },
   {
    "duration": 3,
    "start_time": "2022-02-14T07:02:00.022Z"
   },
   {
    "duration": 11,
    "start_time": "2022-02-14T07:02:00.027Z"
   },
   {
    "duration": 13,
    "start_time": "2022-02-14T07:02:00.039Z"
   },
   {
    "duration": 10,
    "start_time": "2022-02-14T07:02:00.053Z"
   },
   {
    "duration": 14,
    "start_time": "2022-02-14T07:02:00.064Z"
   },
   {
    "duration": 11,
    "start_time": "2022-02-14T07:02:00.080Z"
   },
   {
    "duration": 9,
    "start_time": "2022-02-14T07:02:00.113Z"
   },
   {
    "duration": 7,
    "start_time": "2022-02-14T07:02:00.123Z"
   },
   {
    "duration": 7,
    "start_time": "2022-02-14T07:02:00.132Z"
   },
   {
    "duration": 7,
    "start_time": "2022-02-14T07:02:00.140Z"
   },
   {
    "duration": 6,
    "start_time": "2022-02-14T07:02:00.149Z"
   },
   {
    "duration": 24,
    "start_time": "2022-02-14T07:02:00.157Z"
   },
   {
    "duration": 36,
    "start_time": "2022-02-14T07:02:00.183Z"
   },
   {
    "duration": 20,
    "start_time": "2022-02-14T07:02:00.220Z"
   },
   {
    "duration": 26,
    "start_time": "2022-02-14T07:02:00.241Z"
   },
   {
    "duration": 18,
    "start_time": "2022-02-14T07:02:00.269Z"
   },
   {
    "duration": 33,
    "start_time": "2022-02-14T07:02:00.288Z"
   },
   {
    "duration": 25,
    "start_time": "2022-02-14T07:02:00.323Z"
   },
   {
    "duration": 31,
    "start_time": "2022-02-14T07:02:00.350Z"
   },
   {
    "duration": 42,
    "start_time": "2022-02-14T07:02:00.383Z"
   },
   {
    "duration": 27,
    "start_time": "2022-02-14T07:02:00.426Z"
   },
   {
    "duration": 27,
    "start_time": "2022-02-14T07:02:00.455Z"
   },
   {
    "duration": 19,
    "start_time": "2022-02-14T07:02:00.512Z"
   },
   {
    "duration": 14,
    "start_time": "2022-02-14T07:02:00.533Z"
   },
   {
    "duration": 25,
    "start_time": "2022-02-14T07:02:00.549Z"
   },
   {
    "duration": 20,
    "start_time": "2022-02-14T07:02:00.575Z"
   },
   {
    "duration": 28,
    "start_time": "2022-02-14T07:02:00.596Z"
   },
   {
    "duration": 26,
    "start_time": "2022-02-14T08:18:25.175Z"
   },
   {
    "duration": 20,
    "start_time": "2022-02-14T08:18:38.199Z"
   },
   {
    "duration": 23,
    "start_time": "2022-02-14T08:18:53.077Z"
   },
   {
    "duration": 15,
    "start_time": "2022-02-14T08:19:15.600Z"
   },
   {
    "duration": 17,
    "start_time": "2022-02-14T08:19:54.469Z"
   },
   {
    "duration": 24,
    "start_time": "2022-02-14T08:20:48.304Z"
   },
   {
    "duration": 579,
    "start_time": "2022-02-14T08:21:19.800Z"
   },
   {
    "duration": 54,
    "start_time": "2022-02-14T08:21:20.381Z"
   },
   {
    "duration": 48,
    "start_time": "2022-02-14T08:21:20.437Z"
   },
   {
    "duration": 3,
    "start_time": "2022-02-14T08:21:20.487Z"
   },
   {
    "duration": 26,
    "start_time": "2022-02-14T08:21:20.491Z"
   },
   {
    "duration": 13,
    "start_time": "2022-02-14T08:21:20.518Z"
   },
   {
    "duration": 5,
    "start_time": "2022-02-14T08:21:20.532Z"
   },
   {
    "duration": 11,
    "start_time": "2022-02-14T08:21:20.540Z"
   },
   {
    "duration": 5,
    "start_time": "2022-02-14T08:21:20.553Z"
   },
   {
    "duration": 6,
    "start_time": "2022-02-14T08:21:20.560Z"
   },
   {
    "duration": 6,
    "start_time": "2022-02-14T08:21:20.568Z"
   },
   {
    "duration": 40,
    "start_time": "2022-02-14T08:21:20.576Z"
   },
   {
    "duration": 11,
    "start_time": "2022-02-14T08:21:20.618Z"
   },
   {
    "duration": 7,
    "start_time": "2022-02-14T08:21:20.631Z"
   },
   {
    "duration": 27,
    "start_time": "2022-02-14T08:21:20.640Z"
   },
   {
    "duration": 7,
    "start_time": "2022-02-14T08:21:20.668Z"
   },
   {
    "duration": 55,
    "start_time": "2022-02-14T08:21:20.677Z"
   },
   {
    "duration": 16,
    "start_time": "2022-02-14T08:21:20.734Z"
   },
   {
    "duration": 31,
    "start_time": "2022-02-14T08:21:20.752Z"
   },
   {
    "duration": 47,
    "start_time": "2022-02-14T08:21:20.785Z"
   },
   {
    "duration": 12,
    "start_time": "2022-02-14T08:21:20.834Z"
   },
   {
    "duration": 28,
    "start_time": "2022-02-14T08:21:20.848Z"
   },
   {
    "duration": 33,
    "start_time": "2022-02-14T08:21:20.912Z"
   },
   {
    "duration": 21,
    "start_time": "2022-02-14T08:21:20.947Z"
   },
   {
    "duration": 54,
    "start_time": "2022-02-14T08:21:20.970Z"
   },
   {
    "duration": 29,
    "start_time": "2022-02-14T08:21:21.026Z"
   },
   {
    "duration": 20,
    "start_time": "2022-02-14T08:21:21.057Z"
   },
   {
    "duration": 44,
    "start_time": "2022-02-14T08:21:21.079Z"
   },
   {
    "duration": 19,
    "start_time": "2022-02-14T08:21:21.125Z"
   },
   {
    "duration": 14,
    "start_time": "2022-02-14T08:21:21.146Z"
   },
   {
    "duration": 15,
    "start_time": "2022-02-14T08:21:21.161Z"
   },
   {
    "duration": 5,
    "start_time": "2022-02-14T08:22:10.471Z"
   },
   {
    "duration": 504,
    "start_time": "2022-02-14T08:22:48.068Z"
   },
   {
    "duration": 54,
    "start_time": "2022-02-14T08:22:48.574Z"
   },
   {
    "duration": 48,
    "start_time": "2022-02-14T08:22:48.630Z"
   },
   {
    "duration": 3,
    "start_time": "2022-02-14T08:22:48.680Z"
   },
   {
    "duration": 8,
    "start_time": "2022-02-14T08:22:48.684Z"
   },
   {
    "duration": 11,
    "start_time": "2022-02-14T08:22:48.713Z"
   },
   {
    "duration": 6,
    "start_time": "2022-02-14T08:22:48.725Z"
   },
   {
    "duration": 7,
    "start_time": "2022-02-14T08:22:48.732Z"
   },
   {
    "duration": 5,
    "start_time": "2022-02-14T08:22:48.741Z"
   },
   {
    "duration": 6,
    "start_time": "2022-02-14T08:22:48.748Z"
   },
   {
    "duration": 5,
    "start_time": "2022-02-14T08:22:48.756Z"
   },
   {
    "duration": 50,
    "start_time": "2022-02-14T08:22:48.763Z"
   },
   {
    "duration": 7,
    "start_time": "2022-02-14T08:22:48.815Z"
   },
   {
    "duration": 5,
    "start_time": "2022-02-14T08:22:48.824Z"
   },
   {
    "duration": 18,
    "start_time": "2022-02-14T08:22:48.831Z"
   },
   {
    "duration": 6,
    "start_time": "2022-02-14T08:22:48.851Z"
   },
   {
    "duration": 6,
    "start_time": "2022-02-14T08:22:48.858Z"
   },
   {
    "duration": 54,
    "start_time": "2022-02-14T08:22:48.865Z"
   },
   {
    "duration": 15,
    "start_time": "2022-02-14T08:22:48.920Z"
   },
   {
    "duration": 32,
    "start_time": "2022-02-14T08:22:48.936Z"
   },
   {
    "duration": 18,
    "start_time": "2022-02-14T08:22:48.969Z"
   },
   {
    "duration": 12,
    "start_time": "2022-02-14T08:22:49.012Z"
   },
   {
    "duration": 27,
    "start_time": "2022-02-14T08:22:49.026Z"
   },
   {
    "duration": 31,
    "start_time": "2022-02-14T08:22:49.054Z"
   },
   {
    "duration": 40,
    "start_time": "2022-02-14T08:22:49.086Z"
   },
   {
    "duration": 25,
    "start_time": "2022-02-14T08:22:49.127Z"
   },
   {
    "duration": 28,
    "start_time": "2022-02-14T08:22:49.154Z"
   },
   {
    "duration": 18,
    "start_time": "2022-02-14T08:22:49.212Z"
   },
   {
    "duration": 14,
    "start_time": "2022-02-14T08:22:49.231Z"
   },
   {
    "duration": 16,
    "start_time": "2022-02-14T08:22:49.246Z"
   },
   {
    "duration": 11,
    "start_time": "2022-02-14T08:22:49.264Z"
   },
   {
    "duration": 46,
    "start_time": "2022-02-14T08:22:49.276Z"
   },
   {
    "duration": 589,
    "start_time": "2022-02-14T08:23:38.686Z"
   },
   {
    "duration": 51,
    "start_time": "2022-02-14T08:23:39.277Z"
   },
   {
    "duration": 47,
    "start_time": "2022-02-14T08:23:39.330Z"
   },
   {
    "duration": 4,
    "start_time": "2022-02-14T08:23:39.379Z"
   },
   {
    "duration": 28,
    "start_time": "2022-02-14T08:23:39.385Z"
   },
   {
    "duration": 12,
    "start_time": "2022-02-14T08:23:39.415Z"
   },
   {
    "duration": 6,
    "start_time": "2022-02-14T08:23:39.428Z"
   },
   {
    "duration": 7,
    "start_time": "2022-02-14T08:23:39.435Z"
   },
   {
    "duration": 5,
    "start_time": "2022-02-14T08:23:39.444Z"
   },
   {
    "duration": 11,
    "start_time": "2022-02-14T08:23:39.451Z"
   },
   {
    "duration": 7,
    "start_time": "2022-02-14T08:23:39.464Z"
   },
   {
    "duration": 45,
    "start_time": "2022-02-14T08:23:39.473Z"
   },
   {
    "duration": 8,
    "start_time": "2022-02-14T08:23:39.519Z"
   },
   {
    "duration": 10,
    "start_time": "2022-02-14T08:23:39.529Z"
   },
   {
    "duration": 18,
    "start_time": "2022-02-14T08:23:39.540Z"
   },
   {
    "duration": 7,
    "start_time": "2022-02-14T08:23:39.559Z"
   },
   {
    "duration": 6,
    "start_time": "2022-02-14T08:23:39.568Z"
   },
   {
    "duration": 55,
    "start_time": "2022-02-14T08:23:39.575Z"
   },
   {
    "duration": 14,
    "start_time": "2022-02-14T08:23:39.632Z"
   },
   {
    "duration": 48,
    "start_time": "2022-02-14T08:23:39.647Z"
   },
   {
    "duration": 29,
    "start_time": "2022-02-14T08:23:39.697Z"
   },
   {
    "duration": 10,
    "start_time": "2022-02-14T08:23:39.728Z"
   },
   {
    "duration": 29,
    "start_time": "2022-02-14T08:23:39.740Z"
   },
   {
    "duration": 51,
    "start_time": "2022-02-14T08:23:39.771Z"
   },
   {
    "duration": 20,
    "start_time": "2022-02-14T08:23:39.823Z"
   },
   {
    "duration": 25,
    "start_time": "2022-02-14T08:23:39.845Z"
   },
   {
    "duration": 57,
    "start_time": "2022-02-14T08:23:39.873Z"
   },
   {
    "duration": 19,
    "start_time": "2022-02-14T08:23:39.931Z"
   },
   {
    "duration": 15,
    "start_time": "2022-02-14T08:23:39.951Z"
   },
   {
    "duration": 15,
    "start_time": "2022-02-14T08:23:39.968Z"
   },
   {
    "duration": 38,
    "start_time": "2022-02-14T08:23:39.985Z"
   },
   {
    "duration": 12,
    "start_time": "2022-02-14T08:23:40.025Z"
   },
   {
    "duration": 593,
    "start_time": "2022-02-14T08:25:14.904Z"
   },
   {
    "duration": 55,
    "start_time": "2022-02-14T08:25:15.498Z"
   },
   {
    "duration": 50,
    "start_time": "2022-02-14T08:25:15.555Z"
   },
   {
    "duration": 3,
    "start_time": "2022-02-14T08:25:15.613Z"
   },
   {
    "duration": 17,
    "start_time": "2022-02-14T08:25:15.618Z"
   },
   {
    "duration": 24,
    "start_time": "2022-02-14T08:25:15.637Z"
   },
   {
    "duration": 9,
    "start_time": "2022-02-14T08:25:15.662Z"
   },
   {
    "duration": 7,
    "start_time": "2022-02-14T08:25:15.672Z"
   },
   {
    "duration": 16,
    "start_time": "2022-02-14T08:25:15.681Z"
   },
   {
    "duration": 17,
    "start_time": "2022-02-14T08:25:15.700Z"
   },
   {
    "duration": 16,
    "start_time": "2022-02-14T08:25:15.719Z"
   },
   {
    "duration": 13,
    "start_time": "2022-02-14T08:25:15.737Z"
   },
   {
    "duration": 15,
    "start_time": "2022-02-14T08:25:15.752Z"
   },
   {
    "duration": 5,
    "start_time": "2022-02-14T08:25:15.768Z"
   },
   {
    "duration": 28,
    "start_time": "2022-02-14T08:25:15.775Z"
   },
   {
    "duration": 8,
    "start_time": "2022-02-14T08:25:15.805Z"
   },
   {
    "duration": 40,
    "start_time": "2022-02-14T08:25:15.814Z"
   },
   {
    "duration": 29,
    "start_time": "2022-02-14T08:25:15.856Z"
   },
   {
    "duration": 34,
    "start_time": "2022-02-14T08:25:15.886Z"
   },
   {
    "duration": 32,
    "start_time": "2022-02-14T08:25:15.921Z"
   },
   {
    "duration": 31,
    "start_time": "2022-02-14T08:25:15.955Z"
   },
   {
    "duration": 38,
    "start_time": "2022-02-14T08:25:15.988Z"
   },
   {
    "duration": 21,
    "start_time": "2022-02-14T08:25:16.028Z"
   },
   {
    "duration": 29,
    "start_time": "2022-02-14T08:25:16.051Z"
   },
   {
    "duration": 57,
    "start_time": "2022-02-14T08:25:16.082Z"
   },
   {
    "duration": 18,
    "start_time": "2022-02-14T08:25:16.141Z"
   },
   {
    "duration": 27,
    "start_time": "2022-02-14T08:25:16.162Z"
   },
   {
    "duration": 31,
    "start_time": "2022-02-14T08:25:16.191Z"
   },
   {
    "duration": 12,
    "start_time": "2022-02-14T08:25:16.224Z"
   },
   {
    "duration": 13,
    "start_time": "2022-02-14T08:25:16.237Z"
   },
   {
    "duration": 619,
    "start_time": "2022-02-14T08:28:01.891Z"
   },
   {
    "duration": 58,
    "start_time": "2022-02-14T08:28:02.511Z"
   },
   {
    "duration": 61,
    "start_time": "2022-02-14T08:28:02.571Z"
   },
   {
    "duration": 3,
    "start_time": "2022-02-14T08:28:02.635Z"
   },
   {
    "duration": 41,
    "start_time": "2022-02-14T08:28:02.641Z"
   },
   {
    "duration": 25,
    "start_time": "2022-02-14T08:28:02.684Z"
   },
   {
    "duration": 7,
    "start_time": "2022-02-14T08:28:02.711Z"
   },
   {
    "duration": 22,
    "start_time": "2022-02-14T08:28:02.719Z"
   },
   {
    "duration": 21,
    "start_time": "2022-02-14T08:28:02.743Z"
   },
   {
    "duration": 30,
    "start_time": "2022-02-14T08:28:02.766Z"
   },
   {
    "duration": 20,
    "start_time": "2022-02-14T08:28:02.797Z"
   },
   {
    "duration": 19,
    "start_time": "2022-02-14T08:28:02.819Z"
   },
   {
    "duration": 24,
    "start_time": "2022-02-14T08:28:02.840Z"
   },
   {
    "duration": 23,
    "start_time": "2022-02-14T08:28:02.866Z"
   },
   {
    "duration": 33,
    "start_time": "2022-02-14T08:28:02.890Z"
   },
   {
    "duration": 10,
    "start_time": "2022-02-14T08:28:02.925Z"
   },
   {
    "duration": 30,
    "start_time": "2022-02-14T08:28:02.937Z"
   },
   {
    "duration": 48,
    "start_time": "2022-02-14T08:28:02.969Z"
   },
   {
    "duration": 20,
    "start_time": "2022-02-14T08:28:03.020Z"
   },
   {
    "duration": 18,
    "start_time": "2022-02-14T08:28:03.041Z"
   },
   {
    "duration": 52,
    "start_time": "2022-02-14T08:28:03.060Z"
   },
   {
    "duration": 37,
    "start_time": "2022-02-14T08:28:03.114Z"
   },
   {
    "duration": 22,
    "start_time": "2022-02-14T08:28:03.153Z"
   },
   {
    "duration": 58,
    "start_time": "2022-02-14T08:28:03.177Z"
   },
   {
    "duration": 32,
    "start_time": "2022-02-14T08:28:03.237Z"
   },
   {
    "duration": 54,
    "start_time": "2022-02-14T08:28:03.271Z"
   },
   {
    "duration": 16,
    "start_time": "2022-02-14T08:28:03.329Z"
   },
   {
    "duration": 29,
    "start_time": "2022-02-14T08:28:03.347Z"
   },
   {
    "duration": 17,
    "start_time": "2022-02-14T08:28:03.378Z"
   },
   {
    "duration": 19,
    "start_time": "2022-02-14T08:28:03.413Z"
   },
   {
    "duration": 22,
    "start_time": "2022-02-14T08:28:25.930Z"
   },
   {
    "duration": 519,
    "start_time": "2022-02-14T08:28:32.463Z"
   },
   {
    "duration": 53,
    "start_time": "2022-02-14T08:28:32.984Z"
   },
   {
    "duration": 46,
    "start_time": "2022-02-14T08:28:33.039Z"
   },
   {
    "duration": 26,
    "start_time": "2022-02-14T08:28:33.087Z"
   },
   {
    "duration": 7,
    "start_time": "2022-02-14T08:28:33.115Z"
   },
   {
    "duration": 20,
    "start_time": "2022-02-14T08:28:33.124Z"
   },
   {
    "duration": 5,
    "start_time": "2022-02-14T08:28:33.146Z"
   },
   {
    "duration": 11,
    "start_time": "2022-02-14T08:28:33.152Z"
   },
   {
    "duration": 7,
    "start_time": "2022-02-14T08:28:33.168Z"
   },
   {
    "duration": 11,
    "start_time": "2022-02-14T08:28:33.212Z"
   },
   {
    "duration": 6,
    "start_time": "2022-02-14T08:28:33.225Z"
   },
   {
    "duration": 7,
    "start_time": "2022-02-14T08:28:33.232Z"
   },
   {
    "duration": 7,
    "start_time": "2022-02-14T08:28:33.240Z"
   },
   {
    "duration": 6,
    "start_time": "2022-02-14T08:28:33.249Z"
   },
   {
    "duration": 62,
    "start_time": "2022-02-14T08:28:33.257Z"
   },
   {
    "duration": 7,
    "start_time": "2022-02-14T08:28:33.321Z"
   },
   {
    "duration": 25,
    "start_time": "2022-02-14T08:28:33.330Z"
   },
   {
    "duration": 62,
    "start_time": "2022-02-14T08:28:33.357Z"
   },
   {
    "duration": 21,
    "start_time": "2022-02-14T08:28:33.420Z"
   },
   {
    "duration": 11,
    "start_time": "2022-02-14T08:28:33.442Z"
   },
   {
    "duration": 68,
    "start_time": "2022-02-14T08:28:33.455Z"
   },
   {
    "duration": 32,
    "start_time": "2022-02-14T08:28:33.524Z"
   },
   {
    "duration": 20,
    "start_time": "2022-02-14T08:28:33.558Z"
   },
   {
    "duration": 52,
    "start_time": "2022-02-14T08:28:33.579Z"
   },
   {
    "duration": 27,
    "start_time": "2022-02-14T08:28:33.632Z"
   },
   {
    "duration": 63,
    "start_time": "2022-02-14T08:28:33.660Z"
   },
   {
    "duration": 13,
    "start_time": "2022-02-14T08:28:33.726Z"
   },
   {
    "duration": 16,
    "start_time": "2022-02-14T08:28:33.741Z"
   },
   {
    "duration": 12,
    "start_time": "2022-02-14T08:28:33.758Z"
   },
   {
    "duration": 49,
    "start_time": "2022-02-14T08:28:33.772Z"
   },
   {
    "duration": 3,
    "start_time": "2022-02-14T08:30:09.929Z"
   },
   {
    "duration": 553,
    "start_time": "2022-02-14T08:30:13.937Z"
   },
   {
    "duration": 57,
    "start_time": "2022-02-14T08:30:14.492Z"
   },
   {
    "duration": 66,
    "start_time": "2022-02-14T08:30:14.552Z"
   },
   {
    "duration": 4,
    "start_time": "2022-02-14T08:30:14.619Z"
   },
   {
    "duration": 7,
    "start_time": "2022-02-14T08:30:14.625Z"
   },
   {
    "duration": 14,
    "start_time": "2022-02-14T08:30:14.634Z"
   },
   {
    "duration": 6,
    "start_time": "2022-02-14T08:30:14.650Z"
   },
   {
    "duration": 9,
    "start_time": "2022-02-14T08:30:14.659Z"
   },
   {
    "duration": 48,
    "start_time": "2022-02-14T08:30:14.670Z"
   },
   {
    "duration": 8,
    "start_time": "2022-02-14T08:30:14.720Z"
   },
   {
    "duration": 6,
    "start_time": "2022-02-14T08:30:14.730Z"
   },
   {
    "duration": 8,
    "start_time": "2022-02-14T08:30:14.738Z"
   },
   {
    "duration": 7,
    "start_time": "2022-02-14T08:30:14.748Z"
   },
   {
    "duration": 7,
    "start_time": "2022-02-14T08:30:14.756Z"
   },
   {
    "duration": 66,
    "start_time": "2022-02-14T08:30:14.764Z"
   },
   {
    "duration": 7,
    "start_time": "2022-02-14T08:30:14.832Z"
   },
   {
    "duration": 26,
    "start_time": "2022-02-14T08:30:14.841Z"
   },
   {
    "duration": 66,
    "start_time": "2022-02-14T08:30:14.869Z"
   },
   {
    "duration": 20,
    "start_time": "2022-02-14T08:30:14.937Z"
   },
   {
    "duration": 12,
    "start_time": "2022-02-14T08:30:14.959Z"
   },
   {
    "duration": 67,
    "start_time": "2022-02-14T08:30:14.973Z"
   },
   {
    "duration": 44,
    "start_time": "2022-02-14T08:30:15.043Z"
   },
   {
    "duration": 38,
    "start_time": "2022-02-14T08:30:15.090Z"
   },
   {
    "duration": 29,
    "start_time": "2022-02-14T08:30:15.130Z"
   },
   {
    "duration": 57,
    "start_time": "2022-02-14T08:30:15.161Z"
   },
   {
    "duration": 20,
    "start_time": "2022-02-14T08:30:15.220Z"
   },
   {
    "duration": 16,
    "start_time": "2022-02-14T08:30:15.241Z"
   },
   {
    "duration": 17,
    "start_time": "2022-02-14T08:30:15.258Z"
   },
   {
    "duration": 43,
    "start_time": "2022-02-14T08:30:15.277Z"
   },
   {
    "duration": 15,
    "start_time": "2022-02-14T08:30:15.322Z"
   },
   {
    "duration": 13,
    "start_time": "2022-02-14T08:38:52.382Z"
   },
   {
    "duration": 4,
    "start_time": "2022-02-14T08:40:11.861Z"
   },
   {
    "duration": 62,
    "start_time": "2022-02-14T08:41:05.248Z"
   },
   {
    "duration": 4,
    "start_time": "2022-02-14T08:41:15.518Z"
   },
   {
    "duration": 23,
    "start_time": "2022-02-14T08:41:22.899Z"
   },
   {
    "duration": 831,
    "start_time": "2022-02-14T08:42:04.505Z"
   },
   {
    "duration": 59,
    "start_time": "2022-02-14T08:42:05.338Z"
   },
   {
    "duration": 53,
    "start_time": "2022-02-14T08:42:05.398Z"
   },
   {
    "duration": 3,
    "start_time": "2022-02-14T08:42:05.452Z"
   },
   {
    "duration": 15,
    "start_time": "2022-02-14T08:42:05.457Z"
   },
   {
    "duration": 26,
    "start_time": "2022-02-14T08:42:05.474Z"
   },
   {
    "duration": 6,
    "start_time": "2022-02-14T08:42:05.502Z"
   },
   {
    "duration": 6,
    "start_time": "2022-02-14T08:42:05.510Z"
   },
   {
    "duration": 5,
    "start_time": "2022-02-14T08:42:05.518Z"
   },
   {
    "duration": 11,
    "start_time": "2022-02-14T08:42:05.525Z"
   },
   {
    "duration": 7,
    "start_time": "2022-02-14T08:42:05.537Z"
   },
   {
    "duration": 7,
    "start_time": "2022-02-14T08:42:05.545Z"
   },
   {
    "duration": 7,
    "start_time": "2022-02-14T08:42:05.554Z"
   },
   {
    "duration": 27,
    "start_time": "2022-02-14T08:42:05.563Z"
   },
   {
    "duration": 26,
    "start_time": "2022-02-14T08:42:05.592Z"
   },
   {
    "duration": 7,
    "start_time": "2022-02-14T08:42:05.620Z"
   },
   {
    "duration": 14,
    "start_time": "2022-02-14T08:42:05.628Z"
   },
   {
    "duration": 25,
    "start_time": "2022-02-14T08:42:05.644Z"
   },
   {
    "duration": 15,
    "start_time": "2022-02-14T08:42:05.671Z"
   },
   {
    "duration": 28,
    "start_time": "2022-02-14T08:42:05.688Z"
   },
   {
    "duration": 19,
    "start_time": "2022-02-14T08:42:05.718Z"
   },
   {
    "duration": 11,
    "start_time": "2022-02-14T08:42:05.740Z"
   },
   {
    "duration": 28,
    "start_time": "2022-02-14T08:42:05.753Z"
   },
   {
    "duration": 62,
    "start_time": "2022-02-14T08:42:05.783Z"
   },
   {
    "duration": 71,
    "start_time": "2022-02-14T08:42:05.847Z"
   },
   {
    "duration": 33,
    "start_time": "2022-02-14T08:42:05.919Z"
   },
   {
    "duration": 77,
    "start_time": "2022-02-14T08:42:05.954Z"
   },
   {
    "duration": 80,
    "start_time": "2022-02-14T08:42:06.033Z"
   },
   {
    "duration": 23,
    "start_time": "2022-02-14T08:42:06.115Z"
   },
   {
    "duration": 17,
    "start_time": "2022-02-14T08:42:06.140Z"
   },
   {
    "duration": 14,
    "start_time": "2022-02-14T08:42:06.159Z"
   },
   {
    "duration": 50,
    "start_time": "2022-02-14T08:42:06.175Z"
   },
   {
    "duration": 27,
    "start_time": "2022-02-14T08:45:10.044Z"
   },
   {
    "duration": 26,
    "start_time": "2022-02-14T08:45:40.625Z"
   },
   {
    "duration": 28,
    "start_time": "2022-02-14T08:46:13.294Z"
   },
   {
    "duration": 14,
    "start_time": "2022-02-14T08:52:46.150Z"
   },
   {
    "duration": 575,
    "start_time": "2022-02-14T08:52:51.409Z"
   },
   {
    "duration": 55,
    "start_time": "2022-02-14T08:52:51.986Z"
   },
   {
    "duration": 49,
    "start_time": "2022-02-14T08:52:52.043Z"
   },
   {
    "duration": 19,
    "start_time": "2022-02-14T08:52:52.093Z"
   },
   {
    "duration": 5,
    "start_time": "2022-02-14T08:52:52.113Z"
   },
   {
    "duration": 12,
    "start_time": "2022-02-14T08:52:52.120Z"
   },
   {
    "duration": 5,
    "start_time": "2022-02-14T08:52:52.133Z"
   },
   {
    "duration": 8,
    "start_time": "2022-02-14T08:52:52.140Z"
   },
   {
    "duration": 5,
    "start_time": "2022-02-14T08:52:52.150Z"
   },
   {
    "duration": 7,
    "start_time": "2022-02-14T08:52:52.157Z"
   },
   {
    "duration": 5,
    "start_time": "2022-02-14T08:52:52.165Z"
   },
   {
    "duration": 46,
    "start_time": "2022-02-14T08:52:52.172Z"
   },
   {
    "duration": 8,
    "start_time": "2022-02-14T08:52:52.220Z"
   },
   {
    "duration": 9,
    "start_time": "2022-02-14T08:52:52.229Z"
   },
   {
    "duration": 19,
    "start_time": "2022-02-14T08:52:52.240Z"
   },
   {
    "duration": 7,
    "start_time": "2022-02-14T08:52:52.261Z"
   },
   {
    "duration": 9,
    "start_time": "2022-02-14T08:52:52.269Z"
   },
   {
    "duration": 57,
    "start_time": "2022-02-14T08:52:52.280Z"
   },
   {
    "duration": 30,
    "start_time": "2022-02-14T08:52:52.338Z"
   },
   {
    "duration": 43,
    "start_time": "2022-02-14T08:52:52.370Z"
   },
   {
    "duration": 13,
    "start_time": "2022-02-14T08:52:52.415Z"
   },
   {
    "duration": 30,
    "start_time": "2022-02-14T08:52:52.430Z"
   },
   {
    "duration": 60,
    "start_time": "2022-02-14T08:52:52.461Z"
   },
   {
    "duration": 21,
    "start_time": "2022-02-14T08:52:52.523Z"
   },
   {
    "duration": 30,
    "start_time": "2022-02-14T08:52:52.546Z"
   },
   {
    "duration": 64,
    "start_time": "2022-02-14T08:52:52.578Z"
   },
   {
    "duration": 19,
    "start_time": "2022-02-14T08:52:52.646Z"
   },
   {
    "duration": 17,
    "start_time": "2022-02-14T08:52:52.667Z"
   },
   {
    "duration": 19,
    "start_time": "2022-02-14T08:52:52.713Z"
   },
   {
    "duration": 15,
    "start_time": "2022-02-14T08:52:52.733Z"
   },
   {
    "duration": 15,
    "start_time": "2022-02-14T08:52:52.750Z"
   },
   {
    "duration": 56,
    "start_time": "2022-02-14T08:59:19.430Z"
   },
   {
    "duration": 521,
    "start_time": "2022-02-14T09:23:39.069Z"
   },
   {
    "duration": 56,
    "start_time": "2022-02-14T09:23:39.592Z"
   },
   {
    "duration": 49,
    "start_time": "2022-02-14T09:23:39.650Z"
   },
   {
    "duration": 12,
    "start_time": "2022-02-14T09:23:39.701Z"
   },
   {
    "duration": 6,
    "start_time": "2022-02-14T09:23:39.714Z"
   },
   {
    "duration": 15,
    "start_time": "2022-02-14T09:23:39.723Z"
   },
   {
    "duration": 5,
    "start_time": "2022-02-14T09:23:39.740Z"
   },
   {
    "duration": 11,
    "start_time": "2022-02-14T09:23:39.749Z"
   },
   {
    "duration": 6,
    "start_time": "2022-02-14T09:23:39.762Z"
   },
   {
    "duration": 11,
    "start_time": "2022-02-14T09:23:39.813Z"
   },
   {
    "duration": 8,
    "start_time": "2022-02-14T09:23:39.826Z"
   },
   {
    "duration": 10,
    "start_time": "2022-02-14T09:23:39.836Z"
   },
   {
    "duration": 14,
    "start_time": "2022-02-14T09:23:39.848Z"
   },
   {
    "duration": 6,
    "start_time": "2022-02-14T09:23:39.864Z"
   },
   {
    "duration": 56,
    "start_time": "2022-02-14T09:23:39.872Z"
   },
   {
    "duration": 8,
    "start_time": "2022-02-14T09:23:39.930Z"
   },
   {
    "duration": 8,
    "start_time": "2022-02-14T09:23:39.939Z"
   },
   {
    "duration": 24,
    "start_time": "2022-02-14T09:23:39.949Z"
   },
   {
    "duration": 62,
    "start_time": "2022-02-14T09:23:39.975Z"
   },
   {
    "duration": 19,
    "start_time": "2022-02-14T09:23:40.039Z"
   },
   {
    "duration": 12,
    "start_time": "2022-02-14T09:23:40.060Z"
   },
   {
    "duration": 58,
    "start_time": "2022-02-14T09:23:40.074Z"
   },
   {
    "duration": 32,
    "start_time": "2022-02-14T09:23:40.136Z"
   },
   {
    "duration": 46,
    "start_time": "2022-02-14T09:23:40.170Z"
   },
   {
    "duration": 29,
    "start_time": "2022-02-14T09:23:40.218Z"
   },
   {
    "duration": 30,
    "start_time": "2022-02-14T09:23:40.249Z"
   },
   {
    "duration": 22,
    "start_time": "2022-02-14T09:23:40.312Z"
   },
   {
    "duration": 15,
    "start_time": "2022-02-14T09:23:40.335Z"
   },
   {
    "duration": 16,
    "start_time": "2022-02-14T09:23:40.351Z"
   },
   {
    "duration": 13,
    "start_time": "2022-02-14T09:23:40.368Z"
   },
   {
    "duration": 43,
    "start_time": "2022-02-14T09:23:40.382Z"
   }
  ],
  "kernelspec": {
   "display_name": "Python 3 (ipykernel)",
   "language": "python",
   "name": "python3"
  },
  "language_info": {
   "codemirror_mode": {
    "name": "ipython",
    "version": 3
   },
   "file_extension": ".py",
   "mimetype": "text/x-python",
   "name": "python",
   "nbconvert_exporter": "python",
   "pygments_lexer": "ipython3",
   "version": "3.9.5"
  },
  "toc": {
   "base_numbering": 1,
   "nav_menu": {},
   "number_sections": true,
   "sideBar": true,
   "skip_h1_title": true,
   "title_cell": "Table of Contents",
   "title_sidebar": "Contents",
   "toc_cell": false,
   "toc_position": {},
   "toc_section_display": true,
   "toc_window_display": true
  },
  "varInspector": {
   "cols": {
    "lenName": 16,
    "lenType": 16,
    "lenVar": 40
   },
   "kernels_config": {
    "python": {
     "delete_cmd_postfix": "",
     "delete_cmd_prefix": "del ",
     "library": "var_list.py",
     "varRefreshCmd": "print(var_dic_list())"
    },
    "r": {
     "delete_cmd_postfix": ") ",
     "delete_cmd_prefix": "rm(",
     "library": "var_list.r",
     "varRefreshCmd": "cat(var_dic_list()) "
    }
   },
   "position": {
    "height": "144.844px",
    "left": "996px",
    "right": "20px",
    "top": "178px",
    "width": "350px"
   },
   "types_to_exclude": [
    "module",
    "function",
    "builtin_function_or_method",
    "instance",
    "_Feature"
   ],
   "window_display": false
  }
 },
 "nbformat": 4,
 "nbformat_minor": 5
}
